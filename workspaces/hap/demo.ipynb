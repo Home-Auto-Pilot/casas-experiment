{
 "cells": [
  {
   "cell_type": "code",
   "execution_count": 1,
   "id": "851ff166-7479-46c3-8736-b7325cd8e753",
   "metadata": {
    "editable": true,
    "slideshow": {
     "slide_type": ""
    },
    "tags": []
   },
   "outputs": [],
   "source": [
    "from hap import HomeAutoPilot\n",
    "from hap_util import *"
   ]
  },
  {
   "cell_type": "markdown",
   "id": "47ad454e-c013-43d9-ac59-4ae3883591f2",
   "metadata": {},
   "source": [
    "# data prep"
   ]
  },
  {
   "cell_type": "code",
   "execution_count": null,
   "id": "cbb64318-79ed-4985-93dd-e12c2003ab53",
   "metadata": {},
   "outputs": [],
   "source": [
    "areas =  ['backyard', 'frontyard', 'garage', 'kitchen', 'livingroom']\n",
    "data_files = [f'../data/{area}.csv' for area in areas]\n",
    "input_tensors, act_dev_tensors, act_state_tensors, act_timing_tensors, n_features, n_act_state, n_act_dev, unique_entity_ids, unique_event_states = prep_tensors(data_files)"
   ]
  },
  {
   "cell_type": "code",
   "execution_count": 2,
   "id": "d2d854fe-cfa1-4aba-a57b-893040b92f84",
   "metadata": {},
   "outputs": [],
   "source": [
    "input_tensors = torch.load('input_seq_tensors.pt', weights_only=True)\n",
    "act_dev_tensors = torch.load('act_dev_tensors.pt', weights_only=True)\n",
    "act_state_tensors = torch.load('act_state_tensors.pt', weights_only=True)\n",
    "act_timing_tensors = torch.load('act_timing_tensors.pt', weights_only=True)\n",
    "device_id_map = torch.load('device_id_map.pt', weights_only=False)\n",
    "device_state_id_map = torch.load('device_state_map.pt', weights_only=False)\n",
    "\n",
    "n_act_state = len(device_state_id_map)\n",
    "n_act_dev = len(device_id_map)"
   ]
  },
  {
   "cell_type": "markdown",
   "id": "1698706b-7d71-4e39-9776-cde1cfb1b950",
   "metadata": {
    "editable": true,
    "slideshow": {
     "slide_type": ""
    },
    "tags": []
   },
   "source": [
    "# run inferencing"
   ]
  },
  {
   "cell_type": "code",
   "execution_count": 4,
   "id": "9f2459af-3b90-4502-8715-c1416f15c20c",
   "metadata": {},
   "outputs": [
    {
     "name": "stderr",
     "output_type": "stream",
     "text": [
      "INFO:hap:Using device: cuda\n"
     ]
    }
   ],
   "source": [
    "# re-create the model\n",
    "pilot = HomeAutoPilot(num_devices = n_act_dev, num_device_actions = n_act_state)\n",
    "pilot.load_model('pilot_demo.ptmodel')"
   ]
  },
  {
   "cell_type": "code",
   "execution_count": 237,
   "id": "b19bf476-7307-4548-8938-003c67ca94f8",
   "metadata": {},
   "outputs": [
    {
     "name": "stdout",
     "output_type": "stream",
     "text": [
      "prediction: Turn binary_sensor.frontporch_person_occupancy off after 18.07762336730957 seconds\n"
     ]
    }
   ],
   "source": [
    "import random\n",
    "\n",
    "sample_idx = random.choice(range(len(input_tensors)))\n",
    "input_tensor = input_tensors[sample_idx]\n",
    "predicted_timing, predicted_device_idx, predicted_action_idx = pilot.eval(input_tensor)\n",
    "device_name = device_id_map[predicted_device_idx]\n",
    "action_name = device_state_id_map[predicted_action_idx]\n",
    "\n",
    "print(f'prediction: Turn {device_name} {action_name} after {predicted_timing} seconds')"
   ]
  },
  {
   "cell_type": "markdown",
   "id": "fadb2f43-f18a-42eb-add5-3e1c5f0f4cfa",
   "metadata": {},
   "source": [
    "# train model"
   ]
  },
  {
   "cell_type": "code",
   "execution_count": null,
   "id": "29fbb8aa-4b10-4d1f-aa25-939c41fc6d6c",
   "metadata": {
    "editable": true,
    "slideshow": {
     "slide_type": ""
    },
    "tags": []
   },
   "outputs": [],
   "source": [
    "pilot = HomeAutoPilot(num_devices = n_act_dev, num_device_actions = n_act_state)\n",
    "pilot.train_model(input_tensors, act_dev_tensors, act_state_tensors, act_timing_tensors, model_path = 'pilot_demo.ptmodel')"
   ]
  },
  {
   "cell_type": "code",
   "execution_count": null,
   "id": "13d5b8f6-261b-478f-952d-832571a64e2b",
   "metadata": {},
   "outputs": [],
   "source": []
  }
 ],
 "metadata": {
  "kernelspec": {
   "display_name": "Python 3 (ipykernel)",
   "language": "python",
   "name": "python3"
  },
  "language_info": {
   "codemirror_mode": {
    "name": "ipython",
    "version": 3
   },
   "file_extension": ".py",
   "mimetype": "text/x-python",
   "name": "python",
   "nbconvert_exporter": "python",
   "pygments_lexer": "ipython3",
   "version": "3.11.9"
  }
 },
 "nbformat": 4,
 "nbformat_minor": 5
}
