{
 "cells": [
  {
   "cell_type": "code",
   "execution_count": 1,
   "id": "851ff166-7479-46c3-8736-b7325cd8e753",
   "metadata": {
    "editable": true,
    "slideshow": {
     "slide_type": ""
    },
    "tags": []
   },
   "outputs": [],
   "source": [
    "from hap import HomeAutoPilot\n",
    "from hap_util import *"
   ]
  },
  {
   "cell_type": "markdown",
   "id": "47ad454e-c013-43d9-ac59-4ae3883591f2",
   "metadata": {},
   "source": [
    "# data prep"
   ]
  },
  {
   "cell_type": "code",
   "execution_count": 2,
   "id": "cbb64318-79ed-4985-93dd-e12c2003ab53",
   "metadata": {},
   "outputs": [],
   "source": [
    "# areas =  ['backyard', 'frontyard', 'garage', 'kitchen', 'livingroom']\n",
    "# data_files = [f'../data/{area}.csv' for area in areas]\n",
    "# input_tensors, act_dev_tensors, act_state_tensors, act_timing_tensors, n_features, n_act_state, n_act_dev = prep_tensors(data_files)"
   ]
  },
  {
   "cell_type": "code",
   "execution_count": 3,
   "id": "d2d854fe-cfa1-4aba-a57b-893040b92f84",
   "metadata": {},
   "outputs": [],
   "source": [
    "input_tensors = torch.load('input_seq_tensors.pt', weights_only=True)\n",
    "act_dev_tensors = torch.load('act_dev_tensors.pt', weights_only=True)\n",
    "act_state_tensors = torch.load('act_state_tensors.pt', weights_only=True)\n",
    "act_timing_tensors = torch.load('act_timing_tensors.pt', weights_only=True)"
   ]
  },
  {
   "cell_type": "markdown",
   "id": "fadb2f43-f18a-42eb-add5-3e1c5f0f4cfa",
   "metadata": {},
   "source": [
    "# train model"
   ]
  },
  {
   "cell_type": "code",
   "execution_count": 4,
   "id": "29fbb8aa-4b10-4d1f-aa25-939c41fc6d6c",
   "metadata": {
    "editable": true,
    "slideshow": {
     "slide_type": ""
    },
    "tags": []
   },
   "outputs": [
    {
     "name": "stderr",
     "output_type": "stream",
     "text": [
      "INFO:hap:Using device: cuda\n",
      "0it [00:00, ?it/s]/opt/conda/lib/python3.11/site-packages/torch/nn/modules/loss.py:538: UserWarning: Using a target size (torch.Size([32])) that is different to the input size (torch.Size([32, 1])). This will likely lead to incorrect results due to broadcasting. Please ensure they have the same size.\n",
      "  return F.mse_loss(input, target, reduction=self.reduction)\n",
      "512it [00:08, 69.00it/s]/opt/conda/lib/python3.11/site-packages/torch/nn/modules/loss.py:538: UserWarning: Using a target size (torch.Size([5])) that is different to the input size (torch.Size([5, 1])). This will likely lead to incorrect results due to broadcasting. Please ensure they have the same size.\n",
      "  return F.mse_loss(input, target, reduction=self.reduction)\n",
      "513it [00:08, 57.86it/s]\n",
      "INFO:hap:Epoch [1/32], Loss: 590.6010\n",
      "513it [00:08, 63.53it/s]\n",
      "INFO:hap:Epoch [2/32], Loss: 247.2933\n",
      "513it [00:07, 68.29it/s]\n",
      "INFO:hap:Epoch [3/32], Loss: 92.5990\n",
      "513it [00:07, 70.54it/s]\n",
      "INFO:hap:Epoch [4/32], Loss: 108.1515\n",
      "513it [00:07, 70.35it/s]\n",
      "INFO:hap:Epoch [5/32], Loss: 280.4611\n",
      "513it [00:07, 64.40it/s]\n",
      "INFO:hap:Epoch [6/32], Loss: 147.7851\n",
      "513it [00:11, 45.68it/s]\n",
      "INFO:hap:Epoch [7/32], Loss: 503.6053\n",
      "513it [00:12, 42.58it/s]\n",
      "INFO:hap:Epoch [8/32], Loss: 42.7913\n",
      "513it [00:12, 42.08it/s]\n",
      "INFO:hap:Epoch [9/32], Loss: 40.8869\n",
      "513it [00:12, 39.68it/s]\n",
      "INFO:hap:Epoch [10/32], Loss: 120.0107\n",
      "513it [00:12, 40.26it/s]\n",
      "INFO:hap:Epoch [11/32], Loss: 20.0372\n",
      "513it [00:12, 40.14it/s]\n",
      "INFO:hap:Epoch [12/32], Loss: 131.7233\n",
      "513it [00:12, 40.40it/s]\n",
      "INFO:hap:Epoch [13/32], Loss: 125.1689\n",
      "513it [00:11, 45.33it/s]\n",
      "INFO:hap:Epoch [14/32], Loss: 108.4349\n",
      "513it [00:10, 51.03it/s]\n",
      "INFO:hap:Epoch [15/32], Loss: 88.8721\n",
      "513it [00:10, 47.41it/s]\n",
      "INFO:hap:Epoch [16/32], Loss: 128.7967\n",
      "513it [00:10, 49.19it/s]\n",
      "INFO:hap:Epoch [17/32], Loss: 345.5401\n",
      "513it [00:10, 50.20it/s]\n",
      "INFO:hap:Epoch [18/32], Loss: 94.5452\n",
      "513it [00:10, 46.86it/s]\n",
      "INFO:hap:Epoch [19/32], Loss: 76.7939\n",
      "513it [00:10, 48.66it/s]\n",
      "INFO:hap:Epoch [20/32], Loss: 114.7876\n",
      "513it [00:10, 47.28it/s]\n",
      "INFO:hap:Epoch [21/32], Loss: 279.2530\n",
      "513it [00:09, 52.40it/s]\n",
      "INFO:hap:Epoch [22/32], Loss: 1380.7820\n",
      "513it [00:09, 52.44it/s]\n",
      "INFO:hap:Epoch [23/32], Loss: 87.7742\n",
      "513it [00:09, 52.79it/s]\n",
      "INFO:hap:Epoch [24/32], Loss: 527.1737\n",
      "513it [00:09, 53.96it/s]\n",
      "INFO:hap:Epoch [25/32], Loss: 551.0910\n",
      "513it [00:09, 53.73it/s]\n",
      "INFO:hap:Epoch [26/32], Loss: 164.3602\n",
      "513it [00:11, 46.20it/s]\n",
      "INFO:hap:Epoch [27/32], Loss: 429.3870\n",
      "513it [00:10, 49.76it/s]\n",
      "INFO:hap:Epoch [28/32], Loss: 164.2997\n",
      "513it [00:11, 45.55it/s]\n",
      "INFO:hap:Epoch [29/32], Loss: 302.2120\n",
      "513it [00:14, 34.63it/s]\n",
      "INFO:hap:Epoch [30/32], Loss: 952.0059\n",
      "513it [00:12, 42.24it/s]\n",
      "INFO:hap:Epoch [31/32], Loss: 297.9583\n",
      "513it [00:11, 46.60it/s]\n",
      "INFO:hap:Epoch [32/32], Loss: 521.9641\n",
      "INFO:hap:Test Loss: 539.7571\n",
      "INFO:hap:Device Prediction Accuracy: 0.9280\n",
      "INFO:hap:Action Prediction Accuracy: 0.9769\n"
     ]
    }
   ],
   "source": [
    "pilot = HomeAutoPilot()\n",
    "pilot.train_model(input_tensors, act_dev_tensors, act_state_tensors, act_timing_tensors, model_path = 'pilot_demo.ptmodel')"
   ]
  },
  {
   "cell_type": "code",
   "execution_count": null,
   "id": "b059e552-66c7-4c3f-a5c8-3f91a7484750",
   "metadata": {
    "editable": true,
    "slideshow": {
     "slide_type": ""
    },
    "tags": []
   },
   "outputs": [],
   "source": [
    "# Run inferencing"
   ]
  }
 ],
 "metadata": {
  "kernelspec": {
   "display_name": "Python 3 (ipykernel)",
   "language": "python",
   "name": "python3"
  },
  "language_info": {
   "codemirror_mode": {
    "name": "ipython",
    "version": 3
   },
   "file_extension": ".py",
   "mimetype": "text/x-python",
   "name": "python",
   "nbconvert_exporter": "python",
   "pygments_lexer": "ipython3",
   "version": "3.11.9"
  }
 },
 "nbformat": 4,
 "nbformat_minor": 5
}
