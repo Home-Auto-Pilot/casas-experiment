{
 "cells": [
  {
   "cell_type": "code",
   "execution_count": 1,
   "id": "f44a58a7-e030-4efa-9443-05f44f21f1c0",
   "metadata": {},
   "outputs": [],
   "source": [
    "import torch\n",
    "import torch.nn as nn\n",
    "import torch.optim as optim"
   ]
  },
  {
   "cell_type": "code",
   "execution_count": 2,
   "id": "3588962e-a4aa-47f9-bcb1-c7d1e5e4840d",
   "metadata": {},
   "outputs": [],
   "source": [
    "class TransformerMultiTask(nn.Module):\n",
    "    def __init__(self, input_dim, num_heads:int, num_layers:int, hidden_dim:int, \n",
    "                 entity_id_cls:int, entity_state_cls:int, additional_input_dim:int = 0):\n",
    "        super(TransformerMultiTask, self).__init__()\n",
    "        self.embedding = nn.Linear(input_dim, hidden_dim)\n",
    "        \n",
    "        transformer_layer = nn.TransformerEncoderLayer(d_model=hidden_dim, nhead=num_heads, batch_first=True)\n",
    "        self.transformer = nn.TransformerEncoder(transformer_layer, num_layers=num_layers)\n",
    "        \n",
    "        # Separate heads for classification tasks\n",
    "        # Simpler actionable classification head\n",
    "        self.actionable_fc = nn.Linear(hidden_dim + additional_input_dim, 2)\n",
    "        \n",
    "        # Head for complex entity ID classification\n",
    "        self.entity_id_fc = nn.Sequential(\n",
    "            nn.Linear(hidden_dim + additional_input_dim, hidden_dim // 2),\n",
    "            nn.SiLU(),\n",
    "            nn.Linear(hidden_dim // 2, entity_id_cls)\n",
    "        )\n",
    "        \n",
    "        # Head for entity state classification\n",
    "        #  - takes the additional inputs and also the outputs of the entity classifications\n",
    "        self.entity_state_fc = nn.Sequential(\n",
    "            nn.Linear(hidden_dim + additional_input_dim + entity_id_cls, hidden_dim // 2),\n",
    "            nn.SiLU(),\n",
    "            nn.Linear(hidden_dim // 2, entity_state_cls)\n",
    "        )\n",
    "        \n",
    "    def forward(self, sequence, additional_inputs=None):\n",
    "        # x shape: (batch_size, seq_length, input_dim)\n",
    "        embed = self.embedding(sequence)\n",
    "        x = self.transformer(embed)\n",
    "        \n",
    "        # Take the mean across the sequence dimension\n",
    "        x = x.mean(dim=1)\n",
    "\n",
    "        # If additional inputs are provided, concatenate them with x\n",
    "        if additional_inputs is not None:\n",
    "            x = torch.cat((x, additional_inputs), dim=-1)\n",
    "        \n",
    "        # Separate heads for classification and regression\n",
    "        actionable_output = self.actionable_fc(x)\n",
    "        entity_id_output = self.entity_id_fc(x)\n",
    "        # Concatenate x with entity_id_output before passing to entity_state_fc\n",
    "        x_with_entity_id = torch.cat((x, entity_id_output), dim=-1)\n",
    "        entity_state_output = self.entity_state_fc(x_with_entity_id)\n",
    "        \n",
    "        # return actionable_output, entity_id_output, entity_state_output\n",
    "        return actionable_output, entity_id_output, entity_state_output"
   ]
  },
  {
   "cell_type": "code",
   "execution_count": 3,
   "id": "e0d21e7d-3f31-4bcf-9657-96c732f987b1",
   "metadata": {},
   "outputs": [],
   "source": [
    "import torch\n",
    "from torch.utils.data import Dataset, DataLoader, IterableDataset\n",
    "import os\n",
    "import random\n",
    "import io\n",
    "import numpy as np\n",
    "import pandas as pd\n",
    "import warnings\n",
    "\n",
    "# Helper function to convert bytes back to tensor\n",
    "def bytes_to_tensor(tensor_bytes):\n",
    "    buffer = io.BytesIO(tensor_bytes)\n",
    "    loaded_tensor = torch.load(buffer, weights_only=True)\n",
    "    return loaded_tensor\n",
    "\n",
    "from torch.utils.data import DataLoader\n",
    "\n",
    "class MultiPartParquetCASASDataset(IterableDataset):\n",
    "    def __init__(self, file_list, shuffle_files=True, shuffle_rows=True):\n",
    "        self.file_list = file_list\n",
    "        self.shuffle_files = shuffle_files\n",
    "        self.shuffle_rows = shuffle_rows\n",
    "        \n",
    "        if self.shuffle_files:\n",
    "            random.shuffle(self.file_list)  # Shuffle the order of files\n",
    "\n",
    "    def _read_parquet_file(self, file_path):\n",
    "        df = pd.read_parquet(file_path)\n",
    "\n",
    "        if self.shuffle_rows:\n",
    "            df = df.sample(frac=1).reset_index(drop=True)  # Shuffle rows within the dataframe\n",
    "\n",
    "        return df\n",
    "\n",
    "    def __len__(self):\n",
    "        total_len = 0\n",
    "        for file in self.file_list:\n",
    "            df = self._read_parquet_file(file)\n",
    "            total_len += len(df)\n",
    "        return total_len\n",
    "    \n",
    "    def __iter__(self):\n",
    "        with warnings.catch_warnings():\n",
    "            warnings.simplefilter(action='ignore', category=FutureWarning)\n",
    "            for file in self.file_list:\n",
    "                df = self._read_parquet_file(file)\n",
    "                for _, row in df.iterrows():\n",
    "                    # shape(batch_size, sequence_length(var))\n",
    "                    input_tensor = bytes_to_tensor(row['sequence']) \n",
    "                    # additional inputs\n",
    "                    curr_time_hint_tensors = torch.tensor(row[['min', 'hour', 'day', 'week', 'month']])\n",
    "                    # y labels\n",
    "                    actionable_tensor = torch.tensor(not row['sensor_change'], dtype=torch.long)\n",
    "                    action_entity_id_tensor = torch.tensor(row['changed_entity_id'], dtype=torch.long)\n",
    "                    action_entity_state_tensor = torch.tensor(float(row['changed_entity_value']), dtype=torch.long)\n",
    "    \n",
    "                    yield input_tensor, curr_time_hint_tensors, actionable_tensor, action_entity_id_tensor, action_entity_state_tensor\n",
    "\n",
    "\n",
    "def split_file_list(file_list, train_ratio=0.8, test_ratio=0.1, eval_ratio=0.1):\n",
    "    \"\"\"\n",
    "    Split the list of files into train/test/eval based on the given ratios.\n",
    "    \"\"\"\n",
    "    assert train_ratio + test_ratio + eval_ratio == 1.0, \"Ratios must sum to 1\"\n",
    "    \n",
    "    # Shuffle the file list to ensure randomness\n",
    "    random.shuffle(file_list)\n",
    "    \n",
    "    # Split based on the ratio\n",
    "    total_files = len(file_list)\n",
    "    train_end = int(train_ratio * total_files)\n",
    "    test_end = train_end + int(test_ratio * total_files)\n",
    "    \n",
    "    train_files = file_list[:train_end]\n",
    "    test_files = file_list[train_end:test_end]\n",
    "    eval_files = file_list[test_end:]\n",
    "    \n",
    "    return train_files, test_files, eval_files\n",
    "\n",
    "def _collate_fn(batch):\n",
    "    # Separate inputs and targets\n",
    "    input_tensors, curr_time_hint_tensors, actionable_tensors, action_entity_id_tensors, action_entity_state_tensors = zip(*batch)\n",
    "    \n",
    "    # Pad sequences for inputs (batch_first=True makes it [batch_size, seq_len, features])\n",
    "    input_tensors_padded = pad_sequence(input_tensors, batch_first=True)\n",
    "    # stack the additional inputs\n",
    "    curr_time_hint_tensors = torch.stack(curr_time_hint_tensors)\n",
    "    \n",
    "    # Convert targets to tensors (they should all have the same length as they're scalar values)\n",
    "    actionable_tensors = torch.stack(actionable_tensors)\n",
    "    action_entity_id_tensors = torch.stack(action_entity_id_tensors)\n",
    "    action_entity_state_tensors = torch.stack(action_entity_state_tensors)\n",
    "    \n",
    "    return input_tensors_padded, curr_time_hint_tensors, actionable_tensors, action_entity_id_tensors, action_entity_state_tensors\n"
   ]
  },
  {
   "cell_type": "markdown",
   "id": "5c72da52-a126-4e8f-9311-70fc531df916",
   "metadata": {},
   "source": [
    "# Training"
   ]
  },
  {
   "cell_type": "code",
   "execution_count": 28,
   "id": "716fe55b-fb78-4b6f-9595-dbb8e1fbf422",
   "metadata": {},
   "outputs": [],
   "source": [
    "model_save_path = 'transformer_multi_task_slim_128.pth'"
   ]
  },
  {
   "cell_type": "code",
   "execution_count": 4,
   "id": "04ac3bdd-a512-429b-9f75-bc6066a99827",
   "metadata": {},
   "outputs": [],
   "source": [
    "import torch\n",
    "from tqdm import tqdm\n",
    "from torch.nn.utils.rnn import pad_sequence\n",
    "\n",
    "def train_act_model(model, dataloader, num_epochs, \n",
    "                actionable_classification_criterion, \n",
    "                entity_id_classification_criterion, \n",
    "                entity_state_classification_criterion, \n",
    "                optimizer, device):\n",
    "    # Store accuracies and time prediction losses\n",
    "    actionable_accuracies = []\n",
    "    entity_id_accuracies = []\n",
    "    entity_state_accuracies = []\n",
    "    \n",
    "    model.to(device)\n",
    "    model.train()\n",
    "    \n",
    "    for epoch in range(num_epochs):\n",
    "        epoch_loss = 0.0\n",
    "        correct_entity_state = 0\n",
    "        total_entity_state = 0\n",
    "        correct_entity_id = 0\n",
    "        total_entity_id = 0\n",
    "        \n",
    "        for batch_idx, (input_tensors_padded, curr_time_hint_tensors, actionable_tensors, action_entity_id_tensors, action_entity_state_tensors) in tqdm(enumerate(dataloader), desc=f\"Epoch {epoch+1}/{num_epochs}\"):\n",
    "            # Assuming the dataloader returns a dictionary-like batch with relevant keys\n",
    "            inputs = input_tensors_padded.to(device)  # shape: (batch_size, max_seq_length, input_dim)\n",
    "            time_hint_inputs = curr_time_hint_tensors.to(device)\n",
    "            actionable_labels = actionable_tensors.to(device)  # shape: (batch_size,)\n",
    "            entity_id_labels = action_entity_id_tensors.to(device)  # shape: (batch_size,)\n",
    "            entity_state_labels = action_entity_state_tensors.to(device)  # shape: (batch_size,)\n",
    "\n",
    "            optimizer.zero_grad()\n",
    "\n",
    "            # Forward pass\n",
    "            actionable_output, entity_id_output, entity_state_output = model(inputs, additional_inputs=time_hint_inputs)\n",
    "            \n",
    "            # Compute losses\n",
    "            entity_id_loss = entity_id_classification_criterion(entity_id_output, entity_id_labels)\n",
    "            entity_state_loss = entity_state_classification_criterion(entity_state_output, entity_state_labels)\n",
    "            \n",
    "            # Total loss\n",
    "            total_loss = entity_id_loss * 8 + entity_state_loss * 2\n",
    "            \n",
    "            # Backward pass and optimization\n",
    "            total_loss.backward()\n",
    "            optimizer.step()\n",
    "\n",
    "            # accumulate the epoch loss\n",
    "            epoch_loss += total_loss.item()\n",
    "            \n",
    "            # Calculate entity ID classification accuracy\n",
    "            _, predicted_entity_id = torch.max(entity_id_output, 1)\n",
    "            correct_entity_id += (predicted_entity_id == entity_id_labels).sum().item()\n",
    "            total_entity_id += entity_id_labels.size(0)\n",
    "\n",
    "            # Calculate entity state classification accuracy\n",
    "            _, predicted_entity_state = torch.max(entity_state_output, 1)\n",
    "            correct_entity_state += (predicted_entity_state == entity_state_labels).sum().item()\n",
    "            total_entity_state += entity_state_labels.size(0)\n",
    "            \n",
    "        # Print epoch stats\n",
    "        avg_loss = epoch_loss / len(dataloader)\n",
    "        entity_id_accuracy = 100 * correct_entity_id / total_entity_id\n",
    "        entity_id_accuracies.append(entity_id_accuracy)\n",
    "        entity_state_accuracy = 100 * correct_entity_state / total_entity_state\n",
    "        entity_state_accuracies.append(entity_state_accuracy)\n",
    "        print(f\"Epoch [{epoch+1}/{num_epochs}], Loss: {avg_loss:.4f}, Entity ID Acc: {entity_id_accuracy:.4f}%, Entity state Acc: {entity_state_accuracy:.2f}%\")\n",
    "\n",
    "    print(\"Act Training Complete!\")\n",
    "    return actionable_accuracies, entity_id_accuracies, entity_state_accuracies"
   ]
  },
  {
   "cell_type": "code",
   "execution_count": 43,
   "id": "8df5b4dc-12fd-4d41-b6cc-511e20445c03",
   "metadata": {},
   "outputs": [],
   "source": [
    "from os import listdir\n",
    "from os.path import isfile, join\n",
    "import re\n",
    "data_root_path = './data/training_act'\n",
    "data_pattern = r\"^training_data_chunk_slim_activity_slim_\\d+\\.parquet\"\n",
    "file_list = [join(data_root_path, f) for f in listdir(data_root_path) if isfile(join(data_root_path, f)) and re.match(data_pattern, f)]\n",
    "# Split the file list\n",
    "train_files, test_files, eval_files = split_file_list(file_list, train_ratio=0.8, test_ratio=0.1, eval_ratio=0.1)\n",
    "\n",
    "# Create separate datasets\n",
    "train_dataset = MultiPartParquetCASASDataset(train_files, shuffle_files=True, shuffle_rows=True)\n",
    "test_dataset = MultiPartParquetCASASDataset(test_files, shuffle_files=False, shuffle_rows=False)\n",
    "eval_dataset = MultiPartParquetCASASDataset(eval_files, shuffle_files=False, shuffle_rows=False)\n",
    "\n",
    "# Wrap them in DataLoaders\n",
    "train_loader = DataLoader(train_dataset, batch_size=64, shuffle=False, collate_fn=_collate_fn)\n",
    "test_loader = DataLoader(test_dataset, batch_size=64, shuffle=False, collate_fn=_collate_fn)\n",
    "eval_loader = DataLoader(eval_dataset, batch_size=64, shuffle=False, collate_fn=_collate_fn)\n",
    "\n",
    "# Entity ID Classification Criterion (multi-class classification)\n",
    "entity_id_classification_criterion = nn.CrossEntropyLoss()\n",
    "\n",
    "# Entity State Classification Criterion (multi-class classification)\n",
    "entity_state_classification_criterion = nn.CrossEntropyLoss()\n"
   ]
  },
  {
   "cell_type": "code",
   "execution_count": 6,
   "id": "64ce42e4-ec2b-4a28-822a-3728dcc6ede0",
   "metadata": {},
   "outputs": [
    {
     "name": "stderr",
     "output_type": "stream",
     "text": [
      "Epoch 1/128: 15it [00:07,  2.12it/s]\n"
     ]
    },
    {
     "name": "stdout",
     "output_type": "stream",
     "text": [
      "Epoch [1/128], Loss: 28.1122, Entity ID Acc: 9.1102%, Entity state Acc: 52.54%\n"
     ]
    },
    {
     "name": "stderr",
     "output_type": "stream",
     "text": [
      "Epoch 2/128: 15it [00:06,  2.31it/s]\n"
     ]
    },
    {
     "name": "stdout",
     "output_type": "stream",
     "text": [
      "Epoch [2/128], Loss: 22.5916, Entity ID Acc: 15.9958%, Entity state Acc: 59.32%\n"
     ]
    },
    {
     "name": "stderr",
     "output_type": "stream",
     "text": [
      "Epoch 3/128: 15it [00:06,  2.30it/s]\n"
     ]
    },
    {
     "name": "stdout",
     "output_type": "stream",
     "text": [
      "Epoch [3/128], Loss: 20.3315, Entity ID Acc: 21.9280%, Entity state Acc: 60.28%\n"
     ]
    },
    {
     "name": "stderr",
     "output_type": "stream",
     "text": [
      "Epoch 4/128: 15it [00:07,  1.99it/s]\n"
     ]
    },
    {
     "name": "stdout",
     "output_type": "stream",
     "text": [
      "Epoch [4/128], Loss: 19.0485, Entity ID Acc: 26.1653%, Entity state Acc: 60.17%\n"
     ]
    },
    {
     "name": "stderr",
     "output_type": "stream",
     "text": [
      "Epoch 5/128: 15it [00:07,  1.98it/s]\n"
     ]
    },
    {
     "name": "stdout",
     "output_type": "stream",
     "text": [
      "Epoch [5/128], Loss: 18.4858, Entity ID Acc: 27.0127%, Entity state Acc: 63.03%\n"
     ]
    },
    {
     "name": "stderr",
     "output_type": "stream",
     "text": [
      "Epoch 6/128: 15it [00:07,  2.13it/s]\n"
     ]
    },
    {
     "name": "stdout",
     "output_type": "stream",
     "text": [
      "Epoch [6/128], Loss: 18.0708, Entity ID Acc: 28.4958%, Entity state Acc: 62.18%\n"
     ]
    },
    {
     "name": "stderr",
     "output_type": "stream",
     "text": [
      "Epoch 7/128: 15it [00:06,  2.19it/s]\n"
     ]
    },
    {
     "name": "stdout",
     "output_type": "stream",
     "text": [
      "Epoch [7/128], Loss: 17.5815, Entity ID Acc: 31.1441%, Entity state Acc: 62.71%\n"
     ]
    },
    {
     "name": "stderr",
     "output_type": "stream",
     "text": [
      "Epoch 8/128: 15it [00:06,  2.14it/s]\n"
     ]
    },
    {
     "name": "stdout",
     "output_type": "stream",
     "text": [
      "Epoch [8/128], Loss: 17.2839, Entity ID Acc: 31.1441%, Entity state Acc: 61.23%\n"
     ]
    },
    {
     "name": "stderr",
     "output_type": "stream",
     "text": [
      "Epoch 9/128: 15it [00:06,  2.17it/s]\n"
     ]
    },
    {
     "name": "stdout",
     "output_type": "stream",
     "text": [
      "Epoch [9/128], Loss: 16.9904, Entity ID Acc: 33.4746%, Entity state Acc: 62.61%\n"
     ]
    },
    {
     "name": "stderr",
     "output_type": "stream",
     "text": [
      "Epoch 10/128: 15it [00:06,  2.18it/s]\n"
     ]
    },
    {
     "name": "stdout",
     "output_type": "stream",
     "text": [
      "Epoch [10/128], Loss: 16.9507, Entity ID Acc: 31.7797%, Entity state Acc: 61.97%\n"
     ]
    },
    {
     "name": "stderr",
     "output_type": "stream",
     "text": [
      "Epoch 11/128: 15it [00:06,  2.27it/s]\n"
     ]
    },
    {
     "name": "stdout",
     "output_type": "stream",
     "text": [
      "Epoch [11/128], Loss: 16.3887, Entity ID Acc: 34.7458%, Entity state Acc: 62.18%\n"
     ]
    },
    {
     "name": "stderr",
     "output_type": "stream",
     "text": [
      "Epoch 12/128: 15it [00:06,  2.28it/s]\n"
     ]
    },
    {
     "name": "stdout",
     "output_type": "stream",
     "text": [
      "Epoch [12/128], Loss: 16.3261, Entity ID Acc: 34.5339%, Entity state Acc: 63.45%\n"
     ]
    },
    {
     "name": "stderr",
     "output_type": "stream",
     "text": [
      "Epoch 13/128: 15it [00:06,  2.15it/s]\n"
     ]
    },
    {
     "name": "stdout",
     "output_type": "stream",
     "text": [
      "Epoch [13/128], Loss: 16.2487, Entity ID Acc: 36.0169%, Entity state Acc: 63.03%\n"
     ]
    },
    {
     "name": "stderr",
     "output_type": "stream",
     "text": [
      "Epoch 14/128: 15it [00:06,  2.33it/s]\n"
     ]
    },
    {
     "name": "stdout",
     "output_type": "stream",
     "text": [
      "Epoch [14/128], Loss: 15.8413, Entity ID Acc: 37.0763%, Entity state Acc: 64.51%\n"
     ]
    },
    {
     "name": "stderr",
     "output_type": "stream",
     "text": [
      "Epoch 15/128: 15it [00:06,  2.21it/s]\n"
     ]
    },
    {
     "name": "stdout",
     "output_type": "stream",
     "text": [
      "Epoch [15/128], Loss: 15.6027, Entity ID Acc: 38.0297%, Entity state Acc: 62.18%\n"
     ]
    },
    {
     "name": "stderr",
     "output_type": "stream",
     "text": [
      "Epoch 16/128: 15it [00:06,  2.20it/s]\n"
     ]
    },
    {
     "name": "stdout",
     "output_type": "stream",
     "text": [
      "Epoch [16/128], Loss: 15.4680, Entity ID Acc: 38.0297%, Entity state Acc: 62.39%\n"
     ]
    },
    {
     "name": "stderr",
     "output_type": "stream",
     "text": [
      "Epoch 17/128: 15it [00:06,  2.20it/s]\n"
     ]
    },
    {
     "name": "stdout",
     "output_type": "stream",
     "text": [
      "Epoch [17/128], Loss: 15.1535, Entity ID Acc: 37.3941%, Entity state Acc: 62.08%\n"
     ]
    },
    {
     "name": "stderr",
     "output_type": "stream",
     "text": [
      "Epoch 18/128: 15it [00:06,  2.33it/s]\n"
     ]
    },
    {
     "name": "stdout",
     "output_type": "stream",
     "text": [
      "Epoch [18/128], Loss: 15.0176, Entity ID Acc: 39.0890%, Entity state Acc: 61.55%\n"
     ]
    },
    {
     "name": "stderr",
     "output_type": "stream",
     "text": [
      "Epoch 19/128: 15it [00:06,  2.31it/s]\n"
     ]
    },
    {
     "name": "stdout",
     "output_type": "stream",
     "text": [
      "Epoch [19/128], Loss: 14.0427, Entity ID Acc: 43.1144%, Entity state Acc: 62.61%\n"
     ]
    },
    {
     "name": "stderr",
     "output_type": "stream",
     "text": [
      "Epoch 20/128: 15it [00:07,  2.09it/s]\n"
     ]
    },
    {
     "name": "stdout",
     "output_type": "stream",
     "text": [
      "Epoch [20/128], Loss: 13.6270, Entity ID Acc: 45.6568%, Entity state Acc: 62.39%\n"
     ]
    },
    {
     "name": "stderr",
     "output_type": "stream",
     "text": [
      "Epoch 21/128: 15it [00:07,  2.13it/s]\n"
     ]
    },
    {
     "name": "stdout",
     "output_type": "stream",
     "text": [
      "Epoch [21/128], Loss: 13.0926, Entity ID Acc: 48.8347%, Entity state Acc: 64.51%\n"
     ]
    },
    {
     "name": "stderr",
     "output_type": "stream",
     "text": [
      "Epoch 22/128: 15it [00:07,  2.12it/s]\n"
     ]
    },
    {
     "name": "stdout",
     "output_type": "stream",
     "text": [
      "Epoch [22/128], Loss: 13.5699, Entity ID Acc: 45.9746%, Entity state Acc: 60.81%\n"
     ]
    },
    {
     "name": "stderr",
     "output_type": "stream",
     "text": [
      "Epoch 23/128: 15it [00:06,  2.16it/s]\n"
     ]
    },
    {
     "name": "stdout",
     "output_type": "stream",
     "text": [
      "Epoch [23/128], Loss: 11.6841, Entity ID Acc: 58.3686%, Entity state Acc: 62.18%\n"
     ]
    },
    {
     "name": "stderr",
     "output_type": "stream",
     "text": [
      "Epoch 24/128: 15it [00:06,  2.30it/s]\n"
     ]
    },
    {
     "name": "stdout",
     "output_type": "stream",
     "text": [
      "Epoch [24/128], Loss: 11.2834, Entity ID Acc: 59.3220%, Entity state Acc: 64.51%\n"
     ]
    },
    {
     "name": "stderr",
     "output_type": "stream",
     "text": [
      "Epoch 25/128: 15it [00:06,  2.26it/s]\n"
     ]
    },
    {
     "name": "stdout",
     "output_type": "stream",
     "text": [
      "Epoch [25/128], Loss: 10.7809, Entity ID Acc: 62.2881%, Entity state Acc: 63.35%\n"
     ]
    },
    {
     "name": "stderr",
     "output_type": "stream",
     "text": [
      "Epoch 26/128: 15it [00:06,  2.37it/s]\n"
     ]
    },
    {
     "name": "stdout",
     "output_type": "stream",
     "text": [
      "Epoch [26/128], Loss: 10.3675, Entity ID Acc: 62.9237%, Entity state Acc: 63.77%\n"
     ]
    },
    {
     "name": "stderr",
     "output_type": "stream",
     "text": [
      "Epoch 27/128: 15it [00:06,  2.30it/s]\n"
     ]
    },
    {
     "name": "stdout",
     "output_type": "stream",
     "text": [
      "Epoch [27/128], Loss: 10.1734, Entity ID Acc: 65.0424%, Entity state Acc: 60.06%\n"
     ]
    },
    {
     "name": "stderr",
     "output_type": "stream",
     "text": [
      "Epoch 28/128: 15it [00:06,  2.40it/s]\n"
     ]
    },
    {
     "name": "stdout",
     "output_type": "stream",
     "text": [
      "Epoch [28/128], Loss: 10.3804, Entity ID Acc: 60.3814%, Entity state Acc: 60.91%\n"
     ]
    },
    {
     "name": "stderr",
     "output_type": "stream",
     "text": [
      "Epoch 29/128: 15it [00:06,  2.35it/s]\n"
     ]
    },
    {
     "name": "stdout",
     "output_type": "stream",
     "text": [
      "Epoch [29/128], Loss: 9.7406, Entity ID Acc: 63.9831%, Entity state Acc: 62.50%\n"
     ]
    },
    {
     "name": "stderr",
     "output_type": "stream",
     "text": [
      "Epoch 30/128: 15it [00:06,  2.15it/s]\n"
     ]
    },
    {
     "name": "stdout",
     "output_type": "stream",
     "text": [
      "Epoch [30/128], Loss: 8.8602, Entity ID Acc: 68.1144%, Entity state Acc: 63.88%\n"
     ]
    },
    {
     "name": "stderr",
     "output_type": "stream",
     "text": [
      "Epoch 31/128: 15it [00:06,  2.26it/s]\n"
     ]
    },
    {
     "name": "stdout",
     "output_type": "stream",
     "text": [
      "Epoch [31/128], Loss: 8.1002, Entity ID Acc: 71.1864%, Entity state Acc: 65.68%\n"
     ]
    },
    {
     "name": "stderr",
     "output_type": "stream",
     "text": [
      "Epoch 32/128: 15it [00:06,  2.29it/s]\n"
     ]
    },
    {
     "name": "stdout",
     "output_type": "stream",
     "text": [
      "Epoch [32/128], Loss: 8.9367, Entity ID Acc: 68.5381%, Entity state Acc: 65.25%\n"
     ]
    },
    {
     "name": "stderr",
     "output_type": "stream",
     "text": [
      "Epoch 33/128: 15it [00:07,  2.11it/s]\n"
     ]
    },
    {
     "name": "stdout",
     "output_type": "stream",
     "text": [
      "Epoch [33/128], Loss: 9.0763, Entity ID Acc: 67.9025%, Entity state Acc: 69.39%\n"
     ]
    },
    {
     "name": "stderr",
     "output_type": "stream",
     "text": [
      "Epoch 34/128: 15it [00:07,  2.11it/s]\n"
     ]
    },
    {
     "name": "stdout",
     "output_type": "stream",
     "text": [
      "Epoch [34/128], Loss: 8.2541, Entity ID Acc: 68.9619%, Entity state Acc: 69.49%\n"
     ]
    },
    {
     "name": "stderr",
     "output_type": "stream",
     "text": [
      "Epoch 35/128: 15it [00:06,  2.22it/s]\n"
     ]
    },
    {
     "name": "stdout",
     "output_type": "stream",
     "text": [
      "Epoch [35/128], Loss: 7.2518, Entity ID Acc: 75.3178%, Entity state Acc: 70.23%\n"
     ]
    },
    {
     "name": "stderr",
     "output_type": "stream",
     "text": [
      "Epoch 36/128: 15it [00:06,  2.27it/s]\n"
     ]
    },
    {
     "name": "stdout",
     "output_type": "stream",
     "text": [
      "Epoch [36/128], Loss: 7.1068, Entity ID Acc: 76.0593%, Entity state Acc: 68.43%\n"
     ]
    },
    {
     "name": "stderr",
     "output_type": "stream",
     "text": [
      "Epoch 37/128: 15it [00:06,  2.30it/s]\n"
     ]
    },
    {
     "name": "stdout",
     "output_type": "stream",
     "text": [
      "Epoch [37/128], Loss: 7.3558, Entity ID Acc: 74.5763%, Entity state Acc: 71.50%\n"
     ]
    },
    {
     "name": "stderr",
     "output_type": "stream",
     "text": [
      "Epoch 38/128: 15it [00:06,  2.29it/s]\n"
     ]
    },
    {
     "name": "stdout",
     "output_type": "stream",
     "text": [
      "Epoch [38/128], Loss: 6.5342, Entity ID Acc: 78.1780%, Entity state Acc: 72.88%\n"
     ]
    },
    {
     "name": "stderr",
     "output_type": "stream",
     "text": [
      "Epoch 39/128: 15it [00:07,  2.11it/s]\n"
     ]
    },
    {
     "name": "stdout",
     "output_type": "stream",
     "text": [
      "Epoch [39/128], Loss: 6.7894, Entity ID Acc: 78.2839%, Entity state Acc: 70.13%\n"
     ]
    },
    {
     "name": "stderr",
     "output_type": "stream",
     "text": [
      "Epoch 40/128: 15it [00:06,  2.37it/s]\n"
     ]
    },
    {
     "name": "stdout",
     "output_type": "stream",
     "text": [
      "Epoch [40/128], Loss: 7.2097, Entity ID Acc: 76.0593%, Entity state Acc: 71.19%\n"
     ]
    },
    {
     "name": "stderr",
     "output_type": "stream",
     "text": [
      "Epoch 41/128: 15it [00:06,  2.21it/s]\n"
     ]
    },
    {
     "name": "stdout",
     "output_type": "stream",
     "text": [
      "Epoch [41/128], Loss: 6.3189, Entity ID Acc: 77.8602%, Entity state Acc: 69.39%\n"
     ]
    },
    {
     "name": "stderr",
     "output_type": "stream",
     "text": [
      "Epoch 42/128: 15it [00:06,  2.22it/s]\n"
     ]
    },
    {
     "name": "stdout",
     "output_type": "stream",
     "text": [
      "Epoch [42/128], Loss: 5.2726, Entity ID Acc: 84.0042%, Entity state Acc: 74.58%\n"
     ]
    },
    {
     "name": "stderr",
     "output_type": "stream",
     "text": [
      "Epoch 43/128: 15it [00:06,  2.27it/s]\n"
     ]
    },
    {
     "name": "stdout",
     "output_type": "stream",
     "text": [
      "Epoch [43/128], Loss: 5.0550, Entity ID Acc: 84.6398%, Entity state Acc: 73.31%\n"
     ]
    },
    {
     "name": "stderr",
     "output_type": "stream",
     "text": [
      "Epoch 44/128: 15it [00:06,  2.18it/s]\n"
     ]
    },
    {
     "name": "stdout",
     "output_type": "stream",
     "text": [
      "Epoch [44/128], Loss: 5.5057, Entity ID Acc: 82.8390%, Entity state Acc: 74.26%\n"
     ]
    },
    {
     "name": "stderr",
     "output_type": "stream",
     "text": [
      "Epoch 45/128: 15it [00:06,  2.17it/s]\n"
     ]
    },
    {
     "name": "stdout",
     "output_type": "stream",
     "text": [
      "Epoch [45/128], Loss: 5.2161, Entity ID Acc: 82.7331%, Entity state Acc: 74.89%\n"
     ]
    },
    {
     "name": "stderr",
     "output_type": "stream",
     "text": [
      "Epoch 46/128: 15it [00:06,  2.27it/s]\n"
     ]
    },
    {
     "name": "stdout",
     "output_type": "stream",
     "text": [
      "Epoch [46/128], Loss: 6.1417, Entity ID Acc: 78.1780%, Entity state Acc: 75.00%\n"
     ]
    },
    {
     "name": "stderr",
     "output_type": "stream",
     "text": [
      "Epoch 47/128: 15it [00:06,  2.17it/s]\n"
     ]
    },
    {
     "name": "stdout",
     "output_type": "stream",
     "text": [
      "Epoch [47/128], Loss: 5.6944, Entity ID Acc: 81.4619%, Entity state Acc: 73.94%\n"
     ]
    },
    {
     "name": "stderr",
     "output_type": "stream",
     "text": [
      "Epoch 48/128: 15it [00:07,  2.11it/s]\n"
     ]
    },
    {
     "name": "stdout",
     "output_type": "stream",
     "text": [
      "Epoch [48/128], Loss: 4.3489, Entity ID Acc: 86.4407%, Entity state Acc: 75.11%\n"
     ]
    },
    {
     "name": "stderr",
     "output_type": "stream",
     "text": [
      "Epoch 49/128: 15it [00:07,  2.13it/s]\n"
     ]
    },
    {
     "name": "stdout",
     "output_type": "stream",
     "text": [
      "Epoch [49/128], Loss: 4.0499, Entity ID Acc: 88.6653%, Entity state Acc: 77.22%\n"
     ]
    },
    {
     "name": "stderr",
     "output_type": "stream",
     "text": [
      "Epoch 50/128: 15it [00:06,  2.23it/s]\n"
     ]
    },
    {
     "name": "stdout",
     "output_type": "stream",
     "text": [
      "Epoch [50/128], Loss: 4.5877, Entity ID Acc: 85.5932%, Entity state Acc: 75.64%\n"
     ]
    },
    {
     "name": "stderr",
     "output_type": "stream",
     "text": [
      "Epoch 51/128: 15it [00:06,  2.23it/s]\n"
     ]
    },
    {
     "name": "stdout",
     "output_type": "stream",
     "text": [
      "Epoch [51/128], Loss: 4.3109, Entity ID Acc: 87.7119%, Entity state Acc: 74.05%\n"
     ]
    },
    {
     "name": "stderr",
     "output_type": "stream",
     "text": [
      "Epoch 52/128: 15it [00:06,  2.26it/s]\n"
     ]
    },
    {
     "name": "stdout",
     "output_type": "stream",
     "text": [
      "Epoch [52/128], Loss: 3.9553, Entity ID Acc: 88.9831%, Entity state Acc: 76.59%\n"
     ]
    },
    {
     "name": "stderr",
     "output_type": "stream",
     "text": [
      "Epoch 53/128: 15it [00:06,  2.18it/s]\n"
     ]
    },
    {
     "name": "stdout",
     "output_type": "stream",
     "text": [
      "Epoch [53/128], Loss: 3.9590, Entity ID Acc: 88.5593%, Entity state Acc: 75.85%\n"
     ]
    },
    {
     "name": "stderr",
     "output_type": "stream",
     "text": [
      "Epoch 54/128: 15it [00:06,  2.20it/s]\n"
     ]
    },
    {
     "name": "stdout",
     "output_type": "stream",
     "text": [
      "Epoch [54/128], Loss: 3.8808, Entity ID Acc: 89.7246%, Entity state Acc: 76.59%\n"
     ]
    },
    {
     "name": "stderr",
     "output_type": "stream",
     "text": [
      "Epoch 55/128: 15it [00:06,  2.33it/s]\n"
     ]
    },
    {
     "name": "stdout",
     "output_type": "stream",
     "text": [
      "Epoch [55/128], Loss: 3.7354, Entity ID Acc: 89.1949%, Entity state Acc: 75.95%\n"
     ]
    },
    {
     "name": "stderr",
     "output_type": "stream",
     "text": [
      "Epoch 56/128: 15it [00:06,  2.22it/s]\n"
     ]
    },
    {
     "name": "stdout",
     "output_type": "stream",
     "text": [
      "Epoch [56/128], Loss: 3.4248, Entity ID Acc: 90.6780%, Entity state Acc: 79.13%\n"
     ]
    },
    {
     "name": "stderr",
     "output_type": "stream",
     "text": [
      "Epoch 57/128: 15it [00:06,  2.33it/s]\n"
     ]
    },
    {
     "name": "stdout",
     "output_type": "stream",
     "text": [
      "Epoch [57/128], Loss: 3.1027, Entity ID Acc: 91.2076%, Entity state Acc: 79.56%\n"
     ]
    },
    {
     "name": "stderr",
     "output_type": "stream",
     "text": [
      "Epoch 58/128: 15it [00:06,  2.41it/s]\n"
     ]
    },
    {
     "name": "stdout",
     "output_type": "stream",
     "text": [
      "Epoch [58/128], Loss: 2.9606, Entity ID Acc: 92.5847%, Entity state Acc: 79.98%\n"
     ]
    },
    {
     "name": "stderr",
     "output_type": "stream",
     "text": [
      "Epoch 59/128: 15it [00:06,  2.24it/s]\n"
     ]
    },
    {
     "name": "stdout",
     "output_type": "stream",
     "text": [
      "Epoch [59/128], Loss: 2.8855, Entity ID Acc: 94.2797%, Entity state Acc: 78.92%\n"
     ]
    },
    {
     "name": "stderr",
     "output_type": "stream",
     "text": [
      "Epoch 60/128: 15it [00:06,  2.15it/s]\n"
     ]
    },
    {
     "name": "stdout",
     "output_type": "stream",
     "text": [
      "Epoch [60/128], Loss: 2.9709, Entity ID Acc: 92.3729%, Entity state Acc: 80.51%\n"
     ]
    },
    {
     "name": "stderr",
     "output_type": "stream",
     "text": [
      "Epoch 61/128: 15it [00:06,  2.15it/s]\n"
     ]
    },
    {
     "name": "stdout",
     "output_type": "stream",
     "text": [
      "Epoch [61/128], Loss: 2.6016, Entity ID Acc: 94.1737%, Entity state Acc: 82.52%\n"
     ]
    },
    {
     "name": "stderr",
     "output_type": "stream",
     "text": [
      "Epoch 62/128: 15it [00:06,  2.20it/s]\n"
     ]
    },
    {
     "name": "stdout",
     "output_type": "stream",
     "text": [
      "Epoch [62/128], Loss: 2.7238, Entity ID Acc: 92.2669%, Entity state Acc: 80.83%\n"
     ]
    },
    {
     "name": "stderr",
     "output_type": "stream",
     "text": [
      "Epoch 63/128: 15it [00:06,  2.27it/s]\n"
     ]
    },
    {
     "name": "stdout",
     "output_type": "stream",
     "text": [
      "Epoch [63/128], Loss: 3.2027, Entity ID Acc: 91.1017%, Entity state Acc: 80.19%\n"
     ]
    },
    {
     "name": "stderr",
     "output_type": "stream",
     "text": [
      "Epoch 64/128: 15it [00:06,  2.31it/s]\n"
     ]
    },
    {
     "name": "stdout",
     "output_type": "stream",
     "text": [
      "Epoch [64/128], Loss: 2.7207, Entity ID Acc: 92.7966%, Entity state Acc: 82.10%\n"
     ]
    },
    {
     "name": "stderr",
     "output_type": "stream",
     "text": [
      "Epoch 65/128: 15it [00:06,  2.22it/s]\n"
     ]
    },
    {
     "name": "stdout",
     "output_type": "stream",
     "text": [
      "Epoch [65/128], Loss: 2.4282, Entity ID Acc: 94.2797%, Entity state Acc: 80.19%\n"
     ]
    },
    {
     "name": "stderr",
     "output_type": "stream",
     "text": [
      "Epoch 66/128: 15it [00:06,  2.22it/s]\n"
     ]
    },
    {
     "name": "stdout",
     "output_type": "stream",
     "text": [
      "Epoch [66/128], Loss: 2.5750, Entity ID Acc: 93.4322%, Entity state Acc: 78.39%\n"
     ]
    },
    {
     "name": "stderr",
     "output_type": "stream",
     "text": [
      "Epoch 67/128: 15it [00:06,  2.23it/s]\n"
     ]
    },
    {
     "name": "stdout",
     "output_type": "stream",
     "text": [
      "Epoch [67/128], Loss: 2.4994, Entity ID Acc: 93.2203%, Entity state Acc: 79.13%\n"
     ]
    },
    {
     "name": "stderr",
     "output_type": "stream",
     "text": [
      "Epoch 68/128: 15it [00:06,  2.22it/s]\n"
     ]
    },
    {
     "name": "stdout",
     "output_type": "stream",
     "text": [
      "Epoch [68/128], Loss: 2.7467, Entity ID Acc: 91.3136%, Entity state Acc: 82.94%\n"
     ]
    },
    {
     "name": "stderr",
     "output_type": "stream",
     "text": [
      "Epoch 69/128: 15it [00:06,  2.38it/s]\n"
     ]
    },
    {
     "name": "stdout",
     "output_type": "stream",
     "text": [
      "Epoch [69/128], Loss: 2.5288, Entity ID Acc: 93.8559%, Entity state Acc: 82.31%\n"
     ]
    },
    {
     "name": "stderr",
     "output_type": "stream",
     "text": [
      "Epoch 70/128: 15it [00:06,  2.15it/s]\n"
     ]
    },
    {
     "name": "stdout",
     "output_type": "stream",
     "text": [
      "Epoch [70/128], Loss: 2.2095, Entity ID Acc: 94.8093%, Entity state Acc: 84.96%\n"
     ]
    },
    {
     "name": "stderr",
     "output_type": "stream",
     "text": [
      "Epoch 71/128: 15it [00:06,  2.15it/s]\n"
     ]
    },
    {
     "name": "stdout",
     "output_type": "stream",
     "text": [
      "Epoch [71/128], Loss: 2.1967, Entity ID Acc: 95.5508%, Entity state Acc: 80.93%\n"
     ]
    },
    {
     "name": "stderr",
     "output_type": "stream",
     "text": [
      "Epoch 72/128: 15it [00:06,  2.30it/s]\n"
     ]
    },
    {
     "name": "stdout",
     "output_type": "stream",
     "text": [
      "Epoch [72/128], Loss: 1.7867, Entity ID Acc: 95.8686%, Entity state Acc: 85.81%\n"
     ]
    },
    {
     "name": "stderr",
     "output_type": "stream",
     "text": [
      "Epoch 73/128: 15it [00:06,  2.37it/s]\n"
     ]
    },
    {
     "name": "stdout",
     "output_type": "stream",
     "text": [
      "Epoch [73/128], Loss: 1.9991, Entity ID Acc: 95.3390%, Entity state Acc: 84.53%\n"
     ]
    },
    {
     "name": "stderr",
     "output_type": "stream",
     "text": [
      "Epoch 74/128: 15it [00:06,  2.42it/s]\n"
     ]
    },
    {
     "name": "stdout",
     "output_type": "stream",
     "text": [
      "Epoch [74/128], Loss: 1.7140, Entity ID Acc: 95.5508%, Entity state Acc: 88.35%\n"
     ]
    },
    {
     "name": "stderr",
     "output_type": "stream",
     "text": [
      "Epoch 75/128: 15it [00:06,  2.30it/s]\n"
     ]
    },
    {
     "name": "stdout",
     "output_type": "stream",
     "text": [
      "Epoch [75/128], Loss: 1.7813, Entity ID Acc: 96.5042%, Entity state Acc: 84.64%\n"
     ]
    },
    {
     "name": "stderr",
     "output_type": "stream",
     "text": [
      "Epoch 76/128: 15it [00:07,  2.12it/s]\n"
     ]
    },
    {
     "name": "stdout",
     "output_type": "stream",
     "text": [
      "Epoch [76/128], Loss: 1.5755, Entity ID Acc: 96.9280%, Entity state Acc: 87.61%\n"
     ]
    },
    {
     "name": "stderr",
     "output_type": "stream",
     "text": [
      "Epoch 77/128: 15it [00:06,  2.16it/s]\n"
     ]
    },
    {
     "name": "stdout",
     "output_type": "stream",
     "text": [
      "Epoch [77/128], Loss: 1.6378, Entity ID Acc: 96.6102%, Entity state Acc: 86.86%\n"
     ]
    },
    {
     "name": "stderr",
     "output_type": "stream",
     "text": [
      "Epoch 78/128: 15it [00:07,  2.12it/s]\n"
     ]
    },
    {
     "name": "stdout",
     "output_type": "stream",
     "text": [
      "Epoch [78/128], Loss: 1.5037, Entity ID Acc: 96.8220%, Entity state Acc: 88.88%\n"
     ]
    },
    {
     "name": "stderr",
     "output_type": "stream",
     "text": [
      "Epoch 79/128: 15it [00:07,  2.14it/s]\n"
     ]
    },
    {
     "name": "stdout",
     "output_type": "stream",
     "text": [
      "Epoch [79/128], Loss: 1.6155, Entity ID Acc: 96.0805%, Entity state Acc: 88.88%\n"
     ]
    },
    {
     "name": "stderr",
     "output_type": "stream",
     "text": [
      "Epoch 80/128: 15it [00:06,  2.41it/s]\n"
     ]
    },
    {
     "name": "stdout",
     "output_type": "stream",
     "text": [
      "Epoch [80/128], Loss: 2.2553, Entity ID Acc: 93.6441%, Entity state Acc: 86.44%\n"
     ]
    },
    {
     "name": "stderr",
     "output_type": "stream",
     "text": [
      "Epoch 81/128: 15it [00:06,  2.40it/s]\n"
     ]
    },
    {
     "name": "stdout",
     "output_type": "stream",
     "text": [
      "Epoch [81/128], Loss: 1.7500, Entity ID Acc: 94.4915%, Entity state Acc: 87.61%\n"
     ]
    },
    {
     "name": "stderr",
     "output_type": "stream",
     "text": [
      "Epoch 82/128: 15it [00:06,  2.22it/s]\n"
     ]
    },
    {
     "name": "stdout",
     "output_type": "stream",
     "text": [
      "Epoch [82/128], Loss: 1.4651, Entity ID Acc: 96.8220%, Entity state Acc: 90.04%\n"
     ]
    },
    {
     "name": "stderr",
     "output_type": "stream",
     "text": [
      "Epoch 83/128: 15it [00:06,  2.20it/s]\n"
     ]
    },
    {
     "name": "stdout",
     "output_type": "stream",
     "text": [
      "Epoch [83/128], Loss: 1.3832, Entity ID Acc: 96.9280%, Entity state Acc: 90.36%\n"
     ]
    },
    {
     "name": "stderr",
     "output_type": "stream",
     "text": [
      "Epoch 84/128: 15it [00:06,  2.19it/s]\n"
     ]
    },
    {
     "name": "stdout",
     "output_type": "stream",
     "text": [
      "Epoch [84/128], Loss: 1.4159, Entity ID Acc: 96.3983%, Entity state Acc: 90.15%\n"
     ]
    },
    {
     "name": "stderr",
     "output_type": "stream",
     "text": [
      "Epoch 85/128: 15it [00:06,  2.23it/s]\n"
     ]
    },
    {
     "name": "stdout",
     "output_type": "stream",
     "text": [
      "Epoch [85/128], Loss: 1.2383, Entity ID Acc: 97.6695%, Entity state Acc: 91.74%\n"
     ]
    },
    {
     "name": "stderr",
     "output_type": "stream",
     "text": [
      "Epoch 86/128: 15it [00:07,  2.12it/s]\n"
     ]
    },
    {
     "name": "stdout",
     "output_type": "stream",
     "text": [
      "Epoch [86/128], Loss: 1.3808, Entity ID Acc: 96.6102%, Entity state Acc: 88.88%\n"
     ]
    },
    {
     "name": "stderr",
     "output_type": "stream",
     "text": [
      "Epoch 87/128: 15it [00:06,  2.21it/s]\n"
     ]
    },
    {
     "name": "stdout",
     "output_type": "stream",
     "text": [
      "Epoch [87/128], Loss: 1.2458, Entity ID Acc: 97.4576%, Entity state Acc: 89.30%\n"
     ]
    },
    {
     "name": "stderr",
     "output_type": "stream",
     "text": [
      "Epoch 88/128: 15it [00:06,  2.28it/s]\n"
     ]
    },
    {
     "name": "stdout",
     "output_type": "stream",
     "text": [
      "Epoch [88/128], Loss: 1.3956, Entity ID Acc: 97.0339%, Entity state Acc: 92.06%\n"
     ]
    },
    {
     "name": "stderr",
     "output_type": "stream",
     "text": [
      "Epoch 89/128: 15it [00:07,  2.10it/s]\n"
     ]
    },
    {
     "name": "stdout",
     "output_type": "stream",
     "text": [
      "Epoch [89/128], Loss: 1.4151, Entity ID Acc: 97.0339%, Entity state Acc: 89.94%\n"
     ]
    },
    {
     "name": "stderr",
     "output_type": "stream",
     "text": [
      "Epoch 90/128: 15it [00:07,  2.01it/s]\n"
     ]
    },
    {
     "name": "stdout",
     "output_type": "stream",
     "text": [
      "Epoch [90/128], Loss: 1.3784, Entity ID Acc: 97.0339%, Entity state Acc: 88.56%\n"
     ]
    },
    {
     "name": "stderr",
     "output_type": "stream",
     "text": [
      "Epoch 91/128: 15it [00:06,  2.23it/s]\n"
     ]
    },
    {
     "name": "stdout",
     "output_type": "stream",
     "text": [
      "Epoch [91/128], Loss: 1.3647, Entity ID Acc: 97.2458%, Entity state Acc: 90.36%\n"
     ]
    },
    {
     "name": "stderr",
     "output_type": "stream",
     "text": [
      "Epoch 92/128: 15it [00:06,  2.24it/s]\n"
     ]
    },
    {
     "name": "stdout",
     "output_type": "stream",
     "text": [
      "Epoch [92/128], Loss: 1.2184, Entity ID Acc: 97.2458%, Entity state Acc: 91.00%\n"
     ]
    },
    {
     "name": "stderr",
     "output_type": "stream",
     "text": [
      "Epoch 93/128: 15it [00:06,  2.33it/s]\n"
     ]
    },
    {
     "name": "stdout",
     "output_type": "stream",
     "text": [
      "Epoch [93/128], Loss: 1.0733, Entity ID Acc: 97.9873%, Entity state Acc: 90.68%\n"
     ]
    },
    {
     "name": "stderr",
     "output_type": "stream",
     "text": [
      "Epoch 94/128: 15it [00:06,  2.30it/s]\n"
     ]
    },
    {
     "name": "stdout",
     "output_type": "stream",
     "text": [
      "Epoch [94/128], Loss: 1.0804, Entity ID Acc: 97.7754%, Entity state Acc: 93.11%\n"
     ]
    },
    {
     "name": "stderr",
     "output_type": "stream",
     "text": [
      "Epoch 95/128: 15it [00:06,  2.42it/s]\n"
     ]
    },
    {
     "name": "stdout",
     "output_type": "stream",
     "text": [
      "Epoch [95/128], Loss: 1.0132, Entity ID Acc: 98.4110%, Entity state Acc: 91.42%\n"
     ]
    },
    {
     "name": "stderr",
     "output_type": "stream",
     "text": [
      "Epoch 96/128: 15it [00:06,  2.15it/s]\n"
     ]
    },
    {
     "name": "stdout",
     "output_type": "stream",
     "text": [
      "Epoch [96/128], Loss: 1.1081, Entity ID Acc: 97.8814%, Entity state Acc: 92.69%\n"
     ]
    },
    {
     "name": "stderr",
     "output_type": "stream",
     "text": [
      "Epoch 97/128: 15it [00:07,  2.14it/s]\n"
     ]
    },
    {
     "name": "stdout",
     "output_type": "stream",
     "text": [
      "Epoch [97/128], Loss: 1.1468, Entity ID Acc: 97.5636%, Entity state Acc: 93.22%\n"
     ]
    },
    {
     "name": "stderr",
     "output_type": "stream",
     "text": [
      "Epoch 98/128: 15it [00:06,  2.39it/s]\n"
     ]
    },
    {
     "name": "stdout",
     "output_type": "stream",
     "text": [
      "Epoch [98/128], Loss: 0.9844, Entity ID Acc: 97.9873%, Entity state Acc: 92.48%\n"
     ]
    },
    {
     "name": "stderr",
     "output_type": "stream",
     "text": [
      "Epoch 99/128: 15it [00:06,  2.42it/s]\n"
     ]
    },
    {
     "name": "stdout",
     "output_type": "stream",
     "text": [
      "Epoch [99/128], Loss: 1.3162, Entity ID Acc: 96.7161%, Entity state Acc: 90.47%\n"
     ]
    },
    {
     "name": "stderr",
     "output_type": "stream",
     "text": [
      "Epoch 100/128: 15it [00:06,  2.31it/s]\n"
     ]
    },
    {
     "name": "stdout",
     "output_type": "stream",
     "text": [
      "Epoch [100/128], Loss: 1.1914, Entity ID Acc: 97.3517%, Entity state Acc: 91.74%\n"
     ]
    },
    {
     "name": "stderr",
     "output_type": "stream",
     "text": [
      "Epoch 101/128: 15it [00:06,  2.39it/s]\n"
     ]
    },
    {
     "name": "stdout",
     "output_type": "stream",
     "text": [
      "Epoch [101/128], Loss: 0.9819, Entity ID Acc: 98.0932%, Entity state Acc: 92.27%\n"
     ]
    },
    {
     "name": "stderr",
     "output_type": "stream",
     "text": [
      "Epoch 102/128: 15it [00:05,  2.52it/s]\n"
     ]
    },
    {
     "name": "stdout",
     "output_type": "stream",
     "text": [
      "Epoch [102/128], Loss: 1.0049, Entity ID Acc: 97.8814%, Entity state Acc: 92.90%\n"
     ]
    },
    {
     "name": "stderr",
     "output_type": "stream",
     "text": [
      "Epoch 103/128: 15it [00:06,  2.43it/s]\n"
     ]
    },
    {
     "name": "stdout",
     "output_type": "stream",
     "text": [
      "Epoch [103/128], Loss: 0.8612, Entity ID Acc: 97.8814%, Entity state Acc: 94.17%\n"
     ]
    },
    {
     "name": "stderr",
     "output_type": "stream",
     "text": [
      "Epoch 104/128: 15it [00:06,  2.41it/s]\n"
     ]
    },
    {
     "name": "stdout",
     "output_type": "stream",
     "text": [
      "Epoch [104/128], Loss: 0.8050, Entity ID Acc: 98.3051%, Entity state Acc: 95.02%\n"
     ]
    },
    {
     "name": "stderr",
     "output_type": "stream",
     "text": [
      "Epoch 105/128: 15it [00:06,  2.41it/s]\n"
     ]
    },
    {
     "name": "stdout",
     "output_type": "stream",
     "text": [
      "Epoch [105/128], Loss: 0.7781, Entity ID Acc: 98.1992%, Entity state Acc: 95.34%\n"
     ]
    },
    {
     "name": "stderr",
     "output_type": "stream",
     "text": [
      "Epoch 106/128: 15it [00:06,  2.41it/s]\n"
     ]
    },
    {
     "name": "stdout",
     "output_type": "stream",
     "text": [
      "Epoch [106/128], Loss: 0.8298, Entity ID Acc: 98.1992%, Entity state Acc: 93.64%\n"
     ]
    },
    {
     "name": "stderr",
     "output_type": "stream",
     "text": [
      "Epoch 107/128: 15it [00:06,  2.50it/s]\n"
     ]
    },
    {
     "name": "stdout",
     "output_type": "stream",
     "text": [
      "Epoch [107/128], Loss: 0.9104, Entity ID Acc: 98.1992%, Entity state Acc: 91.42%\n"
     ]
    },
    {
     "name": "stderr",
     "output_type": "stream",
     "text": [
      "Epoch 108/128: 15it [00:05,  2.54it/s]\n"
     ]
    },
    {
     "name": "stdout",
     "output_type": "stream",
     "text": [
      "Epoch [108/128], Loss: 0.9558, Entity ID Acc: 97.7754%, Entity state Acc: 94.49%\n"
     ]
    },
    {
     "name": "stderr",
     "output_type": "stream",
     "text": [
      "Epoch 109/128: 15it [00:06,  2.50it/s]\n"
     ]
    },
    {
     "name": "stdout",
     "output_type": "stream",
     "text": [
      "Epoch [109/128], Loss: 0.8472, Entity ID Acc: 97.6695%, Entity state Acc: 93.75%\n"
     ]
    },
    {
     "name": "stderr",
     "output_type": "stream",
     "text": [
      "Epoch 110/128: 15it [00:05,  2.51it/s]\n"
     ]
    },
    {
     "name": "stdout",
     "output_type": "stream",
     "text": [
      "Epoch [110/128], Loss: 0.8789, Entity ID Acc: 97.8814%, Entity state Acc: 94.28%\n"
     ]
    },
    {
     "name": "stderr",
     "output_type": "stream",
     "text": [
      "Epoch 111/128: 15it [00:06,  2.44it/s]\n"
     ]
    },
    {
     "name": "stdout",
     "output_type": "stream",
     "text": [
      "Epoch [111/128], Loss: 1.0189, Entity ID Acc: 97.7754%, Entity state Acc: 93.96%\n"
     ]
    },
    {
     "name": "stderr",
     "output_type": "stream",
     "text": [
      "Epoch 112/128: 15it [00:06,  2.40it/s]\n"
     ]
    },
    {
     "name": "stdout",
     "output_type": "stream",
     "text": [
      "Epoch [112/128], Loss: 0.9729, Entity ID Acc: 97.2458%, Entity state Acc: 93.86%\n"
     ]
    },
    {
     "name": "stderr",
     "output_type": "stream",
     "text": [
      "Epoch 113/128: 15it [00:06,  2.42it/s]\n"
     ]
    },
    {
     "name": "stdout",
     "output_type": "stream",
     "text": [
      "Epoch [113/128], Loss: 2.2184, Entity ID Acc: 93.1144%, Entity state Acc: 90.15%\n"
     ]
    },
    {
     "name": "stderr",
     "output_type": "stream",
     "text": [
      "Epoch 114/128: 15it [00:06,  2.41it/s]\n"
     ]
    },
    {
     "name": "stdout",
     "output_type": "stream",
     "text": [
      "Epoch [114/128], Loss: 2.1281, Entity ID Acc: 92.6907%, Entity state Acc: 89.94%\n"
     ]
    },
    {
     "name": "stderr",
     "output_type": "stream",
     "text": [
      "Epoch 115/128: 15it [00:06,  2.42it/s]\n"
     ]
    },
    {
     "name": "stdout",
     "output_type": "stream",
     "text": [
      "Epoch [115/128], Loss: 1.3737, Entity ID Acc: 96.5042%, Entity state Acc: 91.95%\n"
     ]
    },
    {
     "name": "stderr",
     "output_type": "stream",
     "text": [
      "Epoch 116/128: 15it [00:05,  2.53it/s]\n"
     ]
    },
    {
     "name": "stdout",
     "output_type": "stream",
     "text": [
      "Epoch [116/128], Loss: 1.1782, Entity ID Acc: 97.1398%, Entity state Acc: 93.86%\n"
     ]
    },
    {
     "name": "stderr",
     "output_type": "stream",
     "text": [
      "Epoch 117/128: 15it [00:06,  2.47it/s]\n"
     ]
    },
    {
     "name": "stdout",
     "output_type": "stream",
     "text": [
      "Epoch [117/128], Loss: 1.1700, Entity ID Acc: 96.5042%, Entity state Acc: 94.17%\n"
     ]
    },
    {
     "name": "stderr",
     "output_type": "stream",
     "text": [
      "Epoch 118/128: 15it [00:06,  2.37it/s]\n"
     ]
    },
    {
     "name": "stdout",
     "output_type": "stream",
     "text": [
      "Epoch [118/128], Loss: 0.7961, Entity ID Acc: 98.1992%, Entity state Acc: 95.13%\n"
     ]
    },
    {
     "name": "stderr",
     "output_type": "stream",
     "text": [
      "Epoch 119/128: 15it [00:06,  2.49it/s]\n"
     ]
    },
    {
     "name": "stdout",
     "output_type": "stream",
     "text": [
      "Epoch [119/128], Loss: 0.9177, Entity ID Acc: 97.7754%, Entity state Acc: 94.07%\n"
     ]
    },
    {
     "name": "stderr",
     "output_type": "stream",
     "text": [
      "Epoch 120/128: 15it [00:06,  2.44it/s]\n"
     ]
    },
    {
     "name": "stdout",
     "output_type": "stream",
     "text": [
      "Epoch [120/128], Loss: 0.7119, Entity ID Acc: 98.7288%, Entity state Acc: 95.87%\n"
     ]
    },
    {
     "name": "stderr",
     "output_type": "stream",
     "text": [
      "Epoch 121/128: 15it [00:06,  2.39it/s]\n"
     ]
    },
    {
     "name": "stdout",
     "output_type": "stream",
     "text": [
      "Epoch [121/128], Loss: 0.6466, Entity ID Acc: 98.0932%, Entity state Acc: 97.03%\n"
     ]
    },
    {
     "name": "stderr",
     "output_type": "stream",
     "text": [
      "Epoch 122/128: 15it [00:06,  2.45it/s]\n"
     ]
    },
    {
     "name": "stdout",
     "output_type": "stream",
     "text": [
      "Epoch [122/128], Loss: 0.6349, Entity ID Acc: 98.7288%, Entity state Acc: 95.97%\n"
     ]
    },
    {
     "name": "stderr",
     "output_type": "stream",
     "text": [
      "Epoch 123/128: 15it [00:06,  2.44it/s]\n"
     ]
    },
    {
     "name": "stdout",
     "output_type": "stream",
     "text": [
      "Epoch [123/128], Loss: 0.6801, Entity ID Acc: 97.7754%, Entity state Acc: 95.97%\n"
     ]
    },
    {
     "name": "stderr",
     "output_type": "stream",
     "text": [
      "Epoch 124/128: 15it [00:05,  2.53it/s]\n"
     ]
    },
    {
     "name": "stdout",
     "output_type": "stream",
     "text": [
      "Epoch [124/128], Loss: 0.7852, Entity ID Acc: 97.7754%, Entity state Acc: 96.61%\n"
     ]
    },
    {
     "name": "stderr",
     "output_type": "stream",
     "text": [
      "Epoch 125/128: 15it [00:06,  2.43it/s]\n"
     ]
    },
    {
     "name": "stdout",
     "output_type": "stream",
     "text": [
      "Epoch [125/128], Loss: 0.6037, Entity ID Acc: 98.7288%, Entity state Acc: 96.19%\n"
     ]
    },
    {
     "name": "stderr",
     "output_type": "stream",
     "text": [
      "Epoch 126/128: 15it [00:06,  2.42it/s]\n"
     ]
    },
    {
     "name": "stdout",
     "output_type": "stream",
     "text": [
      "Epoch [126/128], Loss: 0.6369, Entity ID Acc: 98.4110%, Entity state Acc: 96.19%\n"
     ]
    },
    {
     "name": "stderr",
     "output_type": "stream",
     "text": [
      "Epoch 127/128: 15it [00:06,  2.41it/s]\n"
     ]
    },
    {
     "name": "stdout",
     "output_type": "stream",
     "text": [
      "Epoch [127/128], Loss: 0.6441, Entity ID Acc: 98.4110%, Entity state Acc: 95.44%\n"
     ]
    },
    {
     "name": "stderr",
     "output_type": "stream",
     "text": [
      "Epoch 128/128: 15it [00:06,  2.47it/s]"
     ]
    },
    {
     "name": "stdout",
     "output_type": "stream",
     "text": [
      "Epoch [128/128], Loss: 0.6512, Entity ID Acc: 98.4110%, Entity state Acc: 96.50%\n",
      "Act Training Complete!\n"
     ]
    },
    {
     "name": "stderr",
     "output_type": "stream",
     "text": [
      "\n"
     ]
    }
   ],
   "source": [
    "# define the model\n",
    "model = TransformerMultiTask(input_dim=46, hidden_dim=512, additional_input_dim=5, num_heads=2, num_layers=1, entity_id_cls=45, entity_state_cls=4)\n",
    "training_epoch = 128\n",
    "# Using Adam optimizer\n",
    "import torch.optim as optim\n",
    "learning_rate = 1e-4  # You can adjust the learning rate as needed\n",
    "optimizer = optim.Adam(model.parameters(), lr=learning_rate)\n",
    "# find the device for training\n",
    "device = torch.device(\"cuda\" if torch.cuda.is_available() else \"cpu\")\n",
    "\n",
    "# start the training\n",
    "_, entity_id_accuracies, entity_state_accuracies = train_act_model(model=model, dataloader=train_loader, num_epochs=training_epoch, \n",
    "            actionable_classification_criterion=actionable_classification_criterion, \n",
    "            entity_id_classification_criterion=entity_id_classification_criterion, \n",
    "            entity_state_classification_criterion=entity_state_classification_criterion, \n",
    "            optimizer=optimizer, device=device)"
   ]
  },
  {
   "cell_type": "code",
   "execution_count": null,
   "id": "91e06371-89ad-4e45-bfaa-1139b1e1084b",
   "metadata": {},
   "outputs": [],
   "source": [
    "torch.save(model.state_dict(), model_save_path)"
   ]
  },
  {
   "cell_type": "code",
   "execution_count": 7,
   "id": "bf924500-6c8f-4ce9-af6a-dd182c641be0",
   "metadata": {},
   "outputs": [
    {
     "data": {
      "image/png": "[encoded data removed]",
      "text/plain": [
       "<Figure size 1400x600 with 1 Axes>"
      ]
     },
     "metadata": {},
     "output_type": "display_data"
    }
   ],
   "source": [
    "import matplotlib.pyplot as plt\n",
    "\n",
    "# Plot accuracy\n",
    "plt.figure(figsize=(14, 6))\n",
    "\n",
    "plt.subplot(1, 2, 1)\n",
    "plt.plot(range(1, training_epoch + 1), entity_id_accuracies, marker='o', label='Entity ID Accuracy')\n",
    "plt.plot(range(1, training_epoch + 1), entity_state_accuracies, marker='o', label='Entity State Accuracy')\n",
    "plt.title('Model Accuracies Over Epochs')\n",
    "plt.xlabel('Epoch')\n",
    "plt.ylabel('Accuracy (%)')\n",
    "plt.xticks(range(1, training_epoch + 1))  # Set x-ticks to match epoch numbers\n",
    "plt.legend()\n",
    "plt.grid()\n",
    "\n",
    "plt.tight_layout()\n",
    "plt.show()"
   ]
  },
  {
   "cell_type": "markdown",
   "id": "4fbb678d-021b-4afb-9040-51096f976c02",
   "metadata": {},
   "source": [
    "## Train the other heads separately with the transformer and embedding layer frozen"
   ]
  },
  {
   "cell_type": "code",
   "execution_count": 11,
   "id": "e31b84b8-411a-4146-9381-0d86960b8614",
   "metadata": {},
   "outputs": [],
   "source": [
    "from os import listdir\n",
    "from os.path import isfile, join\n",
    "import re\n",
    "data_root_path = './data/training_act'\n",
    "data_pattern = r\"^training_data_chunk_slim_.*?\\d+\\.parquet\"\n",
    "# Split the file list\n",
    "train_files, test_files, eval_files = split_file_list(file_list, train_ratio=0.8, test_ratio=0.1, eval_ratio=0.1)\n",
    "\n",
    "# Create separate datasets\n",
    "train_dataset = MultiPartParquetCASASDataset(train_files, shuffle_files=True, shuffle_rows=True)\n",
    "test_dataset = MultiPartParquetCASASDataset(test_files, shuffle_files=False, shuffle_rows=False)\n",
    "eval_dataset = MultiPartParquetCASASDataset(eval_files, shuffle_files=False, shuffle_rows=False)\n",
    "\n",
    "# Wrap them in DataLoaders\n",
    "train_loader = DataLoader(train_dataset, batch_size=64, shuffle=False, collate_fn=_collate_fn)\n",
    "test_loader = DataLoader(test_dataset, batch_size=64, shuffle=False, collate_fn=_collate_fn)\n",
    "eval_loader = DataLoader(eval_dataset, batch_size=64, shuffle=False, collate_fn=_collate_fn)\n",
    "\n",
    "\n",
    "# Actionable Classification Criterion (binary classification)\n",
    "actionable_classification_criterion = nn.CrossEntropyLoss()\n"
   ]
  },
  {
   "cell_type": "code",
   "execution_count": 12,
   "id": "1a82ae89-cc31-47c9-b483-ffd94cb3d5f6",
   "metadata": {},
   "outputs": [],
   "source": [
    "def freeze_backbone_params(model):\n",
    "    # Freeze the transformer and other heads\n",
    "    for param in model.embedding.parameters():\n",
    "        param.requires_grad = False\n",
    "    \n",
    "    for param in model.transformer.parameters():\n",
    "        param.requires_grad = False\n",
    "    \n",
    "    for param in model.entity_id_fc.parameters():\n",
    "        param.requires_grad = False\n",
    "    \n",
    "    for param in model.entity_state_fc.parameters():\n",
    "        param.requires_grad = False\n",
    "    return model"
   ]
  },
  {
   "cell_type": "code",
   "execution_count": 24,
   "id": "c4a0a165-b11c-44a1-babc-70d135fe0a11",
   "metadata": {},
   "outputs": [],
   "source": [
    "# Store accuracies and time prediction losses\n",
    "def train_act_model_actionable_regression(model, dataloader, num_epochs, \n",
    "                actionable_classification_criterion, optimizer, device):\n",
    "    actionable_losses = []\n",
    "    model = freeze_backbone_params(model)\n",
    "    model.to(device)\n",
    "    model.train()\n",
    "    \n",
    "    for epoch in range(num_epochs):\n",
    "        epoch_loss = 0\n",
    "        correct_actionability_prediction = 0\n",
    "        total_actionability_count = 0\n",
    "        \n",
    "        for batch_idx, (input_tensors_padded, curr_time_hint_tensors, actionable_tensors, action_entity_id_tensors, action_entity_state_tensors) in tqdm(enumerate(dataloader), desc=f\"Epoch {epoch+1}/{num_epochs}\"):\n",
    "            # Assuming the dataloader returns a dictionary-like batch with relevant keys\n",
    "            inputs = input_tensors_padded.to(device)  # shape: (batch_size, max_seq_length, input_dim)\n",
    "            actionable_labels = actionable_tensors.to(device)\n",
    "            time_hint_inputs = curr_time_hint_tensors.to(device)\n",
    "            optimizer.zero_grad()\n",
    "    \n",
    "            # Forward pass\n",
    "            actionable_output, entity_id_output, entity_state_output = model(inputs, additional_inputs=time_hint_inputs)\n",
    "    \n",
    "            # Calculate the loss\n",
    "            actionable_loss = actionable_classification_criterion(actionable_output, actionable_labels)\n",
    "            actionable_loss.backward()\n",
    "            optimizer.step()\n",
    "\n",
    "            # accumulate time pred losses\n",
    "            actionable_loss += actionable_loss.item()\n",
    "\n",
    "            # accumulate the epoch loss\n",
    "            epoch_loss += actionable_loss.item()\n",
    "            \n",
    "            # Calculate entity ID classification accuracy\n",
    "            _, actionable_prediction = torch.max(actionable_output, 1)\n",
    "            correct_actionability_prediction += (actionable_prediction == actionable_labels).sum().item()\n",
    "            total_actionability_count += actionable_labels.size(0)\n",
    "            acctionablility_prediction_accuracy = 100 * correct_actionability_prediction / total_actionability_count\n",
    "            \n",
    "        avg_loss = epoch_loss / len(dataloader)\n",
    "        actionable_losses.append(avg_loss)\n",
    "        print(f\"Epoch [{epoch+1}/{num_epochs}], actionable prediction acc: {acctionablility_prediction_accuracy:.2f}, actionable prediction loss: {avg_loss:.4f}\")\n",
    "    print(f'All done.')\n",
    "    return actionable_losses"
   ]
  },
  {
   "cell_type": "code",
   "execution_count": 25,
   "id": "932552f4-a2ef-4aee-8fc1-640d6d1ad88a",
   "metadata": {},
   "outputs": [
    {
     "name": "stderr",
     "output_type": "stream",
     "text": [
      "Epoch 1/30: 47it [00:38,  1.23it/s]\n"
     ]
    },
    {
     "name": "stdout",
     "output_type": "stream",
     "text": [
      "Epoch [1/30], actionable prediction acc: 92.98, actionable prediction loss: 0.4371\n"
     ]
    },
    {
     "name": "stderr",
     "output_type": "stream",
     "text": [
      "Epoch 2/30: 47it [00:37,  1.25it/s]\n"
     ]
    },
    {
     "name": "stdout",
     "output_type": "stream",
     "text": [
      "Epoch [2/30], actionable prediction acc: 93.14, actionable prediction loss: 0.4081\n"
     ]
    },
    {
     "name": "stderr",
     "output_type": "stream",
     "text": [
      "Epoch 3/30: 47it [00:35,  1.34it/s]\n"
     ]
    },
    {
     "name": "stdout",
     "output_type": "stream",
     "text": [
      "Epoch [3/30], actionable prediction acc: 92.91, actionable prediction loss: 0.4077\n"
     ]
    },
    {
     "name": "stderr",
     "output_type": "stream",
     "text": [
      "Epoch 4/30: 47it [00:35,  1.33it/s]\n"
     ]
    },
    {
     "name": "stdout",
     "output_type": "stream",
     "text": [
      "Epoch [4/30], actionable prediction acc: 93.18, actionable prediction loss: 0.4026\n"
     ]
    },
    {
     "name": "stderr",
     "output_type": "stream",
     "text": [
      "Epoch 5/30: 47it [00:36,  1.29it/s]\n"
     ]
    },
    {
     "name": "stdout",
     "output_type": "stream",
     "text": [
      "Epoch [5/30], actionable prediction acc: 93.51, actionable prediction loss: 0.3853\n"
     ]
    },
    {
     "name": "stderr",
     "output_type": "stream",
     "text": [
      "Epoch 6/30: 47it [00:36,  1.30it/s]\n"
     ]
    },
    {
     "name": "stdout",
     "output_type": "stream",
     "text": [
      "Epoch [6/30], actionable prediction acc: 93.28, actionable prediction loss: 0.3962\n"
     ]
    },
    {
     "name": "stderr",
     "output_type": "stream",
     "text": [
      "Epoch 7/30: 47it [00:35,  1.34it/s]\n"
     ]
    },
    {
     "name": "stdout",
     "output_type": "stream",
     "text": [
      "Epoch [7/30], actionable prediction acc: 93.44, actionable prediction loss: 0.3842\n"
     ]
    },
    {
     "name": "stderr",
     "output_type": "stream",
     "text": [
      "Epoch 8/30: 47it [00:41,  1.12it/s]\n"
     ]
    },
    {
     "name": "stdout",
     "output_type": "stream",
     "text": [
      "Epoch [8/30], actionable prediction acc: 93.68, actionable prediction loss: 0.3752\n"
     ]
    },
    {
     "name": "stderr",
     "output_type": "stream",
     "text": [
      "Epoch 9/30: 47it [00:45,  1.02it/s]\n"
     ]
    },
    {
     "name": "stdout",
     "output_type": "stream",
     "text": [
      "Epoch [9/30], actionable prediction acc: 94.31, actionable prediction loss: 0.3693\n"
     ]
    },
    {
     "name": "stderr",
     "output_type": "stream",
     "text": [
      "Epoch 10/30: 47it [00:38,  1.21it/s]\n"
     ]
    },
    {
     "name": "stdout",
     "output_type": "stream",
     "text": [
      "Epoch [10/30], actionable prediction acc: 94.31, actionable prediction loss: 0.3581\n"
     ]
    },
    {
     "name": "stderr",
     "output_type": "stream",
     "text": [
      "Epoch 11/30: 47it [00:38,  1.23it/s]\n"
     ]
    },
    {
     "name": "stdout",
     "output_type": "stream",
     "text": [
      "Epoch [11/30], actionable prediction acc: 94.38, actionable prediction loss: 0.3603\n"
     ]
    },
    {
     "name": "stderr",
     "output_type": "stream",
     "text": [
      "Epoch 12/30: 47it [00:36,  1.28it/s]\n"
     ]
    },
    {
     "name": "stdout",
     "output_type": "stream",
     "text": [
      "Epoch [12/30], actionable prediction acc: 93.81, actionable prediction loss: 0.3750\n"
     ]
    },
    {
     "name": "stderr",
     "output_type": "stream",
     "text": [
      "Epoch 13/30: 47it [00:38,  1.24it/s]\n"
     ]
    },
    {
     "name": "stdout",
     "output_type": "stream",
     "text": [
      "Epoch [13/30], actionable prediction acc: 94.62, actionable prediction loss: 0.3624\n"
     ]
    },
    {
     "name": "stderr",
     "output_type": "stream",
     "text": [
      "Epoch 14/30: 47it [00:38,  1.22it/s]\n"
     ]
    },
    {
     "name": "stdout",
     "output_type": "stream",
     "text": [
      "Epoch [14/30], actionable prediction acc: 94.38, actionable prediction loss: 0.3561\n"
     ]
    },
    {
     "name": "stderr",
     "output_type": "stream",
     "text": [
      "Epoch 15/30: 47it [00:37,  1.26it/s]\n"
     ]
    },
    {
     "name": "stdout",
     "output_type": "stream",
     "text": [
      "Epoch [15/30], actionable prediction acc: 95.12, actionable prediction loss: 0.3437\n"
     ]
    },
    {
     "name": "stderr",
     "output_type": "stream",
     "text": [
      "Epoch 16/30: 47it [00:34,  1.35it/s]\n"
     ]
    },
    {
     "name": "stdout",
     "output_type": "stream",
     "text": [
      "Epoch [16/30], actionable prediction acc: 94.62, actionable prediction loss: 0.3532\n"
     ]
    },
    {
     "name": "stderr",
     "output_type": "stream",
     "text": [
      "Epoch 17/30: 47it [00:37,  1.26it/s]\n"
     ]
    },
    {
     "name": "stdout",
     "output_type": "stream",
     "text": [
      "Epoch [17/30], actionable prediction acc: 94.31, actionable prediction loss: 0.3594\n"
     ]
    },
    {
     "name": "stderr",
     "output_type": "stream",
     "text": [
      "Epoch 18/30: 47it [00:38,  1.23it/s]\n"
     ]
    },
    {
     "name": "stdout",
     "output_type": "stream",
     "text": [
      "Epoch [18/30], actionable prediction acc: 94.98, actionable prediction loss: 0.3448\n"
     ]
    },
    {
     "name": "stderr",
     "output_type": "stream",
     "text": [
      "Epoch 19/30: 47it [00:35,  1.32it/s]\n"
     ]
    },
    {
     "name": "stdout",
     "output_type": "stream",
     "text": [
      "Epoch [19/30], actionable prediction acc: 94.38, actionable prediction loss: 0.3521\n"
     ]
    },
    {
     "name": "stderr",
     "output_type": "stream",
     "text": [
      "Epoch 20/30: 47it [00:37,  1.25it/s]\n"
     ]
    },
    {
     "name": "stdout",
     "output_type": "stream",
     "text": [
      "Epoch [20/30], actionable prediction acc: 94.68, actionable prediction loss: 0.3438\n"
     ]
    },
    {
     "name": "stderr",
     "output_type": "stream",
     "text": [
      "Epoch 21/30: 47it [00:34,  1.36it/s]\n"
     ]
    },
    {
     "name": "stdout",
     "output_type": "stream",
     "text": [
      "Epoch [21/30], actionable prediction acc: 95.45, actionable prediction loss: 0.3453\n"
     ]
    },
    {
     "name": "stderr",
     "output_type": "stream",
     "text": [
      "Epoch 22/30: 47it [00:34,  1.36it/s]\n"
     ]
    },
    {
     "name": "stdout",
     "output_type": "stream",
     "text": [
      "Epoch [22/30], actionable prediction acc: 95.45, actionable prediction loss: 0.3371\n"
     ]
    },
    {
     "name": "stderr",
     "output_type": "stream",
     "text": [
      "Epoch 23/30: 47it [00:38,  1.23it/s]\n"
     ]
    },
    {
     "name": "stdout",
     "output_type": "stream",
     "text": [
      "Epoch [23/30], actionable prediction acc: 95.15, actionable prediction loss: 0.3371\n"
     ]
    },
    {
     "name": "stderr",
     "output_type": "stream",
     "text": [
      "Epoch 24/30: 47it [00:39,  1.20it/s]\n"
     ]
    },
    {
     "name": "stdout",
     "output_type": "stream",
     "text": [
      "Epoch [24/30], actionable prediction acc: 94.98, actionable prediction loss: 0.3369\n"
     ]
    },
    {
     "name": "stderr",
     "output_type": "stream",
     "text": [
      "Epoch 25/30: 47it [00:36,  1.28it/s]\n"
     ]
    },
    {
     "name": "stdout",
     "output_type": "stream",
     "text": [
      "Epoch [25/30], actionable prediction acc: 94.98, actionable prediction loss: 0.3489\n"
     ]
    },
    {
     "name": "stderr",
     "output_type": "stream",
     "text": [
      "Epoch 26/30: 47it [00:39,  1.19it/s]\n"
     ]
    },
    {
     "name": "stdout",
     "output_type": "stream",
     "text": [
      "Epoch [26/30], actionable prediction acc: 95.65, actionable prediction loss: 0.3293\n"
     ]
    },
    {
     "name": "stderr",
     "output_type": "stream",
     "text": [
      "Epoch 27/30: 47it [00:39,  1.19it/s]\n"
     ]
    },
    {
     "name": "stdout",
     "output_type": "stream",
     "text": [
      "Epoch [27/30], actionable prediction acc: 95.32, actionable prediction loss: 0.3297\n"
     ]
    },
    {
     "name": "stderr",
     "output_type": "stream",
     "text": [
      "Epoch 28/30: 47it [00:40,  1.15it/s]\n"
     ]
    },
    {
     "name": "stdout",
     "output_type": "stream",
     "text": [
      "Epoch [28/30], actionable prediction acc: 95.55, actionable prediction loss: 0.3261\n"
     ]
    },
    {
     "name": "stderr",
     "output_type": "stream",
     "text": [
      "Epoch 29/30: 47it [00:37,  1.24it/s]\n"
     ]
    },
    {
     "name": "stdout",
     "output_type": "stream",
     "text": [
      "Epoch [29/30], actionable prediction acc: 95.28, actionable prediction loss: 0.3295\n"
     ]
    },
    {
     "name": "stderr",
     "output_type": "stream",
     "text": [
      "Epoch 30/30: 47it [00:40,  1.17it/s]\n"
     ]
    },
    {
     "name": "stdout",
     "output_type": "stream",
     "text": [
      "Epoch [30/30], actionable prediction acc: 95.02, actionable prediction loss: 0.3350\n",
      "All done.\n"
     ]
    }
   ],
   "source": [
    "# Using Adam optimizer\n",
    "import torch.optim as optim\n",
    "learning_rate = 1e-4  # You can adjust the learning rate as needed\n",
    "optimizer = optim.Adam(model.parameters(), lr=learning_rate)\n",
    "# find the device for training\n",
    "device = torch.device(\"cuda\" if torch.cuda.is_available() else \"cpu\")\n",
    "actionability_training_epoch=30\n",
    "actionable_losses = train_act_model_actionable_regression(model=model, dataloader=train_loader, num_epochs=actionability_training_epoch, \n",
    "            actionable_classification_criterion=actionable_classification_criterion, \n",
    "            optimizer=optimizer, device=device)"
   ]
  },
  {
   "cell_type": "code",
   "execution_count": 29,
   "id": "55c01e4e-a41f-414d-8ee9-d627a7fb029e",
   "metadata": {},
   "outputs": [],
   "source": [
    "torch.save(model.state_dict(), model_save_path)"
   ]
  },
  {
   "cell_type": "markdown",
   "id": "f0be67f0-e237-4faf-84c5-948132840744",
   "metadata": {},
   "source": [
    "# Eval"
   ]
  },
  {
   "cell_type": "code",
   "execution_count": 30,
   "id": "7374f831-6574-4329-a9f2-4f226ef62789",
   "metadata": {},
   "outputs": [
    {
     "data": {
      "text/plain": [
       "TransformerMultiTask(\n",
       "  (embedding): Linear(in_features=46, out_features=512, bias=True)\n",
       "  (transformer): TransformerEncoder(\n",
       "    (layers): ModuleList(\n",
       "      (0): TransformerEncoderLayer(\n",
       "        (self_attn): MultiheadAttention(\n",
       "          (out_proj): NonDynamicallyQuantizableLinear(in_features=512, out_features=512, bias=True)\n",
       "        )\n",
       "        (linear1): Linear(in_features=512, out_features=2048, bias=True)\n",
       "        (dropout): Dropout(p=0.1, inplace=False)\n",
       "        (linear2): Linear(in_features=2048, out_features=512, bias=True)\n",
       "        (norm1): LayerNorm((512,), eps=1e-05, elementwise_affine=True)\n",
       "        (norm2): LayerNorm((512,), eps=1e-05, elementwise_affine=True)\n",
       "        (dropout1): Dropout(p=0.1, inplace=False)\n",
       "        (dropout2): Dropout(p=0.1, inplace=False)\n",
       "      )\n",
       "    )\n",
       "  )\n",
       "  (actionable_fc): Linear(in_features=517, out_features=2, bias=True)\n",
       "  (entity_id_fc): Sequential(\n",
       "    (0): Linear(in_features=517, out_features=256, bias=True)\n",
       "    (1): SiLU()\n",
       "    (2): Linear(in_features=256, out_features=45, bias=True)\n",
       "  )\n",
       "  (entity_state_fc): Sequential(\n",
       "    (0): Linear(in_features=562, out_features=256, bias=True)\n",
       "    (1): SiLU()\n",
       "    (2): Linear(in_features=256, out_features=4, bias=True)\n",
       "  )\n",
       ")"
      ]
     },
     "execution_count": 30,
     "metadata": {},
     "output_type": "execute_result"
    }
   ],
   "source": [
    "loaded_model = TransformerMultiTask(input_dim=46, hidden_dim=512, additional_input_dim=5, num_heads=2, num_layers=1, entity_id_cls=45, entity_state_cls=4)\n",
    "# Load the state dict\n",
    "loaded_model.load_state_dict(torch.load(model_save_path, weights_only=True))\n",
    "loaded_model.eval()  # Set the model to evaluation mode"
   ]
  },
  {
   "cell_type": "code",
   "execution_count": 45,
   "id": "a04f52ae-5313-4d07-8f06-5d3a3ffacee7",
   "metadata": {},
   "outputs": [],
   "source": [
    "def evaluate_model(model, test_dataloader, device):\n",
    "    model.eval()  # Set model to evaluation mode\n",
    "    actionable_correct, actionable_total = 0, 0\n",
    "    entity_id_correct, entity_id_total = 0, 0\n",
    "    entity_state_correct, entity_state_total = 0, 0\n",
    "\n",
    "    with torch.no_grad():  # Disable gradient calculation for evaluation\n",
    "        for batch in test_dataloader:\n",
    "            input_tensors_padded, curr_time_hint_tensors, actionable_tensors, action_entity_id_tensors, action_entity_state_tensors = batch\n",
    "            \n",
    "            # Move data to the correct device\n",
    "            inputs = input_tensors_padded.to(device)  # shape: (batch_size, max_seq_length, input_dim)\n",
    "            time_hint_inputs = curr_time_hint_tensors.to(device)\n",
    "            actionable_labels = actionable_tensors.to(device)  # shape: (batch_size,)\n",
    "            entity_id_labels = action_entity_id_tensors.to(device)  # shape: (batch_size,)\n",
    "            entity_state_labels = action_entity_state_tensors.to(device)  # shape: (batch_size,)\n",
    "            \n",
    "            # Inference\n",
    "            actionable_output, entity_id_output, entity_state_output = model(inputs, additional_inputs=time_hint_inputs)\n",
    "            \n",
    "            # Get actionable predictions\n",
    "            actionable_pred = torch.argmax(actionable_output, dim=1)\n",
    "            actionable_correct += (actionable_pred == actionable_labels).sum().item()\n",
    "            actionable_total += actionable_labels.size(0)\n",
    "\n",
    "            # Get entity ID predictions\n",
    "            entity_id_pred = torch.argmax(entity_id_output, dim=1)\n",
    "            entity_id_correct += (entity_id_pred == entity_id_labels).sum().item()\n",
    "            entity_id_total += entity_id_labels.size(0)\n",
    "\n",
    "            # Get entity state predictions\n",
    "            entity_state_pred = torch.argmax(entity_state_output, dim=1)\n",
    "            entity_state_correct += (entity_state_pred == entity_state_labels).sum().item()\n",
    "            entity_state_total += entity_state_labels.size(0)\n",
    "\n",
    "    # Calculate accuracies as a percentage\n",
    "    actionable_accuracy = actionable_correct / actionable_total * 100\n",
    "    entity_id_accuracy = entity_id_correct / entity_id_total * 100\n",
    "    entity_state_accuracy = entity_state_correct / entity_state_total * 100\n",
    "\n",
    "    return {\n",
    "        'actionable_accuracy': actionable_accuracy,\n",
    "        'entity_id_accuracy': entity_id_accuracy,\n",
    "        'entity_state_accuracy': entity_state_accuracy\n",
    "    }"
   ]
  },
  {
   "cell_type": "code",
   "execution_count": 46,
   "id": "e2974a6b-6b83-4f44-89f3-cac57a527177",
   "metadata": {},
   "outputs": [
    {
     "ename": "ZeroDivisionError",
     "evalue": "division by zero",
     "output_type": "error",
     "traceback": [
      "\u001b[0;31m---------------------------------------------------------------------------\u001b[0m",
      "\u001b[0;31mZeroDivisionError\u001b[0m                         Traceback (most recent call last)",
      "Cell \u001b[0;32mIn[46], line 1\u001b[0m\n\u001b[0;32m----> 1\u001b[0m results \u001b[38;5;241m=\u001b[39m \u001b[43mevaluate_model\u001b[49m\u001b[43m(\u001b[49m\u001b[43mmodel\u001b[49m\u001b[43m,\u001b[49m\u001b[43m \u001b[49m\u001b[43mtest_loader\u001b[49m\u001b[43m,\u001b[49m\u001b[43m \u001b[49m\u001b[43mdevice\u001b[49m\u001b[38;5;241;43m=\u001b[39;49m\u001b[43mdevice\u001b[49m\u001b[43m)\u001b[49m\n\u001b[1;32m      2\u001b[0m \u001b[38;5;28mprint\u001b[39m(\u001b[38;5;124mf\u001b[39m\u001b[38;5;124m\"\u001b[39m\u001b[38;5;124mActionable Accuracy: \u001b[39m\u001b[38;5;132;01m{\u001b[39;00mresults[\u001b[38;5;124m'\u001b[39m\u001b[38;5;124mactionable_accuracy\u001b[39m\u001b[38;5;124m'\u001b[39m]\u001b[38;5;132;01m}\u001b[39;00m\u001b[38;5;124m %\u001b[39m\u001b[38;5;124m\"\u001b[39m)\n\u001b[1;32m      3\u001b[0m \u001b[38;5;28mprint\u001b[39m(\u001b[38;5;124mf\u001b[39m\u001b[38;5;124m\"\u001b[39m\u001b[38;5;124mEntity ID Accuracy: \u001b[39m\u001b[38;5;132;01m{\u001b[39;00mresults[\u001b[38;5;124m'\u001b[39m\u001b[38;5;124mentity_id_accuracy\u001b[39m\u001b[38;5;124m'\u001b[39m]\u001b[38;5;132;01m}\u001b[39;00m\u001b[38;5;124m %\u001b[39m\u001b[38;5;124m\"\u001b[39m)\n",
      "Cell \u001b[0;32mIn[45], line 38\u001b[0m, in \u001b[0;36mevaluate_model\u001b[0;34m(model, test_dataloader, device)\u001b[0m\n\u001b[1;32m     34\u001b[0m         entity_state_total \u001b[38;5;241m+\u001b[39m\u001b[38;5;241m=\u001b[39m entity_state_labels\u001b[38;5;241m.\u001b[39msize(\u001b[38;5;241m0\u001b[39m)\n\u001b[1;32m     36\u001b[0m \u001b[38;5;66;03m# Calculate accuracies as a percentage\u001b[39;00m\n\u001b[1;32m     37\u001b[0m \u001b[38;5;66;03m# actionable_accuracy = actionable_correct / actionable_total * 100\u001b[39;00m\n\u001b[0;32m---> 38\u001b[0m entity_id_accuracy \u001b[38;5;241m=\u001b[39m \u001b[43mentity_id_correct\u001b[49m\u001b[43m \u001b[49m\u001b[38;5;241;43m/\u001b[39;49m\u001b[43m \u001b[49m\u001b[43mentity_id_total\u001b[49m \u001b[38;5;241m*\u001b[39m \u001b[38;5;241m100\u001b[39m\n\u001b[1;32m     39\u001b[0m entity_state_accuracy \u001b[38;5;241m=\u001b[39m entity_state_correct \u001b[38;5;241m/\u001b[39m entity_state_total \u001b[38;5;241m*\u001b[39m \u001b[38;5;241m100\u001b[39m\n\u001b[1;32m     41\u001b[0m \u001b[38;5;28;01mreturn\u001b[39;00m {\n\u001b[1;32m     42\u001b[0m     \u001b[38;5;124m'\u001b[39m\u001b[38;5;124mactionable_accuracy\u001b[39m\u001b[38;5;124m'\u001b[39m: actionable_accuracy,\n\u001b[1;32m     43\u001b[0m     \u001b[38;5;124m'\u001b[39m\u001b[38;5;124mentity_id_accuracy\u001b[39m\u001b[38;5;124m'\u001b[39m: entity_id_accuracy,\n\u001b[1;32m     44\u001b[0m     \u001b[38;5;124m'\u001b[39m\u001b[38;5;124mentity_state_accuracy\u001b[39m\u001b[38;5;124m'\u001b[39m: entity_state_accuracy\n\u001b[1;32m     45\u001b[0m }\n",
      "\u001b[0;31mZeroDivisionError\u001b[0m: division by zero"
     ]
    }
   ],
   "source": [
    "results = evaluate_model(model, test_loader, device=device)\n",
    "print(f\"Actionable Accuracy: {results['actionable_accuracy']} %\")\n",
    "print(f\"Entity ID Accuracy: {results['entity_id_accuracy']} %\")\n",
    "print(f\"Entity State Accuracy: {results['entity_state_accuracy']} %\")"
   ]
  },
  {
   "cell_type": "code",
   "execution_count": null,
   "id": "3c8af240-b092-40a4-830f-c1ceb136af99",
   "metadata": {},
   "outputs": [],
   "source": []
  }
 ],
 "metadata": {
  "kernelspec": {
   "display_name": "Python 3 (ipykernel)",
   "language": "python",
   "name": "python3"
  },
  "language_info": {
   "codemirror_mode": {
    "name": "ipython",
    "version": 3
   },
   "file_extension": ".py",
   "mimetype": "text/x-python",
   "name": "python",
   "nbconvert_exporter": "python",
   "pygments_lexer": "ipython3",
   "version": "3.11.9"
  }
 },
 "nbformat": 4,
 "nbformat_minor": 5
}
