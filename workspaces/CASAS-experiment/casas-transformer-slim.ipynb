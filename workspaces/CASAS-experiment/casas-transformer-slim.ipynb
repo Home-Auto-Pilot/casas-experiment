{
 "cells": [
  {
   "cell_type": "code",
   "execution_count": 1,
   "id": "f44a58a7-e030-4efa-9443-05f44f21f1c0",
   "metadata": {},
   "outputs": [],
   "source": [
    "import torch\n",
    "import torch.nn as nn\n",
    "import torch.optim as optim"
   ]
  },
  {
   "cell_type": "code",
   "execution_count": 2,
   "id": "3588962e-a4aa-47f9-bcb1-c7d1e5e4840d",
   "metadata": {},
   "outputs": [],
   "source": [
    "class TransformerMultiTask(nn.Module):\n",
    "    def __init__(self, input_dim, num_heads:int, num_layers:int, hidden_dim:int, \n",
    "                 entity_id_cls:int, entity_state_cls:int, additional_input_dim:int = 0):\n",
    "        super(TransformerMultiTask, self).__init__()\n",
    "        self.embedding = nn.Linear(input_dim, hidden_dim)\n",
    "        \n",
    "        transformer_layer = nn.TransformerEncoderLayer(d_model=hidden_dim, nhead=num_heads, batch_first=True)\n",
    "        self.transformer = nn.TransformerEncoder(transformer_layer, num_layers=num_layers)\n",
    "        \n",
    "        # Separate heads for classification tasks\n",
    "        # Simpler actionable classification head\n",
    "        self.actionable_fc = nn.Linear(hidden_dim + additional_input_dim, 2)\n",
    "        \n",
    "        # Head for complex entity ID classification\n",
    "        self.entity_id_fc = nn.Sequential(\n",
    "            nn.Linear(hidden_dim + additional_input_dim, hidden_dim // 2),\n",
    "            nn.SiLU(),\n",
    "            nn.Linear(hidden_dim // 2, entity_id_cls)\n",
    "        )\n",
    "        \n",
    "        # Head for entity state classification\n",
    "        #  - takes the additional inputs and also the outputs of the entity classifications\n",
    "        self.entity_state_fc = nn.Sequential(\n",
    "            nn.Linear(hidden_dim + additional_input_dim + entity_id_cls, hidden_dim // 2),\n",
    "            nn.SiLU(),\n",
    "            nn.Linear(hidden_dim // 2, entity_state_cls)\n",
    "        )\n",
    "        \n",
    "        # Regression head for action time prediction\n",
    "        # - takes the additional inputs and also the outputs of the entity classifications\n",
    "        self.action_time_regression = nn.Linear(hidden_dim + additional_input_dim + entity_id_cls, 1)\n",
    "\n",
    "    def forward(self, sequence, additional_inputs=None):\n",
    "        # x shape: (batch_size, seq_length, input_dim)\n",
    "        embed = self.embedding(sequence)\n",
    "        x = self.transformer(embed)\n",
    "        \n",
    "        # Take the mean across the sequence dimension\n",
    "        x = x.mean(dim=1)\n",
    "\n",
    "        # If additional inputs are provided, concatenate them with x\n",
    "        if additional_inputs is not None:\n",
    "            x = torch.cat((x, additional_inputs), dim=-1)\n",
    "        \n",
    "        # Separate heads for classification and regression\n",
    "        actionable_output = self.actionable_fc(x)\n",
    "        entity_id_output = self.entity_id_fc(x)\n",
    "        # Concatenate x with entity_id_output before passing to entity_state_fc\n",
    "        x_with_entity_id = torch.cat((x, entity_id_output), dim=-1)\n",
    "        entity_state_output = self.entity_state_fc(x_with_entity_id)\n",
    "        time_pred_output = self.action_time_regression(x_with_entity_id)\n",
    "        \n",
    "        # return actionable_output, entity_id_output, entity_state_output, time_pred_output\n",
    "        return actionable_output, entity_id_output, entity_state_output, time_pred_output"
   ]
  },
  {
   "cell_type": "code",
   "execution_count": 3,
   "id": "e0d21e7d-3f31-4bcf-9657-96c732f987b1",
   "metadata": {},
   "outputs": [],
   "source": [
    "import torch\n",
    "from torch.utils.data import Dataset, DataLoader, IterableDataset\n",
    "import os\n",
    "import random\n",
    "import io\n",
    "import numpy as np\n",
    "import pandas as pd\n",
    "import warnings\n",
    "\n",
    "# Helper function to convert bytes back to tensor\n",
    "def bytes_to_tensor(tensor_bytes):\n",
    "    buffer = io.BytesIO(tensor_bytes)\n",
    "    loaded_tensor = torch.load(buffer, weights_only=True)\n",
    "    return loaded_tensor\n",
    "\n",
    "from torch.utils.data import DataLoader\n",
    "\n",
    "class MultiPartParquetCASASDataset(IterableDataset):\n",
    "    def __init__(self, file_list, shuffle_files=True, shuffle_rows=True):\n",
    "        self.file_list = file_list\n",
    "        self.shuffle_files = shuffle_files\n",
    "        self.shuffle_rows = shuffle_rows\n",
    "        \n",
    "        if self.shuffle_files:\n",
    "            random.shuffle(self.file_list)  # Shuffle the order of files\n",
    "\n",
    "    def _read_parquet_file(self, file_path):\n",
    "        df = pd.read_parquet(file_path)\n",
    "\n",
    "        if self.shuffle_rows:\n",
    "            df = df.sample(frac=1).reset_index(drop=True)  # Shuffle rows within the dataframe\n",
    "\n",
    "        return df\n",
    "\n",
    "    def __len__(self):\n",
    "        total_len = 0\n",
    "        for file in self.file_list:\n",
    "            df = self._read_parquet_file(file)\n",
    "            total_len += len(df)\n",
    "        return total_len\n",
    "    \n",
    "    def __iter__(self):\n",
    "        with warnings.catch_warnings():\n",
    "            warnings.simplefilter(action='ignore', category=FutureWarning)\n",
    "            for file in self.file_list:\n",
    "                df = self._read_parquet_file(file)\n",
    "                for _, row in df.iterrows():\n",
    "                    # shape(batch_size, sequence_length(var))\n",
    "                    input_tensor = bytes_to_tensor(row['sequence']) \n",
    "                    # additional inputs\n",
    "                    curr_time_hint_tensors = torch.tensor(row[['min', 'hour', 'day', 'week', 'month']])\n",
    "                    # y labels\n",
    "                    time_prediction_tensor = torch.tensor(row['secs_from_last'], dtype=torch.float32)\n",
    "                    actionable_tensor = torch.tensor(not row['sensor_change'], dtype=torch.long)\n",
    "                    action_entity_id_tensor = torch.tensor(row['changed_entity_id'], dtype=torch.long)\n",
    "                    action_entity_state_tensor = torch.tensor(float(row['changed_entity_value']), dtype=torch.long)\n",
    "    \n",
    "                    yield input_tensor, curr_time_hint_tensors, time_prediction_tensor, actionable_tensor, action_entity_id_tensor, action_entity_state_tensor\n",
    "\n",
    "\n",
    "def split_file_list(file_list, train_ratio=0.8, test_ratio=0.1, eval_ratio=0.1):\n",
    "    \"\"\"\n",
    "    Split the list of files into train/test/eval based on the given ratios.\n",
    "    \"\"\"\n",
    "    assert train_ratio + test_ratio + eval_ratio == 1.0, \"Ratios must sum to 1\"\n",
    "    \n",
    "    # Shuffle the file list to ensure randomness\n",
    "    random.shuffle(file_list)\n",
    "    \n",
    "    # Split based on the ratio\n",
    "    total_files = len(file_list)\n",
    "    train_end = int(train_ratio * total_files)\n",
    "    test_end = train_end + int(test_ratio * total_files)\n",
    "    \n",
    "    train_files = file_list[:train_end]\n",
    "    test_files = file_list[train_end:test_end]\n",
    "    eval_files = file_list[test_end:]\n",
    "    \n",
    "    return train_files, test_files, eval_files\n",
    "\n",
    "def _collate_fn(batch):\n",
    "    # Separate inputs and targets\n",
    "    input_tensors, curr_time_hint_tensors, time_prediction_tensors, actionable_tensors, action_entity_id_tensors, action_entity_state_tensors = zip(*batch)\n",
    "    \n",
    "    # Pad sequences for inputs (batch_first=True makes it [batch_size, seq_len, features])\n",
    "    input_tensors_padded = pad_sequence(input_tensors, batch_first=True)\n",
    "    # stack the additional inputs\n",
    "    curr_time_hint_tensors = torch.stack(curr_time_hint_tensors)\n",
    "    \n",
    "    # Convert targets to tensors (they should all have the same length as they're scalar values)\n",
    "    time_prediction_tensors = torch.stack(time_prediction_tensors)\n",
    "    actionable_tensors = torch.stack(actionable_tensors)\n",
    "    action_entity_id_tensors = torch.stack(action_entity_id_tensors)\n",
    "    action_entity_state_tensors = torch.stack(action_entity_state_tensors)\n",
    "    \n",
    "    return input_tensors_padded, curr_time_hint_tensors, time_prediction_tensors, actionable_tensors, action_entity_id_tensors, action_entity_state_tensors\n"
   ]
  },
  {
   "cell_type": "code",
   "execution_count": 4,
   "id": "04ac3bdd-a512-429b-9f75-bc6066a99827",
   "metadata": {},
   "outputs": [],
   "source": [
    "import torch\n",
    "from tqdm import tqdm\n",
    "from torch.nn.utils.rnn import pad_sequence\n",
    "\n",
    "def train_act_model(model, dataloader, num_epochs, \n",
    "                actionable_classification_criterion, \n",
    "                entity_id_classification_criterion, \n",
    "                entity_state_classification_criterion, \n",
    "                time_pred_regression_criterion, \n",
    "                optimizer, device):\n",
    "    # Store accuracies and time prediction losses\n",
    "    actionable_accuracies = []\n",
    "    entity_id_accuracies = []\n",
    "    entity_state_accuracies = []\n",
    "    time_losses = []\n",
    "    \n",
    "    model.to(device)\n",
    "    model.train()\n",
    "    \n",
    "    for epoch in range(num_epochs):\n",
    "        epoch_loss = 0.0\n",
    "        correct_entity_state = 0\n",
    "        total_entity_state = 0\n",
    "        correct_entity_id = 0\n",
    "        total_entity_id = 0\n",
    "        epoch_time_pred_loss = 0\n",
    "        \n",
    "        for batch_idx, (input_tensors_padded, curr_time_hint_tensors, time_prediction_tensors, actionable_tensors, action_entity_id_tensors, action_entity_state_tensors) in tqdm(enumerate(dataloader), desc=f\"Epoch {epoch+1}/{num_epochs}\"):\n",
    "            # Assuming the dataloader returns a dictionary-like batch with relevant keys\n",
    "            inputs = input_tensors_padded.to(device)  # shape: (batch_size, max_seq_length, input_dim)\n",
    "            time_hint_inputs = curr_time_hint_tensors.to(device)\n",
    "            actionable_labels = actionable_tensors.to(device)  # shape: (batch_size,)\n",
    "            entity_id_labels = action_entity_id_tensors.to(device)  # shape: (batch_size,)\n",
    "            entity_state_labels = action_entity_state_tensors.to(device)  # shape: (batch_size,)\n",
    "            time_pred_labels = time_prediction_tensors.to(device)  # shape: (batch_size,)\n",
    "\n",
    "            optimizer.zero_grad()\n",
    "\n",
    "            # Forward pass\n",
    "            actionable_output, entity_id_output, entity_state_output, time_pred_output = model(inputs, additional_inputs=time_hint_inputs)\n",
    "            \n",
    "            # Compute losses\n",
    "            entity_id_loss = entity_id_classification_criterion(entity_id_output, entity_id_labels)\n",
    "            entity_state_loss = entity_state_classification_criterion(entity_state_output, entity_state_labels)\n",
    "            time_pred_loss = time_pred_regression_criterion(time_pred_output.squeeze(), time_pred_labels)\n",
    "\n",
    "            # Total loss\n",
    "            total_loss = (entity_id_loss * 8 + entity_state_loss * 1.5 + time_pred_loss * 0.5) / 10\n",
    "            \n",
    "            # Backward pass and optimization\n",
    "            total_loss.backward()\n",
    "            optimizer.step()\n",
    "            \n",
    "            epoch_loss += total_loss.item()\n",
    "            # accumulate epoch loss\n",
    "            epoch_time_pred_loss += time_pred_loss.item()\n",
    "            \n",
    "            # Calculate entity ID classification accuracy\n",
    "            _, predicted_entity_id = torch.max(entity_id_output, 1)\n",
    "            correct_entity_id += (predicted_entity_id == entity_id_labels).sum().item()\n",
    "            total_entity_id += entity_id_labels.size(0)\n",
    "\n",
    "            # Calculate entity state classification accuracy\n",
    "            _, predicted_entity_state = torch.max(entity_state_output, 1)\n",
    "            correct_entity_state += (predicted_entity_state == entity_state_labels).sum().item()\n",
    "            total_entity_state += entity_state_labels.size(0)\n",
    "            \n",
    "        # Print epoch stats\n",
    "        avg_loss = epoch_loss / len(dataloader)\n",
    "        avg_time_pred_loss = epoch_time_pred_loss / len(dataloader)\n",
    "        time_losses.append(avg_time_pred_loss)\n",
    "        entity_id_accuracy = 100 * correct_entity_id / total_entity_id\n",
    "        entity_id_accuracies.append(entity_id_accuracy)\n",
    "        entity_state_accuracy = 100 * correct_entity_state / total_entity_state\n",
    "        entity_state_accuracies.append(entity_state_accuracy)\n",
    "        print(f\"Epoch [{epoch+1}/{num_epochs}], Loss: {avg_loss:.4f}, Entity ID Acc: {entity_id_accuracy:.4f}%, Entity state Acc: {entity_state_accuracy:.2f}%, Time Pred Loss: {avg_time_pred_loss:.4f}\")\n",
    "\n",
    "    print(\"Act Training Complete!\")\n",
    "    return actionable_accuracies, entity_id_accuracies, entity_state_accuracies, time_losses"
   ]
  },
  {
   "cell_type": "code",
   "execution_count": 5,
   "id": "8df5b4dc-12fd-4d41-b6cc-511e20445c03",
   "metadata": {},
   "outputs": [],
   "source": [
    "from os import listdir\n",
    "from os.path import isfile, join\n",
    "import re\n",
    "data_root_path = './data/training_act'\n",
    "data_pattern = r\"^training_data_chunk_slim_\\d+\\.parquet\"\n",
    "file_list = [join(data_root_path, f) for f in listdir(data_root_path) if isfile(join(data_root_path, f)) and re.match(data_pattern, f)][:100]\n",
    "# Split the file list\n",
    "train_files, test_files, eval_files = split_file_list(file_list, train_ratio=0.8, test_ratio=0.1, eval_ratio=0.1)\n",
    "\n",
    "# Create separate datasets\n",
    "train_dataset = MultiPartParquetCASASDataset(train_files, shuffle_files=True, shuffle_rows=True)\n",
    "test_dataset = MultiPartParquetCASASDataset(test_files, shuffle_files=False, shuffle_rows=False)\n",
    "eval_dataset = MultiPartParquetCASASDataset(eval_files, shuffle_files=False, shuffle_rows=False)\n",
    "\n",
    "# Wrap them in DataLoaders\n",
    "train_loader = DataLoader(train_dataset, batch_size=64, shuffle=False, collate_fn=_collate_fn)\n",
    "test_loader = DataLoader(test_dataset, batch_size=64, shuffle=False, collate_fn=_collate_fn)\n",
    "eval_loader = DataLoader(eval_dataset, batch_size=64, shuffle=False, collate_fn=_collate_fn)\n",
    "\n",
    "\n",
    "# Actionable Classification Criterion (binary classification)\n",
    "actionable_classification_criterion = nn.CrossEntropyLoss()\n",
    "\n",
    "# Entity ID Classification Criterion (multi-class classification)\n",
    "entity_id_classification_criterion = nn.CrossEntropyLoss()\n",
    "\n",
    "# Entity State Classification Criterion (multi-class classification)\n",
    "entity_state_classification_criterion = nn.CrossEntropyLoss()\n",
    "\n",
    "# Time Prediction Criterion (regression)\n",
    "time_pred_regression_criterion = nn.MSELoss()\n",
    "\n"
   ]
  },
  {
   "cell_type": "code",
   "execution_count": 6,
   "id": "64ce42e4-ec2b-4a28-822a-3728dcc6ede0",
   "metadata": {},
   "outputs": [
    {
     "name": "stderr",
     "output_type": "stream",
     "text": [
      "Epoch 1/100: 15it [00:06,  2.35it/s]\n"
     ]
    },
    {
     "name": "stdout",
     "output_type": "stream",
     "text": [
      "Epoch [1/100], Loss: 2.8102, Entity ID Acc: 13.5593%, Entity state Acc: 50.32%, Time Pred Loss: 0.5227\n"
     ]
    },
    {
     "name": "stderr",
     "output_type": "stream",
     "text": [
      "Epoch 2/100: 15it [00:05,  2.59it/s]\n"
     ]
    },
    {
     "name": "stdout",
     "output_type": "stream",
     "text": [
      "Epoch [2/100], Loss: 2.2706, Entity ID Acc: 16.6314%, Entity state Acc: 54.03%, Time Pred Loss: 0.0965\n"
     ]
    },
    {
     "name": "stderr",
     "output_type": "stream",
     "text": [
      "Epoch 3/100: 15it [00:06,  2.49it/s]\n"
     ]
    },
    {
     "name": "stdout",
     "output_type": "stream",
     "text": [
      "Epoch [3/100], Loss: 2.0846, Entity ID Acc: 19.9153%, Entity state Acc: 53.50%, Time Pred Loss: 0.0506\n"
     ]
    },
    {
     "name": "stderr",
     "output_type": "stream",
     "text": [
      "Epoch 4/100: 15it [00:06,  2.35it/s]\n"
     ]
    },
    {
     "name": "stdout",
     "output_type": "stream",
     "text": [
      "Epoch [4/100], Loss: 1.9773, Entity ID Acc: 20.4449%, Entity state Acc: 52.97%, Time Pred Loss: 0.0788\n"
     ]
    },
    {
     "name": "stderr",
     "output_type": "stream",
     "text": [
      "Epoch 5/100: 15it [00:06,  2.25it/s]\n"
     ]
    },
    {
     "name": "stdout",
     "output_type": "stream",
     "text": [
      "Epoch [5/100], Loss: 1.9286, Entity ID Acc: 21.7161%, Entity state Acc: 50.95%, Time Pred Loss: 0.0771\n"
     ]
    },
    {
     "name": "stderr",
     "output_type": "stream",
     "text": [
      "Epoch 6/100: 15it [00:07,  2.12it/s]\n"
     ]
    },
    {
     "name": "stdout",
     "output_type": "stream",
     "text": [
      "Epoch [6/100], Loss: 1.8658, Entity ID Acc: 23.3051%, Entity state Acc: 57.42%, Time Pred Loss: 0.1286\n"
     ]
    },
    {
     "name": "stderr",
     "output_type": "stream",
     "text": [
      "Epoch 7/100: 15it [00:07,  2.01it/s]\n"
     ]
    },
    {
     "name": "stdout",
     "output_type": "stream",
     "text": [
      "Epoch [7/100], Loss: 1.8001, Entity ID Acc: 27.2246%, Entity state Acc: 59.64%, Time Pred Loss: 0.0948\n"
     ]
    },
    {
     "name": "stderr",
     "output_type": "stream",
     "text": [
      "Epoch 8/100: 15it [00:07,  2.07it/s]\n"
     ]
    },
    {
     "name": "stdout",
     "output_type": "stream",
     "text": [
      "Epoch [8/100], Loss: 1.7905, Entity ID Acc: 26.4831%, Entity state Acc: 59.00%, Time Pred Loss: 0.0429\n"
     ]
    },
    {
     "name": "stderr",
     "output_type": "stream",
     "text": [
      "Epoch 9/100: 15it [00:06,  2.40it/s]\n"
     ]
    },
    {
     "name": "stdout",
     "output_type": "stream",
     "text": [
      "Epoch [9/100], Loss: 1.7635, Entity ID Acc: 27.8602%, Entity state Acc: 63.56%, Time Pred Loss: 0.0354\n"
     ]
    },
    {
     "name": "stderr",
     "output_type": "stream",
     "text": [
      "Epoch 10/100: 15it [00:06,  2.43it/s]\n"
     ]
    },
    {
     "name": "stdout",
     "output_type": "stream",
     "text": [
      "Epoch [10/100], Loss: 1.7335, Entity ID Acc: 28.0720%, Entity state Acc: 63.35%, Time Pred Loss: 0.0415\n"
     ]
    },
    {
     "name": "stderr",
     "output_type": "stream",
     "text": [
      "Epoch 11/100: 15it [00:06,  2.40it/s]\n"
     ]
    },
    {
     "name": "stdout",
     "output_type": "stream",
     "text": [
      "Epoch [11/100], Loss: 1.7093, Entity ID Acc: 30.8263%, Entity state Acc: 62.61%, Time Pred Loss: 0.0196\n"
     ]
    },
    {
     "name": "stderr",
     "output_type": "stream",
     "text": [
      "Epoch 12/100: 15it [00:06,  2.20it/s]\n"
     ]
    },
    {
     "name": "stdout",
     "output_type": "stream",
     "text": [
      "Epoch [12/100], Loss: 1.7038, Entity ID Acc: 30.0847%, Entity state Acc: 63.98%, Time Pred Loss: 0.0187\n"
     ]
    },
    {
     "name": "stderr",
     "output_type": "stream",
     "text": [
      "Epoch 13/100: 15it [00:06,  2.23it/s]\n"
     ]
    },
    {
     "name": "stdout",
     "output_type": "stream",
     "text": [
      "Epoch [13/100], Loss: 1.6926, Entity ID Acc: 29.8729%, Entity state Acc: 62.29%, Time Pred Loss: 0.0240\n"
     ]
    },
    {
     "name": "stderr",
     "output_type": "stream",
     "text": [
      "Epoch 14/100: 15it [00:06,  2.29it/s]\n"
     ]
    },
    {
     "name": "stdout",
     "output_type": "stream",
     "text": [
      "Epoch [14/100], Loss: 1.6462, Entity ID Acc: 32.3093%, Entity state Acc: 62.61%, Time Pred Loss: 0.0219\n"
     ]
    },
    {
     "name": "stderr",
     "output_type": "stream",
     "text": [
      "Epoch 15/100: 15it [00:06,  2.27it/s]\n"
     ]
    },
    {
     "name": "stdout",
     "output_type": "stream",
     "text": [
      "Epoch [15/100], Loss: 1.6418, Entity ID Acc: 32.7331%, Entity state Acc: 62.82%, Time Pred Loss: 0.0133\n"
     ]
    },
    {
     "name": "stderr",
     "output_type": "stream",
     "text": [
      "Epoch 16/100: 15it [00:07,  2.12it/s]\n"
     ]
    },
    {
     "name": "stdout",
     "output_type": "stream",
     "text": [
      "Epoch [16/100], Loss: 1.6268, Entity ID Acc: 33.5805%, Entity state Acc: 62.82%, Time Pred Loss: 0.0132\n"
     ]
    },
    {
     "name": "stderr",
     "output_type": "stream",
     "text": [
      "Epoch 17/100: 15it [00:07,  2.06it/s]\n"
     ]
    },
    {
     "name": "stdout",
     "output_type": "stream",
     "text": [
      "Epoch [17/100], Loss: 1.5835, Entity ID Acc: 34.7458%, Entity state Acc: 65.36%, Time Pred Loss: 0.0134\n"
     ]
    },
    {
     "name": "stderr",
     "output_type": "stream",
     "text": [
      "Epoch 18/100: 15it [00:06,  2.31it/s]\n"
     ]
    },
    {
     "name": "stdout",
     "output_type": "stream",
     "text": [
      "Epoch [18/100], Loss: 1.6066, Entity ID Acc: 33.1568%, Entity state Acc: 63.56%, Time Pred Loss: 0.0142\n"
     ]
    },
    {
     "name": "stderr",
     "output_type": "stream",
     "text": [
      "Epoch 19/100: 15it [00:06,  2.43it/s]\n"
     ]
    },
    {
     "name": "stdout",
     "output_type": "stream",
     "text": [
      "Epoch [19/100], Loss: 1.5246, Entity ID Acc: 37.1822%, Entity state Acc: 64.51%, Time Pred Loss: 0.0142\n"
     ]
    },
    {
     "name": "stderr",
     "output_type": "stream",
     "text": [
      "Epoch 20/100: 15it [00:06,  2.28it/s]\n"
     ]
    },
    {
     "name": "stdout",
     "output_type": "stream",
     "text": [
      "Epoch [20/100], Loss: 1.4973, Entity ID Acc: 39.8305%, Entity state Acc: 62.92%, Time Pred Loss: 0.0452\n"
     ]
    },
    {
     "name": "stderr",
     "output_type": "stream",
     "text": [
      "Epoch 21/100: 15it [00:06,  2.41it/s]\n"
     ]
    },
    {
     "name": "stdout",
     "output_type": "stream",
     "text": [
      "Epoch [21/100], Loss: 1.5358, Entity ID Acc: 36.4407%, Entity state Acc: 64.09%, Time Pred Loss: 0.0270\n"
     ]
    },
    {
     "name": "stderr",
     "output_type": "stream",
     "text": [
      "Epoch 22/100: 15it [00:06,  2.22it/s]\n"
     ]
    },
    {
     "name": "stdout",
     "output_type": "stream",
     "text": [
      "Epoch [22/100], Loss: 1.4143, Entity ID Acc: 42.7966%, Entity state Acc: 64.83%, Time Pred Loss: 0.0766\n"
     ]
    },
    {
     "name": "stderr",
     "output_type": "stream",
     "text": [
      "Epoch 23/100: 15it [00:06,  2.19it/s]\n"
     ]
    },
    {
     "name": "stdout",
     "output_type": "stream",
     "text": [
      "Epoch [23/100], Loss: 1.4601, Entity ID Acc: 39.9364%, Entity state Acc: 63.56%, Time Pred Loss: 0.0531\n"
     ]
    },
    {
     "name": "stderr",
     "output_type": "stream",
     "text": [
      "Epoch 24/100: 15it [00:06,  2.19it/s]\n"
     ]
    },
    {
     "name": "stdout",
     "output_type": "stream",
     "text": [
      "Epoch [24/100], Loss: 1.4039, Entity ID Acc: 43.4322%, Entity state Acc: 61.44%, Time Pred Loss: 0.0461\n"
     ]
    },
    {
     "name": "stderr",
     "output_type": "stream",
     "text": [
      "Epoch 25/100: 15it [00:05,  2.50it/s]\n"
     ]
    },
    {
     "name": "stdout",
     "output_type": "stream",
     "text": [
      "Epoch [25/100], Loss: 1.3354, Entity ID Acc: 46.8220%, Entity state Acc: 66.00%, Time Pred Loss: 0.0644\n"
     ]
    },
    {
     "name": "stderr",
     "output_type": "stream",
     "text": [
      "Epoch 26/100: 15it [00:06,  2.41it/s]\n"
     ]
    },
    {
     "name": "stdout",
     "output_type": "stream",
     "text": [
      "Epoch [26/100], Loss: 1.3201, Entity ID Acc: 48.6229%, Entity state Acc: 65.15%, Time Pred Loss: 0.0554\n"
     ]
    },
    {
     "name": "stderr",
     "output_type": "stream",
     "text": [
      "Epoch 27/100: 15it [00:06,  2.21it/s]\n"
     ]
    },
    {
     "name": "stdout",
     "output_type": "stream",
     "text": [
      "Epoch [27/100], Loss: 1.3026, Entity ID Acc: 47.4576%, Entity state Acc: 66.95%, Time Pred Loss: 0.0920\n"
     ]
    },
    {
     "name": "stderr",
     "output_type": "stream",
     "text": [
      "Epoch 28/100: 15it [00:06,  2.49it/s]\n"
     ]
    },
    {
     "name": "stdout",
     "output_type": "stream",
     "text": [
      "Epoch [28/100], Loss: 1.2537, Entity ID Acc: 50.2119%, Entity state Acc: 66.31%, Time Pred Loss: 0.0309\n"
     ]
    },
    {
     "name": "stderr",
     "output_type": "stream",
     "text": [
      "Epoch 29/100: 15it [00:06,  2.25it/s]\n"
     ]
    },
    {
     "name": "stdout",
     "output_type": "stream",
     "text": [
      "Epoch [29/100], Loss: 1.2537, Entity ID Acc: 48.8347%, Entity state Acc: 66.84%, Time Pred Loss: 0.0688\n"
     ]
    },
    {
     "name": "stderr",
     "output_type": "stream",
     "text": [
      "Epoch 30/100: 15it [00:06,  2.27it/s]\n"
     ]
    },
    {
     "name": "stdout",
     "output_type": "stream",
     "text": [
      "Epoch [30/100], Loss: 1.2328, Entity ID Acc: 49.1525%, Entity state Acc: 67.37%, Time Pred Loss: 0.1506\n"
     ]
    },
    {
     "name": "stderr",
     "output_type": "stream",
     "text": [
      "Epoch 31/100: 15it [00:06,  2.33it/s]\n"
     ]
    },
    {
     "name": "stdout",
     "output_type": "stream",
     "text": [
      "Epoch [31/100], Loss: 1.3133, Entity ID Acc: 45.4449%, Entity state Acc: 65.25%, Time Pred Loss: 0.0894\n"
     ]
    },
    {
     "name": "stderr",
     "output_type": "stream",
     "text": [
      "Epoch 32/100: 15it [00:07,  2.03it/s]\n"
     ]
    },
    {
     "name": "stdout",
     "output_type": "stream",
     "text": [
      "Epoch [32/100], Loss: 1.3138, Entity ID Acc: 46.1864%, Entity state Acc: 63.35%, Time Pred Loss: 0.0917\n"
     ]
    },
    {
     "name": "stderr",
     "output_type": "stream",
     "text": [
      "Epoch 33/100: 15it [00:07,  2.13it/s]\n"
     ]
    },
    {
     "name": "stdout",
     "output_type": "stream",
     "text": [
      "Epoch [33/100], Loss: 1.1927, Entity ID Acc: 52.4364%, Entity state Acc: 67.90%, Time Pred Loss: 0.0689\n"
     ]
    },
    {
     "name": "stderr",
     "output_type": "stream",
     "text": [
      "Epoch 34/100: 15it [00:07,  2.10it/s]\n"
     ]
    },
    {
     "name": "stdout",
     "output_type": "stream",
     "text": [
      "Epoch [34/100], Loss: 1.1269, Entity ID Acc: 54.1314%, Entity state Acc: 69.17%, Time Pred Loss: 0.0695\n"
     ]
    },
    {
     "name": "stderr",
     "output_type": "stream",
     "text": [
      "Epoch 35/100: 15it [00:06,  2.32it/s]\n"
     ]
    },
    {
     "name": "stdout",
     "output_type": "stream",
     "text": [
      "Epoch [35/100], Loss: 1.0997, Entity ID Acc: 55.6144%, Entity state Acc: 70.44%, Time Pred Loss: 0.1980\n"
     ]
    },
    {
     "name": "stderr",
     "output_type": "stream",
     "text": [
      "Epoch 36/100: 15it [00:06,  2.30it/s]\n"
     ]
    },
    {
     "name": "stdout",
     "output_type": "stream",
     "text": [
      "Epoch [36/100], Loss: 1.0710, Entity ID Acc: 54.2373%, Entity state Acc: 70.34%, Time Pred Loss: 0.0789\n"
     ]
    },
    {
     "name": "stderr",
     "output_type": "stream",
     "text": [
      "Epoch 37/100: 15it [00:06,  2.45it/s]\n"
     ]
    },
    {
     "name": "stdout",
     "output_type": "stream",
     "text": [
      "Epoch [37/100], Loss: 1.0934, Entity ID Acc: 53.3898%, Entity state Acc: 72.67%, Time Pred Loss: 0.0320\n"
     ]
    },
    {
     "name": "stderr",
     "output_type": "stream",
     "text": [
      "Epoch 38/100: 15it [00:06,  2.34it/s]\n"
     ]
    },
    {
     "name": "stdout",
     "output_type": "stream",
     "text": [
      "Epoch [38/100], Loss: 0.9869, Entity ID Acc: 59.5339%, Entity state Acc: 71.61%, Time Pred Loss: 0.0658\n"
     ]
    },
    {
     "name": "stderr",
     "output_type": "stream",
     "text": [
      "Epoch 39/100: 15it [00:06,  2.24it/s]\n"
     ]
    },
    {
     "name": "stdout",
     "output_type": "stream",
     "text": [
      "Epoch [39/100], Loss: 0.9794, Entity ID Acc: 61.1229%, Entity state Acc: 75.00%, Time Pred Loss: 0.0651\n"
     ]
    },
    {
     "name": "stderr",
     "output_type": "stream",
     "text": [
      "Epoch 40/100: 15it [00:06,  2.45it/s]\n"
     ]
    },
    {
     "name": "stdout",
     "output_type": "stream",
     "text": [
      "Epoch [40/100], Loss: 0.9514, Entity ID Acc: 63.1356%, Entity state Acc: 74.15%, Time Pred Loss: 0.0293\n"
     ]
    },
    {
     "name": "stderr",
     "output_type": "stream",
     "text": [
      "Epoch 41/100: 15it [00:05,  2.53it/s]\n"
     ]
    },
    {
     "name": "stdout",
     "output_type": "stream",
     "text": [
      "Epoch [41/100], Loss: 0.9731, Entity ID Acc: 61.6525%, Entity state Acc: 74.58%, Time Pred Loss: 0.0228\n"
     ]
    },
    {
     "name": "stderr",
     "output_type": "stream",
     "text": [
      "Epoch 42/100: 15it [00:05,  2.56it/s]\n"
     ]
    },
    {
     "name": "stdout",
     "output_type": "stream",
     "text": [
      "Epoch [42/100], Loss: 0.9492, Entity ID Acc: 62.7119%, Entity state Acc: 74.89%, Time Pred Loss: 0.0202\n"
     ]
    },
    {
     "name": "stderr",
     "output_type": "stream",
     "text": [
      "Epoch 43/100: 15it [00:06,  2.49it/s]\n"
     ]
    },
    {
     "name": "stdout",
     "output_type": "stream",
     "text": [
      "Epoch [43/100], Loss: 0.9457, Entity ID Acc: 61.7585%, Entity state Acc: 76.59%, Time Pred Loss: 0.0119\n"
     ]
    },
    {
     "name": "stderr",
     "output_type": "stream",
     "text": [
      "Epoch 44/100: 15it [00:06,  2.44it/s]\n"
     ]
    },
    {
     "name": "stdout",
     "output_type": "stream",
     "text": [
      "Epoch [44/100], Loss: 0.8546, Entity ID Acc: 66.1017%, Entity state Acc: 80.19%, Time Pred Loss: 0.0093\n"
     ]
    },
    {
     "name": "stderr",
     "output_type": "stream",
     "text": [
      "Epoch 45/100: 15it [00:06,  2.50it/s]\n"
     ]
    },
    {
     "name": "stdout",
     "output_type": "stream",
     "text": [
      "Epoch [45/100], Loss: 0.8675, Entity ID Acc: 66.2076%, Entity state Acc: 77.44%, Time Pred Loss: 0.0137\n"
     ]
    },
    {
     "name": "stderr",
     "output_type": "stream",
     "text": [
      "Epoch 46/100: 15it [00:06,  2.41it/s]\n"
     ]
    },
    {
     "name": "stdout",
     "output_type": "stream",
     "text": [
      "Epoch [46/100], Loss: 0.8328, Entity ID Acc: 65.8898%, Entity state Acc: 77.75%, Time Pred Loss: 0.0318\n"
     ]
    },
    {
     "name": "stderr",
     "output_type": "stream",
     "text": [
      "Epoch 47/100: 15it [00:06,  2.45it/s]\n"
     ]
    },
    {
     "name": "stdout",
     "output_type": "stream",
     "text": [
      "Epoch [47/100], Loss: 0.8316, Entity ID Acc: 65.7839%, Entity state Acc: 79.03%, Time Pred Loss: 0.0260\n"
     ]
    },
    {
     "name": "stderr",
     "output_type": "stream",
     "text": [
      "Epoch 48/100: 15it [00:05,  2.52it/s]\n"
     ]
    },
    {
     "name": "stdout",
     "output_type": "stream",
     "text": [
      "Epoch [48/100], Loss: 0.8811, Entity ID Acc: 64.0890%, Entity state Acc: 78.50%, Time Pred Loss: 0.0396\n"
     ]
    },
    {
     "name": "stderr",
     "output_type": "stream",
     "text": [
      "Epoch 49/100: 15it [00:06,  2.33it/s]\n"
     ]
    },
    {
     "name": "stdout",
     "output_type": "stream",
     "text": [
      "Epoch [49/100], Loss: 0.8123, Entity ID Acc: 65.7839%, Entity state Acc: 80.72%, Time Pred Loss: 0.0190\n"
     ]
    },
    {
     "name": "stderr",
     "output_type": "stream",
     "text": [
      "Epoch 50/100: 15it [00:05,  2.50it/s]\n"
     ]
    },
    {
     "name": "stdout",
     "output_type": "stream",
     "text": [
      "Epoch [50/100], Loss: 0.7664, Entity ID Acc: 67.0551%, Entity state Acc: 79.98%, Time Pred Loss: 0.0057\n"
     ]
    },
    {
     "name": "stderr",
     "output_type": "stream",
     "text": [
      "Epoch 51/100: 15it [00:05,  2.51it/s]\n"
     ]
    },
    {
     "name": "stdout",
     "output_type": "stream",
     "text": [
      "Epoch [51/100], Loss: 0.7490, Entity ID Acc: 70.1271%, Entity state Acc: 80.93%, Time Pred Loss: 0.0046\n"
     ]
    },
    {
     "name": "stderr",
     "output_type": "stream",
     "text": [
      "Epoch 52/100: 15it [00:07,  2.10it/s]\n"
     ]
    },
    {
     "name": "stdout",
     "output_type": "stream",
     "text": [
      "Epoch [52/100], Loss: 0.7619, Entity ID Acc: 67.9025%, Entity state Acc: 81.36%, Time Pred Loss: 0.0046\n"
     ]
    },
    {
     "name": "stderr",
     "output_type": "stream",
     "text": [
      "Epoch 53/100: 15it [00:06,  2.37it/s]\n"
     ]
    },
    {
     "name": "stdout",
     "output_type": "stream",
     "text": [
      "Epoch [53/100], Loss: 0.7263, Entity ID Acc: 69.2797%, Entity state Acc: 82.31%, Time Pred Loss: 0.0060\n"
     ]
    },
    {
     "name": "stderr",
     "output_type": "stream",
     "text": [
      "Epoch 54/100: 15it [00:06,  2.40it/s]\n"
     ]
    },
    {
     "name": "stdout",
     "output_type": "stream",
     "text": [
      "Epoch [54/100], Loss: 0.7389, Entity ID Acc: 70.9746%, Entity state Acc: 78.50%, Time Pred Loss: 0.0057\n"
     ]
    },
    {
     "name": "stderr",
     "output_type": "stream",
     "text": [
      "Epoch 55/100: 15it [00:06,  2.25it/s]\n"
     ]
    },
    {
     "name": "stdout",
     "output_type": "stream",
     "text": [
      "Epoch [55/100], Loss: 0.6904, Entity ID Acc: 71.5042%, Entity state Acc: 81.67%, Time Pred Loss: 0.0046\n"
     ]
    },
    {
     "name": "stderr",
     "output_type": "stream",
     "text": [
      "Epoch 56/100: 15it [00:06,  2.16it/s]\n"
     ]
    },
    {
     "name": "stdout",
     "output_type": "stream",
     "text": [
      "Epoch [56/100], Loss: 0.7267, Entity ID Acc: 70.0212%, Entity state Acc: 85.70%, Time Pred Loss: 0.0086\n"
     ]
    },
    {
     "name": "stderr",
     "output_type": "stream",
     "text": [
      "Epoch 57/100: 15it [00:07,  2.02it/s]\n"
     ]
    },
    {
     "name": "stdout",
     "output_type": "stream",
     "text": [
      "Epoch [57/100], Loss: 0.7042, Entity ID Acc: 70.7627%, Entity state Acc: 83.37%, Time Pred Loss: 0.0068\n"
     ]
    },
    {
     "name": "stderr",
     "output_type": "stream",
     "text": [
      "Epoch 58/100: 15it [00:07,  2.14it/s]\n"
     ]
    },
    {
     "name": "stdout",
     "output_type": "stream",
     "text": [
      "Epoch [58/100], Loss: 0.8205, Entity ID Acc: 63.9831%, Entity state Acc: 81.14%, Time Pred Loss: 0.0034\n"
     ]
    },
    {
     "name": "stderr",
     "output_type": "stream",
     "text": [
      "Epoch 59/100: 15it [00:06,  2.26it/s]\n"
     ]
    },
    {
     "name": "stdout",
     "output_type": "stream",
     "text": [
      "Epoch [59/100], Loss: 0.8503, Entity ID Acc: 63.8771%, Entity state Acc: 80.08%, Time Pred Loss: 0.0056\n"
     ]
    },
    {
     "name": "stderr",
     "output_type": "stream",
     "text": [
      "Epoch 60/100: 15it [00:06,  2.40it/s]\n"
     ]
    },
    {
     "name": "stdout",
     "output_type": "stream",
     "text": [
      "Epoch [60/100], Loss: 0.7215, Entity ID Acc: 68.5381%, Entity state Acc: 83.37%, Time Pred Loss: 0.0051\n"
     ]
    },
    {
     "name": "stderr",
     "output_type": "stream",
     "text": [
      "Epoch 61/100: 15it [00:07,  2.03it/s]\n"
     ]
    },
    {
     "name": "stdout",
     "output_type": "stream",
     "text": [
      "Epoch [61/100], Loss: 0.6696, Entity ID Acc: 69.8093%, Entity state Acc: 87.71%, Time Pred Loss: 0.0038\n"
     ]
    },
    {
     "name": "stderr",
     "output_type": "stream",
     "text": [
      "Epoch 62/100: 15it [00:07,  2.09it/s]\n"
     ]
    },
    {
     "name": "stdout",
     "output_type": "stream",
     "text": [
      "Epoch [62/100], Loss: 0.6729, Entity ID Acc: 71.2924%, Entity state Acc: 85.70%, Time Pred Loss: 0.0060\n"
     ]
    },
    {
     "name": "stderr",
     "output_type": "stream",
     "text": [
      "Epoch 63/100: 15it [00:05,  2.62it/s]\n"
     ]
    },
    {
     "name": "stdout",
     "output_type": "stream",
     "text": [
      "Epoch [63/100], Loss: 0.7051, Entity ID Acc: 70.6568%, Entity state Acc: 79.56%, Time Pred Loss: 0.0077\n"
     ]
    },
    {
     "name": "stderr",
     "output_type": "stream",
     "text": [
      "Epoch 64/100: 15it [00:06,  2.49it/s]\n"
     ]
    },
    {
     "name": "stdout",
     "output_type": "stream",
     "text": [
      "Epoch [64/100], Loss: 0.6392, Entity ID Acc: 72.5636%, Entity state Acc: 88.14%, Time Pred Loss: 0.0164\n"
     ]
    },
    {
     "name": "stderr",
     "output_type": "stream",
     "text": [
      "Epoch 65/100: 15it [00:06,  2.48it/s]\n"
     ]
    },
    {
     "name": "stdout",
     "output_type": "stream",
     "text": [
      "Epoch [65/100], Loss: 0.6090, Entity ID Acc: 75.0000%, Entity state Acc: 89.41%, Time Pred Loss: 0.0075\n"
     ]
    },
    {
     "name": "stderr",
     "output_type": "stream",
     "text": [
      "Epoch 66/100: 15it [00:05,  2.54it/s]\n"
     ]
    },
    {
     "name": "stdout",
     "output_type": "stream",
     "text": [
      "Epoch [66/100], Loss: 0.5999, Entity ID Acc: 74.3644%, Entity state Acc: 88.98%, Time Pred Loss: 0.0048\n"
     ]
    },
    {
     "name": "stderr",
     "output_type": "stream",
     "text": [
      "Epoch 67/100: 15it [00:06,  2.48it/s]\n"
     ]
    },
    {
     "name": "stdout",
     "output_type": "stream",
     "text": [
      "Epoch [67/100], Loss: 0.5794, Entity ID Acc: 74.0466%, Entity state Acc: 89.94%, Time Pred Loss: 0.0041\n"
     ]
    },
    {
     "name": "stderr",
     "output_type": "stream",
     "text": [
      "Epoch 68/100: 15it [00:05,  2.55it/s]\n"
     ]
    },
    {
     "name": "stdout",
     "output_type": "stream",
     "text": [
      "Epoch [68/100], Loss: 0.5922, Entity ID Acc: 74.0466%, Entity state Acc: 88.98%, Time Pred Loss: 0.0028\n"
     ]
    },
    {
     "name": "stderr",
     "output_type": "stream",
     "text": [
      "Epoch 69/100: 15it [00:05,  2.58it/s]\n"
     ]
    },
    {
     "name": "stdout",
     "output_type": "stream",
     "text": [
      "Epoch [69/100], Loss: 0.5914, Entity ID Acc: 74.2585%, Entity state Acc: 91.63%, Time Pred Loss: 0.0023\n"
     ]
    },
    {
     "name": "stderr",
     "output_type": "stream",
     "text": [
      "Epoch 70/100: 15it [00:06,  2.35it/s]\n"
     ]
    },
    {
     "name": "stdout",
     "output_type": "stream",
     "text": [
      "Epoch [70/100], Loss: 0.5904, Entity ID Acc: 73.9407%, Entity state Acc: 84.85%, Time Pred Loss: 0.0025\n"
     ]
    },
    {
     "name": "stderr",
     "output_type": "stream",
     "text": [
      "Epoch 71/100: 15it [00:06,  2.30it/s]\n"
     ]
    },
    {
     "name": "stdout",
     "output_type": "stream",
     "text": [
      "Epoch [71/100], Loss: 0.5508, Entity ID Acc: 75.6356%, Entity state Acc: 90.36%, Time Pred Loss: 0.0023\n"
     ]
    },
    {
     "name": "stderr",
     "output_type": "stream",
     "text": [
      "Epoch 72/100: 15it [00:05,  2.58it/s]\n"
     ]
    },
    {
     "name": "stdout",
     "output_type": "stream",
     "text": [
      "Epoch [72/100], Loss: 0.5413, Entity ID Acc: 78.2839%, Entity state Acc: 90.04%, Time Pred Loss: 0.0020\n"
     ]
    },
    {
     "name": "stderr",
     "output_type": "stream",
     "text": [
      "Epoch 73/100: 15it [00:06,  2.46it/s]\n"
     ]
    },
    {
     "name": "stdout",
     "output_type": "stream",
     "text": [
      "Epoch [73/100], Loss: 0.5530, Entity ID Acc: 76.3771%, Entity state Acc: 91.74%, Time Pred Loss: 0.0021\n"
     ]
    },
    {
     "name": "stderr",
     "output_type": "stream",
     "text": [
      "Epoch 74/100: 15it [00:05,  2.61it/s]\n"
     ]
    },
    {
     "name": "stdout",
     "output_type": "stream",
     "text": [
      "Epoch [74/100], Loss: 0.5359, Entity ID Acc: 76.4831%, Entity state Acc: 91.63%, Time Pred Loss: 0.0019\n"
     ]
    },
    {
     "name": "stderr",
     "output_type": "stream",
     "text": [
      "Epoch 75/100: 15it [00:05,  2.51it/s]\n"
     ]
    },
    {
     "name": "stdout",
     "output_type": "stream",
     "text": [
      "Epoch [75/100], Loss: 0.5143, Entity ID Acc: 77.6483%, Entity state Acc: 91.31%, Time Pred Loss: 0.0021\n"
     ]
    },
    {
     "name": "stderr",
     "output_type": "stream",
     "text": [
      "Epoch 76/100: 15it [00:06,  2.43it/s]\n"
     ]
    },
    {
     "name": "stdout",
     "output_type": "stream",
     "text": [
      "Epoch [76/100], Loss: 0.5141, Entity ID Acc: 78.8136%, Entity state Acc: 91.42%, Time Pred Loss: 0.0025\n"
     ]
    },
    {
     "name": "stderr",
     "output_type": "stream",
     "text": [
      "Epoch 77/100: 15it [00:06,  2.49it/s]\n"
     ]
    },
    {
     "name": "stdout",
     "output_type": "stream",
     "text": [
      "Epoch [77/100], Loss: 0.5201, Entity ID Acc: 77.7542%, Entity state Acc: 91.42%, Time Pred Loss: 0.0027\n"
     ]
    },
    {
     "name": "stderr",
     "output_type": "stream",
     "text": [
      "Epoch 78/100: 15it [00:06,  2.45it/s]\n"
     ]
    },
    {
     "name": "stdout",
     "output_type": "stream",
     "text": [
      "Epoch [78/100], Loss: 0.5336, Entity ID Acc: 76.9068%, Entity state Acc: 91.84%, Time Pred Loss: 0.0029\n"
     ]
    },
    {
     "name": "stderr",
     "output_type": "stream",
     "text": [
      "Epoch 79/100: 15it [00:06,  2.41it/s]\n"
     ]
    },
    {
     "name": "stdout",
     "output_type": "stream",
     "text": [
      "Epoch [79/100], Loss: 0.5294, Entity ID Acc: 77.1186%, Entity state Acc: 92.90%, Time Pred Loss: 0.0029\n"
     ]
    },
    {
     "name": "stderr",
     "output_type": "stream",
     "text": [
      "Epoch 80/100: 15it [00:06,  2.32it/s]\n"
     ]
    },
    {
     "name": "stdout",
     "output_type": "stream",
     "text": [
      "Epoch [80/100], Loss: 0.5459, Entity ID Acc: 76.4831%, Entity state Acc: 92.06%, Time Pred Loss: 0.0023\n"
     ]
    },
    {
     "name": "stderr",
     "output_type": "stream",
     "text": [
      "Epoch 81/100: 15it [00:05,  2.54it/s]\n"
     ]
    },
    {
     "name": "stdout",
     "output_type": "stream",
     "text": [
      "Epoch [81/100], Loss: 0.5566, Entity ID Acc: 75.9534%, Entity state Acc: 90.68%, Time Pred Loss: 0.0042\n"
     ]
    },
    {
     "name": "stderr",
     "output_type": "stream",
     "text": [
      "Epoch 82/100: 15it [00:05,  2.52it/s]\n"
     ]
    },
    {
     "name": "stdout",
     "output_type": "stream",
     "text": [
      "Epoch [82/100], Loss: 0.5185, Entity ID Acc: 78.0720%, Entity state Acc: 88.88%, Time Pred Loss: 0.0046\n"
     ]
    },
    {
     "name": "stderr",
     "output_type": "stream",
     "text": [
      "Epoch 83/100: 15it [00:05,  2.52it/s]\n"
     ]
    },
    {
     "name": "stdout",
     "output_type": "stream",
     "text": [
      "Epoch [83/100], Loss: 0.5044, Entity ID Acc: 78.3898%, Entity state Acc: 91.74%, Time Pred Loss: 0.0045\n"
     ]
    },
    {
     "name": "stderr",
     "output_type": "stream",
     "text": [
      "Epoch 84/100: 15it [00:06,  2.48it/s]\n"
     ]
    },
    {
     "name": "stdout",
     "output_type": "stream",
     "text": [
      "Epoch [84/100], Loss: 0.5331, Entity ID Acc: 77.6483%, Entity state Acc: 91.31%, Time Pred Loss: 0.0025\n"
     ]
    },
    {
     "name": "stderr",
     "output_type": "stream",
     "text": [
      "Epoch 85/100: 15it [00:06,  2.48it/s]\n"
     ]
    },
    {
     "name": "stdout",
     "output_type": "stream",
     "text": [
      "Epoch [85/100], Loss: 0.5018, Entity ID Acc: 78.7076%, Entity state Acc: 91.95%, Time Pred Loss: 0.0027\n"
     ]
    },
    {
     "name": "stderr",
     "output_type": "stream",
     "text": [
      "Epoch 86/100: 15it [00:06,  2.47it/s]\n"
     ]
    },
    {
     "name": "stdout",
     "output_type": "stream",
     "text": [
      "Epoch [86/100], Loss: 0.5039, Entity ID Acc: 78.0720%, Entity state Acc: 90.78%, Time Pred Loss: 0.0044\n"
     ]
    },
    {
     "name": "stderr",
     "output_type": "stream",
     "text": [
      "Epoch 87/100: 15it [00:06,  2.40it/s]\n"
     ]
    },
    {
     "name": "stdout",
     "output_type": "stream",
     "text": [
      "Epoch [87/100], Loss: 0.4786, Entity ID Acc: 78.6017%, Entity state Acc: 92.48%, Time Pred Loss: 0.0047\n"
     ]
    },
    {
     "name": "stderr",
     "output_type": "stream",
     "text": [
      "Epoch 88/100: 15it [00:05,  2.53it/s]\n"
     ]
    },
    {
     "name": "stdout",
     "output_type": "stream",
     "text": [
      "Epoch [88/100], Loss: 0.4986, Entity ID Acc: 78.0720%, Entity state Acc: 90.57%, Time Pred Loss: 0.0037\n"
     ]
    },
    {
     "name": "stderr",
     "output_type": "stream",
     "text": [
      "Epoch 89/100: 15it [00:05,  2.59it/s]\n"
     ]
    },
    {
     "name": "stdout",
     "output_type": "stream",
     "text": [
      "Epoch [89/100], Loss: 0.4939, Entity ID Acc: 77.7542%, Entity state Acc: 89.72%, Time Pred Loss: 0.0042\n"
     ]
    },
    {
     "name": "stderr",
     "output_type": "stream",
     "text": [
      "Epoch 90/100: 15it [00:06,  2.44it/s]\n"
     ]
    },
    {
     "name": "stdout",
     "output_type": "stream",
     "text": [
      "Epoch [90/100], Loss: 0.4591, Entity ID Acc: 79.0254%, Entity state Acc: 91.21%, Time Pred Loss: 0.0027\n"
     ]
    },
    {
     "name": "stderr",
     "output_type": "stream",
     "text": [
      "Epoch 91/100: 15it [00:06,  2.43it/s]\n"
     ]
    },
    {
     "name": "stdout",
     "output_type": "stream",
     "text": [
      "Epoch [91/100], Loss: 0.4480, Entity ID Acc: 80.5085%, Entity state Acc: 92.16%, Time Pred Loss: 0.0034\n"
     ]
    },
    {
     "name": "stderr",
     "output_type": "stream",
     "text": [
      "Epoch 92/100: 15it [00:06,  2.50it/s]\n"
     ]
    },
    {
     "name": "stdout",
     "output_type": "stream",
     "text": [
      "Epoch [92/100], Loss: 0.5097, Entity ID Acc: 77.7542%, Entity state Acc: 90.89%, Time Pred Loss: 0.0029\n"
     ]
    },
    {
     "name": "stderr",
     "output_type": "stream",
     "text": [
      "Epoch 93/100: 15it [00:06,  2.49it/s]\n"
     ]
    },
    {
     "name": "stdout",
     "output_type": "stream",
     "text": [
      "Epoch [93/100], Loss: 0.4521, Entity ID Acc: 80.1907%, Entity state Acc: 93.96%, Time Pred Loss: 0.0033\n"
     ]
    },
    {
     "name": "stderr",
     "output_type": "stream",
     "text": [
      "Epoch 94/100: 15it [00:05,  2.51it/s]\n"
     ]
    },
    {
     "name": "stdout",
     "output_type": "stream",
     "text": [
      "Epoch [94/100], Loss: 0.4732, Entity ID Acc: 79.8729%, Entity state Acc: 91.00%, Time Pred Loss: 0.0023\n"
     ]
    },
    {
     "name": "stderr",
     "output_type": "stream",
     "text": [
      "Epoch 95/100: 15it [00:06,  2.18it/s]\n"
     ]
    },
    {
     "name": "stdout",
     "output_type": "stream",
     "text": [
      "Epoch [95/100], Loss: 0.4893, Entity ID Acc: 79.1314%, Entity state Acc: 90.78%, Time Pred Loss: 0.0029\n"
     ]
    },
    {
     "name": "stderr",
     "output_type": "stream",
     "text": [
      "Epoch 96/100: 15it [00:05,  2.53it/s]\n"
     ]
    },
    {
     "name": "stdout",
     "output_type": "stream",
     "text": [
      "Epoch [96/100], Loss: 0.4385, Entity ID Acc: 80.5085%, Entity state Acc: 91.63%, Time Pred Loss: 0.0031\n"
     ]
    },
    {
     "name": "stderr",
     "output_type": "stream",
     "text": [
      "Epoch 97/100: 15it [00:06,  2.48it/s]\n"
     ]
    },
    {
     "name": "stdout",
     "output_type": "stream",
     "text": [
      "Epoch [97/100], Loss: 0.4278, Entity ID Acc: 82.5212%, Entity state Acc: 93.54%, Time Pred Loss: 0.0025\n"
     ]
    },
    {
     "name": "stderr",
     "output_type": "stream",
     "text": [
      "Epoch 98/100: 15it [00:06,  2.47it/s]\n"
     ]
    },
    {
     "name": "stdout",
     "output_type": "stream",
     "text": [
      "Epoch [98/100], Loss: 0.4034, Entity ID Acc: 81.8856%, Entity state Acc: 94.07%, Time Pred Loss: 0.0020\n"
     ]
    },
    {
     "name": "stderr",
     "output_type": "stream",
     "text": [
      "Epoch 99/100: 15it [00:06,  2.21it/s]\n"
     ]
    },
    {
     "name": "stdout",
     "output_type": "stream",
     "text": [
      "Epoch [99/100], Loss: 0.3918, Entity ID Acc: 82.2034%, Entity state Acc: 95.66%, Time Pred Loss: 0.0022\n"
     ]
    },
    {
     "name": "stderr",
     "output_type": "stream",
     "text": [
      "Epoch 100/100: 15it [00:07,  2.10it/s]\n"
     ]
    },
    {
     "name": "stdout",
     "output_type": "stream",
     "text": [
      "Epoch [100/100], Loss: 0.3898, Entity ID Acc: 81.7797%, Entity state Acc: 95.66%, Time Pred Loss: 0.0019\n",
      "Act Training Complete!\n"
     ]
    }
   ],
   "source": [
    "# define the model\n",
    "model = TransformerMultiTask(input_dim=46, hidden_dim=512, additional_input_dim=5, num_heads=2, num_layers=1, entity_id_cls=45, entity_state_cls=4)\n",
    "training_epoch = 100\n",
    "# Using Adam optimizer\n",
    "import torch.optim as optim\n",
    "learning_rate = 1e-4  # You can adjust the learning rate as needed\n",
    "optimizer = optim.Adam(model.parameters(), lr=learning_rate)\n",
    "# find the device for training\n",
    "device = torch.device(\"cuda\" if torch.cuda.is_available() else \"cpu\")\n",
    "\n",
    "# start the training\n",
    "_, entity_id_accuracies, entity_state_accuracies, time_losses = train_act_model(model=model, dataloader=train_loader, num_epochs=training_epoch, \n",
    "            actionable_classification_criterion=actionable_classification_criterion, \n",
    "            entity_id_classification_criterion=entity_id_classification_criterion, \n",
    "            entity_state_classification_criterion=entity_state_classification_criterion, \n",
    "            time_pred_regression_criterion=time_pred_regression_criterion, \n",
    "            optimizer=optimizer, device=device)"
   ]
  },
  {
   "cell_type": "code",
   "execution_count": 9,
   "id": "bf924500-6c8f-4ce9-af6a-dd182c641be0",
   "metadata": {},
   "outputs": [
    {
     "data": {
      "image/png": "[encoded data removed]",
      "text/plain": [
       "<Figure size 1400x600 with 2 Axes>"
      ]
     },
     "metadata": {},
     "output_type": "display_data"
    }
   ],
   "source": [
    "import matplotlib.pyplot as plt\n",
    "\n",
    "# Plot accuracy\n",
    "plt.figure(figsize=(14, 6))\n",
    "\n",
    "plt.subplot(1, 2, 1)\n",
    "plt.plot(range(1, training_epoch + 1), entity_id_accuracies, marker='o', label='Entity ID Accuracy')\n",
    "plt.plot(range(1, training_epoch + 1), entity_state_accuracies, marker='o', label='Entity State Accuracy')\n",
    "plt.title('Model Accuracies Over Epochs')\n",
    "plt.xlabel('Epoch')\n",
    "plt.ylabel('Accuracy (%)')\n",
    "plt.xticks(range(1, training_epoch + 1))  # Set x-ticks to match epoch numbers\n",
    "plt.legend()\n",
    "plt.grid()\n",
    "\n",
    "# Plot time prediction loss\n",
    "plt.subplot(1, 2, 2)\n",
    "plt.plot(range(1, training_epoch + 1), time_losses, marker='o', color='orange')\n",
    "plt.title('Time Prediction Loss Over Epochs')\n",
    "plt.xlabel('Epoch')\n",
    "plt.ylabel('Time Prediction Loss')\n",
    "plt.xticks(range(1, training_epoch + 1))  # Set x-ticks to match epoch numbers\n",
    "plt.grid()\n",
    "\n",
    "plt.tight_layout()\n",
    "plt.show()"
   ]
  },
  {
   "cell_type": "code",
   "execution_count": 10,
   "id": "55c01e4e-a41f-414d-8ee9-d627a7fb029e",
   "metadata": {},
   "outputs": [],
   "source": [
    "torch.save(model.state_dict(), 'transformer_multi_task_slim.pth')"
   ]
  },
  {
   "cell_type": "code",
   "execution_count": 11,
   "id": "7374f831-6574-4329-a9f2-4f226ef62789",
   "metadata": {},
   "outputs": [
    {
     "data": {
      "text/plain": [
       "TransformerMultiTask(\n",
       "  (embedding): Linear(in_features=46, out_features=512, bias=True)\n",
       "  (transformer): TransformerEncoder(\n",
       "    (layers): ModuleList(\n",
       "      (0): TransformerEncoderLayer(\n",
       "        (self_attn): MultiheadAttention(\n",
       "          (out_proj): NonDynamicallyQuantizableLinear(in_features=512, out_features=512, bias=True)\n",
       "        )\n",
       "        (linear1): Linear(in_features=512, out_features=2048, bias=True)\n",
       "        (dropout): Dropout(p=0.1, inplace=False)\n",
       "        (linear2): Linear(in_features=2048, out_features=512, bias=True)\n",
       "        (norm1): LayerNorm((512,), eps=1e-05, elementwise_affine=True)\n",
       "        (norm2): LayerNorm((512,), eps=1e-05, elementwise_affine=True)\n",
       "        (dropout1): Dropout(p=0.1, inplace=False)\n",
       "        (dropout2): Dropout(p=0.1, inplace=False)\n",
       "      )\n",
       "    )\n",
       "  )\n",
       "  (actionable_fc): Linear(in_features=517, out_features=2, bias=True)\n",
       "  (entity_id_fc): Sequential(\n",
       "    (0): Linear(in_features=517, out_features=256, bias=True)\n",
       "    (1): SiLU()\n",
       "    (2): Linear(in_features=256, out_features=45, bias=True)\n",
       "  )\n",
       "  (entity_state_fc): Sequential(\n",
       "    (0): Linear(in_features=562, out_features=256, bias=True)\n",
       "    (1): SiLU()\n",
       "    (2): Linear(in_features=256, out_features=4, bias=True)\n",
       "  )\n",
       "  (action_time_regression): Linear(in_features=562, out_features=1, bias=True)\n",
       ")"
      ]
     },
     "execution_count": 11,
     "metadata": {},
     "output_type": "execute_result"
    }
   ],
   "source": [
    "loaded_model = TransformerMultiTask(input_dim=46, hidden_dim=512, additional_input_dim=5, num_heads=2, num_layers=1, entity_id_cls=45, entity_state_cls=4)\n",
    "# Load the state dict\n",
    "loaded_model.load_state_dict(torch.load('transformer_multi_task_slim.pth', weights_only=True))\n",
    "loaded_model.eval()  # Set the model to evaluation mode"
   ]
  }
 ],
 "metadata": {
  "kernelspec": {
   "display_name": "Python 3 (ipykernel)",
   "language": "python",
   "name": "python3"
  },
  "language_info": {
   "codemirror_mode": {
    "name": "ipython",
    "version": 3
   },
   "file_extension": ".py",
   "mimetype": "text/x-python",
   "name": "python",
   "nbconvert_exporter": "python",
   "pygments_lexer": "ipython3",
   "version": "3.11.9"
  }
 },
 "nbformat": 4,
 "nbformat_minor": 5
}
