{
 "cells": [
  {
   "cell_type": "code",
   "execution_count": 1,
   "id": "f44a58a7-e030-4efa-9443-05f44f21f1c0",
   "metadata": {},
   "outputs": [],
   "source": [
    "import torch\n",
    "import torch.nn as nn\n",
    "import torch.optim as optim"
   ]
  },
  {
   "cell_type": "code",
   "execution_count": 2,
   "id": "3588962e-a4aa-47f9-bcb1-c7d1e5e4840d",
   "metadata": {},
   "outputs": [],
   "source": [
    "class TransformerMultiTask(nn.Module):\n",
    "    def __init__(self, input_dim, num_heads:int, num_layers:int, hidden_dim:int, \n",
    "                 entity_id_cls:int, entity_state_cls:int, additional_input_dim:int = 0):\n",
    "        super(TransformerMultiTask, self).__init__()\n",
    "        self.embedding = nn.Linear(input_dim, hidden_dim)\n",
    "        \n",
    "        transformer_layer = nn.TransformerEncoderLayer(d_model=hidden_dim, nhead=num_heads, batch_first=True)\n",
    "        self.transformer = nn.TransformerEncoder(transformer_layer, num_layers=num_layers)\n",
    "        \n",
    "        # Separate heads for classification tasks\n",
    "        # Simpler actionable classification head\n",
    "        self.actionable_fc = nn.Linear(hidden_dim + additional_input_dim, 2)\n",
    "        \n",
    "        # Head for complex entity ID classification\n",
    "        self.entity_id_fc = nn.Sequential(\n",
    "            nn.Linear(hidden_dim + additional_input_dim, hidden_dim // 2),\n",
    "            nn.SiLU(),\n",
    "            nn.Linear(hidden_dim // 2, entity_id_cls)\n",
    "        )\n",
    "        \n",
    "        # Head for entity state classification\n",
    "        #  - takes the additional inputs and also the outputs of the entity classifications\n",
    "        self.entity_state_fc = nn.Sequential(\n",
    "            nn.Linear(hidden_dim + additional_input_dim + entity_id_cls, hidden_dim // 2),\n",
    "            nn.SiLU(),\n",
    "            nn.Linear(hidden_dim // 2, entity_state_cls)\n",
    "        )\n",
    "        \n",
    "        # Regression head for action time prediction\n",
    "        # - takes the additional inputs and also the outputs of the entity classifications\n",
    "        self.action_time_regression = nn.Linear(hidden_dim + additional_input_dim + entity_id_cls, 1)\n",
    "\n",
    "    def forward(self, sequence, additional_inputs=None):\n",
    "        # x shape: (batch_size, seq_length, input_dim)\n",
    "        embed = self.embedding(sequence)\n",
    "        x = self.transformer(embed)\n",
    "        \n",
    "        # Take the mean across the sequence dimension\n",
    "        x = x.mean(dim=1)\n",
    "\n",
    "        # If additional inputs are provided, concatenate them with x\n",
    "        if additional_inputs is not None:\n",
    "            x = torch.cat((x, additional_inputs), dim=-1)\n",
    "        \n",
    "        # Separate heads for classification and regression\n",
    "        actionable_output = self.actionable_fc(x)\n",
    "        entity_id_output = self.entity_id_fc(x)\n",
    "        # Concatenate x with entity_id_output before passing to entity_state_fc\n",
    "        x_with_entity_id = torch.cat((x, entity_id_output), dim=-1)\n",
    "        entity_state_output = self.entity_state_fc(x_with_entity_id)\n",
    "        time_pred_output = self.action_time_regression(x_with_entity_id)\n",
    "        \n",
    "        # return actionable_output, entity_id_output, entity_state_output, time_pred_output\n",
    "        return actionable_output, entity_id_output, entity_state_output, time_pred_output"
   ]
  },
  {
   "cell_type": "code",
   "execution_count": 3,
   "id": "e0d21e7d-3f31-4bcf-9657-96c732f987b1",
   "metadata": {},
   "outputs": [],
   "source": [
    "import torch\n",
    "from torch.utils.data import Dataset, DataLoader, IterableDataset\n",
    "import os\n",
    "import random\n",
    "import io\n",
    "import numpy as np\n",
    "import pandas as pd\n",
    "import warnings\n",
    "\n",
    "# Helper function to convert bytes back to tensor\n",
    "def bytes_to_tensor(tensor_bytes):\n",
    "    buffer = io.BytesIO(tensor_bytes)\n",
    "    loaded_tensor = torch.load(buffer, weights_only=True)\n",
    "    return loaded_tensor\n",
    "\n",
    "from torch.utils.data import DataLoader\n",
    "\n",
    "class MultiPartParquetCASASDataset(IterableDataset):\n",
    "    def __init__(self, file_list, shuffle_files=True, shuffle_rows=True):\n",
    "        self.file_list = file_list\n",
    "        self.shuffle_files = shuffle_files\n",
    "        self.shuffle_rows = shuffle_rows\n",
    "        \n",
    "        if self.shuffle_files:\n",
    "            random.shuffle(self.file_list)  # Shuffle the order of files\n",
    "\n",
    "    def _read_parquet_file(self, file_path):\n",
    "        df = pd.read_parquet(file_path)\n",
    "\n",
    "        if self.shuffle_rows:\n",
    "            df = df.sample(frac=1).reset_index(drop=True)  # Shuffle rows within the dataframe\n",
    "\n",
    "        return df\n",
    "\n",
    "    def __len__(self):\n",
    "        total_len = 0\n",
    "        for file in self.file_list:\n",
    "            df = self._read_parquet_file(file)\n",
    "            total_len += len(df)\n",
    "        return total_len\n",
    "    \n",
    "    def __iter__(self):\n",
    "        with warnings.catch_warnings():\n",
    "            warnings.simplefilter(action='ignore', category=FutureWarning)\n",
    "            for file in self.file_list:\n",
    "                df = self._read_parquet_file(file)\n",
    "                for _, row in df.iterrows():\n",
    "                    # shape(batch_size, sequence_length(var))\n",
    "                    input_tensor = bytes_to_tensor(row['sequence']) \n",
    "                    # additional inputs\n",
    "                    curr_time_hint_tensors = torch.tensor(row[['min', 'hour', 'day', 'week', 'month']])\n",
    "                    # y labels\n",
    "                    time_prediction_tensor = torch.tensor(row['secs_from_last'], dtype=torch.float32)\n",
    "                    actionable_tensor = torch.tensor(not row['sensor_change'], dtype=torch.long)\n",
    "                    action_entity_id_tensor = torch.tensor(row['changed_entity_id'], dtype=torch.long)\n",
    "                    action_entity_state_tensor = torch.tensor(float(row['changed_entity_value']), dtype=torch.long)\n",
    "    \n",
    "                    yield input_tensor, curr_time_hint_tensors, time_prediction_tensor, actionable_tensor, action_entity_id_tensor, action_entity_state_tensor\n",
    "\n",
    "\n",
    "def split_file_list(file_list, train_ratio=0.8, test_ratio=0.1, eval_ratio=0.1):\n",
    "    \"\"\"\n",
    "    Split the list of files into train/test/eval based on the given ratios.\n",
    "    \"\"\"\n",
    "    assert train_ratio + test_ratio + eval_ratio == 1.0, \"Ratios must sum to 1\"\n",
    "    \n",
    "    # Shuffle the file list to ensure randomness\n",
    "    random.shuffle(file_list)\n",
    "    \n",
    "    # Split based on the ratio\n",
    "    total_files = len(file_list)\n",
    "    train_end = int(train_ratio * total_files)\n",
    "    test_end = train_end + int(test_ratio * total_files)\n",
    "    \n",
    "    train_files = file_list[:train_end]\n",
    "    test_files = file_list[train_end:test_end]\n",
    "    eval_files = file_list[test_end:]\n",
    "    \n",
    "    return train_files, test_files, eval_files\n",
    "\n",
    "def _collate_fn(batch):\n",
    "    # Separate inputs and targets\n",
    "    input_tensors, curr_time_hint_tensors, time_prediction_tensors, actionable_tensors, action_entity_id_tensors, action_entity_state_tensors = zip(*batch)\n",
    "    \n",
    "    # Pad sequences for inputs (batch_first=True makes it [batch_size, seq_len, features])\n",
    "    input_tensors_padded = pad_sequence(input_tensors, batch_first=True)\n",
    "    # stack the additional inputs\n",
    "    curr_time_hint_tensors = torch.stack(curr_time_hint_tensors)\n",
    "    \n",
    "    # Convert targets to tensors (they should all have the same length as they're scalar values)\n",
    "    time_prediction_tensors = torch.stack(time_prediction_tensors)\n",
    "    actionable_tensors = torch.stack(actionable_tensors)\n",
    "    action_entity_id_tensors = torch.stack(action_entity_id_tensors)\n",
    "    action_entity_state_tensors = torch.stack(action_entity_state_tensors)\n",
    "    \n",
    "    return input_tensors_padded, curr_time_hint_tensors, time_prediction_tensors, actionable_tensors, action_entity_id_tensors, action_entity_state_tensors\n"
   ]
  },
  {
   "cell_type": "code",
   "execution_count": 4,
   "id": "04ac3bdd-a512-429b-9f75-bc6066a99827",
   "metadata": {},
   "outputs": [],
   "source": [
    "import torch\n",
    "from tqdm import tqdm\n",
    "from torch.nn.utils.rnn import pad_sequence\n",
    "\n",
    "def train_act_model(model, dataloader, num_epochs, \n",
    "                actionable_classification_criterion, \n",
    "                entity_id_classification_criterion, \n",
    "                entity_state_classification_criterion, \n",
    "                time_pred_regression_criterion, \n",
    "                optimizer, device):\n",
    "    # Store accuracies and time prediction losses\n",
    "    actionable_accuracies = []\n",
    "    entity_id_accuracies = []\n",
    "    entity_state_accuracies = []\n",
    "    time_losses = []\n",
    "    \n",
    "    model.to(device)\n",
    "    model.train()\n",
    "    \n",
    "    for epoch in range(num_epochs):\n",
    "        epoch_loss = 0.0\n",
    "        correct_entity_state = 0\n",
    "        total_entity_state = 0\n",
    "        correct_entity_id = 0\n",
    "        total_entity_id = 0\n",
    "        epoch_time_pred_loss = 0\n",
    "        \n",
    "        for batch_idx, (input_tensors_padded, curr_time_hint_tensors, time_prediction_tensors, actionable_tensors, action_entity_id_tensors, action_entity_state_tensors) in tqdm(enumerate(dataloader), desc=f\"Epoch {epoch+1}/{num_epochs}\"):\n",
    "            # Assuming the dataloader returns a dictionary-like batch with relevant keys\n",
    "            inputs = input_tensors_padded.to(device)  # shape: (batch_size, max_seq_length, input_dim)\n",
    "            time_hint_inputs = curr_time_hint_tensors.to(device)\n",
    "            actionable_labels = actionable_tensors.to(device)  # shape: (batch_size,)\n",
    "            entity_id_labels = action_entity_id_tensors.to(device)  # shape: (batch_size,)\n",
    "            entity_state_labels = action_entity_state_tensors.to(device)  # shape: (batch_size,)\n",
    "            time_pred_labels = time_prediction_tensors.to(device)  # shape: (batch_size,)\n",
    "\n",
    "            optimizer.zero_grad()\n",
    "\n",
    "            # Forward pass\n",
    "            actionable_output, entity_id_output, entity_state_output, time_pred_output = model(inputs, additional_inputs=time_hint_inputs)\n",
    "            \n",
    "            # Compute losses\n",
    "            entity_id_loss = entity_id_classification_criterion(entity_id_output, entity_id_labels)\n",
    "            entity_state_loss = entity_state_classification_criterion(entity_state_output, entity_state_labels)\n",
    "            time_pred_loss = time_pred_regression_criterion(time_pred_output.squeeze(), time_pred_labels)\n",
    "\n",
    "            # Total loss\n",
    "            total_loss = (entity_id_loss * 8 + entity_state_loss * 1.5 + time_pred_loss * 0.5) / 10\n",
    "            \n",
    "            # Backward pass and optimization\n",
    "            total_loss.backward()\n",
    "            optimizer.step()\n",
    "            \n",
    "            epoch_loss += total_loss.item()\n",
    "            # accumulate epoch loss\n",
    "            epoch_time_pred_loss += time_pred_loss.item()\n",
    "            \n",
    "            # Calculate entity ID classification accuracy\n",
    "            _, predicted_entity_id = torch.max(entity_id_output, 1)\n",
    "            correct_entity_id += (predicted_entity_id == entity_id_labels).sum().item()\n",
    "            total_entity_id += entity_id_labels.size(0)\n",
    "\n",
    "            # Calculate entity state classification accuracy\n",
    "            _, predicted_entity_state = torch.max(entity_state_output, 1)\n",
    "            correct_entity_state += (predicted_entity_state == entity_state_labels).sum().item()\n",
    "            total_entity_state += entity_state_labels.size(0)\n",
    "            \n",
    "        # Print epoch stats\n",
    "        avg_loss = epoch_loss / len(dataloader)\n",
    "        avg_time_pred_loss = epoch_time_pred_loss / len(dataloader)\n",
    "        time_losses.append(avg_time_pred_loss)\n",
    "        entity_id_accuracy = 100 * correct_entity_id / total_entity_id\n",
    "        entity_id_accuracies.append(entity_id_accuracy)\n",
    "        entity_state_accuracy = 100 * correct_entity_state / total_entity_state\n",
    "        entity_state_accuracies.append(entity_state_accuracy)\n",
    "        print(f\"Epoch [{epoch+1}/{num_epochs}], Loss: {avg_loss:.4f}, Entity ID Acc: {entity_id_accuracy:.4f}%, Entity state Acc: {entity_state_accuracy:.2f}%, Time Pred Loss: {avg_time_pred_loss:.4f}\")\n",
    "\n",
    "    print(\"Act Training Complete!\")\n",
    "    return actionable_accuracies, entity_id_accuracies, entity_state_accuracies, time_losses"
   ]
  },
  {
   "cell_type": "code",
   "execution_count": 5,
   "id": "8df5b4dc-12fd-4d41-b6cc-511e20445c03",
   "metadata": {},
   "outputs": [],
   "source": [
    "from os import listdir\n",
    "from os.path import isfile, join\n",
    "import re\n",
    "data_root_path = './data/training_act'\n",
    "data_pattern = r\"^training_data_chunk_slim_\\d+\\.parquet\"\n",
    "file_list = [join(data_root_path, f) for f in listdir(data_root_path) if isfile(join(data_root_path, f)) and re.match(data_pattern, f)][:100]\n",
    "# Split the file list\n",
    "train_files, test_files, eval_files = split_file_list(file_list, train_ratio=0.8, test_ratio=0.1, eval_ratio=0.1)\n",
    "\n",
    "# Create separate datasets\n",
    "train_dataset = MultiPartParquetCASASDataset(train_files, shuffle_files=True, shuffle_rows=True)\n",
    "test_dataset = MultiPartParquetCASASDataset(test_files, shuffle_files=False, shuffle_rows=False)\n",
    "eval_dataset = MultiPartParquetCASASDataset(eval_files, shuffle_files=False, shuffle_rows=False)\n",
    "\n",
    "# Wrap them in DataLoaders\n",
    "train_loader = DataLoader(train_dataset, batch_size=64, shuffle=False, collate_fn=_collate_fn)\n",
    "test_loader = DataLoader(test_dataset, batch_size=64, shuffle=False, collate_fn=_collate_fn)\n",
    "eval_loader = DataLoader(eval_dataset, batch_size=64, shuffle=False, collate_fn=_collate_fn)\n",
    "\n",
    "\n",
    "# Actionable Classification Criterion (binary classification)\n",
    "actionable_classification_criterion = nn.CrossEntropyLoss()\n",
    "\n",
    "# Entity ID Classification Criterion (multi-class classification)\n",
    "entity_id_classification_criterion = nn.CrossEntropyLoss()\n",
    "\n",
    "# Entity State Classification Criterion (multi-class classification)\n",
    "entity_state_classification_criterion = nn.CrossEntropyLoss()\n",
    "\n",
    "# Time Prediction Criterion (regression)\n",
    "time_pred_regression_criterion = nn.MSELoss()\n",
    "\n"
   ]
  },
  {
   "cell_type": "code",
   "execution_count": 12,
   "id": "64ce42e4-ec2b-4a28-822a-3728dcc6ede0",
   "metadata": {},
   "outputs": [
    {
     "name": "stderr",
     "output_type": "stream",
     "text": [
      "Epoch 1/200: 15it [00:07,  2.12it/s]\n"
     ]
    },
    {
     "name": "stdout",
     "output_type": "stream",
     "text": [
      "Epoch [1/200], Loss: 2.7398, Entity ID Acc: 11.7585%, Entity state Acc: 47.35%, Time Pred Loss: 0.3369\n"
     ]
    },
    {
     "name": "stderr",
     "output_type": "stream",
     "text": [
      "Epoch 2/200: 15it [00:06,  2.37it/s]\n"
     ]
    },
    {
     "name": "stdout",
     "output_type": "stream",
     "text": [
      "Epoch [2/200], Loss: 2.2587, Entity ID Acc: 16.1017%, Entity state Acc: 54.87%, Time Pred Loss: 0.2070\n"
     ]
    },
    {
     "name": "stderr",
     "output_type": "stream",
     "text": [
      "Epoch 3/200: 15it [00:06,  2.46it/s]\n"
     ]
    },
    {
     "name": "stdout",
     "output_type": "stream",
     "text": [
      "Epoch [3/200], Loss: 2.0735, Entity ID Acc: 18.5381%, Entity state Acc: 53.81%, Time Pred Loss: 0.1922\n"
     ]
    },
    {
     "name": "stderr",
     "output_type": "stream",
     "text": [
      "Epoch 4/200: 15it [00:06,  2.44it/s]\n"
     ]
    },
    {
     "name": "stdout",
     "output_type": "stream",
     "text": [
      "Epoch [4/200], Loss: 1.9834, Entity ID Acc: 19.9153%, Entity state Acc: 53.50%, Time Pred Loss: 0.1792\n"
     ]
    },
    {
     "name": "stderr",
     "output_type": "stream",
     "text": [
      "Epoch 5/200: 15it [00:06,  2.42it/s]\n"
     ]
    },
    {
     "name": "stdout",
     "output_type": "stream",
     "text": [
      "Epoch [5/200], Loss: 1.9207, Entity ID Acc: 20.4449%, Entity state Acc: 53.92%, Time Pred Loss: 0.1607\n"
     ]
    },
    {
     "name": "stderr",
     "output_type": "stream",
     "text": [
      "Epoch 6/200: 15it [00:06,  2.50it/s]\n"
     ]
    },
    {
     "name": "stdout",
     "output_type": "stream",
     "text": [
      "Epoch [6/200], Loss: 1.8680, Entity ID Acc: 23.9407%, Entity state Acc: 53.81%, Time Pred Loss: 0.1529\n"
     ]
    },
    {
     "name": "stderr",
     "output_type": "stream",
     "text": [
      "Epoch 7/200: 15it [00:06,  2.38it/s]\n"
     ]
    },
    {
     "name": "stdout",
     "output_type": "stream",
     "text": [
      "Epoch [7/200], Loss: 1.8341, Entity ID Acc: 26.0593%, Entity state Acc: 56.78%, Time Pred Loss: 0.1614\n"
     ]
    },
    {
     "name": "stderr",
     "output_type": "stream",
     "text": [
      "Epoch 8/200: 15it [00:06,  2.45it/s]\n"
     ]
    },
    {
     "name": "stdout",
     "output_type": "stream",
     "text": [
      "Epoch [8/200], Loss: 1.8062, Entity ID Acc: 25.5297%, Entity state Acc: 56.99%, Time Pred Loss: 0.1616\n"
     ]
    },
    {
     "name": "stderr",
     "output_type": "stream",
     "text": [
      "Epoch 9/200: 15it [00:06,  2.17it/s]\n"
     ]
    },
    {
     "name": "stdout",
     "output_type": "stream",
     "text": [
      "Epoch [9/200], Loss: 1.7865, Entity ID Acc: 27.9661%, Entity state Acc: 56.99%, Time Pred Loss: 0.1238\n"
     ]
    },
    {
     "name": "stderr",
     "output_type": "stream",
     "text": [
      "Epoch 10/200: 15it [00:06,  2.27it/s]\n"
     ]
    },
    {
     "name": "stdout",
     "output_type": "stream",
     "text": [
      "Epoch [10/200], Loss: 1.7576, Entity ID Acc: 28.9195%, Entity state Acc: 56.46%, Time Pred Loss: 0.1097\n"
     ]
    },
    {
     "name": "stderr",
     "output_type": "stream",
     "text": [
      "Epoch 11/200: 15it [00:06,  2.43it/s]\n"
     ]
    },
    {
     "name": "stdout",
     "output_type": "stream",
     "text": [
      "Epoch [11/200], Loss: 1.7214, Entity ID Acc: 30.8263%, Entity state Acc: 61.76%, Time Pred Loss: 0.1010\n"
     ]
    },
    {
     "name": "stderr",
     "output_type": "stream",
     "text": [
      "Epoch 12/200: 15it [00:06,  2.22it/s]\n"
     ]
    },
    {
     "name": "stdout",
     "output_type": "stream",
     "text": [
      "Epoch [12/200], Loss: 1.7161, Entity ID Acc: 29.7669%, Entity state Acc: 60.06%, Time Pred Loss: 0.1122\n"
     ]
    },
    {
     "name": "stderr",
     "output_type": "stream",
     "text": [
      "Epoch 13/200: 15it [00:06,  2.39it/s]\n"
     ]
    },
    {
     "name": "stdout",
     "output_type": "stream",
     "text": [
      "Epoch [13/200], Loss: 1.7181, Entity ID Acc: 30.1907%, Entity state Acc: 61.55%, Time Pred Loss: 0.1194\n"
     ]
    },
    {
     "name": "stderr",
     "output_type": "stream",
     "text": [
      "Epoch 14/200: 15it [00:06,  2.27it/s]\n"
     ]
    },
    {
     "name": "stdout",
     "output_type": "stream",
     "text": [
      "Epoch [14/200], Loss: 1.6800, Entity ID Acc: 32.0975%, Entity state Acc: 61.44%, Time Pred Loss: 0.0671\n"
     ]
    },
    {
     "name": "stderr",
     "output_type": "stream",
     "text": [
      "Epoch 15/200: 15it [00:06,  2.24it/s]\n"
     ]
    },
    {
     "name": "stdout",
     "output_type": "stream",
     "text": [
      "Epoch [15/200], Loss: 1.6707, Entity ID Acc: 32.6271%, Entity state Acc: 61.44%, Time Pred Loss: 0.0461\n"
     ]
    },
    {
     "name": "stderr",
     "output_type": "stream",
     "text": [
      "Epoch 16/200: 15it [00:06,  2.35it/s]\n"
     ]
    },
    {
     "name": "stdout",
     "output_type": "stream",
     "text": [
      "Epoch [16/200], Loss: 1.6497, Entity ID Acc: 31.9915%, Entity state Acc: 61.02%, Time Pred Loss: 0.0546\n"
     ]
    },
    {
     "name": "stderr",
     "output_type": "stream",
     "text": [
      "Epoch 17/200: 15it [00:06,  2.36it/s]\n"
     ]
    },
    {
     "name": "stdout",
     "output_type": "stream",
     "text": [
      "Epoch [17/200], Loss: 1.6450, Entity ID Acc: 34.2161%, Entity state Acc: 60.70%, Time Pred Loss: 0.0480\n"
     ]
    },
    {
     "name": "stderr",
     "output_type": "stream",
     "text": [
      "Epoch 18/200: 15it [00:06,  2.39it/s]\n"
     ]
    },
    {
     "name": "stdout",
     "output_type": "stream",
     "text": [
      "Epoch [18/200], Loss: 1.6634, Entity ID Acc: 33.2627%, Entity state Acc: 59.43%, Time Pred Loss: 0.0478\n"
     ]
    },
    {
     "name": "stderr",
     "output_type": "stream",
     "text": [
      "Epoch 19/200: 15it [00:06,  2.42it/s]\n"
     ]
    },
    {
     "name": "stdout",
     "output_type": "stream",
     "text": [
      "Epoch [19/200], Loss: 1.6490, Entity ID Acc: 32.7331%, Entity state Acc: 59.75%, Time Pred Loss: 0.0290\n"
     ]
    },
    {
     "name": "stderr",
     "output_type": "stream",
     "text": [
      "Epoch 20/200: 15it [00:06,  2.43it/s]\n"
     ]
    },
    {
     "name": "stdout",
     "output_type": "stream",
     "text": [
      "Epoch [20/200], Loss: 1.6198, Entity ID Acc: 35.1695%, Entity state Acc: 61.65%, Time Pred Loss: 0.0190\n"
     ]
    },
    {
     "name": "stderr",
     "output_type": "stream",
     "text": [
      "Epoch 21/200: 15it [00:06,  2.32it/s]\n"
     ]
    },
    {
     "name": "stdout",
     "output_type": "stream",
     "text": [
      "Epoch [21/200], Loss: 1.5860, Entity ID Acc: 36.1229%, Entity state Acc: 62.92%, Time Pred Loss: 0.0226\n"
     ]
    },
    {
     "name": "stderr",
     "output_type": "stream",
     "text": [
      "Epoch 22/200: 15it [00:06,  2.29it/s]\n"
     ]
    },
    {
     "name": "stdout",
     "output_type": "stream",
     "text": [
      "Epoch [22/200], Loss: 1.5546, Entity ID Acc: 36.8644%, Entity state Acc: 60.28%, Time Pred Loss: 0.0208\n"
     ]
    },
    {
     "name": "stderr",
     "output_type": "stream",
     "text": [
      "Epoch 23/200: 15it [00:05,  2.51it/s]\n"
     ]
    },
    {
     "name": "stdout",
     "output_type": "stream",
     "text": [
      "Epoch [23/200], Loss: 1.5309, Entity ID Acc: 36.8644%, Entity state Acc: 62.71%, Time Pred Loss: 0.0219\n"
     ]
    },
    {
     "name": "stderr",
     "output_type": "stream",
     "text": [
      "Epoch 24/200: 15it [00:06,  2.23it/s]\n"
     ]
    },
    {
     "name": "stdout",
     "output_type": "stream",
     "text": [
      "Epoch [24/200], Loss: 1.4828, Entity ID Acc: 40.2542%, Entity state Acc: 62.82%, Time Pred Loss: 0.0194\n"
     ]
    },
    {
     "name": "stderr",
     "output_type": "stream",
     "text": [
      "Epoch 25/200: 15it [00:06,  2.39it/s]\n"
     ]
    },
    {
     "name": "stdout",
     "output_type": "stream",
     "text": [
      "Epoch [25/200], Loss: 1.4430, Entity ID Acc: 43.6441%, Entity state Acc: 62.08%, Time Pred Loss: 0.0165\n"
     ]
    },
    {
     "name": "stderr",
     "output_type": "stream",
     "text": [
      "Epoch 26/200: 15it [00:06,  2.39it/s]\n"
     ]
    },
    {
     "name": "stdout",
     "output_type": "stream",
     "text": [
      "Epoch [26/200], Loss: 1.4704, Entity ID Acc: 39.1949%, Entity state Acc: 62.61%, Time Pred Loss: 0.0109\n"
     ]
    },
    {
     "name": "stderr",
     "output_type": "stream",
     "text": [
      "Epoch 27/200: 15it [00:06,  2.38it/s]\n"
     ]
    },
    {
     "name": "stdout",
     "output_type": "stream",
     "text": [
      "Epoch [27/200], Loss: 1.4141, Entity ID Acc: 42.4788%, Entity state Acc: 65.47%, Time Pred Loss: 0.0394\n"
     ]
    },
    {
     "name": "stderr",
     "output_type": "stream",
     "text": [
      "Epoch 28/200: 15it [00:07,  2.11it/s]\n"
     ]
    },
    {
     "name": "stdout",
     "output_type": "stream",
     "text": [
      "Epoch [28/200], Loss: 1.3860, Entity ID Acc: 43.1144%, Entity state Acc: 62.92%, Time Pred Loss: 0.0356\n"
     ]
    },
    {
     "name": "stderr",
     "output_type": "stream",
     "text": [
      "Epoch 29/200: 15it [00:06,  2.28it/s]\n"
     ]
    },
    {
     "name": "stdout",
     "output_type": "stream",
     "text": [
      "Epoch [29/200], Loss: 1.3656, Entity ID Acc: 43.4322%, Entity state Acc: 65.57%, Time Pred Loss: 0.0400\n"
     ]
    },
    {
     "name": "stderr",
     "output_type": "stream",
     "text": [
      "Epoch 30/200: 15it [00:06,  2.28it/s]\n"
     ]
    },
    {
     "name": "stdout",
     "output_type": "stream",
     "text": [
      "Epoch [30/200], Loss: 1.3343, Entity ID Acc: 45.4449%, Entity state Acc: 65.47%, Time Pred Loss: 0.0744\n"
     ]
    },
    {
     "name": "stderr",
     "output_type": "stream",
     "text": [
      "Epoch 31/200: 15it [00:06,  2.39it/s]\n"
     ]
    },
    {
     "name": "stdout",
     "output_type": "stream",
     "text": [
      "Epoch [31/200], Loss: 1.2965, Entity ID Acc: 47.7754%, Entity state Acc: 63.56%, Time Pred Loss: 0.1143\n"
     ]
    },
    {
     "name": "stderr",
     "output_type": "stream",
     "text": [
      "Epoch 32/200: 15it [00:07,  2.05it/s]\n"
     ]
    },
    {
     "name": "stdout",
     "output_type": "stream",
     "text": [
      "Epoch [32/200], Loss: 1.2325, Entity ID Acc: 49.7881%, Entity state Acc: 64.41%, Time Pred Loss: 0.0319\n"
     ]
    },
    {
     "name": "stderr",
     "output_type": "stream",
     "text": [
      "Epoch 33/200: 15it [00:06,  2.25it/s]\n"
     ]
    },
    {
     "name": "stdout",
     "output_type": "stream",
     "text": [
      "Epoch [33/200], Loss: 1.2731, Entity ID Acc: 47.5636%, Entity state Acc: 64.51%, Time Pred Loss: 0.0321\n"
     ]
    },
    {
     "name": "stderr",
     "output_type": "stream",
     "text": [
      "Epoch 34/200: 15it [00:06,  2.35it/s]\n"
     ]
    },
    {
     "name": "stdout",
     "output_type": "stream",
     "text": [
      "Epoch [34/200], Loss: 1.2006, Entity ID Acc: 51.9068%, Entity state Acc: 67.37%, Time Pred Loss: 0.0322\n"
     ]
    },
    {
     "name": "stderr",
     "output_type": "stream",
     "text": [
      "Epoch 35/200: 15it [00:06,  2.30it/s]\n"
     ]
    },
    {
     "name": "stdout",
     "output_type": "stream",
     "text": [
      "Epoch [35/200], Loss: 1.1632, Entity ID Acc: 52.5424%, Entity state Acc: 69.60%, Time Pred Loss: 0.0426\n"
     ]
    },
    {
     "name": "stderr",
     "output_type": "stream",
     "text": [
      "Epoch 36/200: 15it [00:06,  2.39it/s]\n"
     ]
    },
    {
     "name": "stdout",
     "output_type": "stream",
     "text": [
      "Epoch [36/200], Loss: 1.0729, Entity ID Acc: 57.3093%, Entity state Acc: 70.76%, Time Pred Loss: 0.0263\n"
     ]
    },
    {
     "name": "stderr",
     "output_type": "stream",
     "text": [
      "Epoch 37/200: 15it [00:06,  2.44it/s]\n"
     ]
    },
    {
     "name": "stdout",
     "output_type": "stream",
     "text": [
      "Epoch [37/200], Loss: 1.0385, Entity ID Acc: 59.2161%, Entity state Acc: 68.96%, Time Pred Loss: 0.0414\n"
     ]
    },
    {
     "name": "stderr",
     "output_type": "stream",
     "text": [
      "Epoch 38/200: 15it [00:05,  2.53it/s]\n"
     ]
    },
    {
     "name": "stdout",
     "output_type": "stream",
     "text": [
      "Epoch [38/200], Loss: 1.0102, Entity ID Acc: 60.2754%, Entity state Acc: 69.28%, Time Pred Loss: 0.0870\n"
     ]
    },
    {
     "name": "stderr",
     "output_type": "stream",
     "text": [
      "Epoch 39/200: 15it [00:05,  2.59it/s]\n"
     ]
    },
    {
     "name": "stdout",
     "output_type": "stream",
     "text": [
      "Epoch [39/200], Loss: 0.9484, Entity ID Acc: 63.6653%, Entity state Acc: 68.86%, Time Pred Loss: 0.0837\n"
     ]
    },
    {
     "name": "stderr",
     "output_type": "stream",
     "text": [
      "Epoch 40/200: 15it [00:06,  2.47it/s]\n"
     ]
    },
    {
     "name": "stdout",
     "output_type": "stream",
     "text": [
      "Epoch [40/200], Loss: 0.9564, Entity ID Acc: 62.7119%, Entity state Acc: 70.66%, Time Pred Loss: 0.0938\n"
     ]
    },
    {
     "name": "stderr",
     "output_type": "stream",
     "text": [
      "Epoch 41/200: 15it [00:06,  2.49it/s]\n"
     ]
    },
    {
     "name": "stdout",
     "output_type": "stream",
     "text": [
      "Epoch [41/200], Loss: 0.9742, Entity ID Acc: 60.2754%, Entity state Acc: 74.26%, Time Pred Loss: 0.1929\n"
     ]
    },
    {
     "name": "stderr",
     "output_type": "stream",
     "text": [
      "Epoch 42/200: 15it [00:06,  2.46it/s]\n"
     ]
    },
    {
     "name": "stdout",
     "output_type": "stream",
     "text": [
      "Epoch [42/200], Loss: 0.9408, Entity ID Acc: 61.6525%, Entity state Acc: 73.52%, Time Pred Loss: 0.0725\n"
     ]
    },
    {
     "name": "stderr",
     "output_type": "stream",
     "text": [
      "Epoch 43/200: 15it [00:05,  2.55it/s]\n"
     ]
    },
    {
     "name": "stdout",
     "output_type": "stream",
     "text": [
      "Epoch [43/200], Loss: 1.0226, Entity ID Acc: 58.1568%, Entity state Acc: 74.68%, Time Pred Loss: 0.0600\n"
     ]
    },
    {
     "name": "stderr",
     "output_type": "stream",
     "text": [
      "Epoch 44/200: 15it [00:06,  2.34it/s]\n"
     ]
    },
    {
     "name": "stdout",
     "output_type": "stream",
     "text": [
      "Epoch [44/200], Loss: 0.8947, Entity ID Acc: 63.6653%, Entity state Acc: 79.03%, Time Pred Loss: 0.0267\n"
     ]
    },
    {
     "name": "stderr",
     "output_type": "stream",
     "text": [
      "Epoch 45/200: 15it [00:06,  2.31it/s]\n"
     ]
    },
    {
     "name": "stdout",
     "output_type": "stream",
     "text": [
      "Epoch [45/200], Loss: 0.9884, Entity ID Acc: 60.2754%, Entity state Acc: 74.05%, Time Pred Loss: 0.0170\n"
     ]
    },
    {
     "name": "stderr",
     "output_type": "stream",
     "text": [
      "Epoch 46/200: 15it [00:07,  2.08it/s]\n"
     ]
    },
    {
     "name": "stdout",
     "output_type": "stream",
     "text": [
      "Epoch [46/200], Loss: 0.9144, Entity ID Acc: 62.1822%, Entity state Acc: 74.36%, Time Pred Loss: 0.0171\n"
     ]
    },
    {
     "name": "stderr",
     "output_type": "stream",
     "text": [
      "Epoch 47/200: 15it [00:06,  2.30it/s]\n"
     ]
    },
    {
     "name": "stdout",
     "output_type": "stream",
     "text": [
      "Epoch [47/200], Loss: 0.9041, Entity ID Acc: 63.7712%, Entity state Acc: 76.06%, Time Pred Loss: 0.0089\n"
     ]
    },
    {
     "name": "stderr",
     "output_type": "stream",
     "text": [
      "Epoch 48/200: 15it [00:06,  2.17it/s]\n"
     ]
    },
    {
     "name": "stdout",
     "output_type": "stream",
     "text": [
      "Epoch [48/200], Loss: 0.8137, Entity ID Acc: 65.3602%, Entity state Acc: 79.45%, Time Pred Loss: 0.0167\n"
     ]
    },
    {
     "name": "stderr",
     "output_type": "stream",
     "text": [
      "Epoch 49/200: 15it [00:06,  2.38it/s]\n"
     ]
    },
    {
     "name": "stdout",
     "output_type": "stream",
     "text": [
      "Epoch [49/200], Loss: 0.7965, Entity ID Acc: 66.5254%, Entity state Acc: 79.77%, Time Pred Loss: 0.0122\n"
     ]
    },
    {
     "name": "stderr",
     "output_type": "stream",
     "text": [
      "Epoch 50/200: 15it [00:06,  2.19it/s]\n"
     ]
    },
    {
     "name": "stdout",
     "output_type": "stream",
     "text": [
      "Epoch [50/200], Loss: 0.7699, Entity ID Acc: 69.5975%, Entity state Acc: 81.67%, Time Pred Loss: 0.0133\n"
     ]
    },
    {
     "name": "stderr",
     "output_type": "stream",
     "text": [
      "Epoch 51/200: 15it [00:06,  2.32it/s]\n"
     ]
    },
    {
     "name": "stdout",
     "output_type": "stream",
     "text": [
      "Epoch [51/200], Loss: 0.7843, Entity ID Acc: 67.9025%, Entity state Acc: 81.04%, Time Pred Loss: 0.0066\n"
     ]
    },
    {
     "name": "stderr",
     "output_type": "stream",
     "text": [
      "Epoch 52/200: 15it [00:05,  2.51it/s]\n"
     ]
    },
    {
     "name": "stdout",
     "output_type": "stream",
     "text": [
      "Epoch [52/200], Loss: 0.7302, Entity ID Acc: 70.6568%, Entity state Acc: 81.46%, Time Pred Loss: 0.0076\n"
     ]
    },
    {
     "name": "stderr",
     "output_type": "stream",
     "text": [
      "Epoch 53/200: 15it [00:05,  2.52it/s]\n"
     ]
    },
    {
     "name": "stdout",
     "output_type": "stream",
     "text": [
      "Epoch [53/200], Loss: 0.7059, Entity ID Acc: 71.6102%, Entity state Acc: 80.19%, Time Pred Loss: 0.0119\n"
     ]
    },
    {
     "name": "stderr",
     "output_type": "stream",
     "text": [
      "Epoch 54/200: 15it [00:05,  2.52it/s]\n"
     ]
    },
    {
     "name": "stdout",
     "output_type": "stream",
     "text": [
      "Epoch [54/200], Loss: 0.7032, Entity ID Acc: 71.5042%, Entity state Acc: 80.19%, Time Pred Loss: 0.0265\n"
     ]
    },
    {
     "name": "stderr",
     "output_type": "stream",
     "text": [
      "Epoch 55/200: 15it [00:06,  2.41it/s]\n"
     ]
    },
    {
     "name": "stdout",
     "output_type": "stream",
     "text": [
      "Epoch [55/200], Loss: 0.7432, Entity ID Acc: 68.5381%, Entity state Acc: 83.26%, Time Pred Loss: 0.0288\n"
     ]
    },
    {
     "name": "stderr",
     "output_type": "stream",
     "text": [
      "Epoch 56/200: 15it [00:05,  2.52it/s]\n"
     ]
    },
    {
     "name": "stdout",
     "output_type": "stream",
     "text": [
      "Epoch [56/200], Loss: 0.6625, Entity ID Acc: 72.7754%, Entity state Acc: 86.23%, Time Pred Loss: 0.0284\n"
     ]
    },
    {
     "name": "stderr",
     "output_type": "stream",
     "text": [
      "Epoch 57/200: 15it [00:05,  2.59it/s]\n"
     ]
    },
    {
     "name": "stdout",
     "output_type": "stream",
     "text": [
      "Epoch [57/200], Loss: 0.6984, Entity ID Acc: 72.7754%, Entity state Acc: 84.96%, Time Pred Loss: 0.0118\n"
     ]
    },
    {
     "name": "stderr",
     "output_type": "stream",
     "text": [
      "Epoch 58/200: 15it [00:06,  2.32it/s]\n"
     ]
    },
    {
     "name": "stdout",
     "output_type": "stream",
     "text": [
      "Epoch [58/200], Loss: 0.6954, Entity ID Acc: 70.9746%, Entity state Acc: 86.23%, Time Pred Loss: 0.0134\n"
     ]
    },
    {
     "name": "stderr",
     "output_type": "stream",
     "text": [
      "Epoch 59/200: 15it [00:05,  2.52it/s]\n"
     ]
    },
    {
     "name": "stdout",
     "output_type": "stream",
     "text": [
      "Epoch [59/200], Loss: 0.6453, Entity ID Acc: 74.3644%, Entity state Acc: 85.70%, Time Pred Loss: 0.0185\n"
     ]
    },
    {
     "name": "stderr",
     "output_type": "stream",
     "text": [
      "Epoch 60/200: 15it [00:06,  2.43it/s]\n"
     ]
    },
    {
     "name": "stdout",
     "output_type": "stream",
     "text": [
      "Epoch [60/200], Loss: 0.6502, Entity ID Acc: 72.0339%, Entity state Acc: 86.02%, Time Pred Loss: 0.0119\n"
     ]
    },
    {
     "name": "stderr",
     "output_type": "stream",
     "text": [
      "Epoch 61/200: 15it [00:05,  2.51it/s]\n"
     ]
    },
    {
     "name": "stdout",
     "output_type": "stream",
     "text": [
      "Epoch [61/200], Loss: 0.6882, Entity ID Acc: 71.9280%, Entity state Acc: 83.26%, Time Pred Loss: 0.0081\n"
     ]
    },
    {
     "name": "stderr",
     "output_type": "stream",
     "text": [
      "Epoch 62/200: 15it [00:05,  2.52it/s]\n"
     ]
    },
    {
     "name": "stdout",
     "output_type": "stream",
     "text": [
      "Epoch [62/200], Loss: 0.6957, Entity ID Acc: 70.8686%, Entity state Acc: 85.49%, Time Pred Loss: 0.0038\n"
     ]
    },
    {
     "name": "stderr",
     "output_type": "stream",
     "text": [
      "Epoch 63/200: 15it [00:06,  2.50it/s]\n"
     ]
    },
    {
     "name": "stdout",
     "output_type": "stream",
     "text": [
      "Epoch [63/200], Loss: 0.6110, Entity ID Acc: 74.3644%, Entity state Acc: 88.24%, Time Pred Loss: 0.0027\n"
     ]
    },
    {
     "name": "stderr",
     "output_type": "stream",
     "text": [
      "Epoch 64/200: 15it [00:05,  2.57it/s]\n"
     ]
    },
    {
     "name": "stdout",
     "output_type": "stream",
     "text": [
      "Epoch [64/200], Loss: 0.5762, Entity ID Acc: 75.7415%, Entity state Acc: 89.09%, Time Pred Loss: 0.0040\n"
     ]
    },
    {
     "name": "stderr",
     "output_type": "stream",
     "text": [
      "Epoch 65/200: 15it [00:06,  2.37it/s]\n"
     ]
    },
    {
     "name": "stdout",
     "output_type": "stream",
     "text": [
      "Epoch [65/200], Loss: 0.6317, Entity ID Acc: 72.1398%, Entity state Acc: 87.08%, Time Pred Loss: 0.0053\n"
     ]
    },
    {
     "name": "stderr",
     "output_type": "stream",
     "text": [
      "Epoch 66/200: 15it [00:06,  2.39it/s]\n"
     ]
    },
    {
     "name": "stdout",
     "output_type": "stream",
     "text": [
      "Epoch [66/200], Loss: 0.5782, Entity ID Acc: 75.7415%, Entity state Acc: 86.55%, Time Pred Loss: 0.0033\n"
     ]
    },
    {
     "name": "stderr",
     "output_type": "stream",
     "text": [
      "Epoch 67/200: 15it [00:06,  2.32it/s]\n"
     ]
    },
    {
     "name": "stdout",
     "output_type": "stream",
     "text": [
      "Epoch [67/200], Loss: 0.6009, Entity ID Acc: 74.5763%, Entity state Acc: 89.09%, Time Pred Loss: 0.0041\n"
     ]
    },
    {
     "name": "stderr",
     "output_type": "stream",
     "text": [
      "Epoch 68/200: 15it [00:05,  2.56it/s]\n"
     ]
    },
    {
     "name": "stdout",
     "output_type": "stream",
     "text": [
      "Epoch [68/200], Loss: 0.7168, Entity ID Acc: 69.5975%, Entity state Acc: 84.75%, Time Pred Loss: 0.0041\n"
     ]
    },
    {
     "name": "stderr",
     "output_type": "stream",
     "text": [
      "Epoch 69/200: 15it [00:05,  2.59it/s]\n"
     ]
    },
    {
     "name": "stdout",
     "output_type": "stream",
     "text": [
      "Epoch [69/200], Loss: 0.6454, Entity ID Acc: 73.4110%, Entity state Acc: 85.38%, Time Pred Loss: 0.0051\n"
     ]
    },
    {
     "name": "stderr",
     "output_type": "stream",
     "text": [
      "Epoch 70/200: 15it [00:05,  2.54it/s]\n"
     ]
    },
    {
     "name": "stdout",
     "output_type": "stream",
     "text": [
      "Epoch [70/200], Loss: 0.5686, Entity ID Acc: 76.6949%, Entity state Acc: 88.03%, Time Pred Loss: 0.0059\n"
     ]
    },
    {
     "name": "stderr",
     "output_type": "stream",
     "text": [
      "Epoch 71/200: 15it [00:06,  2.49it/s]\n"
     ]
    },
    {
     "name": "stdout",
     "output_type": "stream",
     "text": [
      "Epoch [71/200], Loss: 0.5521, Entity ID Acc: 77.4364%, Entity state Acc: 89.51%, Time Pred Loss: 0.0084\n"
     ]
    },
    {
     "name": "stderr",
     "output_type": "stream",
     "text": [
      "Epoch 72/200: 15it [00:06,  2.41it/s]\n"
     ]
    },
    {
     "name": "stdout",
     "output_type": "stream",
     "text": [
      "Epoch [72/200], Loss: 0.5225, Entity ID Acc: 77.8602%, Entity state Acc: 90.25%, Time Pred Loss: 0.0112\n"
     ]
    },
    {
     "name": "stderr",
     "output_type": "stream",
     "text": [
      "Epoch 73/200: 15it [00:06,  2.45it/s]\n"
     ]
    },
    {
     "name": "stdout",
     "output_type": "stream",
     "text": [
      "Epoch [73/200], Loss: 0.5364, Entity ID Acc: 78.1780%, Entity state Acc: 89.62%, Time Pred Loss: 0.0082\n"
     ]
    },
    {
     "name": "stderr",
     "output_type": "stream",
     "text": [
      "Epoch 74/200: 15it [00:08,  1.72it/s]\n"
     ]
    },
    {
     "name": "stdout",
     "output_type": "stream",
     "text": [
      "Epoch [74/200], Loss: 0.5081, Entity ID Acc: 79.9788%, Entity state Acc: 91.10%, Time Pred Loss: 0.0048\n"
     ]
    },
    {
     "name": "stderr",
     "output_type": "stream",
     "text": [
      "Epoch 75/200: 15it [00:06,  2.36it/s]\n"
     ]
    },
    {
     "name": "stdout",
     "output_type": "stream",
     "text": [
      "Epoch [75/200], Loss: 0.5288, Entity ID Acc: 77.5424%, Entity state Acc: 88.45%, Time Pred Loss: 0.0117\n"
     ]
    },
    {
     "name": "stderr",
     "output_type": "stream",
     "text": [
      "Epoch 76/200: 15it [00:06,  2.25it/s]\n"
     ]
    },
    {
     "name": "stdout",
     "output_type": "stream",
     "text": [
      "Epoch [76/200], Loss: 0.5621, Entity ID Acc: 76.3771%, Entity state Acc: 89.72%, Time Pred Loss: 0.0134\n"
     ]
    },
    {
     "name": "stderr",
     "output_type": "stream",
     "text": [
      "Epoch 77/200: 15it [00:06,  2.43it/s]\n"
     ]
    },
    {
     "name": "stdout",
     "output_type": "stream",
     "text": [
      "Epoch [77/200], Loss: 0.5579, Entity ID Acc: 76.1653%, Entity state Acc: 87.18%, Time Pred Loss: 0.0125\n"
     ]
    },
    {
     "name": "stderr",
     "output_type": "stream",
     "text": [
      "Epoch 78/200: 15it [00:05,  2.55it/s]\n"
     ]
    },
    {
     "name": "stdout",
     "output_type": "stream",
     "text": [
      "Epoch [78/200], Loss: 0.5492, Entity ID Acc: 77.1186%, Entity state Acc: 88.56%, Time Pred Loss: 0.0057\n"
     ]
    },
    {
     "name": "stderr",
     "output_type": "stream",
     "text": [
      "Epoch 79/200: 15it [00:05,  2.58it/s]\n"
     ]
    },
    {
     "name": "stdout",
     "output_type": "stream",
     "text": [
      "Epoch [79/200], Loss: 0.5007, Entity ID Acc: 78.2839%, Entity state Acc: 90.68%, Time Pred Loss: 0.0043\n"
     ]
    },
    {
     "name": "stderr",
     "output_type": "stream",
     "text": [
      "Epoch 80/200: 15it [00:06,  2.20it/s]\n"
     ]
    },
    {
     "name": "stdout",
     "output_type": "stream",
     "text": [
      "Epoch [80/200], Loss: 0.4898, Entity ID Acc: 78.3898%, Entity state Acc: 90.47%, Time Pred Loss: 0.0022\n"
     ]
    },
    {
     "name": "stderr",
     "output_type": "stream",
     "text": [
      "Epoch 81/200: 15it [00:06,  2.25it/s]\n"
     ]
    },
    {
     "name": "stdout",
     "output_type": "stream",
     "text": [
      "Epoch [81/200], Loss: 0.4871, Entity ID Acc: 78.8136%, Entity state Acc: 92.80%, Time Pred Loss: 0.0025\n"
     ]
    },
    {
     "name": "stderr",
     "output_type": "stream",
     "text": [
      "Epoch 82/200: 15it [00:06,  2.37it/s]\n"
     ]
    },
    {
     "name": "stdout",
     "output_type": "stream",
     "text": [
      "Epoch [82/200], Loss: 0.5296, Entity ID Acc: 76.1653%, Entity state Acc: 92.48%, Time Pred Loss: 0.0040\n"
     ]
    },
    {
     "name": "stderr",
     "output_type": "stream",
     "text": [
      "Epoch 83/200: 15it [00:06,  2.35it/s]\n"
     ]
    },
    {
     "name": "stdout",
     "output_type": "stream",
     "text": [
      "Epoch [83/200], Loss: 0.5389, Entity ID Acc: 76.5890%, Entity state Acc: 89.19%, Time Pred Loss: 0.0052\n"
     ]
    },
    {
     "name": "stderr",
     "output_type": "stream",
     "text": [
      "Epoch 84/200: 15it [00:06,  2.49it/s]\n"
     ]
    },
    {
     "name": "stdout",
     "output_type": "stream",
     "text": [
      "Epoch [84/200], Loss: 0.5317, Entity ID Acc: 76.5890%, Entity state Acc: 90.25%, Time Pred Loss: 0.0032\n"
     ]
    },
    {
     "name": "stderr",
     "output_type": "stream",
     "text": [
      "Epoch 85/200: 15it [00:05,  2.57it/s]\n"
     ]
    },
    {
     "name": "stdout",
     "output_type": "stream",
     "text": [
      "Epoch [85/200], Loss: 0.5376, Entity ID Acc: 76.6949%, Entity state Acc: 91.53%, Time Pred Loss: 0.0028\n"
     ]
    },
    {
     "name": "stderr",
     "output_type": "stream",
     "text": [
      "Epoch 86/200: 15it [00:06,  2.45it/s]\n"
     ]
    },
    {
     "name": "stdout",
     "output_type": "stream",
     "text": [
      "Epoch [86/200], Loss: 0.5259, Entity ID Acc: 76.8008%, Entity state Acc: 92.80%, Time Pred Loss: 0.0044\n"
     ]
    },
    {
     "name": "stderr",
     "output_type": "stream",
     "text": [
      "Epoch 87/200: 15it [00:06,  2.35it/s]\n"
     ]
    },
    {
     "name": "stdout",
     "output_type": "stream",
     "text": [
      "Epoch [87/200], Loss: 0.4968, Entity ID Acc: 78.6017%, Entity state Acc: 88.98%, Time Pred Loss: 0.0045\n"
     ]
    },
    {
     "name": "stderr",
     "output_type": "stream",
     "text": [
      "Epoch 88/200: 15it [00:05,  2.50it/s]\n"
     ]
    },
    {
     "name": "stdout",
     "output_type": "stream",
     "text": [
      "Epoch [88/200], Loss: 0.4662, Entity ID Acc: 81.1441%, Entity state Acc: 89.51%, Time Pred Loss: 0.0056\n"
     ]
    },
    {
     "name": "stderr",
     "output_type": "stream",
     "text": [
      "Epoch 89/200: 15it [00:05,  2.53it/s]\n"
     ]
    },
    {
     "name": "stdout",
     "output_type": "stream",
     "text": [
      "Epoch [89/200], Loss: 0.4516, Entity ID Acc: 81.2500%, Entity state Acc: 93.43%, Time Pred Loss: 0.0029\n"
     ]
    },
    {
     "name": "stderr",
     "output_type": "stream",
     "text": [
      "Epoch 90/200: 15it [00:06,  2.44it/s]\n"
     ]
    },
    {
     "name": "stdout",
     "output_type": "stream",
     "text": [
      "Epoch [90/200], Loss: 0.4508, Entity ID Acc: 81.2500%, Entity state Acc: 92.80%, Time Pred Loss: 0.0028\n"
     ]
    },
    {
     "name": "stderr",
     "output_type": "stream",
     "text": [
      "Epoch 91/200: 15it [00:06,  2.47it/s]\n"
     ]
    },
    {
     "name": "stdout",
     "output_type": "stream",
     "text": [
      "Epoch [91/200], Loss: 0.4215, Entity ID Acc: 81.8856%, Entity state Acc: 93.64%, Time Pred Loss: 0.0021\n"
     ]
    },
    {
     "name": "stderr",
     "output_type": "stream",
     "text": [
      "Epoch 92/200: 15it [00:05,  2.60it/s]\n"
     ]
    },
    {
     "name": "stdout",
     "output_type": "stream",
     "text": [
      "Epoch [92/200], Loss: 0.4391, Entity ID Acc: 81.3559%, Entity state Acc: 92.69%, Time Pred Loss: 0.0015\n"
     ]
    },
    {
     "name": "stderr",
     "output_type": "stream",
     "text": [
      "Epoch 93/200: 15it [00:05,  2.51it/s]\n"
     ]
    },
    {
     "name": "stdout",
     "output_type": "stream",
     "text": [
      "Epoch [93/200], Loss: 0.4555, Entity ID Acc: 80.6144%, Entity state Acc: 94.07%, Time Pred Loss: 0.0018\n"
     ]
    },
    {
     "name": "stderr",
     "output_type": "stream",
     "text": [
      "Epoch 94/200: 15it [00:06,  2.44it/s]\n"
     ]
    },
    {
     "name": "stdout",
     "output_type": "stream",
     "text": [
      "Epoch [94/200], Loss: 0.4228, Entity ID Acc: 81.2500%, Entity state Acc: 94.39%, Time Pred Loss: 0.0016\n"
     ]
    },
    {
     "name": "stderr",
     "output_type": "stream",
     "text": [
      "Epoch 95/200: 15it [00:06,  2.26it/s]\n"
     ]
    },
    {
     "name": "stdout",
     "output_type": "stream",
     "text": [
      "Epoch [95/200], Loss: 0.4363, Entity ID Acc: 81.7797%, Entity state Acc: 93.33%, Time Pred Loss: 0.0026\n"
     ]
    },
    {
     "name": "stderr",
     "output_type": "stream",
     "text": [
      "Epoch 96/200: 15it [00:06,  2.45it/s]\n"
     ]
    },
    {
     "name": "stdout",
     "output_type": "stream",
     "text": [
      "Epoch [96/200], Loss: 0.4218, Entity ID Acc: 81.5678%, Entity state Acc: 94.49%, Time Pred Loss: 0.0022\n"
     ]
    },
    {
     "name": "stderr",
     "output_type": "stream",
     "text": [
      "Epoch 97/200: 15it [00:05,  2.50it/s]\n"
     ]
    },
    {
     "name": "stdout",
     "output_type": "stream",
     "text": [
      "Epoch [97/200], Loss: 0.4295, Entity ID Acc: 81.3559%, Entity state Acc: 92.06%, Time Pred Loss: 0.0030\n"
     ]
    },
    {
     "name": "stderr",
     "output_type": "stream",
     "text": [
      "Epoch 98/200: 15it [00:06,  2.39it/s]\n"
     ]
    },
    {
     "name": "stdout",
     "output_type": "stream",
     "text": [
      "Epoch [98/200], Loss: 0.4130, Entity ID Acc: 83.6864%, Entity state Acc: 90.68%, Time Pred Loss: 0.0023\n"
     ]
    },
    {
     "name": "stderr",
     "output_type": "stream",
     "text": [
      "Epoch 99/200: 15it [00:07,  2.13it/s]\n"
     ]
    },
    {
     "name": "stdout",
     "output_type": "stream",
     "text": [
      "Epoch [99/200], Loss: 0.4050, Entity ID Acc: 84.2161%, Entity state Acc: 90.78%, Time Pred Loss: 0.0022\n"
     ]
    },
    {
     "name": "stderr",
     "output_type": "stream",
     "text": [
      "Epoch 100/200: 15it [00:06,  2.31it/s]\n"
     ]
    },
    {
     "name": "stdout",
     "output_type": "stream",
     "text": [
      "Epoch [100/200], Loss: 0.4025, Entity ID Acc: 83.4746%, Entity state Acc: 90.57%, Time Pred Loss: 0.0019\n"
     ]
    },
    {
     "name": "stderr",
     "output_type": "stream",
     "text": [
      "Epoch 101/200: 15it [00:06,  2.49it/s]\n"
     ]
    },
    {
     "name": "stdout",
     "output_type": "stream",
     "text": [
      "Epoch [101/200], Loss: 0.3980, Entity ID Acc: 82.6271%, Entity state Acc: 93.11%, Time Pred Loss: 0.0024\n"
     ]
    },
    {
     "name": "stderr",
     "output_type": "stream",
     "text": [
      "Epoch 102/200: 15it [00:05,  2.62it/s]\n"
     ]
    },
    {
     "name": "stdout",
     "output_type": "stream",
     "text": [
      "Epoch [102/200], Loss: 0.3872, Entity ID Acc: 83.5805%, Entity state Acc: 94.81%, Time Pred Loss: 0.0025\n"
     ]
    },
    {
     "name": "stderr",
     "output_type": "stream",
     "text": [
      "Epoch 103/200: 15it [00:05,  2.52it/s]\n"
     ]
    },
    {
     "name": "stdout",
     "output_type": "stream",
     "text": [
      "Epoch [103/200], Loss: 0.3676, Entity ID Acc: 83.7924%, Entity state Acc: 94.49%, Time Pred Loss: 0.0026\n"
     ]
    },
    {
     "name": "stderr",
     "output_type": "stream",
     "text": [
      "Epoch 104/200: 15it [00:05,  2.53it/s]\n"
     ]
    },
    {
     "name": "stdout",
     "output_type": "stream",
     "text": [
      "Epoch [104/200], Loss: 0.3902, Entity ID Acc: 83.4746%, Entity state Acc: 95.13%, Time Pred Loss: 0.0017\n"
     ]
    },
    {
     "name": "stderr",
     "output_type": "stream",
     "text": [
      "Epoch 105/200: 15it [00:06,  2.22it/s]\n"
     ]
    },
    {
     "name": "stdout",
     "output_type": "stream",
     "text": [
      "Epoch [105/200], Loss: 0.3971, Entity ID Acc: 82.6271%, Entity state Acc: 93.96%, Time Pred Loss: 0.0033\n"
     ]
    },
    {
     "name": "stderr",
     "output_type": "stream",
     "text": [
      "Epoch 106/200: 15it [00:06,  2.21it/s]\n"
     ]
    },
    {
     "name": "stdout",
     "output_type": "stream",
     "text": [
      "Epoch [106/200], Loss: 0.4185, Entity ID Acc: 80.4025%, Entity state Acc: 94.39%, Time Pred Loss: 0.0018\n"
     ]
    },
    {
     "name": "stderr",
     "output_type": "stream",
     "text": [
      "Epoch 107/200: 15it [00:06,  2.19it/s]\n"
     ]
    },
    {
     "name": "stdout",
     "output_type": "stream",
     "text": [
      "Epoch [107/200], Loss: 0.3905, Entity ID Acc: 81.8856%, Entity state Acc: 95.23%, Time Pred Loss: 0.0017\n"
     ]
    },
    {
     "name": "stderr",
     "output_type": "stream",
     "text": [
      "Epoch 108/200: 15it [00:06,  2.39it/s]\n"
     ]
    },
    {
     "name": "stdout",
     "output_type": "stream",
     "text": [
      "Epoch [108/200], Loss: 0.3681, Entity ID Acc: 82.9449%, Entity state Acc: 95.23%, Time Pred Loss: 0.0020\n"
     ]
    },
    {
     "name": "stderr",
     "output_type": "stream",
     "text": [
      "Epoch 109/200: 15it [00:06,  2.20it/s]\n"
     ]
    },
    {
     "name": "stdout",
     "output_type": "stream",
     "text": [
      "Epoch [109/200], Loss: 0.3502, Entity ID Acc: 84.8517%, Entity state Acc: 95.66%, Time Pred Loss: 0.0024\n"
     ]
    },
    {
     "name": "stderr",
     "output_type": "stream",
     "text": [
      "Epoch 110/200: 15it [00:06,  2.20it/s]\n"
     ]
    },
    {
     "name": "stdout",
     "output_type": "stream",
     "text": [
      "Epoch [110/200], Loss: 0.3523, Entity ID Acc: 84.5339%, Entity state Acc: 96.72%, Time Pred Loss: 0.0026\n"
     ]
    },
    {
     "name": "stderr",
     "output_type": "stream",
     "text": [
      "Epoch 111/200: 15it [00:06,  2.37it/s]\n"
     ]
    },
    {
     "name": "stdout",
     "output_type": "stream",
     "text": [
      "Epoch [111/200], Loss: 0.3660, Entity ID Acc: 83.8983%, Entity state Acc: 95.02%, Time Pred Loss: 0.0021\n"
     ]
    },
    {
     "name": "stderr",
     "output_type": "stream",
     "text": [
      "Epoch 112/200: 15it [00:06,  2.25it/s]\n"
     ]
    },
    {
     "name": "stdout",
     "output_type": "stream",
     "text": [
      "Epoch [112/200], Loss: 0.3777, Entity ID Acc: 82.9449%, Entity state Acc: 95.55%, Time Pred Loss: 0.0013\n"
     ]
    },
    {
     "name": "stderr",
     "output_type": "stream",
     "text": [
      "Epoch 113/200: 15it [00:06,  2.42it/s]\n"
     ]
    },
    {
     "name": "stdout",
     "output_type": "stream",
     "text": [
      "Epoch [113/200], Loss: 0.3311, Entity ID Acc: 85.8051%, Entity state Acc: 96.61%, Time Pred Loss: 0.0018\n"
     ]
    },
    {
     "name": "stderr",
     "output_type": "stream",
     "text": [
      "Epoch 114/200: 15it [00:05,  2.54it/s]\n"
     ]
    },
    {
     "name": "stdout",
     "output_type": "stream",
     "text": [
      "Epoch [114/200], Loss: 0.3533, Entity ID Acc: 84.8517%, Entity state Acc: 95.34%, Time Pred Loss: 0.0017\n"
     ]
    },
    {
     "name": "stderr",
     "output_type": "stream",
     "text": [
      "Epoch 115/200: 15it [00:05,  2.53it/s]\n"
     ]
    },
    {
     "name": "stdout",
     "output_type": "stream",
     "text": [
      "Epoch [115/200], Loss: 0.3656, Entity ID Acc: 84.5339%, Entity state Acc: 94.49%, Time Pred Loss: 0.0017\n"
     ]
    },
    {
     "name": "stderr",
     "output_type": "stream",
     "text": [
      "Epoch 116/200: 15it [00:06,  2.49it/s]\n"
     ]
    },
    {
     "name": "stdout",
     "output_type": "stream",
     "text": [
      "Epoch [116/200], Loss: 0.3769, Entity ID Acc: 83.3686%, Entity state Acc: 94.39%, Time Pred Loss: 0.0016\n"
     ]
    },
    {
     "name": "stderr",
     "output_type": "stream",
     "text": [
      "Epoch 117/200: 15it [00:06,  2.32it/s]\n"
     ]
    },
    {
     "name": "stdout",
     "output_type": "stream",
     "text": [
      "Epoch [117/200], Loss: 0.3426, Entity ID Acc: 84.5339%, Entity state Acc: 94.39%, Time Pred Loss: 0.0019\n"
     ]
    },
    {
     "name": "stderr",
     "output_type": "stream",
     "text": [
      "Epoch 118/200: 15it [00:06,  2.25it/s]\n"
     ]
    },
    {
     "name": "stdout",
     "output_type": "stream",
     "text": [
      "Epoch [118/200], Loss: 0.3443, Entity ID Acc: 85.8051%, Entity state Acc: 96.40%, Time Pred Loss: 0.0028\n"
     ]
    },
    {
     "name": "stderr",
     "output_type": "stream",
     "text": [
      "Epoch 119/200: 15it [00:06,  2.19it/s]\n"
     ]
    },
    {
     "name": "stdout",
     "output_type": "stream",
     "text": [
      "Epoch [119/200], Loss: 0.3495, Entity ID Acc: 84.9576%, Entity state Acc: 95.13%, Time Pred Loss: 0.0026\n"
     ]
    },
    {
     "name": "stderr",
     "output_type": "stream",
     "text": [
      "Epoch 120/200: 15it [00:07,  2.10it/s]\n"
     ]
    },
    {
     "name": "stdout",
     "output_type": "stream",
     "text": [
      "Epoch [120/200], Loss: 0.3180, Entity ID Acc: 85.2754%, Entity state Acc: 95.23%, Time Pred Loss: 0.0018\n"
     ]
    },
    {
     "name": "stderr",
     "output_type": "stream",
     "text": [
      "Epoch 121/200: 15it [00:06,  2.24it/s]\n"
     ]
    },
    {
     "name": "stdout",
     "output_type": "stream",
     "text": [
      "Epoch [121/200], Loss: 0.3502, Entity ID Acc: 85.2754%, Entity state Acc: 93.64%, Time Pred Loss: 0.0019\n"
     ]
    },
    {
     "name": "stderr",
     "output_type": "stream",
     "text": [
      "Epoch 122/200: 15it [00:06,  2.22it/s]\n"
     ]
    },
    {
     "name": "stdout",
     "output_type": "stream",
     "text": [
      "Epoch [122/200], Loss: 0.3551, Entity ID Acc: 83.7924%, Entity state Acc: 95.34%, Time Pred Loss: 0.0016\n"
     ]
    },
    {
     "name": "stderr",
     "output_type": "stream",
     "text": [
      "Epoch 123/200: 15it [00:06,  2.23it/s]\n"
     ]
    },
    {
     "name": "stdout",
     "output_type": "stream",
     "text": [
      "Epoch [123/200], Loss: 0.3736, Entity ID Acc: 83.5805%, Entity state Acc: 94.39%, Time Pred Loss: 0.0021\n"
     ]
    },
    {
     "name": "stderr",
     "output_type": "stream",
     "text": [
      "Epoch 124/200: 15it [00:06,  2.43it/s]\n"
     ]
    },
    {
     "name": "stdout",
     "output_type": "stream",
     "text": [
      "Epoch [124/200], Loss: 0.3383, Entity ID Acc: 84.3220%, Entity state Acc: 93.22%, Time Pred Loss: 0.0024\n"
     ]
    },
    {
     "name": "stderr",
     "output_type": "stream",
     "text": [
      "Epoch 125/200: 15it [00:06,  2.31it/s]\n"
     ]
    },
    {
     "name": "stdout",
     "output_type": "stream",
     "text": [
      "Epoch [125/200], Loss: 0.2914, Entity ID Acc: 88.2415%, Entity state Acc: 95.23%, Time Pred Loss: 0.0017\n"
     ]
    },
    {
     "name": "stderr",
     "output_type": "stream",
     "text": [
      "Epoch 126/200: 15it [00:06,  2.16it/s]\n"
     ]
    },
    {
     "name": "stdout",
     "output_type": "stream",
     "text": [
      "Epoch [126/200], Loss: 0.3206, Entity ID Acc: 86.3347%, Entity state Acc: 93.64%, Time Pred Loss: 0.0019\n"
     ]
    },
    {
     "name": "stderr",
     "output_type": "stream",
     "text": [
      "Epoch 127/200: 15it [00:06,  2.44it/s]\n"
     ]
    },
    {
     "name": "stdout",
     "output_type": "stream",
     "text": [
      "Epoch [127/200], Loss: 0.3124, Entity ID Acc: 86.5466%, Entity state Acc: 94.28%, Time Pred Loss: 0.0024\n"
     ]
    },
    {
     "name": "stderr",
     "output_type": "stream",
     "text": [
      "Epoch 128/200: 15it [00:05,  2.50it/s]\n"
     ]
    },
    {
     "name": "stdout",
     "output_type": "stream",
     "text": [
      "Epoch [128/200], Loss: 0.3115, Entity ID Acc: 86.5466%, Entity state Acc: 94.28%, Time Pred Loss: 0.0022\n"
     ]
    },
    {
     "name": "stderr",
     "output_type": "stream",
     "text": [
      "Epoch 129/200: 15it [00:06,  2.50it/s]\n"
     ]
    },
    {
     "name": "stdout",
     "output_type": "stream",
     "text": [
      "Epoch [129/200], Loss: 0.3131, Entity ID Acc: 86.2288%, Entity state Acc: 96.08%, Time Pred Loss: 0.0020\n"
     ]
    },
    {
     "name": "stderr",
     "output_type": "stream",
     "text": [
      "Epoch 130/200: 15it [00:06,  2.44it/s]\n"
     ]
    },
    {
     "name": "stdout",
     "output_type": "stream",
     "text": [
      "Epoch [130/200], Loss: 0.3018, Entity ID Acc: 87.8178%, Entity state Acc: 95.66%, Time Pred Loss: 0.0017\n"
     ]
    },
    {
     "name": "stderr",
     "output_type": "stream",
     "text": [
      "Epoch 131/200: 15it [00:06,  2.40it/s]\n"
     ]
    },
    {
     "name": "stdout",
     "output_type": "stream",
     "text": [
      "Epoch [131/200], Loss: 0.2940, Entity ID Acc: 87.8178%, Entity state Acc: 95.87%, Time Pred Loss: 0.0015\n"
     ]
    },
    {
     "name": "stderr",
     "output_type": "stream",
     "text": [
      "Epoch 132/200: 15it [00:06,  2.41it/s]\n"
     ]
    },
    {
     "name": "stdout",
     "output_type": "stream",
     "text": [
      "Epoch [132/200], Loss: 0.3020, Entity ID Acc: 86.8644%, Entity state Acc: 94.28%, Time Pred Loss: 0.0023\n"
     ]
    },
    {
     "name": "stderr",
     "output_type": "stream",
     "text": [
      "Epoch 133/200: 15it [00:05,  2.60it/s]\n"
     ]
    },
    {
     "name": "stdout",
     "output_type": "stream",
     "text": [
      "Epoch [133/200], Loss: 0.2921, Entity ID Acc: 86.4407%, Entity state Acc: 95.23%, Time Pred Loss: 0.0022\n"
     ]
    },
    {
     "name": "stderr",
     "output_type": "stream",
     "text": [
      "Epoch 134/200: 15it [00:05,  2.62it/s]\n"
     ]
    },
    {
     "name": "stdout",
     "output_type": "stream",
     "text": [
      "Epoch [134/200], Loss: 0.2838, Entity ID Acc: 88.5593%, Entity state Acc: 94.81%, Time Pred Loss: 0.0024\n"
     ]
    },
    {
     "name": "stderr",
     "output_type": "stream",
     "text": [
      "Epoch 135/200: 15it [00:06,  2.16it/s]\n"
     ]
    },
    {
     "name": "stdout",
     "output_type": "stream",
     "text": [
      "Epoch [135/200], Loss: 0.2698, Entity ID Acc: 88.3475%, Entity state Acc: 95.76%, Time Pred Loss: 0.0021\n"
     ]
    },
    {
     "name": "stderr",
     "output_type": "stream",
     "text": [
      "Epoch 136/200: 15it [00:07,  1.94it/s]\n"
     ]
    },
    {
     "name": "stdout",
     "output_type": "stream",
     "text": [
      "Epoch [136/200], Loss: 0.2558, Entity ID Acc: 89.7246%, Entity state Acc: 97.14%, Time Pred Loss: 0.0024\n"
     ]
    },
    {
     "name": "stderr",
     "output_type": "stream",
     "text": [
      "Epoch 137/200: 15it [00:06,  2.39it/s]\n"
     ]
    },
    {
     "name": "stdout",
     "output_type": "stream",
     "text": [
      "Epoch [137/200], Loss: 0.2749, Entity ID Acc: 87.7119%, Entity state Acc: 95.44%, Time Pred Loss: 0.0024\n"
     ]
    },
    {
     "name": "stderr",
     "output_type": "stream",
     "text": [
      "Epoch 138/200: 15it [00:06,  2.23it/s]\n"
     ]
    },
    {
     "name": "stdout",
     "output_type": "stream",
     "text": [
      "Epoch [138/200], Loss: 0.2517, Entity ID Acc: 90.4661%, Entity state Acc: 96.82%, Time Pred Loss: 0.0019\n"
     ]
    },
    {
     "name": "stderr",
     "output_type": "stream",
     "text": [
      "Epoch 139/200: 15it [00:06,  2.35it/s]\n"
     ]
    },
    {
     "name": "stdout",
     "output_type": "stream",
     "text": [
      "Epoch [139/200], Loss: 0.2786, Entity ID Acc: 87.7119%, Entity state Acc: 96.08%, Time Pred Loss: 0.0018\n"
     ]
    },
    {
     "name": "stderr",
     "output_type": "stream",
     "text": [
      "Epoch 140/200: 15it [00:06,  2.34it/s]\n"
     ]
    },
    {
     "name": "stdout",
     "output_type": "stream",
     "text": [
      "Epoch [140/200], Loss: 0.2870, Entity ID Acc: 86.7585%, Entity state Acc: 93.75%, Time Pred Loss: 0.0021\n"
     ]
    },
    {
     "name": "stderr",
     "output_type": "stream",
     "text": [
      "Epoch 141/200: 15it [00:07,  2.09it/s]\n"
     ]
    },
    {
     "name": "stdout",
     "output_type": "stream",
     "text": [
      "Epoch [141/200], Loss: 0.2773, Entity ID Acc: 88.4534%, Entity state Acc: 94.81%, Time Pred Loss: 0.0026\n"
     ]
    },
    {
     "name": "stderr",
     "output_type": "stream",
     "text": [
      "Epoch 142/200: 15it [00:05,  2.51it/s]\n"
     ]
    },
    {
     "name": "stdout",
     "output_type": "stream",
     "text": [
      "Epoch [142/200], Loss: 0.3114, Entity ID Acc: 86.0169%, Entity state Acc: 94.17%, Time Pred Loss: 0.0014\n"
     ]
    },
    {
     "name": "stderr",
     "output_type": "stream",
     "text": [
      "Epoch 143/200: 15it [00:05,  2.56it/s]\n"
     ]
    },
    {
     "name": "stdout",
     "output_type": "stream",
     "text": [
      "Epoch [143/200], Loss: 0.3517, Entity ID Acc: 83.6864%, Entity state Acc: 94.49%, Time Pred Loss: 0.0020\n"
     ]
    },
    {
     "name": "stderr",
     "output_type": "stream",
     "text": [
      "Epoch 144/200: 15it [00:05,  2.64it/s]\n"
     ]
    },
    {
     "name": "stdout",
     "output_type": "stream",
     "text": [
      "Epoch [144/200], Loss: 0.3156, Entity ID Acc: 85.8051%, Entity state Acc: 94.92%, Time Pred Loss: 0.0014\n"
     ]
    },
    {
     "name": "stderr",
     "output_type": "stream",
     "text": [
      "Epoch 145/200: 15it [00:05,  2.61it/s]\n"
     ]
    },
    {
     "name": "stdout",
     "output_type": "stream",
     "text": [
      "Epoch [145/200], Loss: 0.2812, Entity ID Acc: 88.6653%, Entity state Acc: 96.72%, Time Pred Loss: 0.0012\n"
     ]
    },
    {
     "name": "stderr",
     "output_type": "stream",
     "text": [
      "Epoch 146/200: 15it [00:05,  2.53it/s]\n"
     ]
    },
    {
     "name": "stdout",
     "output_type": "stream",
     "text": [
      "Epoch [146/200], Loss: 0.2588, Entity ID Acc: 89.0890%, Entity state Acc: 96.93%, Time Pred Loss: 0.0018\n"
     ]
    },
    {
     "name": "stderr",
     "output_type": "stream",
     "text": [
      "Epoch 147/200: 15it [00:05,  2.55it/s]\n"
     ]
    },
    {
     "name": "stdout",
     "output_type": "stream",
     "text": [
      "Epoch [147/200], Loss: 0.2603, Entity ID Acc: 88.8771%, Entity state Acc: 97.35%, Time Pred Loss: 0.0021\n"
     ]
    },
    {
     "name": "stderr",
     "output_type": "stream",
     "text": [
      "Epoch 148/200: 15it [00:05,  2.51it/s]\n"
     ]
    },
    {
     "name": "stdout",
     "output_type": "stream",
     "text": [
      "Epoch [148/200], Loss: 0.2425, Entity ID Acc: 89.9364%, Entity state Acc: 97.88%, Time Pred Loss: 0.0014\n"
     ]
    },
    {
     "name": "stderr",
     "output_type": "stream",
     "text": [
      "Epoch 149/200: 15it [00:06,  2.21it/s]\n"
     ]
    },
    {
     "name": "stdout",
     "output_type": "stream",
     "text": [
      "Epoch [149/200], Loss: 0.2516, Entity ID Acc: 89.5127%, Entity state Acc: 96.82%, Time Pred Loss: 0.0015\n"
     ]
    },
    {
     "name": "stderr",
     "output_type": "stream",
     "text": [
      "Epoch 150/200: 15it [00:06,  2.27it/s]\n"
     ]
    },
    {
     "name": "stdout",
     "output_type": "stream",
     "text": [
      "Epoch [150/200], Loss: 0.2384, Entity ID Acc: 89.7246%, Entity state Acc: 97.25%, Time Pred Loss: 0.0017\n"
     ]
    },
    {
     "name": "stderr",
     "output_type": "stream",
     "text": [
      "Epoch 151/200: 15it [00:06,  2.36it/s]\n"
     ]
    },
    {
     "name": "stdout",
     "output_type": "stream",
     "text": [
      "Epoch [151/200], Loss: 0.2324, Entity ID Acc: 91.3136%, Entity state Acc: 97.78%, Time Pred Loss: 0.0020\n"
     ]
    },
    {
     "name": "stderr",
     "output_type": "stream",
     "text": [
      "Epoch 152/200: 15it [00:06,  2.38it/s]\n"
     ]
    },
    {
     "name": "stdout",
     "output_type": "stream",
     "text": [
      "Epoch [152/200], Loss: 0.2794, Entity ID Acc: 87.9237%, Entity state Acc: 97.67%, Time Pred Loss: 0.0024\n"
     ]
    },
    {
     "name": "stderr",
     "output_type": "stream",
     "text": [
      "Epoch 153/200: 15it [00:06,  2.33it/s]\n"
     ]
    },
    {
     "name": "stdout",
     "output_type": "stream",
     "text": [
      "Epoch [153/200], Loss: 0.2969, Entity ID Acc: 85.9110%, Entity state Acc: 97.14%, Time Pred Loss: 0.0029\n"
     ]
    },
    {
     "name": "stderr",
     "output_type": "stream",
     "text": [
      "Epoch 154/200: 15it [00:05,  2.56it/s]\n"
     ]
    },
    {
     "name": "stdout",
     "output_type": "stream",
     "text": [
      "Epoch [154/200], Loss: 0.2742, Entity ID Acc: 88.1356%, Entity state Acc: 96.93%, Time Pred Loss: 0.0025\n"
     ]
    },
    {
     "name": "stderr",
     "output_type": "stream",
     "text": [
      "Epoch 155/200: 15it [00:05,  2.54it/s]\n"
     ]
    },
    {
     "name": "stdout",
     "output_type": "stream",
     "text": [
      "Epoch [155/200], Loss: 0.3572, Entity ID Acc: 85.4873%, Entity state Acc: 95.23%, Time Pred Loss: 0.0023\n"
     ]
    },
    {
     "name": "stderr",
     "output_type": "stream",
     "text": [
      "Epoch 156/200: 15it [00:06,  2.44it/s]\n"
     ]
    },
    {
     "name": "stdout",
     "output_type": "stream",
     "text": [
      "Epoch [156/200], Loss: 0.3860, Entity ID Acc: 81.3559%, Entity state Acc: 95.44%, Time Pred Loss: 0.0025\n"
     ]
    },
    {
     "name": "stderr",
     "output_type": "stream",
     "text": [
      "Epoch 157/200: 15it [00:05,  2.52it/s]\n"
     ]
    },
    {
     "name": "stdout",
     "output_type": "stream",
     "text": [
      "Epoch [157/200], Loss: 0.4271, Entity ID Acc: 80.9322%, Entity state Acc: 96.08%, Time Pred Loss: 0.0025\n"
     ]
    },
    {
     "name": "stderr",
     "output_type": "stream",
     "text": [
      "Epoch 158/200: 15it [00:06,  2.47it/s]\n"
     ]
    },
    {
     "name": "stdout",
     "output_type": "stream",
     "text": [
      "Epoch [158/200], Loss: 0.3626, Entity ID Acc: 83.3686%, Entity state Acc: 93.96%, Time Pred Loss: 0.0029\n"
     ]
    },
    {
     "name": "stderr",
     "output_type": "stream",
     "text": [
      "Epoch 159/200: 15it [00:06,  2.48it/s]\n"
     ]
    },
    {
     "name": "stdout",
     "output_type": "stream",
     "text": [
      "Epoch [159/200], Loss: 0.2854, Entity ID Acc: 87.6059%, Entity state Acc: 95.02%, Time Pred Loss: 0.0029\n"
     ]
    },
    {
     "name": "stderr",
     "output_type": "stream",
     "text": [
      "Epoch 160/200: 15it [00:06,  2.36it/s]\n"
     ]
    },
    {
     "name": "stdout",
     "output_type": "stream",
     "text": [
      "Epoch [160/200], Loss: 0.2633, Entity ID Acc: 88.2415%, Entity state Acc: 97.03%, Time Pred Loss: 0.0024\n"
     ]
    },
    {
     "name": "stderr",
     "output_type": "stream",
     "text": [
      "Epoch 161/200: 15it [00:05,  2.58it/s]\n"
     ]
    },
    {
     "name": "stdout",
     "output_type": "stream",
     "text": [
      "Epoch [161/200], Loss: 0.2553, Entity ID Acc: 89.5127%, Entity state Acc: 96.29%, Time Pred Loss: 0.0017\n"
     ]
    },
    {
     "name": "stderr",
     "output_type": "stream",
     "text": [
      "Epoch 162/200: 15it [00:05,  2.52it/s]\n"
     ]
    },
    {
     "name": "stdout",
     "output_type": "stream",
     "text": [
      "Epoch [162/200], Loss: 0.2620, Entity ID Acc: 88.8771%, Entity state Acc: 95.44%, Time Pred Loss: 0.0017\n"
     ]
    },
    {
     "name": "stderr",
     "output_type": "stream",
     "text": [
      "Epoch 163/200: 15it [00:05,  2.51it/s]\n"
     ]
    },
    {
     "name": "stdout",
     "output_type": "stream",
     "text": [
      "Epoch [163/200], Loss: 0.2425, Entity ID Acc: 89.8305%, Entity state Acc: 96.50%, Time Pred Loss: 0.0017\n"
     ]
    },
    {
     "name": "stderr",
     "output_type": "stream",
     "text": [
      "Epoch 164/200: 15it [00:05,  2.52it/s]\n"
     ]
    },
    {
     "name": "stdout",
     "output_type": "stream",
     "text": [
      "Epoch [164/200], Loss: 0.2183, Entity ID Acc: 90.7839%, Entity state Acc: 97.14%, Time Pred Loss: 0.0016\n"
     ]
    },
    {
     "name": "stderr",
     "output_type": "stream",
     "text": [
      "Epoch 165/200: 15it [00:05,  2.58it/s]\n"
     ]
    },
    {
     "name": "stdout",
     "output_type": "stream",
     "text": [
      "Epoch [165/200], Loss: 0.2310, Entity ID Acc: 90.7839%, Entity state Acc: 97.14%, Time Pred Loss: 0.0013\n"
     ]
    },
    {
     "name": "stderr",
     "output_type": "stream",
     "text": [
      "Epoch 166/200: 15it [00:06,  2.50it/s]\n"
     ]
    },
    {
     "name": "stdout",
     "output_type": "stream",
     "text": [
      "Epoch [166/200], Loss: 0.2277, Entity ID Acc: 90.8898%, Entity state Acc: 97.14%, Time Pred Loss: 0.0013\n"
     ]
    },
    {
     "name": "stderr",
     "output_type": "stream",
     "text": [
      "Epoch 167/200: 15it [00:05,  2.53it/s]\n"
     ]
    },
    {
     "name": "stdout",
     "output_type": "stream",
     "text": [
      "Epoch [167/200], Loss: 0.2462, Entity ID Acc: 89.8305%, Entity state Acc: 96.61%, Time Pred Loss: 0.0013\n"
     ]
    },
    {
     "name": "stderr",
     "output_type": "stream",
     "text": [
      "Epoch 168/200: 15it [00:05,  2.60it/s]\n"
     ]
    },
    {
     "name": "stdout",
     "output_type": "stream",
     "text": [
      "Epoch [168/200], Loss: 0.2580, Entity ID Acc: 89.0890%, Entity state Acc: 96.72%, Time Pred Loss: 0.0019\n"
     ]
    },
    {
     "name": "stderr",
     "output_type": "stream",
     "text": [
      "Epoch 169/200: 15it [00:05,  2.59it/s]\n"
     ]
    },
    {
     "name": "stdout",
     "output_type": "stream",
     "text": [
      "Epoch [169/200], Loss: 0.2745, Entity ID Acc: 88.5593%, Entity state Acc: 94.17%, Time Pred Loss: 0.0031\n"
     ]
    },
    {
     "name": "stderr",
     "output_type": "stream",
     "text": [
      "Epoch 170/200: 15it [00:05,  2.51it/s]\n"
     ]
    },
    {
     "name": "stdout",
     "output_type": "stream",
     "text": [
      "Epoch [170/200], Loss: 0.2725, Entity ID Acc: 87.9237%, Entity state Acc: 94.81%, Time Pred Loss: 0.0029\n"
     ]
    },
    {
     "name": "stderr",
     "output_type": "stream",
     "text": [
      "Epoch 171/200: 15it [00:06,  2.47it/s]\n"
     ]
    },
    {
     "name": "stdout",
     "output_type": "stream",
     "text": [
      "Epoch [171/200], Loss: 0.2631, Entity ID Acc: 88.9831%, Entity state Acc: 97.56%, Time Pred Loss: 0.0017\n"
     ]
    },
    {
     "name": "stderr",
     "output_type": "stream",
     "text": [
      "Epoch 172/200: 15it [00:06,  2.35it/s]\n"
     ]
    },
    {
     "name": "stdout",
     "output_type": "stream",
     "text": [
      "Epoch [172/200], Loss: 0.2474, Entity ID Acc: 89.1949%, Entity state Acc: 97.46%, Time Pred Loss: 0.0018\n"
     ]
    },
    {
     "name": "stderr",
     "output_type": "stream",
     "text": [
      "Epoch 173/200: 15it [00:06,  2.17it/s]\n"
     ]
    },
    {
     "name": "stdout",
     "output_type": "stream",
     "text": [
      "Epoch [173/200], Loss: 0.2559, Entity ID Acc: 88.1356%, Entity state Acc: 97.03%, Time Pred Loss: 0.0023\n"
     ]
    },
    {
     "name": "stderr",
     "output_type": "stream",
     "text": [
      "Epoch 174/200: 15it [00:05,  2.52it/s]\n"
     ]
    },
    {
     "name": "stdout",
     "output_type": "stream",
     "text": [
      "Epoch [174/200], Loss: 0.2530, Entity ID Acc: 89.6186%, Entity state Acc: 97.14%, Time Pred Loss: 0.0026\n"
     ]
    },
    {
     "name": "stderr",
     "output_type": "stream",
     "text": [
      "Epoch 175/200: 15it [00:06,  2.40it/s]\n"
     ]
    },
    {
     "name": "stdout",
     "output_type": "stream",
     "text": [
      "Epoch [175/200], Loss: 0.2514, Entity ID Acc: 89.3008%, Entity state Acc: 96.08%, Time Pred Loss: 0.0021\n"
     ]
    },
    {
     "name": "stderr",
     "output_type": "stream",
     "text": [
      "Epoch 176/200: 15it [00:06,  2.44it/s]\n"
     ]
    },
    {
     "name": "stdout",
     "output_type": "stream",
     "text": [
      "Epoch [176/200], Loss: 0.2498, Entity ID Acc: 89.7246%, Entity state Acc: 95.66%, Time Pred Loss: 0.0017\n"
     ]
    },
    {
     "name": "stderr",
     "output_type": "stream",
     "text": [
      "Epoch 177/200: 15it [00:05,  2.52it/s]\n"
     ]
    },
    {
     "name": "stdout",
     "output_type": "stream",
     "text": [
      "Epoch [177/200], Loss: 0.2221, Entity ID Acc: 90.4661%, Entity state Acc: 95.97%, Time Pred Loss: 0.0013\n"
     ]
    },
    {
     "name": "stderr",
     "output_type": "stream",
     "text": [
      "Epoch 178/200: 15it [00:05,  2.57it/s]\n"
     ]
    },
    {
     "name": "stdout",
     "output_type": "stream",
     "text": [
      "Epoch [178/200], Loss: 0.2128, Entity ID Acc: 91.9492%, Entity state Acc: 97.03%, Time Pred Loss: 0.0014\n"
     ]
    },
    {
     "name": "stderr",
     "output_type": "stream",
     "text": [
      "Epoch 179/200: 15it [00:06,  2.28it/s]\n"
     ]
    },
    {
     "name": "stdout",
     "output_type": "stream",
     "text": [
      "Epoch [179/200], Loss: 0.2172, Entity ID Acc: 91.2076%, Entity state Acc: 97.14%, Time Pred Loss: 0.0015\n"
     ]
    },
    {
     "name": "stderr",
     "output_type": "stream",
     "text": [
      "Epoch 180/200: 15it [00:06,  2.31it/s]\n"
     ]
    },
    {
     "name": "stdout",
     "output_type": "stream",
     "text": [
      "Epoch [180/200], Loss: 0.2401, Entity ID Acc: 88.7712%, Entity state Acc: 95.97%, Time Pred Loss: 0.0015\n"
     ]
    },
    {
     "name": "stderr",
     "output_type": "stream",
     "text": [
      "Epoch 181/200: 15it [00:06,  2.39it/s]\n"
     ]
    },
    {
     "name": "stdout",
     "output_type": "stream",
     "text": [
      "Epoch [181/200], Loss: 0.2566, Entity ID Acc: 89.3008%, Entity state Acc: 95.76%, Time Pred Loss: 0.0015\n"
     ]
    },
    {
     "name": "stderr",
     "output_type": "stream",
     "text": [
      "Epoch 182/200: 15it [00:06,  2.20it/s]\n"
     ]
    },
    {
     "name": "stdout",
     "output_type": "stream",
     "text": [
      "Epoch [182/200], Loss: 0.2339, Entity ID Acc: 90.4661%, Entity state Acc: 96.93%, Time Pred Loss: 0.0015\n"
     ]
    },
    {
     "name": "stderr",
     "output_type": "stream",
     "text": [
      "Epoch 183/200: 15it [00:06,  2.42it/s]\n"
     ]
    },
    {
     "name": "stdout",
     "output_type": "stream",
     "text": [
      "Epoch [183/200], Loss: 0.2378, Entity ID Acc: 89.7246%, Entity state Acc: 96.19%, Time Pred Loss: 0.0011\n"
     ]
    },
    {
     "name": "stderr",
     "output_type": "stream",
     "text": [
      "Epoch 184/200: 15it [00:06,  2.45it/s]\n"
     ]
    },
    {
     "name": "stdout",
     "output_type": "stream",
     "text": [
      "Epoch [184/200], Loss: 0.2032, Entity ID Acc: 91.1017%, Entity state Acc: 97.67%, Time Pred Loss: 0.0013\n"
     ]
    },
    {
     "name": "stderr",
     "output_type": "stream",
     "text": [
      "Epoch 185/200: 15it [00:06,  2.47it/s]\n"
     ]
    },
    {
     "name": "stdout",
     "output_type": "stream",
     "text": [
      "Epoch [185/200], Loss: 0.2028, Entity ID Acc: 90.6780%, Entity state Acc: 97.46%, Time Pred Loss: 0.0011\n"
     ]
    },
    {
     "name": "stderr",
     "output_type": "stream",
     "text": [
      "Epoch 186/200: 15it [00:05,  2.58it/s]\n"
     ]
    },
    {
     "name": "stdout",
     "output_type": "stream",
     "text": [
      "Epoch [186/200], Loss: 0.1931, Entity ID Acc: 91.9492%, Entity state Acc: 98.31%, Time Pred Loss: 0.0014\n"
     ]
    },
    {
     "name": "stderr",
     "output_type": "stream",
     "text": [
      "Epoch 187/200: 15it [00:06,  2.26it/s]\n"
     ]
    },
    {
     "name": "stdout",
     "output_type": "stream",
     "text": [
      "Epoch [187/200], Loss: 0.1907, Entity ID Acc: 92.1610%, Entity state Acc: 97.46%, Time Pred Loss: 0.0011\n"
     ]
    },
    {
     "name": "stderr",
     "output_type": "stream",
     "text": [
      "Epoch 188/200: 15it [00:06,  2.35it/s]\n"
     ]
    },
    {
     "name": "stdout",
     "output_type": "stream",
     "text": [
      "Epoch [188/200], Loss: 0.1740, Entity ID Acc: 92.9025%, Entity state Acc: 98.52%, Time Pred Loss: 0.0011\n"
     ]
    },
    {
     "name": "stderr",
     "output_type": "stream",
     "text": [
      "Epoch 189/200: 15it [00:06,  2.41it/s]\n"
     ]
    },
    {
     "name": "stdout",
     "output_type": "stream",
     "text": [
      "Epoch [189/200], Loss: 0.2020, Entity ID Acc: 91.2076%, Entity state Acc: 98.41%, Time Pred Loss: 0.0012\n"
     ]
    },
    {
     "name": "stderr",
     "output_type": "stream",
     "text": [
      "Epoch 190/200: 15it [00:05,  2.64it/s]\n"
     ]
    },
    {
     "name": "stdout",
     "output_type": "stream",
     "text": [
      "Epoch [190/200], Loss: 0.2365, Entity ID Acc: 89.7246%, Entity state Acc: 96.93%, Time Pred Loss: 0.0013\n"
     ]
    },
    {
     "name": "stderr",
     "output_type": "stream",
     "text": [
      "Epoch 191/200: 15it [00:05,  2.58it/s]\n"
     ]
    },
    {
     "name": "stdout",
     "output_type": "stream",
     "text": [
      "Epoch [191/200], Loss: 0.2159, Entity ID Acc: 91.2076%, Entity state Acc: 96.93%, Time Pred Loss: 0.0015\n"
     ]
    },
    {
     "name": "stderr",
     "output_type": "stream",
     "text": [
      "Epoch 192/200: 15it [00:05,  2.59it/s]\n"
     ]
    },
    {
     "name": "stdout",
     "output_type": "stream",
     "text": [
      "Epoch [192/200], Loss: 0.2153, Entity ID Acc: 90.8898%, Entity state Acc: 95.55%, Time Pred Loss: 0.0012\n"
     ]
    },
    {
     "name": "stderr",
     "output_type": "stream",
     "text": [
      "Epoch 193/200: 15it [00:05,  2.56it/s]\n"
     ]
    },
    {
     "name": "stdout",
     "output_type": "stream",
     "text": [
      "Epoch [193/200], Loss: 0.2022, Entity ID Acc: 91.9492%, Entity state Acc: 97.99%, Time Pred Loss: 0.0012\n"
     ]
    },
    {
     "name": "stderr",
     "output_type": "stream",
     "text": [
      "Epoch 194/200: 15it [00:06,  2.47it/s]\n"
     ]
    },
    {
     "name": "stdout",
     "output_type": "stream",
     "text": [
      "Epoch [194/200], Loss: 0.1911, Entity ID Acc: 91.9492%, Entity state Acc: 98.09%, Time Pred Loss: 0.0012\n"
     ]
    },
    {
     "name": "stderr",
     "output_type": "stream",
     "text": [
      "Epoch 195/200: 15it [00:06,  2.44it/s]\n"
     ]
    },
    {
     "name": "stdout",
     "output_type": "stream",
     "text": [
      "Epoch [195/200], Loss: 0.2119, Entity ID Acc: 90.4661%, Entity state Acc: 97.78%, Time Pred Loss: 0.0014\n"
     ]
    },
    {
     "name": "stderr",
     "output_type": "stream",
     "text": [
      "Epoch 196/200: 15it [00:05,  2.58it/s]\n"
     ]
    },
    {
     "name": "stdout",
     "output_type": "stream",
     "text": [
      "Epoch [196/200], Loss: 0.2054, Entity ID Acc: 91.5254%, Entity state Acc: 98.09%, Time Pred Loss: 0.0013\n"
     ]
    },
    {
     "name": "stderr",
     "output_type": "stream",
     "text": [
      "Epoch 197/200: 15it [00:06,  2.45it/s]\n"
     ]
    },
    {
     "name": "stdout",
     "output_type": "stream",
     "text": [
      "Epoch [197/200], Loss: 0.2124, Entity ID Acc: 91.6314%, Entity state Acc: 97.25%, Time Pred Loss: 0.0014\n"
     ]
    },
    {
     "name": "stderr",
     "output_type": "stream",
     "text": [
      "Epoch 198/200: 15it [00:06,  2.41it/s]\n"
     ]
    },
    {
     "name": "stdout",
     "output_type": "stream",
     "text": [
      "Epoch [198/200], Loss: 0.2040, Entity ID Acc: 91.3136%, Entity state Acc: 97.46%, Time Pred Loss: 0.0012\n"
     ]
    },
    {
     "name": "stderr",
     "output_type": "stream",
     "text": [
      "Epoch 199/200: 15it [00:05,  2.52it/s]\n"
     ]
    },
    {
     "name": "stdout",
     "output_type": "stream",
     "text": [
      "Epoch [199/200], Loss: 0.1987, Entity ID Acc: 91.2076%, Entity state Acc: 97.03%, Time Pred Loss: 0.0012\n"
     ]
    },
    {
     "name": "stderr",
     "output_type": "stream",
     "text": [
      "Epoch 200/200: 15it [00:06,  2.45it/s]"
     ]
    },
    {
     "name": "stdout",
     "output_type": "stream",
     "text": [
      "Epoch [200/200], Loss: 0.1850, Entity ID Acc: 91.4195%, Entity state Acc: 97.46%, Time Pred Loss: 0.0014\n",
      "Act Training Complete!\n"
     ]
    },
    {
     "name": "stderr",
     "output_type": "stream",
     "text": [
      "\n"
     ]
    }
   ],
   "source": [
    "# define the model\n",
    "model = TransformerMultiTask(input_dim=46, hidden_dim=512, additional_input_dim=5, num_heads=2, num_layers=1, entity_id_cls=45, entity_state_cls=4)\n",
    "training_epoch = 200\n",
    "# Using Adam optimizer\n",
    "import torch.optim as optim\n",
    "learning_rate = 1e-4  # You can adjust the learning rate as needed\n",
    "optimizer = optim.Adam(model.parameters(), lr=learning_rate)\n",
    "# find the device for training\n",
    "device = torch.device(\"cuda\" if torch.cuda.is_available() else \"cpu\")\n",
    "\n",
    "# start the training\n",
    "_, entity_id_accuracies, entity_state_accuracies, time_losses = train_act_model(model=model, dataloader=train_loader, num_epochs=training_epoch, \n",
    "            actionable_classification_criterion=actionable_classification_criterion, \n",
    "            entity_id_classification_criterion=entity_id_classification_criterion, \n",
    "            entity_state_classification_criterion=entity_state_classification_criterion, \n",
    "            time_pred_regression_criterion=time_pred_regression_criterion, \n",
    "            optimizer=optimizer, device=device)"
   ]
  },
  {
   "cell_type": "code",
   "execution_count": 13,
   "id": "bf924500-6c8f-4ce9-af6a-dd182c641be0",
   "metadata": {},
   "outputs": [
    {
     "data": {
      "image/png": "[encoded data removed]",
      "text/plain": [
       "<Figure size 1400x600 with 2 Axes>"
      ]
     },
     "metadata": {},
     "output_type": "display_data"
    }
   ],
   "source": [
    "import matplotlib.pyplot as plt\n",
    "\n",
    "# Plot accuracy\n",
    "plt.figure(figsize=(14, 6))\n",
    "\n",
    "plt.subplot(1, 2, 1)\n",
    "plt.plot(range(1, training_epoch + 1), entity_id_accuracies, marker='o', label='Entity ID Accuracy')\n",
    "plt.plot(range(1, training_epoch + 1), entity_state_accuracies, marker='o', label='Entity State Accuracy')\n",
    "plt.title('Model Accuracies Over Epochs')\n",
    "plt.xlabel('Epoch')\n",
    "plt.ylabel('Accuracy (%)')\n",
    "plt.xticks(range(1, training_epoch + 1))  # Set x-ticks to match epoch numbers\n",
    "plt.legend()\n",
    "plt.grid()\n",
    "\n",
    "# Plot time prediction loss\n",
    "plt.subplot(1, 2, 2)\n",
    "plt.plot(range(1, training_epoch + 1), time_losses, marker='o', color='orange')\n",
    "plt.title('Time Prediction Loss Over Epochs')\n",
    "plt.xlabel('Epoch')\n",
    "plt.ylabel('Time Prediction Loss')\n",
    "plt.xticks(range(1, training_epoch + 1))  # Set x-ticks to match epoch numbers\n",
    "plt.grid()\n",
    "\n",
    "plt.tight_layout()\n",
    "plt.show()"
   ]
  },
  {
   "cell_type": "code",
   "execution_count": 15,
   "id": "55c01e4e-a41f-414d-8ee9-d627a7fb029e",
   "metadata": {},
   "outputs": [],
   "source": [
    "torch.save(model.state_dict(), 'transformer_multi_task_slim_200.pth')"
   ]
  },
  {
   "cell_type": "code",
   "execution_count": 16,
   "id": "7374f831-6574-4329-a9f2-4f226ef62789",
   "metadata": {},
   "outputs": [
    {
     "data": {
      "text/plain": [
       "TransformerMultiTask(\n",
       "  (embedding): Linear(in_features=46, out_features=512, bias=True)\n",
       "  (transformer): TransformerEncoder(\n",
       "    (layers): ModuleList(\n",
       "      (0): TransformerEncoderLayer(\n",
       "        (self_attn): MultiheadAttention(\n",
       "          (out_proj): NonDynamicallyQuantizableLinear(in_features=512, out_features=512, bias=True)\n",
       "        )\n",
       "        (linear1): Linear(in_features=512, out_features=2048, bias=True)\n",
       "        (dropout): Dropout(p=0.1, inplace=False)\n",
       "        (linear2): Linear(in_features=2048, out_features=512, bias=True)\n",
       "        (norm1): LayerNorm((512,), eps=1e-05, elementwise_affine=True)\n",
       "        (norm2): LayerNorm((512,), eps=1e-05, elementwise_affine=True)\n",
       "        (dropout1): Dropout(p=0.1, inplace=False)\n",
       "        (dropout2): Dropout(p=0.1, inplace=False)\n",
       "      )\n",
       "    )\n",
       "  )\n",
       "  (actionable_fc): Linear(in_features=517, out_features=2, bias=True)\n",
       "  (entity_id_fc): Sequential(\n",
       "    (0): Linear(in_features=517, out_features=256, bias=True)\n",
       "    (1): SiLU()\n",
       "    (2): Linear(in_features=256, out_features=45, bias=True)\n",
       "  )\n",
       "  (entity_state_fc): Sequential(\n",
       "    (0): Linear(in_features=562, out_features=256, bias=True)\n",
       "    (1): SiLU()\n",
       "    (2): Linear(in_features=256, out_features=4, bias=True)\n",
       "  )\n",
       "  (action_time_regression): Linear(in_features=562, out_features=1, bias=True)\n",
       ")"
      ]
     },
     "execution_count": 16,
     "metadata": {},
     "output_type": "execute_result"
    }
   ],
   "source": [
    "loaded_model = TransformerMultiTask(input_dim=46, hidden_dim=512, additional_input_dim=5, num_heads=2, num_layers=1, entity_id_cls=45, entity_state_cls=4)\n",
    "# Load the state dict\n",
    "loaded_model.load_state_dict(torch.load('transformer_multi_task_slim_200.pth', weights_only=True))\n",
    "loaded_model.eval()  # Set the model to evaluation mode"
   ]
  }
 ],
 "metadata": {
  "kernelspec": {
   "display_name": "Python 3 (ipykernel)",
   "language": "python",
   "name": "python3"
  },
  "language_info": {
   "codemirror_mode": {
    "name": "ipython",
    "version": 3
   },
   "file_extension": ".py",
   "mimetype": "text/x-python",
   "name": "python",
   "nbconvert_exporter": "python",
   "pygments_lexer": "ipython3",
   "version": "3.11.9"
  }
 },
 "nbformat": 4,
 "nbformat_minor": 5
}
