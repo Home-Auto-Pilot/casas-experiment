{
 "cells": [
  {
   "cell_type": "code",
   "execution_count": 2,
   "id": "f44a58a7-e030-4efa-9443-05f44f21f1c0",
   "metadata": {},
   "outputs": [],
   "source": [
    "import torch\n",
    "import torch.nn as nn\n",
    "import torch.optim as optim"
   ]
  },
  {
   "cell_type": "code",
   "execution_count": 3,
   "id": "3588962e-a4aa-47f9-bcb1-c7d1e5e4840d",
   "metadata": {},
   "outputs": [],
   "source": [
    "class TransformerMultiTask(nn.Module):\n",
    "    def __init__(self, input_dim, num_heads:int, num_layers:int, hidden_dim:int, \n",
    "                 entity_id_cls:int, entity_state_cls:int, additional_input_dim:int = 0):\n",
    "        super(TransformerMultiTask, self).__init__()\n",
    "        self.embedding = nn.Linear(input_dim, hidden_dim)\n",
    "        \n",
    "        transformer_layer = nn.TransformerEncoderLayer(d_model=hidden_dim, nhead=num_heads, batch_first=True)\n",
    "        self.transformer = nn.TransformerEncoder(transformer_layer, num_layers=num_layers)\n",
    "        \n",
    "        # Separate heads for classification tasks\n",
    "        # Simpler actionable classification head\n",
    "        self.actionable_fc = nn.Linear(hidden_dim + additional_input_dim, 2)\n",
    "        \n",
    "        # Head for complex entity ID classification\n",
    "        self.entity_id_fc = nn.Sequential(\n",
    "            nn.Linear(hidden_dim + additional_input_dim, hidden_dim // 2),\n",
    "            nn.SiLU(),\n",
    "            nn.Linear(hidden_dim // 2, entity_id_cls)\n",
    "        )\n",
    "        \n",
    "        # Head for entity state classification\n",
    "        #  - takes the additional inputs and also the outputs of the entity classifications\n",
    "        self.entity_state_fc = nn.Sequential(\n",
    "            nn.Linear(hidden_dim + additional_input_dim + entity_id_cls, hidden_dim // 2),\n",
    "            nn.SiLU(),\n",
    "            nn.Linear(hidden_dim // 2, entity_state_cls)\n",
    "        )\n",
    "        \n",
    "    def forward(self, sequence, additional_inputs=None):\n",
    "        # x shape: (batch_size, seq_length, input_dim)\n",
    "        embed = self.embedding(sequence)\n",
    "        x = self.transformer(embed)\n",
    "        \n",
    "        # Take the mean across the sequence dimension\n",
    "        x = x.mean(dim=1)\n",
    "\n",
    "        # If additional inputs are provided, concatenate them with x\n",
    "        if additional_inputs is not None:\n",
    "            x = torch.cat((x, additional_inputs), dim=-1)\n",
    "        \n",
    "        # Separate heads for classification and regression\n",
    "        actionable_output = self.actionable_fc(x)\n",
    "        entity_id_output = self.entity_id_fc(x)\n",
    "        # Concatenate x with entity_id_output before passing to entity_state_fc\n",
    "        x_with_entity_id = torch.cat((x, entity_id_output), dim=-1)\n",
    "        entity_state_output = self.entity_state_fc(x_with_entity_id)\n",
    "        \n",
    "        # return actionable_output, entity_id_output, entity_state_output, time_pred_output\n",
    "        return actionable_output, entity_id_output, entity_state_output"
   ]
  },
  {
   "cell_type": "code",
   "execution_count": 4,
   "id": "e0d21e7d-3f31-4bcf-9657-96c732f987b1",
   "metadata": {},
   "outputs": [],
   "source": [
    "import torch\n",
    "from torch.utils.data import Dataset, DataLoader, IterableDataset\n",
    "import os\n",
    "import random\n",
    "import io\n",
    "import numpy as np\n",
    "import pandas as pd\n",
    "import warnings\n",
    "\n",
    "# Helper function to convert bytes back to tensor\n",
    "def bytes_to_tensor(tensor_bytes):\n",
    "    buffer = io.BytesIO(tensor_bytes)\n",
    "    loaded_tensor = torch.load(buffer, weights_only=True)\n",
    "    return loaded_tensor\n",
    "\n",
    "from torch.utils.data import DataLoader\n",
    "\n",
    "class MultiPartParquetCASASDataset(IterableDataset):\n",
    "    def __init__(self, file_list, shuffle_files=True, shuffle_rows=True):\n",
    "        self.file_list = file_list\n",
    "        self.shuffle_files = shuffle_files\n",
    "        self.shuffle_rows = shuffle_rows\n",
    "        \n",
    "        if self.shuffle_files:\n",
    "            random.shuffle(self.file_list)  # Shuffle the order of files\n",
    "\n",
    "    def _read_parquet_file(self, file_path):\n",
    "        df = pd.read_parquet(file_path)\n",
    "\n",
    "        if self.shuffle_rows:\n",
    "            df = df.sample(frac=1).reset_index(drop=True)  # Shuffle rows within the dataframe\n",
    "\n",
    "        return df\n",
    "\n",
    "    def __len__(self):\n",
    "        total_len = 0\n",
    "        for file in self.file_list:\n",
    "            df = self._read_parquet_file(file)\n",
    "            total_len += len(df)\n",
    "        return total_len\n",
    "    \n",
    "    def __iter__(self):\n",
    "        with warnings.catch_warnings():\n",
    "            warnings.simplefilter(action='ignore', category=FutureWarning)\n",
    "            for file in self.file_list:\n",
    "                df = self._read_parquet_file(file)\n",
    "                for _, row in df.iterrows():\n",
    "                    # shape(batch_size, sequence_length(var))\n",
    "                    input_tensor = bytes_to_tensor(row['sequence']) \n",
    "                    # additional inputs\n",
    "                    curr_time_hint_tensors = torch.tensor(row[['min', 'hour', 'day', 'week', 'month']])\n",
    "                    # y labels\n",
    "                    time_prediction_tensor = torch.tensor(row['secs_from_last'], dtype=torch.float32)\n",
    "                    actionable_tensor = torch.tensor(not row['sensor_change'], dtype=torch.long)\n",
    "                    action_entity_id_tensor = torch.tensor(row['changed_entity_id'], dtype=torch.long)\n",
    "                    action_entity_state_tensor = torch.tensor(float(row['changed_entity_value']), dtype=torch.long)\n",
    "    \n",
    "                    yield input_tensor, curr_time_hint_tensors, time_prediction_tensor, actionable_tensor, action_entity_id_tensor, action_entity_state_tensor\n",
    "\n",
    "\n",
    "def split_file_list(file_list, train_ratio=0.8, test_ratio=0.1, eval_ratio=0.1):\n",
    "    \"\"\"\n",
    "    Split the list of files into train/test/eval based on the given ratios.\n",
    "    \"\"\"\n",
    "    assert train_ratio + test_ratio + eval_ratio == 1.0, \"Ratios must sum to 1\"\n",
    "    \n",
    "    # Shuffle the file list to ensure randomness\n",
    "    random.shuffle(file_list)\n",
    "    \n",
    "    # Split based on the ratio\n",
    "    total_files = len(file_list)\n",
    "    train_end = int(train_ratio * total_files)\n",
    "    test_end = train_end + int(test_ratio * total_files)\n",
    "    \n",
    "    train_files = file_list[:train_end]\n",
    "    test_files = file_list[train_end:test_end]\n",
    "    eval_files = file_list[test_end:]\n",
    "    \n",
    "    return train_files, test_files, eval_files\n",
    "\n",
    "def _collate_fn(batch):\n",
    "    # Separate inputs and targets\n",
    "    input_tensors, curr_time_hint_tensors, time_prediction_tensors, actionable_tensors, action_entity_id_tensors, action_entity_state_tensors = zip(*batch)\n",
    "    \n",
    "    # Pad sequences for inputs (batch_first=True makes it [batch_size, seq_len, features])\n",
    "    input_tensors_padded = pad_sequence(input_tensors, batch_first=True)\n",
    "    # stack the additional inputs\n",
    "    curr_time_hint_tensors = torch.stack(curr_time_hint_tensors)\n",
    "    \n",
    "    # Convert targets to tensors (they should all have the same length as they're scalar values)\n",
    "    time_prediction_tensors = torch.stack(time_prediction_tensors)\n",
    "    actionable_tensors = torch.stack(actionable_tensors)\n",
    "    action_entity_id_tensors = torch.stack(action_entity_id_tensors)\n",
    "    action_entity_state_tensors = torch.stack(action_entity_state_tensors)\n",
    "    \n",
    "    return input_tensors_padded, curr_time_hint_tensors, time_prediction_tensors, actionable_tensors, action_entity_id_tensors, action_entity_state_tensors\n"
   ]
  },
  {
   "cell_type": "code",
   "execution_count": 5,
   "id": "04ac3bdd-a512-429b-9f75-bc6066a99827",
   "metadata": {},
   "outputs": [],
   "source": [
    "import torch\n",
    "from tqdm import tqdm\n",
    "from torch.nn.utils.rnn import pad_sequence\n",
    "\n",
    "def train_act_model(model, train_loader, eval_loader, num_epochs, \n",
    "                actionable_classification_criterion, \n",
    "                entity_id_classification_criterion, \n",
    "                entity_state_classification_criterion, \n",
    "                optimizer, device):\n",
    "    # Store accuracies and time prediction losses\n",
    "    actionable_accuracies = []\n",
    "    entity_id_accuracies = []\n",
    "    entity_state_accuracies = []\n",
    "    \n",
    "    model.to(device)\n",
    "    # note: the train() method resets the drop out and layer norm when called, so it should not be called for every epoch or otherwise it won't converge (transformer uses batch norm and drop out)\n",
    "    #  see https://pytorch.org/docs/main/generated/torch.nn.Module.html#torch.nn.Module.train\n",
    "    model.train()\n",
    "    for epoch in range(num_epochs):\n",
    "        epoch_loss = 0.0\n",
    "        correct_entity_state = 0\n",
    "        total_entity_state = 0\n",
    "        correct_entity_id = 0\n",
    "        total_entity_id = 0\n",
    "        \n",
    "        for batch_idx, (input_tensors_padded, curr_time_hint_tensors, time_prediction_tensors, actionable_tensors, action_entity_id_tensors, action_entity_state_tensors) in tqdm(enumerate(train_loader), desc=f\"Epoch {epoch+1}/{num_epochs}\"):\n",
    "            # Assuming the train_loader returns a dictionary-like batch with relevant keys\n",
    "            inputs = input_tensors_padded.to(device)  # shape: (batch_size, max_seq_length, input_dim)\n",
    "            time_hint_inputs = curr_time_hint_tensors.to(device)\n",
    "            actionable_labels = actionable_tensors.to(device)  # shape: (batch_size,)\n",
    "            entity_id_labels = action_entity_id_tensors.to(device)  # shape: (batch_size,)\n",
    "            entity_state_labels = action_entity_state_tensors.to(device)  # shape: (batch_size,)\n",
    "\n",
    "            optimizer.zero_grad()\n",
    "\n",
    "            # Forward pass\n",
    "            actionable_output, entity_id_output, entity_state_output = model(inputs, additional_inputs=time_hint_inputs)\n",
    "            \n",
    "            # Compute losses\n",
    "            entity_id_loss = entity_id_classification_criterion(entity_id_output, entity_id_labels)\n",
    "            entity_state_loss = entity_state_classification_criterion(entity_state_output, entity_state_labels)\n",
    "\n",
    "            # Total loss\n",
    "            total_loss = entity_id_loss * 8 + entity_state_loss * 2\n",
    "            \n",
    "            # Backward pass and optimization\n",
    "            total_loss.backward()\n",
    "            optimizer.step()\n",
    "            \n",
    "            epoch_loss += total_loss.item()\n",
    "\n",
    "            \n",
    "            # Calculate entity ID classification accuracy\n",
    "            _, predicted_entity_id = torch.max(entity_id_output, 1)\n",
    "            correct_entity_id += (predicted_entity_id == entity_id_labels).sum().item()\n",
    "            total_entity_id += entity_id_labels.size(0)\n",
    "\n",
    "            # Calculate entity state classification accuracy\n",
    "            _, predicted_entity_state = torch.max(entity_state_output, 1)\n",
    "            correct_entity_state += (predicted_entity_state == entity_state_labels).sum().item()\n",
    "            total_entity_state += entity_state_labels.size(0)\n",
    "            \n",
    "        # Print epoch stats\n",
    "        avg_loss = epoch_loss / len(train_loader)\n",
    "\n",
    "        entity_id_accuracy = 100 * correct_entity_id / total_entity_id\n",
    "        entity_id_accuracies.append(entity_id_accuracy)\n",
    "        entity_state_accuracy = 100 * correct_entity_state / total_entity_state\n",
    "        entity_state_accuracies.append(entity_state_accuracy)\n",
    "        print(f\"Epoch [{epoch+1}/{num_epochs}], Loss: {avg_loss:.4f}, Entity ID Acc: {entity_id_accuracy:.4f}%, Entity state Acc: {entity_state_accuracy:.2f}%\")\n",
    "        \n",
    "    print(\"Act Training Complete!\")\n",
    "    return actionable_accuracies, entity_id_accuracies, entity_state_accuracies"
   ]
  },
  {
   "cell_type": "code",
   "execution_count": 6,
   "id": "8df5b4dc-12fd-4d41-b6cc-511e20445c03",
   "metadata": {},
   "outputs": [
    {
     "name": "stdout",
     "output_type": "stream",
     "text": [
      "['./data/training_act/training_data_chunk_slim_5.parquet', './data/training_act/training_data_chunk_slim_2.parquet', './data/training_act/training_data_chunk_slim_1.parquet', './data/training_act/training_data_chunk_slim_3.parquet'], [], ['./data/training_act/training_data_chunk_slim_4.parquet']\n"
     ]
    }
   ],
   "source": [
    "from os import listdir\n",
    "from os.path import isfile, join\n",
    "import re\n",
    "data_root_path = './data/training_act'\n",
    "data_pattern = r\"^training_data_chunk_slim_\\d+\\.parquet\"\n",
    "file_list = [join(data_root_path, f) for f in listdir(data_root_path) if isfile(join(data_root_path, f)) and re.match(data_pattern, f)][:100]\n",
    "# Split the file list\n",
    "train_files, test_files, eval_files = split_file_list(file_list, train_ratio=0.8, test_ratio=0.0, eval_ratio=0.2)\n",
    "print(f'{train_files}, {test_files}, {eval_files}')\n",
    "# Create separate datasets\n",
    "train_dataset = MultiPartParquetCASASDataset(train_files, shuffle_files=True, shuffle_rows=True)\n",
    "test_dataset = MultiPartParquetCASASDataset(test_files, shuffle_files=False, shuffle_rows=False)\n",
    "eval_dataset = MultiPartParquetCASASDataset(eval_files, shuffle_files=False, shuffle_rows=False)\n",
    "\n",
    "# Wrap them in DataLoaders\n",
    "train_loader = DataLoader(train_dataset, batch_size=64, shuffle=False, collate_fn=_collate_fn)\n",
    "test_loader = DataLoader(test_dataset, batch_size=64, shuffle=False, collate_fn=_collate_fn)\n",
    "eval_loader = DataLoader(eval_dataset, batch_size=64, shuffle=False, collate_fn=_collate_fn)\n",
    "\n",
    "\n",
    "# Actionable Classification Criterion (binary classification)\n",
    "actionable_classification_criterion = nn.CrossEntropyLoss()\n",
    "\n",
    "# Entity ID Classification Criterion (multi-class classification)\n",
    "entity_id_classification_criterion = nn.CrossEntropyLoss()\n",
    "\n",
    "# Entity State Classification Criterion (multi-class classification)\n",
    "entity_state_classification_criterion = nn.CrossEntropyLoss()\n",
    "\n"
   ]
  },
  {
   "cell_type": "code",
   "execution_count": 6,
   "id": "64ce42e4-ec2b-4a28-822a-3728dcc6ede0",
   "metadata": {},
   "outputs": [
    {
     "name": "stderr",
     "output_type": "stream",
     "text": [
      "Epoch 1/128: 15it [00:06,  2.34it/s]\n"
     ]
    },
    {
     "name": "stdout",
     "output_type": "stream",
     "text": [
      "Epoch [1/128], Loss: 26.9933, Entity ID Acc: 10.5932%, Entity state Acc: 52.65%\n"
     ]
    },
    {
     "name": "stderr",
     "output_type": "stream",
     "text": [
      "Epoch 2/128: 15it [00:05,  2.82it/s]\n"
     ]
    },
    {
     "name": "stdout",
     "output_type": "stream",
     "text": [
      "Epoch [2/128], Loss: 22.0444, Entity ID Acc: 14.8305%, Entity state Acc: 56.67%\n"
     ]
    },
    {
     "name": "stderr",
     "output_type": "stream",
     "text": [
      "Epoch 3/128: 15it [00:05,  2.87it/s]\n"
     ]
    },
    {
     "name": "stdout",
     "output_type": "stream",
     "text": [
      "Epoch [3/128], Loss: 20.0501, Entity ID Acc: 23.3051%, Entity state Acc: 59.75%\n"
     ]
    },
    {
     "name": "stderr",
     "output_type": "stream",
     "text": [
      "Epoch 4/128: 15it [00:05,  2.73it/s]\n"
     ]
    },
    {
     "name": "stdout",
     "output_type": "stream",
     "text": [
      "Epoch [4/128], Loss: 19.3188, Entity ID Acc: 24.1525%, Entity state Acc: 60.70%\n"
     ]
    },
    {
     "name": "stderr",
     "output_type": "stream",
     "text": [
      "Epoch 5/128: 15it [00:05,  2.87it/s]\n"
     ]
    },
    {
     "name": "stdout",
     "output_type": "stream",
     "text": [
      "Epoch [5/128], Loss: 18.6857, Entity ID Acc: 27.0127%, Entity state Acc: 61.76%\n"
     ]
    },
    {
     "name": "stderr",
     "output_type": "stream",
     "text": [
      "Epoch 6/128: 15it [00:05,  2.77it/s]\n"
     ]
    },
    {
     "name": "stdout",
     "output_type": "stream",
     "text": [
      "Epoch [6/128], Loss: 18.2354, Entity ID Acc: 28.1780%, Entity state Acc: 61.23%\n"
     ]
    },
    {
     "name": "stderr",
     "output_type": "stream",
     "text": [
      "Epoch 7/128: 15it [00:05,  2.69it/s]\n"
     ]
    },
    {
     "name": "stdout",
     "output_type": "stream",
     "text": [
      "Epoch [7/128], Loss: 17.9113, Entity ID Acc: 27.9661%, Entity state Acc: 58.90%\n"
     ]
    },
    {
     "name": "stderr",
     "output_type": "stream",
     "text": [
      "Epoch 8/128: 15it [00:05,  2.83it/s]\n"
     ]
    },
    {
     "name": "stdout",
     "output_type": "stream",
     "text": [
      "Epoch [8/128], Loss: 17.6606, Entity ID Acc: 29.9788%, Entity state Acc: 59.75%\n"
     ]
    },
    {
     "name": "stderr",
     "output_type": "stream",
     "text": [
      "Epoch 9/128: 15it [00:05,  2.88it/s]\n"
     ]
    },
    {
     "name": "stdout",
     "output_type": "stream",
     "text": [
      "Epoch [9/128], Loss: 17.3771, Entity ID Acc: 31.0381%, Entity state Acc: 59.75%\n"
     ]
    },
    {
     "name": "stderr",
     "output_type": "stream",
     "text": [
      "Epoch 10/128: 15it [00:05,  2.80it/s]\n"
     ]
    },
    {
     "name": "stdout",
     "output_type": "stream",
     "text": [
      "Epoch [10/128], Loss: 17.1304, Entity ID Acc: 31.6737%, Entity state Acc: 61.12%\n"
     ]
    },
    {
     "name": "stderr",
     "output_type": "stream",
     "text": [
      "Epoch 11/128: 15it [00:05,  2.72it/s]\n"
     ]
    },
    {
     "name": "stdout",
     "output_type": "stream",
     "text": [
      "Epoch [11/128], Loss: 16.7667, Entity ID Acc: 34.3220%, Entity state Acc: 61.44%\n"
     ]
    },
    {
     "name": "stderr",
     "output_type": "stream",
     "text": [
      "Epoch 12/128: 15it [00:05,  2.76it/s]\n"
     ]
    },
    {
     "name": "stdout",
     "output_type": "stream",
     "text": [
      "Epoch [12/128], Loss: 16.5408, Entity ID Acc: 33.4746%, Entity state Acc: 63.03%\n"
     ]
    },
    {
     "name": "stderr",
     "output_type": "stream",
     "text": [
      "Epoch 13/128: 15it [00:05,  2.72it/s]\n"
     ]
    },
    {
     "name": "stdout",
     "output_type": "stream",
     "text": [
      "Epoch [13/128], Loss: 16.2908, Entity ID Acc: 33.8983%, Entity state Acc: 61.97%\n"
     ]
    },
    {
     "name": "stderr",
     "output_type": "stream",
     "text": [
      "Epoch 14/128: 15it [00:05,  2.60it/s]\n"
     ]
    },
    {
     "name": "stdout",
     "output_type": "stream",
     "text": [
      "Epoch [14/128], Loss: 16.1454, Entity ID Acc: 36.4407%, Entity state Acc: 62.18%\n"
     ]
    },
    {
     "name": "stderr",
     "output_type": "stream",
     "text": [
      "Epoch 15/128: 15it [00:05,  2.70it/s]\n"
     ]
    },
    {
     "name": "stdout",
     "output_type": "stream",
     "text": [
      "Epoch [15/128], Loss: 15.7769, Entity ID Acc: 37.7119%, Entity state Acc: 61.55%\n"
     ]
    },
    {
     "name": "stderr",
     "output_type": "stream",
     "text": [
      "Epoch 16/128: 15it [00:05,  2.54it/s]\n"
     ]
    },
    {
     "name": "stdout",
     "output_type": "stream",
     "text": [
      "Epoch [16/128], Loss: 15.0168, Entity ID Acc: 42.2669%, Entity state Acc: 62.92%\n"
     ]
    },
    {
     "name": "stderr",
     "output_type": "stream",
     "text": [
      "Epoch 17/128: 15it [00:05,  2.71it/s]\n"
     ]
    },
    {
     "name": "stdout",
     "output_type": "stream",
     "text": [
      "Epoch [17/128], Loss: 14.8583, Entity ID Acc: 42.1610%, Entity state Acc: 62.39%\n"
     ]
    },
    {
     "name": "stderr",
     "output_type": "stream",
     "text": [
      "Epoch 18/128: 15it [00:05,  2.70it/s]\n"
     ]
    },
    {
     "name": "stdout",
     "output_type": "stream",
     "text": [
      "Epoch [18/128], Loss: 13.8683, Entity ID Acc: 46.3983%, Entity state Acc: 63.14%\n"
     ]
    },
    {
     "name": "stderr",
     "output_type": "stream",
     "text": [
      "Epoch 19/128: 15it [00:05,  2.64it/s]\n"
     ]
    },
    {
     "name": "stdout",
     "output_type": "stream",
     "text": [
      "Epoch [19/128], Loss: 14.4214, Entity ID Acc: 41.7373%, Entity state Acc: 60.70%\n"
     ]
    },
    {
     "name": "stderr",
     "output_type": "stream",
     "text": [
      "Epoch 20/128: 15it [00:06,  2.34it/s]\n"
     ]
    },
    {
     "name": "stdout",
     "output_type": "stream",
     "text": [
      "Epoch [20/128], Loss: 13.4142, Entity ID Acc: 47.3517%, Entity state Acc: 62.61%\n"
     ]
    },
    {
     "name": "stderr",
     "output_type": "stream",
     "text": [
      "Epoch 21/128: 15it [00:07,  2.09it/s]\n"
     ]
    },
    {
     "name": "stdout",
     "output_type": "stream",
     "text": [
      "Epoch [21/128], Loss: 12.4255, Entity ID Acc: 52.5424%, Entity state Acc: 62.18%\n"
     ]
    },
    {
     "name": "stderr",
     "output_type": "stream",
     "text": [
      "Epoch 22/128: 15it [00:06,  2.17it/s]\n"
     ]
    },
    {
     "name": "stdout",
     "output_type": "stream",
     "text": [
      "Epoch [22/128], Loss: 11.7168, Entity ID Acc: 58.1568%, Entity state Acc: 62.39%\n"
     ]
    },
    {
     "name": "stderr",
     "output_type": "stream",
     "text": [
      "Epoch 23/128: 15it [00:05,  2.56it/s]\n"
     ]
    },
    {
     "name": "stdout",
     "output_type": "stream",
     "text": [
      "Epoch [23/128], Loss: 11.2830, Entity ID Acc: 58.6864%, Entity state Acc: 65.25%\n"
     ]
    },
    {
     "name": "stderr",
     "output_type": "stream",
     "text": [
      "Epoch 24/128: 15it [00:05,  2.71it/s]\n"
     ]
    },
    {
     "name": "stdout",
     "output_type": "stream",
     "text": [
      "Epoch [24/128], Loss: 10.0457, Entity ID Acc: 64.8305%, Entity state Acc: 62.92%\n"
     ]
    },
    {
     "name": "stderr",
     "output_type": "stream",
     "text": [
      "Epoch 25/128: 15it [00:05,  2.71it/s]\n"
     ]
    },
    {
     "name": "stdout",
     "output_type": "stream",
     "text": [
      "Epoch [25/128], Loss: 10.1482, Entity ID Acc: 64.6186%, Entity state Acc: 62.92%\n"
     ]
    },
    {
     "name": "stderr",
     "output_type": "stream",
     "text": [
      "Epoch 26/128: 15it [00:05,  2.79it/s]\n"
     ]
    },
    {
     "name": "stdout",
     "output_type": "stream",
     "text": [
      "Epoch [26/128], Loss: 10.7574, Entity ID Acc: 59.4280%, Entity state Acc: 64.19%\n"
     ]
    },
    {
     "name": "stderr",
     "output_type": "stream",
     "text": [
      "Epoch 27/128: 15it [00:05,  2.68it/s]\n"
     ]
    },
    {
     "name": "stdout",
     "output_type": "stream",
     "text": [
      "Epoch [27/128], Loss: 10.4024, Entity ID Acc: 60.4873%, Entity state Acc: 63.77%\n"
     ]
    },
    {
     "name": "stderr",
     "output_type": "stream",
     "text": [
      "Epoch 28/128: 15it [00:06,  2.35it/s]\n"
     ]
    },
    {
     "name": "stdout",
     "output_type": "stream",
     "text": [
      "Epoch [28/128], Loss: 9.5914, Entity ID Acc: 63.7712%, Entity state Acc: 65.25%\n"
     ]
    },
    {
     "name": "stderr",
     "output_type": "stream",
     "text": [
      "Epoch 29/128: 15it [00:05,  2.51it/s]\n"
     ]
    },
    {
     "name": "stdout",
     "output_type": "stream",
     "text": [
      "Epoch [29/128], Loss: 9.4797, Entity ID Acc: 63.6653%, Entity state Acc: 65.47%\n"
     ]
    },
    {
     "name": "stderr",
     "output_type": "stream",
     "text": [
      "Epoch 30/128: 15it [00:05,  2.72it/s]\n"
     ]
    },
    {
     "name": "stdout",
     "output_type": "stream",
     "text": [
      "Epoch [30/128], Loss: 11.7173, Entity ID Acc: 55.2966%, Entity state Acc: 64.83%\n"
     ]
    },
    {
     "name": "stderr",
     "output_type": "stream",
     "text": [
      "Epoch 31/128: 15it [00:05,  2.66it/s]\n"
     ]
    },
    {
     "name": "stdout",
     "output_type": "stream",
     "text": [
      "Epoch [31/128], Loss: 8.7354, Entity ID Acc: 68.0085%, Entity state Acc: 64.72%\n"
     ]
    },
    {
     "name": "stderr",
     "output_type": "stream",
     "text": [
      "Epoch 32/128: 15it [00:06,  2.38it/s]\n"
     ]
    },
    {
     "name": "stdout",
     "output_type": "stream",
     "text": [
      "Epoch [32/128], Loss: 8.8338, Entity ID Acc: 68.1144%, Entity state Acc: 62.08%\n"
     ]
    },
    {
     "name": "stderr",
     "output_type": "stream",
     "text": [
      "Epoch 33/128: 15it [00:05,  2.57it/s]\n"
     ]
    },
    {
     "name": "stdout",
     "output_type": "stream",
     "text": [
      "Epoch [33/128], Loss: 7.6344, Entity ID Acc: 74.2585%, Entity state Acc: 66.53%\n"
     ]
    },
    {
     "name": "stderr",
     "output_type": "stream",
     "text": [
      "Epoch 34/128: 15it [00:05,  2.64it/s]\n"
     ]
    },
    {
     "name": "stdout",
     "output_type": "stream",
     "text": [
      "Epoch [34/128], Loss: 6.9780, Entity ID Acc: 77.0127%, Entity state Acc: 67.27%\n"
     ]
    },
    {
     "name": "stderr",
     "output_type": "stream",
     "text": [
      "Epoch 35/128: 15it [00:05,  2.64it/s]\n"
     ]
    },
    {
     "name": "stdout",
     "output_type": "stream",
     "text": [
      "Epoch [35/128], Loss: 6.7555, Entity ID Acc: 77.6483%, Entity state Acc: 62.92%\n"
     ]
    },
    {
     "name": "stderr",
     "output_type": "stream",
     "text": [
      "Epoch 36/128: 15it [00:05,  2.64it/s]\n"
     ]
    },
    {
     "name": "stdout",
     "output_type": "stream",
     "text": [
      "Epoch [36/128], Loss: 6.4574, Entity ID Acc: 79.1314%, Entity state Acc: 68.01%\n"
     ]
    },
    {
     "name": "stderr",
     "output_type": "stream",
     "text": [
      "Epoch 37/128: 15it [00:05,  2.65it/s]\n"
     ]
    },
    {
     "name": "stdout",
     "output_type": "stream",
     "text": [
      "Epoch [37/128], Loss: 5.6546, Entity ID Acc: 84.4280%, Entity state Acc: 67.16%\n"
     ]
    },
    {
     "name": "stderr",
     "output_type": "stream",
     "text": [
      "Epoch 38/128: 15it [00:05,  2.58it/s]\n"
     ]
    },
    {
     "name": "stdout",
     "output_type": "stream",
     "text": [
      "Epoch [38/128], Loss: 5.5555, Entity ID Acc: 81.7797%, Entity state Acc: 70.97%\n"
     ]
    },
    {
     "name": "stderr",
     "output_type": "stream",
     "text": [
      "Epoch 39/128: 15it [00:05,  2.55it/s]\n"
     ]
    },
    {
     "name": "stdout",
     "output_type": "stream",
     "text": [
      "Epoch [39/128], Loss: 5.1603, Entity ID Acc: 84.4280%, Entity state Acc: 74.26%\n"
     ]
    },
    {
     "name": "stderr",
     "output_type": "stream",
     "text": [
      "Epoch 40/128: 15it [00:06,  2.48it/s]\n"
     ]
    },
    {
     "name": "stdout",
     "output_type": "stream",
     "text": [
      "Epoch [40/128], Loss: 5.6245, Entity ID Acc: 83.3686%, Entity state Acc: 69.28%\n"
     ]
    },
    {
     "name": "stderr",
     "output_type": "stream",
     "text": [
      "Epoch 41/128: 15it [00:05,  2.57it/s]\n"
     ]
    },
    {
     "name": "stdout",
     "output_type": "stream",
     "text": [
      "Epoch [41/128], Loss: 6.8497, Entity ID Acc: 75.8475%, Entity state Acc: 73.31%\n"
     ]
    },
    {
     "name": "stderr",
     "output_type": "stream",
     "text": [
      "Epoch 42/128: 15it [00:05,  2.63it/s]\n"
     ]
    },
    {
     "name": "stdout",
     "output_type": "stream",
     "text": [
      "Epoch [42/128], Loss: 7.2460, Entity ID Acc: 74.2585%, Entity state Acc: 72.88%\n"
     ]
    },
    {
     "name": "stderr",
     "output_type": "stream",
     "text": [
      "Epoch 43/128: 15it [00:05,  2.73it/s]\n"
     ]
    },
    {
     "name": "stdout",
     "output_type": "stream",
     "text": [
      "Epoch [43/128], Loss: 6.3254, Entity ID Acc: 76.1653%, Entity state Acc: 70.34%\n"
     ]
    },
    {
     "name": "stderr",
     "output_type": "stream",
     "text": [
      "Epoch 44/128: 15it [00:05,  2.77it/s]\n"
     ]
    },
    {
     "name": "stdout",
     "output_type": "stream",
     "text": [
      "Epoch [44/128], Loss: 5.4859, Entity ID Acc: 81.4619%, Entity state Acc: 73.31%\n"
     ]
    },
    {
     "name": "stderr",
     "output_type": "stream",
     "text": [
      "Epoch 45/128: 15it [00:05,  2.79it/s]\n"
     ]
    },
    {
     "name": "stdout",
     "output_type": "stream",
     "text": [
      "Epoch [45/128], Loss: 5.2582, Entity ID Acc: 82.3093%, Entity state Acc: 73.62%\n"
     ]
    },
    {
     "name": "stderr",
     "output_type": "stream",
     "text": [
      "Epoch 46/128: 15it [00:05,  2.75it/s]\n"
     ]
    },
    {
     "name": "stdout",
     "output_type": "stream",
     "text": [
      "Epoch [46/128], Loss: 5.0136, Entity ID Acc: 84.1102%, Entity state Acc: 75.00%\n"
     ]
    },
    {
     "name": "stderr",
     "output_type": "stream",
     "text": [
      "Epoch 47/128: 15it [00:05,  2.74it/s]\n"
     ]
    },
    {
     "name": "stdout",
     "output_type": "stream",
     "text": [
      "Epoch [47/128], Loss: 4.5700, Entity ID Acc: 85.3814%, Entity state Acc: 77.01%\n"
     ]
    },
    {
     "name": "stderr",
     "output_type": "stream",
     "text": [
      "Epoch 48/128: 15it [00:05,  2.74it/s]\n"
     ]
    },
    {
     "name": "stdout",
     "output_type": "stream",
     "text": [
      "Epoch [48/128], Loss: 4.2475, Entity ID Acc: 86.1229%, Entity state Acc: 77.65%\n"
     ]
    },
    {
     "name": "stderr",
     "output_type": "stream",
     "text": [
      "Epoch 49/128: 15it [00:05,  2.73it/s]\n"
     ]
    },
    {
     "name": "stdout",
     "output_type": "stream",
     "text": [
      "Epoch [49/128], Loss: 4.5744, Entity ID Acc: 84.4280%, Entity state Acc: 76.80%\n"
     ]
    },
    {
     "name": "stderr",
     "output_type": "stream",
     "text": [
      "Epoch 50/128: 15it [00:05,  2.54it/s]\n"
     ]
    },
    {
     "name": "stdout",
     "output_type": "stream",
     "text": [
      "Epoch [50/128], Loss: 3.8872, Entity ID Acc: 88.3475%, Entity state Acc: 77.12%\n"
     ]
    },
    {
     "name": "stderr",
     "output_type": "stream",
     "text": [
      "Epoch 51/128: 15it [00:06,  2.45it/s]\n"
     ]
    },
    {
     "name": "stdout",
     "output_type": "stream",
     "text": [
      "Epoch [51/128], Loss: 4.4679, Entity ID Acc: 84.9576%, Entity state Acc: 80.51%\n"
     ]
    },
    {
     "name": "stderr",
     "output_type": "stream",
     "text": [
      "Epoch 52/128: 15it [00:06,  2.46it/s]\n"
     ]
    },
    {
     "name": "stdout",
     "output_type": "stream",
     "text": [
      "Epoch [52/128], Loss: 3.7703, Entity ID Acc: 88.9831%, Entity state Acc: 80.40%\n"
     ]
    },
    {
     "name": "stderr",
     "output_type": "stream",
     "text": [
      "Epoch 53/128: 15it [00:06,  2.47it/s]\n"
     ]
    },
    {
     "name": "stdout",
     "output_type": "stream",
     "text": [
      "Epoch [53/128], Loss: 3.1143, Entity ID Acc: 92.0551%, Entity state Acc: 77.33%\n"
     ]
    },
    {
     "name": "stderr",
     "output_type": "stream",
     "text": [
      "Epoch 54/128: 15it [00:06,  2.46it/s]\n"
     ]
    },
    {
     "name": "stdout",
     "output_type": "stream",
     "text": [
      "Epoch [54/128], Loss: 2.8119, Entity ID Acc: 92.9025%, Entity state Acc: 79.98%\n"
     ]
    },
    {
     "name": "stderr",
     "output_type": "stream",
     "text": [
      "Epoch 55/128: 15it [00:05,  2.71it/s]\n"
     ]
    },
    {
     "name": "stdout",
     "output_type": "stream",
     "text": [
      "Epoch [55/128], Loss: 2.9623, Entity ID Acc: 91.9492%, Entity state Acc: 81.25%\n"
     ]
    },
    {
     "name": "stderr",
     "output_type": "stream",
     "text": [
      "Epoch 56/128: 15it [00:06,  2.33it/s]\n"
     ]
    },
    {
     "name": "stdout",
     "output_type": "stream",
     "text": [
      "Epoch [56/128], Loss: 2.6412, Entity ID Acc: 93.3263%, Entity state Acc: 83.16%\n"
     ]
    },
    {
     "name": "stderr",
     "output_type": "stream",
     "text": [
      "Epoch 57/128: 15it [00:05,  2.60it/s]\n"
     ]
    },
    {
     "name": "stdout",
     "output_type": "stream",
     "text": [
      "Epoch [57/128], Loss: 2.7238, Entity ID Acc: 92.6907%, Entity state Acc: 80.93%\n"
     ]
    },
    {
     "name": "stderr",
     "output_type": "stream",
     "text": [
      "Epoch 58/128: 15it [00:05,  2.50it/s]\n"
     ]
    },
    {
     "name": "stdout",
     "output_type": "stream",
     "text": [
      "Epoch [58/128], Loss: 3.1136, Entity ID Acc: 90.9958%, Entity state Acc: 79.45%\n"
     ]
    },
    {
     "name": "stderr",
     "output_type": "stream",
     "text": [
      "Epoch 59/128: 15it [00:05,  2.77it/s]\n"
     ]
    },
    {
     "name": "stdout",
     "output_type": "stream",
     "text": [
      "Epoch [59/128], Loss: 2.7415, Entity ID Acc: 92.6907%, Entity state Acc: 81.78%\n"
     ]
    },
    {
     "name": "stderr",
     "output_type": "stream",
     "text": [
      "Epoch 60/128: 15it [00:05,  2.95it/s]\n"
     ]
    },
    {
     "name": "stdout",
     "output_type": "stream",
     "text": [
      "Epoch [60/128], Loss: 2.6588, Entity ID Acc: 93.3263%, Entity state Acc: 82.20%\n"
     ]
    },
    {
     "name": "stderr",
     "output_type": "stream",
     "text": [
      "Epoch 61/128: 15it [00:05,  2.52it/s]\n"
     ]
    },
    {
     "name": "stdout",
     "output_type": "stream",
     "text": [
      "Epoch [61/128], Loss: 2.1830, Entity ID Acc: 95.4449%, Entity state Acc: 82.52%\n"
     ]
    },
    {
     "name": "stderr",
     "output_type": "stream",
     "text": [
      "Epoch 62/128: 15it [00:05,  2.64it/s]\n"
     ]
    },
    {
     "name": "stdout",
     "output_type": "stream",
     "text": [
      "Epoch [62/128], Loss: 1.9906, Entity ID Acc: 95.7627%, Entity state Acc: 86.86%\n"
     ]
    },
    {
     "name": "stderr",
     "output_type": "stream",
     "text": [
      "Epoch 63/128: 15it [00:05,  2.71it/s]\n"
     ]
    },
    {
     "name": "stdout",
     "output_type": "stream",
     "text": [
      "Epoch [63/128], Loss: 2.5490, Entity ID Acc: 93.7500%, Entity state Acc: 83.69%\n"
     ]
    },
    {
     "name": "stderr",
     "output_type": "stream",
     "text": [
      "Epoch 64/128: 15it [00:05,  2.64it/s]\n"
     ]
    },
    {
     "name": "stdout",
     "output_type": "stream",
     "text": [
      "Epoch [64/128], Loss: 2.9698, Entity ID Acc: 91.7373%, Entity state Acc: 80.30%\n"
     ]
    },
    {
     "name": "stderr",
     "output_type": "stream",
     "text": [
      "Epoch 65/128: 15it [00:05,  2.59it/s]\n"
     ]
    },
    {
     "name": "stdout",
     "output_type": "stream",
     "text": [
      "Epoch [65/128], Loss: 2.7797, Entity ID Acc: 92.1610%, Entity state Acc: 83.16%\n"
     ]
    },
    {
     "name": "stderr",
     "output_type": "stream",
     "text": [
      "Epoch 66/128: 15it [00:06,  2.40it/s]\n"
     ]
    },
    {
     "name": "stdout",
     "output_type": "stream",
     "text": [
      "Epoch [66/128], Loss: 2.2854, Entity ID Acc: 94.4915%, Entity state Acc: 86.33%\n"
     ]
    },
    {
     "name": "stderr",
     "output_type": "stream",
     "text": [
      "Epoch 67/128: 15it [00:05,  2.61it/s]\n"
     ]
    },
    {
     "name": "stdout",
     "output_type": "stream",
     "text": [
      "Epoch [67/128], Loss: 1.9211, Entity ID Acc: 95.6568%, Entity state Acc: 89.41%\n"
     ]
    },
    {
     "name": "stderr",
     "output_type": "stream",
     "text": [
      "Epoch 68/128: 15it [00:05,  2.74it/s]\n"
     ]
    },
    {
     "name": "stdout",
     "output_type": "stream",
     "text": [
      "Epoch [68/128], Loss: 1.8375, Entity ID Acc: 95.3390%, Entity state Acc: 86.65%\n"
     ]
    },
    {
     "name": "stderr",
     "output_type": "stream",
     "text": [
      "Epoch 69/128: 15it [00:05,  2.77it/s]\n"
     ]
    },
    {
     "name": "stdout",
     "output_type": "stream",
     "text": [
      "Epoch [69/128], Loss: 1.6850, Entity ID Acc: 96.9280%, Entity state Acc: 86.55%\n"
     ]
    },
    {
     "name": "stderr",
     "output_type": "stream",
     "text": [
      "Epoch 70/128: 15it [00:05,  2.77it/s]\n"
     ]
    },
    {
     "name": "stdout",
     "output_type": "stream",
     "text": [
      "Epoch [70/128], Loss: 1.5244, Entity ID Acc: 97.2458%, Entity state Acc: 91.31%\n"
     ]
    },
    {
     "name": "stderr",
     "output_type": "stream",
     "text": [
      "Epoch 71/128: 15it [00:05,  2.79it/s]\n"
     ]
    },
    {
     "name": "stdout",
     "output_type": "stream",
     "text": [
      "Epoch [71/128], Loss: 1.3492, Entity ID Acc: 96.9280%, Entity state Acc: 92.06%\n"
     ]
    },
    {
     "name": "stderr",
     "output_type": "stream",
     "text": [
      "Epoch 72/128: 15it [00:05,  2.75it/s]\n"
     ]
    },
    {
     "name": "stdout",
     "output_type": "stream",
     "text": [
      "Epoch [72/128], Loss: 1.3105, Entity ID Acc: 97.3517%, Entity state Acc: 91.95%\n"
     ]
    },
    {
     "name": "stderr",
     "output_type": "stream",
     "text": [
      "Epoch 73/128: 15it [00:05,  2.74it/s]\n"
     ]
    },
    {
     "name": "stdout",
     "output_type": "stream",
     "text": [
      "Epoch [73/128], Loss: 1.3381, Entity ID Acc: 97.5636%, Entity state Acc: 90.25%\n"
     ]
    },
    {
     "name": "stderr",
     "output_type": "stream",
     "text": [
      "Epoch 74/128: 15it [00:05,  2.51it/s]\n"
     ]
    },
    {
     "name": "stdout",
     "output_type": "stream",
     "text": [
      "Epoch [74/128], Loss: 1.1618, Entity ID Acc: 97.8814%, Entity state Acc: 93.75%\n"
     ]
    },
    {
     "name": "stderr",
     "output_type": "stream",
     "text": [
      "Epoch 75/128: 15it [00:05,  2.65it/s]\n"
     ]
    },
    {
     "name": "stdout",
     "output_type": "stream",
     "text": [
      "Epoch [75/128], Loss: 1.2016, Entity ID Acc: 98.0932%, Entity state Acc: 92.80%\n"
     ]
    },
    {
     "name": "stderr",
     "output_type": "stream",
     "text": [
      "Epoch 76/128: 15it [00:05,  2.59it/s]\n"
     ]
    },
    {
     "name": "stdout",
     "output_type": "stream",
     "text": [
      "Epoch [76/128], Loss: 1.0301, Entity ID Acc: 98.1992%, Entity state Acc: 93.11%\n"
     ]
    },
    {
     "name": "stderr",
     "output_type": "stream",
     "text": [
      "Epoch 77/128: 15it [00:05,  2.71it/s]\n"
     ]
    },
    {
     "name": "stdout",
     "output_type": "stream",
     "text": [
      "Epoch [77/128], Loss: 1.2099, Entity ID Acc: 97.5636%, Entity state Acc: 92.69%\n"
     ]
    },
    {
     "name": "stderr",
     "output_type": "stream",
     "text": [
      "Epoch 78/128: 15it [00:05,  2.65it/s]\n"
     ]
    },
    {
     "name": "stdout",
     "output_type": "stream",
     "text": [
      "Epoch [78/128], Loss: 1.3250, Entity ID Acc: 96.8220%, Entity state Acc: 92.90%\n"
     ]
    },
    {
     "name": "stderr",
     "output_type": "stream",
     "text": [
      "Epoch 79/128: 15it [00:05,  2.65it/s]\n"
     ]
    },
    {
     "name": "stdout",
     "output_type": "stream",
     "text": [
      "Epoch [79/128], Loss: 1.0387, Entity ID Acc: 98.5169%, Entity state Acc: 93.01%\n"
     ]
    },
    {
     "name": "stderr",
     "output_type": "stream",
     "text": [
      "Epoch 80/128: 15it [00:05,  2.65it/s]\n"
     ]
    },
    {
     "name": "stdout",
     "output_type": "stream",
     "text": [
      "Epoch [80/128], Loss: 1.0391, Entity ID Acc: 97.8814%, Entity state Acc: 93.54%\n"
     ]
    },
    {
     "name": "stderr",
     "output_type": "stream",
     "text": [
      "Epoch 81/128: 15it [00:05,  2.65it/s]\n"
     ]
    },
    {
     "name": "stdout",
     "output_type": "stream",
     "text": [
      "Epoch [81/128], Loss: 1.0797, Entity ID Acc: 97.4576%, Entity state Acc: 92.69%\n"
     ]
    },
    {
     "name": "stderr",
     "output_type": "stream",
     "text": [
      "Epoch 82/128: 15it [00:05,  2.51it/s]\n"
     ]
    },
    {
     "name": "stdout",
     "output_type": "stream",
     "text": [
      "Epoch [82/128], Loss: 1.0856, Entity ID Acc: 98.0932%, Entity state Acc: 93.33%\n"
     ]
    },
    {
     "name": "stderr",
     "output_type": "stream",
     "text": [
      "Epoch 83/128: 15it [00:05,  2.58it/s]\n"
     ]
    },
    {
     "name": "stdout",
     "output_type": "stream",
     "text": [
      "Epoch [83/128], Loss: 0.9490, Entity ID Acc: 98.0932%, Entity state Acc: 93.75%\n"
     ]
    },
    {
     "name": "stderr",
     "output_type": "stream",
     "text": [
      "Epoch 84/128: 15it [00:05,  2.66it/s]\n"
     ]
    },
    {
     "name": "stdout",
     "output_type": "stream",
     "text": [
      "Epoch [84/128], Loss: 0.9938, Entity ID Acc: 97.9873%, Entity state Acc: 94.70%\n"
     ]
    },
    {
     "name": "stderr",
     "output_type": "stream",
     "text": [
      "Epoch 85/128: 15it [00:06,  2.45it/s]\n"
     ]
    },
    {
     "name": "stdout",
     "output_type": "stream",
     "text": [
      "Epoch [85/128], Loss: 0.8615, Entity ID Acc: 98.6229%, Entity state Acc: 95.13%\n"
     ]
    },
    {
     "name": "stderr",
     "output_type": "stream",
     "text": [
      "Epoch 86/128: 15it [00:05,  2.58it/s]\n"
     ]
    },
    {
     "name": "stdout",
     "output_type": "stream",
     "text": [
      "Epoch [86/128], Loss: 0.8191, Entity ID Acc: 98.4110%, Entity state Acc: 96.08%\n"
     ]
    },
    {
     "name": "stderr",
     "output_type": "stream",
     "text": [
      "Epoch 87/128: 15it [00:05,  2.65it/s]\n"
     ]
    },
    {
     "name": "stdout",
     "output_type": "stream",
     "text": [
      "Epoch [87/128], Loss: 0.7932, Entity ID Acc: 98.5169%, Entity state Acc: 95.02%\n"
     ]
    },
    {
     "name": "stderr",
     "output_type": "stream",
     "text": [
      "Epoch 88/128: 15it [00:05,  2.67it/s]\n"
     ]
    },
    {
     "name": "stdout",
     "output_type": "stream",
     "text": [
      "Epoch [88/128], Loss: 0.6774, Entity ID Acc: 98.7288%, Entity state Acc: 95.44%\n"
     ]
    },
    {
     "name": "stderr",
     "output_type": "stream",
     "text": [
      "Epoch 89/128: 15it [00:05,  2.66it/s]\n"
     ]
    },
    {
     "name": "stdout",
     "output_type": "stream",
     "text": [
      "Epoch [89/128], Loss: 0.6347, Entity ID Acc: 98.9407%, Entity state Acc: 95.23%\n"
     ]
    },
    {
     "name": "stderr",
     "output_type": "stream",
     "text": [
      "Epoch 90/128: 15it [00:05,  2.68it/s]\n"
     ]
    },
    {
     "name": "stdout",
     "output_type": "stream",
     "text": [
      "Epoch [90/128], Loss: 0.6796, Entity ID Acc: 98.4110%, Entity state Acc: 95.23%\n"
     ]
    },
    {
     "name": "stderr",
     "output_type": "stream",
     "text": [
      "Epoch 91/128: 15it [00:05,  2.59it/s]\n"
     ]
    },
    {
     "name": "stdout",
     "output_type": "stream",
     "text": [
      "Epoch [91/128], Loss: 0.6926, Entity ID Acc: 98.8347%, Entity state Acc: 95.55%\n"
     ]
    },
    {
     "name": "stderr",
     "output_type": "stream",
     "text": [
      "Epoch 92/128: 15it [00:05,  2.52it/s]\n"
     ]
    },
    {
     "name": "stdout",
     "output_type": "stream",
     "text": [
      "Epoch [92/128], Loss: 0.7731, Entity ID Acc: 97.9873%, Entity state Acc: 94.60%\n"
     ]
    },
    {
     "name": "stderr",
     "output_type": "stream",
     "text": [
      "Epoch 93/128: 15it [00:05,  2.70it/s]\n"
     ]
    },
    {
     "name": "stdout",
     "output_type": "stream",
     "text": [
      "Epoch [93/128], Loss: 0.6563, Entity ID Acc: 98.8347%, Entity state Acc: 95.97%\n"
     ]
    },
    {
     "name": "stderr",
     "output_type": "stream",
     "text": [
      "Epoch 94/128: 15it [00:05,  2.62it/s]\n"
     ]
    },
    {
     "name": "stdout",
     "output_type": "stream",
     "text": [
      "Epoch [94/128], Loss: 0.5957, Entity ID Acc: 99.0466%, Entity state Acc: 96.29%\n"
     ]
    },
    {
     "name": "stderr",
     "output_type": "stream",
     "text": [
      "Epoch 95/128: 15it [00:05,  2.60it/s]\n"
     ]
    },
    {
     "name": "stdout",
     "output_type": "stream",
     "text": [
      "Epoch [95/128], Loss: 0.6645, Entity ID Acc: 99.1525%, Entity state Acc: 95.87%\n"
     ]
    },
    {
     "name": "stderr",
     "output_type": "stream",
     "text": [
      "Epoch 96/128: 15it [00:05,  2.75it/s]\n"
     ]
    },
    {
     "name": "stdout",
     "output_type": "stream",
     "text": [
      "Epoch [96/128], Loss: 0.6652, Entity ID Acc: 98.3051%, Entity state Acc: 95.87%\n"
     ]
    },
    {
     "name": "stderr",
     "output_type": "stream",
     "text": [
      "Epoch 97/128: 15it [00:05,  2.60it/s]\n"
     ]
    },
    {
     "name": "stdout",
     "output_type": "stream",
     "text": [
      "Epoch [97/128], Loss: 0.6506, Entity ID Acc: 98.6229%, Entity state Acc: 96.29%\n"
     ]
    },
    {
     "name": "stderr",
     "output_type": "stream",
     "text": [
      "Epoch 98/128: 15it [00:05,  2.80it/s]\n"
     ]
    },
    {
     "name": "stdout",
     "output_type": "stream",
     "text": [
      "Epoch [98/128], Loss: 0.6203, Entity ID Acc: 98.8347%, Entity state Acc: 95.34%\n"
     ]
    },
    {
     "name": "stderr",
     "output_type": "stream",
     "text": [
      "Epoch 99/128: 15it [00:05,  2.63it/s]\n"
     ]
    },
    {
     "name": "stdout",
     "output_type": "stream",
     "text": [
      "Epoch [99/128], Loss: 0.5503, Entity ID Acc: 99.1525%, Entity state Acc: 96.19%\n"
     ]
    },
    {
     "name": "stderr",
     "output_type": "stream",
     "text": [
      "Epoch 100/128: 15it [00:05,  2.62it/s]\n"
     ]
    },
    {
     "name": "stdout",
     "output_type": "stream",
     "text": [
      "Epoch [100/128], Loss: 0.5774, Entity ID Acc: 98.7288%, Entity state Acc: 97.14%\n"
     ]
    },
    {
     "name": "stderr",
     "output_type": "stream",
     "text": [
      "Epoch 101/128: 15it [00:05,  2.65it/s]\n"
     ]
    },
    {
     "name": "stdout",
     "output_type": "stream",
     "text": [
      "Epoch [101/128], Loss: 0.4789, Entity ID Acc: 99.5763%, Entity state Acc: 97.25%\n"
     ]
    },
    {
     "name": "stderr",
     "output_type": "stream",
     "text": [
      "Epoch 102/128: 15it [00:05,  2.68it/s]\n"
     ]
    },
    {
     "name": "stdout",
     "output_type": "stream",
     "text": [
      "Epoch [102/128], Loss: 0.5826, Entity ID Acc: 99.1525%, Entity state Acc: 96.93%\n"
     ]
    },
    {
     "name": "stderr",
     "output_type": "stream",
     "text": [
      "Epoch 103/128: 15it [00:06,  2.42it/s]\n"
     ]
    },
    {
     "name": "stdout",
     "output_type": "stream",
     "text": [
      "Epoch [103/128], Loss: 0.4857, Entity ID Acc: 99.0466%, Entity state Acc: 97.35%\n"
     ]
    },
    {
     "name": "stderr",
     "output_type": "stream",
     "text": [
      "Epoch 104/128: 15it [00:05,  2.59it/s]\n"
     ]
    },
    {
     "name": "stdout",
     "output_type": "stream",
     "text": [
      "Epoch [104/128], Loss: 0.5069, Entity ID Acc: 99.1525%, Entity state Acc: 97.14%\n"
     ]
    },
    {
     "name": "stderr",
     "output_type": "stream",
     "text": [
      "Epoch 105/128: 15it [00:05,  2.66it/s]\n"
     ]
    },
    {
     "name": "stdout",
     "output_type": "stream",
     "text": [
      "Epoch [105/128], Loss: 0.4575, Entity ID Acc: 99.0466%, Entity state Acc: 97.78%\n"
     ]
    },
    {
     "name": "stderr",
     "output_type": "stream",
     "text": [
      "Epoch 106/128: 15it [00:06,  2.42it/s]\n"
     ]
    },
    {
     "name": "stdout",
     "output_type": "stream",
     "text": [
      "Epoch [106/128], Loss: 0.5544, Entity ID Acc: 98.8347%, Entity state Acc: 96.40%\n"
     ]
    },
    {
     "name": "stderr",
     "output_type": "stream",
     "text": [
      "Epoch 107/128: 15it [00:05,  2.52it/s]\n"
     ]
    },
    {
     "name": "stdout",
     "output_type": "stream",
     "text": [
      "Epoch [107/128], Loss: 0.5207, Entity ID Acc: 99.1525%, Entity state Acc: 97.46%\n"
     ]
    },
    {
     "name": "stderr",
     "output_type": "stream",
     "text": [
      "Epoch 108/128: 15it [00:05,  2.78it/s]\n"
     ]
    },
    {
     "name": "stdout",
     "output_type": "stream",
     "text": [
      "Epoch [108/128], Loss: 0.5636, Entity ID Acc: 98.7288%, Entity state Acc: 97.14%\n"
     ]
    },
    {
     "name": "stderr",
     "output_type": "stream",
     "text": [
      "Epoch 109/128: 15it [00:05,  2.74it/s]\n"
     ]
    },
    {
     "name": "stdout",
     "output_type": "stream",
     "text": [
      "Epoch [109/128], Loss: 0.5422, Entity ID Acc: 99.0466%, Entity state Acc: 97.25%\n"
     ]
    },
    {
     "name": "stderr",
     "output_type": "stream",
     "text": [
      "Epoch 110/128: 15it [00:05,  2.86it/s]\n"
     ]
    },
    {
     "name": "stdout",
     "output_type": "stream",
     "text": [
      "Epoch [110/128], Loss: 0.4788, Entity ID Acc: 99.2585%, Entity state Acc: 97.56%\n"
     ]
    },
    {
     "name": "stderr",
     "output_type": "stream",
     "text": [
      "Epoch 111/128: 15it [00:05,  2.73it/s]\n"
     ]
    },
    {
     "name": "stdout",
     "output_type": "stream",
     "text": [
      "Epoch [111/128], Loss: 0.5258, Entity ID Acc: 98.9407%, Entity state Acc: 96.61%\n"
     ]
    },
    {
     "name": "stderr",
     "output_type": "stream",
     "text": [
      "Epoch 112/128: 15it [00:05,  2.56it/s]\n"
     ]
    },
    {
     "name": "stdout",
     "output_type": "stream",
     "text": [
      "Epoch [112/128], Loss: 0.5351, Entity ID Acc: 98.6229%, Entity state Acc: 97.67%\n"
     ]
    },
    {
     "name": "stderr",
     "output_type": "stream",
     "text": [
      "Epoch 113/128: 15it [00:05,  2.74it/s]\n"
     ]
    },
    {
     "name": "stdout",
     "output_type": "stream",
     "text": [
      "Epoch [113/128], Loss: 0.8391, Entity ID Acc: 98.6229%, Entity state Acc: 94.49%\n"
     ]
    },
    {
     "name": "stderr",
     "output_type": "stream",
     "text": [
      "Epoch 114/128: 15it [00:06,  2.36it/s]\n"
     ]
    },
    {
     "name": "stdout",
     "output_type": "stream",
     "text": [
      "Epoch [114/128], Loss: 0.5632, Entity ID Acc: 98.7288%, Entity state Acc: 96.29%\n"
     ]
    },
    {
     "name": "stderr",
     "output_type": "stream",
     "text": [
      "Epoch 115/128: 15it [00:05,  2.58it/s]\n"
     ]
    },
    {
     "name": "stdout",
     "output_type": "stream",
     "text": [
      "Epoch [115/128], Loss: 0.5958, Entity ID Acc: 98.9407%, Entity state Acc: 94.28%\n"
     ]
    },
    {
     "name": "stderr",
     "output_type": "stream",
     "text": [
      "Epoch 116/128: 15it [00:05,  2.62it/s]\n"
     ]
    },
    {
     "name": "stdout",
     "output_type": "stream",
     "text": [
      "Epoch [116/128], Loss: 0.5004, Entity ID Acc: 99.0466%, Entity state Acc: 96.82%\n"
     ]
    },
    {
     "name": "stderr",
     "output_type": "stream",
     "text": [
      "Epoch 117/128: 15it [00:05,  2.76it/s]\n"
     ]
    },
    {
     "name": "stdout",
     "output_type": "stream",
     "text": [
      "Epoch [117/128], Loss: 0.6105, Entity ID Acc: 98.9407%, Entity state Acc: 96.40%\n"
     ]
    },
    {
     "name": "stderr",
     "output_type": "stream",
     "text": [
      "Epoch 118/128: 15it [00:05,  2.65it/s]\n"
     ]
    },
    {
     "name": "stdout",
     "output_type": "stream",
     "text": [
      "Epoch [118/128], Loss: 0.4701, Entity ID Acc: 99.0466%, Entity state Acc: 97.25%\n"
     ]
    },
    {
     "name": "stderr",
     "output_type": "stream",
     "text": [
      "Epoch 119/128: 15it [00:05,  2.65it/s]\n"
     ]
    },
    {
     "name": "stdout",
     "output_type": "stream",
     "text": [
      "Epoch [119/128], Loss: 0.4257, Entity ID Acc: 98.7288%, Entity state Acc: 97.78%\n"
     ]
    },
    {
     "name": "stderr",
     "output_type": "stream",
     "text": [
      "Epoch 120/128: 15it [00:05,  2.66it/s]\n"
     ]
    },
    {
     "name": "stdout",
     "output_type": "stream",
     "text": [
      "Epoch [120/128], Loss: 0.4444, Entity ID Acc: 99.1525%, Entity state Acc: 97.14%\n"
     ]
    },
    {
     "name": "stderr",
     "output_type": "stream",
     "text": [
      "Epoch 121/128: 15it [00:05,  2.61it/s]\n"
     ]
    },
    {
     "name": "stdout",
     "output_type": "stream",
     "text": [
      "Epoch [121/128], Loss: 0.5278, Entity ID Acc: 98.9407%, Entity state Acc: 96.93%\n"
     ]
    },
    {
     "name": "stderr",
     "output_type": "stream",
     "text": [
      "Epoch 122/128: 15it [00:05,  2.66it/s]\n"
     ]
    },
    {
     "name": "stdout",
     "output_type": "stream",
     "text": [
      "Epoch [122/128], Loss: 0.3843, Entity ID Acc: 99.1525%, Entity state Acc: 98.31%\n"
     ]
    },
    {
     "name": "stderr",
     "output_type": "stream",
     "text": [
      "Epoch 123/128: 15it [00:05,  2.56it/s]\n"
     ]
    },
    {
     "name": "stdout",
     "output_type": "stream",
     "text": [
      "Epoch [123/128], Loss: 0.4366, Entity ID Acc: 99.3644%, Entity state Acc: 97.99%\n"
     ]
    },
    {
     "name": "stderr",
     "output_type": "stream",
     "text": [
      "Epoch 124/128: 15it [00:05,  2.63it/s]\n"
     ]
    },
    {
     "name": "stdout",
     "output_type": "stream",
     "text": [
      "Epoch [124/128], Loss: 0.4447, Entity ID Acc: 99.4703%, Entity state Acc: 97.25%\n"
     ]
    },
    {
     "name": "stderr",
     "output_type": "stream",
     "text": [
      "Epoch 125/128: 15it [00:05,  2.63it/s]\n"
     ]
    },
    {
     "name": "stdout",
     "output_type": "stream",
     "text": [
      "Epoch [125/128], Loss: 0.7435, Entity ID Acc: 98.1992%, Entity state Acc: 93.75%\n"
     ]
    },
    {
     "name": "stderr",
     "output_type": "stream",
     "text": [
      "Epoch 126/128: 15it [00:05,  2.63it/s]\n"
     ]
    },
    {
     "name": "stdout",
     "output_type": "stream",
     "text": [
      "Epoch [126/128], Loss: 0.9121, Entity ID Acc: 98.0932%, Entity state Acc: 91.53%\n"
     ]
    },
    {
     "name": "stderr",
     "output_type": "stream",
     "text": [
      "Epoch 127/128: 15it [00:05,  2.69it/s]\n"
     ]
    },
    {
     "name": "stdout",
     "output_type": "stream",
     "text": [
      "Epoch [127/128], Loss: 0.6683, Entity ID Acc: 98.7288%, Entity state Acc: 94.60%\n"
     ]
    },
    {
     "name": "stderr",
     "output_type": "stream",
     "text": [
      "Epoch 128/128: 15it [00:05,  2.72it/s]"
     ]
    },
    {
     "name": "stdout",
     "output_type": "stream",
     "text": [
      "Epoch [128/128], Loss: 0.5889, Entity ID Acc: 99.1525%, Entity state Acc: 95.76%\n",
      "Act Training Complete!\n"
     ]
    },
    {
     "name": "stderr",
     "output_type": "stream",
     "text": [
      "\n"
     ]
    }
   ],
   "source": [
    "# define the model\n",
    "model = TransformerMultiTask(input_dim=46, hidden_dim=512, additional_input_dim=5, num_heads=2, num_layers=1, entity_id_cls=45, entity_state_cls=4)\n",
    "training_epoch = 128\n",
    "# Using Adam optimizer\n",
    "import torch.optim as optim\n",
    "learning_rate = 1e-4  # You can adjust the learning rate as needed\n",
    "optimizer = optim.Adam(model.parameters(), lr=learning_rate)\n",
    "# find the device for training\n",
    "device = torch.device(\"cuda\" if torch.cuda.is_available() else \"cpu\")\n",
    "\n",
    "# start the training\n",
    "_, entity_id_accuracies, entity_state_accuracies = train_act_model(model=model, train_loader=train_loader, eval_loader=eval_loader, num_epochs=training_epoch, \n",
    "            actionable_classification_criterion=actionable_classification_criterion, \n",
    "            entity_id_classification_criterion=entity_id_classification_criterion, \n",
    "            entity_state_classification_criterion=entity_state_classification_criterion, \n",
    "            optimizer=optimizer, device=device)"
   ]
  },
  {
   "cell_type": "code",
   "execution_count": 8,
   "id": "bf924500-6c8f-4ce9-af6a-dd182c641be0",
   "metadata": {},
   "outputs": [
    {
     "data": {
      "image/png": "[encoded data removed]",
      "text/plain": [
       "<Figure size 1400x600 with 1 Axes>"
      ]
     },
     "metadata": {},
     "output_type": "display_data"
    }
   ],
   "source": [
    "import matplotlib.pyplot as plt\n",
    "\n",
    "# Plot accuracy\n",
    "plt.figure(figsize=(14, 6))\n",
    "\n",
    "plt.subplot(1, 1, 1)\n",
    "plt.plot(range(1, training_epoch + 1), entity_id_accuracies, marker='o', label='Entity ID Accuracy')\n",
    "plt.plot(range(1, training_epoch + 1), entity_state_accuracies, marker='o', label='Entity State Accuracy')\n",
    "plt.title('Model Accuracies Over Epochs')\n",
    "plt.xlabel('Epoch')\n",
    "plt.ylabel('Accuracy (%)')\n",
    "plt.xticks(range(1, training_epoch + 1))  # Set x-ticks to match epoch numbers\n",
    "plt.legend()\n",
    "plt.grid()\n",
    "plt.tight_layout()\n",
    "plt.show()"
   ]
  },
  {
   "cell_type": "code",
   "execution_count": 14,
   "id": "55c01e4e-a41f-414d-8ee9-d627a7fb029e",
   "metadata": {},
   "outputs": [],
   "source": [
    "torch.save(model.state_dict(), 'transformer_multi_task_slim_128.pth')"
   ]
  },
  {
   "cell_type": "code",
   "execution_count": 8,
   "id": "3031323a-eac7-4270-ae48-6463c130b00e",
   "metadata": {},
   "outputs": [],
   "source": [
    "def eval_model(model, eval_loader, device=device):\n",
    "    model.eval()\n",
    "    with torch.no_grad():\n",
    "        eval_correct_entity_id = 0\n",
    "        eval_total_entity_id = 0\n",
    "        eval_correct_entity_state = 0\n",
    "        eval_total_entity_state = 0\n",
    "        eval_loss = 0.0\n",
    "\n",
    "        for eval_batch in eval_loader:\n",
    "            eval_inputs = eval_batch[0].to(device)\n",
    "            eval_time_hint_inputs = eval_batch[1].to(device)\n",
    "            eval_entity_id_labels = eval_batch[4].to(device)\n",
    "            eval_entity_state_labels = eval_batch[5].to(device)\n",
    "\n",
    "            eval_actionable_output, eval_entity_id_output, eval_entity_state_output = model(eval_inputs, additional_inputs=eval_time_hint_inputs)    \n",
    "            \n",
    "            # Calculate eval entity ID classification accuracy\n",
    "            _, eval_predicted_entity_id = torch.max(eval_entity_id_output, 1)\n",
    "            eval_correct_entity_id += (eval_predicted_entity_id == eval_entity_id_labels).sum().item()\n",
    "            eval_total_entity_id += eval_entity_id_labels.size(0)\n",
    "\n",
    "            # Calculate eval entity state classification accuracy\n",
    "            _, eval_predicted_entity_state = torch.max(eval_entity_state_output, 1)\n",
    "            eval_correct_entity_state += (eval_predicted_entity_state == eval_entity_state_labels).sum().item()\n",
    "            eval_total_entity_state += eval_entity_state_labels.size(0)\n",
    "\n",
    "        eval_entity_id_accuracy = 100 * eval_correct_entity_id / eval_total_entity_id\n",
    "        eval_entity_state_accuracy = 100 * eval_correct_entity_state / eval_total_entity_state\n",
    "        print(f\"Eval Entity ID Acc: {eval_entity_id_accuracy:.4f}%, Eval Entity state Acc: {eval_entity_state_accuracy:.2f}%\")\n",
    "    return eval_entity_id_accuracy, eval_entity_state_accuracy\n",
    "\n"
   ]
  },
  {
   "cell_type": "code",
   "execution_count": 10,
   "id": "7374f831-6574-4329-a9f2-4f226ef62789",
   "metadata": {},
   "outputs": [
    {
     "name": "stdout",
     "output_type": "stream",
     "text": [
      "cuda\n"
     ]
    },
    {
     "ename": "RuntimeError",
     "evalue": "Expected all tensors to be on the same device, but found at least two devices, cpu and cuda:0! (when checking argument for argument mat1 in method wrapper_CUDA_addmm)",
     "output_type": "error",
     "traceback": [
      "\u001b[0;31m---------------------------------------------------------------------------\u001b[0m",
      "\u001b[0;31mRuntimeError\u001b[0m                              Traceback (most recent call last)",
      "Cell \u001b[0;32mIn[10], line 6\u001b[0m\n\u001b[1;32m      4\u001b[0m device \u001b[38;5;241m=\u001b[39m torch\u001b[38;5;241m.\u001b[39mdevice(\u001b[38;5;124m\"\u001b[39m\u001b[38;5;124mcuda\u001b[39m\u001b[38;5;124m\"\u001b[39m \u001b[38;5;28;01mif\u001b[39;00m torch\u001b[38;5;241m.\u001b[39mcuda\u001b[38;5;241m.\u001b[39mis_available() \u001b[38;5;28;01melse\u001b[39;00m \u001b[38;5;124m\"\u001b[39m\u001b[38;5;124mcpu\u001b[39m\u001b[38;5;124m\"\u001b[39m)\n\u001b[1;32m      5\u001b[0m \u001b[38;5;28mprint\u001b[39m(device)\n\u001b[0;32m----> 6\u001b[0m \u001b[43meval_model\u001b[49m\u001b[43m(\u001b[49m\u001b[43mloaded_model\u001b[49m\u001b[43m,\u001b[49m\u001b[43m \u001b[49m\u001b[43meval_loader\u001b[49m\u001b[43m,\u001b[49m\u001b[43m \u001b[49m\u001b[43mdevice\u001b[49m\u001b[38;5;241;43m=\u001b[39;49m\u001b[43mdevice\u001b[49m\u001b[43m)\u001b[49m\n",
      "Cell \u001b[0;32mIn[8], line 16\u001b[0m, in \u001b[0;36meval_model\u001b[0;34m(model, eval_loader, device)\u001b[0m\n\u001b[1;32m     13\u001b[0m eval_entity_id_labels \u001b[38;5;241m=\u001b[39m eval_batch[\u001b[38;5;241m4\u001b[39m]\u001b[38;5;241m.\u001b[39mto(device)\n\u001b[1;32m     14\u001b[0m eval_entity_state_labels \u001b[38;5;241m=\u001b[39m eval_batch[\u001b[38;5;241m5\u001b[39m]\u001b[38;5;241m.\u001b[39mto(device)\n\u001b[0;32m---> 16\u001b[0m eval_actionable_output, eval_entity_id_output, eval_entity_state_output \u001b[38;5;241m=\u001b[39m \u001b[43mmodel\u001b[49m\u001b[43m(\u001b[49m\u001b[43meval_inputs\u001b[49m\u001b[43m,\u001b[49m\u001b[43m \u001b[49m\u001b[43madditional_inputs\u001b[49m\u001b[38;5;241;43m=\u001b[39;49m\u001b[43meval_time_hint_inputs\u001b[49m\u001b[43m)\u001b[49m    \n\u001b[1;32m     18\u001b[0m \u001b[38;5;66;03m# Calculate eval entity ID classification accuracy\u001b[39;00m\n\u001b[1;32m     19\u001b[0m _, eval_predicted_entity_id \u001b[38;5;241m=\u001b[39m torch\u001b[38;5;241m.\u001b[39mmax(eval_entity_id_output, \u001b[38;5;241m1\u001b[39m)\n",
      "File \u001b[0;32m/opt/conda/lib/python3.11/site-packages/torch/nn/modules/module.py:1553\u001b[0m, in \u001b[0;36mModule._wrapped_call_impl\u001b[0;34m(self, *args, **kwargs)\u001b[0m\n\u001b[1;32m   1551\u001b[0m     \u001b[38;5;28;01mreturn\u001b[39;00m \u001b[38;5;28mself\u001b[39m\u001b[38;5;241m.\u001b[39m_compiled_call_impl(\u001b[38;5;241m*\u001b[39margs, \u001b[38;5;241m*\u001b[39m\u001b[38;5;241m*\u001b[39mkwargs)  \u001b[38;5;66;03m# type: ignore[misc]\u001b[39;00m\n\u001b[1;32m   1552\u001b[0m \u001b[38;5;28;01melse\u001b[39;00m:\n\u001b[0;32m-> 1553\u001b[0m     \u001b[38;5;28;01mreturn\u001b[39;00m \u001b[38;5;28;43mself\u001b[39;49m\u001b[38;5;241;43m.\u001b[39;49m\u001b[43m_call_impl\u001b[49m\u001b[43m(\u001b[49m\u001b[38;5;241;43m*\u001b[39;49m\u001b[43margs\u001b[49m\u001b[43m,\u001b[49m\u001b[43m \u001b[49m\u001b[38;5;241;43m*\u001b[39;49m\u001b[38;5;241;43m*\u001b[39;49m\u001b[43mkwargs\u001b[49m\u001b[43m)\u001b[49m\n",
      "File \u001b[0;32m/opt/conda/lib/python3.11/site-packages/torch/nn/modules/module.py:1562\u001b[0m, in \u001b[0;36mModule._call_impl\u001b[0;34m(self, *args, **kwargs)\u001b[0m\n\u001b[1;32m   1557\u001b[0m \u001b[38;5;66;03m# If we don't have any hooks, we want to skip the rest of the logic in\u001b[39;00m\n\u001b[1;32m   1558\u001b[0m \u001b[38;5;66;03m# this function, and just call forward.\u001b[39;00m\n\u001b[1;32m   1559\u001b[0m \u001b[38;5;28;01mif\u001b[39;00m \u001b[38;5;129;01mnot\u001b[39;00m (\u001b[38;5;28mself\u001b[39m\u001b[38;5;241m.\u001b[39m_backward_hooks \u001b[38;5;129;01mor\u001b[39;00m \u001b[38;5;28mself\u001b[39m\u001b[38;5;241m.\u001b[39m_backward_pre_hooks \u001b[38;5;129;01mor\u001b[39;00m \u001b[38;5;28mself\u001b[39m\u001b[38;5;241m.\u001b[39m_forward_hooks \u001b[38;5;129;01mor\u001b[39;00m \u001b[38;5;28mself\u001b[39m\u001b[38;5;241m.\u001b[39m_forward_pre_hooks\n\u001b[1;32m   1560\u001b[0m         \u001b[38;5;129;01mor\u001b[39;00m _global_backward_pre_hooks \u001b[38;5;129;01mor\u001b[39;00m _global_backward_hooks\n\u001b[1;32m   1561\u001b[0m         \u001b[38;5;129;01mor\u001b[39;00m _global_forward_hooks \u001b[38;5;129;01mor\u001b[39;00m _global_forward_pre_hooks):\n\u001b[0;32m-> 1562\u001b[0m     \u001b[38;5;28;01mreturn\u001b[39;00m \u001b[43mforward_call\u001b[49m\u001b[43m(\u001b[49m\u001b[38;5;241;43m*\u001b[39;49m\u001b[43margs\u001b[49m\u001b[43m,\u001b[49m\u001b[43m \u001b[49m\u001b[38;5;241;43m*\u001b[39;49m\u001b[38;5;241;43m*\u001b[39;49m\u001b[43mkwargs\u001b[49m\u001b[43m)\u001b[49m\n\u001b[1;32m   1564\u001b[0m \u001b[38;5;28;01mtry\u001b[39;00m:\n\u001b[1;32m   1565\u001b[0m     result \u001b[38;5;241m=\u001b[39m \u001b[38;5;28;01mNone\u001b[39;00m\n",
      "Cell \u001b[0;32mIn[3], line 31\u001b[0m, in \u001b[0;36mTransformerMultiTask.forward\u001b[0;34m(self, sequence, additional_inputs)\u001b[0m\n\u001b[1;32m     29\u001b[0m \u001b[38;5;28;01mdef\u001b[39;00m \u001b[38;5;21mforward\u001b[39m(\u001b[38;5;28mself\u001b[39m, sequence, additional_inputs\u001b[38;5;241m=\u001b[39m\u001b[38;5;28;01mNone\u001b[39;00m):\n\u001b[1;32m     30\u001b[0m     \u001b[38;5;66;03m# x shape: (batch_size, seq_length, input_dim)\u001b[39;00m\n\u001b[0;32m---> 31\u001b[0m     embed \u001b[38;5;241m=\u001b[39m \u001b[38;5;28;43mself\u001b[39;49m\u001b[38;5;241;43m.\u001b[39;49m\u001b[43membedding\u001b[49m\u001b[43m(\u001b[49m\u001b[43msequence\u001b[49m\u001b[43m)\u001b[49m\n\u001b[1;32m     32\u001b[0m     x \u001b[38;5;241m=\u001b[39m \u001b[38;5;28mself\u001b[39m\u001b[38;5;241m.\u001b[39mtransformer(embed)\n\u001b[1;32m     34\u001b[0m     \u001b[38;5;66;03m# Take the mean across the sequence dimension\u001b[39;00m\n",
      "File \u001b[0;32m/opt/conda/lib/python3.11/site-packages/torch/nn/modules/module.py:1553\u001b[0m, in \u001b[0;36mModule._wrapped_call_impl\u001b[0;34m(self, *args, **kwargs)\u001b[0m\n\u001b[1;32m   1551\u001b[0m     \u001b[38;5;28;01mreturn\u001b[39;00m \u001b[38;5;28mself\u001b[39m\u001b[38;5;241m.\u001b[39m_compiled_call_impl(\u001b[38;5;241m*\u001b[39margs, \u001b[38;5;241m*\u001b[39m\u001b[38;5;241m*\u001b[39mkwargs)  \u001b[38;5;66;03m# type: ignore[misc]\u001b[39;00m\n\u001b[1;32m   1552\u001b[0m \u001b[38;5;28;01melse\u001b[39;00m:\n\u001b[0;32m-> 1553\u001b[0m     \u001b[38;5;28;01mreturn\u001b[39;00m \u001b[38;5;28;43mself\u001b[39;49m\u001b[38;5;241;43m.\u001b[39;49m\u001b[43m_call_impl\u001b[49m\u001b[43m(\u001b[49m\u001b[38;5;241;43m*\u001b[39;49m\u001b[43margs\u001b[49m\u001b[43m,\u001b[49m\u001b[43m \u001b[49m\u001b[38;5;241;43m*\u001b[39;49m\u001b[38;5;241;43m*\u001b[39;49m\u001b[43mkwargs\u001b[49m\u001b[43m)\u001b[49m\n",
      "File \u001b[0;32m/opt/conda/lib/python3.11/site-packages/torch/nn/modules/module.py:1562\u001b[0m, in \u001b[0;36mModule._call_impl\u001b[0;34m(self, *args, **kwargs)\u001b[0m\n\u001b[1;32m   1557\u001b[0m \u001b[38;5;66;03m# If we don't have any hooks, we want to skip the rest of the logic in\u001b[39;00m\n\u001b[1;32m   1558\u001b[0m \u001b[38;5;66;03m# this function, and just call forward.\u001b[39;00m\n\u001b[1;32m   1559\u001b[0m \u001b[38;5;28;01mif\u001b[39;00m \u001b[38;5;129;01mnot\u001b[39;00m (\u001b[38;5;28mself\u001b[39m\u001b[38;5;241m.\u001b[39m_backward_hooks \u001b[38;5;129;01mor\u001b[39;00m \u001b[38;5;28mself\u001b[39m\u001b[38;5;241m.\u001b[39m_backward_pre_hooks \u001b[38;5;129;01mor\u001b[39;00m \u001b[38;5;28mself\u001b[39m\u001b[38;5;241m.\u001b[39m_forward_hooks \u001b[38;5;129;01mor\u001b[39;00m \u001b[38;5;28mself\u001b[39m\u001b[38;5;241m.\u001b[39m_forward_pre_hooks\n\u001b[1;32m   1560\u001b[0m         \u001b[38;5;129;01mor\u001b[39;00m _global_backward_pre_hooks \u001b[38;5;129;01mor\u001b[39;00m _global_backward_hooks\n\u001b[1;32m   1561\u001b[0m         \u001b[38;5;129;01mor\u001b[39;00m _global_forward_hooks \u001b[38;5;129;01mor\u001b[39;00m _global_forward_pre_hooks):\n\u001b[0;32m-> 1562\u001b[0m     \u001b[38;5;28;01mreturn\u001b[39;00m \u001b[43mforward_call\u001b[49m\u001b[43m(\u001b[49m\u001b[38;5;241;43m*\u001b[39;49m\u001b[43margs\u001b[49m\u001b[43m,\u001b[49m\u001b[43m \u001b[49m\u001b[38;5;241;43m*\u001b[39;49m\u001b[38;5;241;43m*\u001b[39;49m\u001b[43mkwargs\u001b[49m\u001b[43m)\u001b[49m\n\u001b[1;32m   1564\u001b[0m \u001b[38;5;28;01mtry\u001b[39;00m:\n\u001b[1;32m   1565\u001b[0m     result \u001b[38;5;241m=\u001b[39m \u001b[38;5;28;01mNone\u001b[39;00m\n",
      "File \u001b[0;32m/opt/conda/lib/python3.11/site-packages/torch/nn/modules/linear.py:117\u001b[0m, in \u001b[0;36mLinear.forward\u001b[0;34m(self, input)\u001b[0m\n\u001b[1;32m    116\u001b[0m \u001b[38;5;28;01mdef\u001b[39;00m \u001b[38;5;21mforward\u001b[39m(\u001b[38;5;28mself\u001b[39m, \u001b[38;5;28minput\u001b[39m: Tensor) \u001b[38;5;241m-\u001b[39m\u001b[38;5;241m>\u001b[39m Tensor:\n\u001b[0;32m--> 117\u001b[0m     \u001b[38;5;28;01mreturn\u001b[39;00m \u001b[43mF\u001b[49m\u001b[38;5;241;43m.\u001b[39;49m\u001b[43mlinear\u001b[49m\u001b[43m(\u001b[49m\u001b[38;5;28;43minput\u001b[39;49m\u001b[43m,\u001b[49m\u001b[43m \u001b[49m\u001b[38;5;28;43mself\u001b[39;49m\u001b[38;5;241;43m.\u001b[39;49m\u001b[43mweight\u001b[49m\u001b[43m,\u001b[49m\u001b[43m \u001b[49m\u001b[38;5;28;43mself\u001b[39;49m\u001b[38;5;241;43m.\u001b[39;49m\u001b[43mbias\u001b[49m\u001b[43m)\u001b[49m\n",
      "\u001b[0;31mRuntimeError\u001b[0m: Expected all tensors to be on the same device, but found at least two devices, cpu and cuda:0! (when checking argument for argument mat1 in method wrapper_CUDA_addmm)"
     ]
    }
   ],
   "source": [
    "loaded_model = TransformerMultiTask(input_dim=46, hidden_dim=512, additional_input_dim=5, num_heads=2, num_layers=1, entity_id_cls=45, entity_state_cls=4)\n",
    "# Load the state dict\n",
    "loaded_model.load_state_dict(torch.load('transformer_multi_task_slim_128.pth', weights_only=True))\n",
    "loaded_model.to\n",
    "device = torch.device(\"cuda\" if torch.cuda.is_available() else \"cpu\")\n",
    "print(device)\n",
    "eval_model(loaded_model, eval_loader, device=device)"
   ]
  }
 ],
 "metadata": {
  "kernelspec": {
   "display_name": "Python 3 (ipykernel)",
   "language": "python",
   "name": "python3"
  },
  "language_info": {
   "codemirror_mode": {
    "name": "ipython",
    "version": 3
   },
   "file_extension": ".py",
   "mimetype": "text/x-python",
   "name": "python",
   "nbconvert_exporter": "python",
   "pygments_lexer": "ipython3",
   "version": "3.11.9"
  }
 },
 "nbformat": 4,
 "nbformat_minor": 5
}
