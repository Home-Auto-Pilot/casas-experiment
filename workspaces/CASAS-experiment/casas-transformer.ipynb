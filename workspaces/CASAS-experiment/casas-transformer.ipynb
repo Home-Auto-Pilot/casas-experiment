{
 "cells": [
  {
   "cell_type": "code",
   "execution_count": 1,
   "id": "f44a58a7-e030-4efa-9443-05f44f21f1c0",
   "metadata": {},
   "outputs": [],
   "source": [
    "import torch\n",
    "import torch.nn as nn\n",
    "import torch.optim as optim"
   ]
  },
  {
   "cell_type": "code",
   "execution_count": 2,
   "id": "3588962e-a4aa-47f9-bcb1-c7d1e5e4840d",
   "metadata": {},
   "outputs": [],
   "source": [
    "class TransformerMultiTask(nn.Module):\n",
    "    def __init__(self, input_dim, num_heads:int, num_layers:int, hidden_dim:int, \n",
    "                 entity_id_cls:int, entity_state_cls:int):\n",
    "        super(TransformerMultiTask, self).__init__()\n",
    "        self.embedding = nn.Linear(input_dim, hidden_dim)\n",
    "        \n",
    "        transformer_layer = nn.TransformerEncoderLayer(d_model=hidden_dim, nhead=num_heads, batch_first=True)\n",
    "        self.transformer = nn.TransformerEncoder(transformer_layer, num_layers=num_layers)\n",
    "        \n",
    "        # Separate heads for classification tasks\n",
    "        # Simpler actionable classification head\n",
    "        self.actionable_fc = nn.Linear(hidden_dim, 2)\n",
    "        \n",
    "        # Deeper head for complex entity ID classification\n",
    "        self.entity_id_fc = nn.Sequential(\n",
    "            nn.Linear(hidden_dim, hidden_dim // 2),\n",
    "            nn.SiLU(),\n",
    "            nn.Linear(hidden_dim // 2, hidden_dim // 4),\n",
    "            nn.SiLU(),\n",
    "            nn.Linear(hidden_dim // 4, entity_id_cls)\n",
    "        )\n",
    "        \n",
    "        # Simpler head for entity state classification\n",
    "        self.entity_state_fc = nn.Sequential(\n",
    "            nn.Linear(hidden_dim, hidden_dim // 2),\n",
    "            nn.SiLU(),\n",
    "            nn.Linear(hidden_dim // 2, hidden_dim // 4),\n",
    "            nn.SiLU(),\n",
    "            nn.Linear(hidden_dim // 4, entity_state_cls)\n",
    "        )\n",
    "        \n",
    "        # Regression head for action time prediction\n",
    "        self.action_time_regression = nn.Linear(hidden_dim, 1)\n",
    "\n",
    "    def forward(self, x):\n",
    "        # x shape: (batch_size, seq_length, input_dim)\n",
    "        x = self.embedding(x)\n",
    "        x = self.transformer(x)\n",
    "        \n",
    "        # Take the mean across the sequence dimension\n",
    "        x = x.mean(dim=1)\n",
    "        # Separate heads for classification and regression\n",
    "        actionable_output = self.actionable_fc(x)\n",
    "        entity_id_output = self.entity_id_fc(x)\n",
    "        entity_state_output = self.entity_state_fc(x)\n",
    "        time_pred_output = self.action_time_regression(x)\n",
    "        \n",
    "        # return actionable_output, entity_id_output, entity_state_output, time_pred_output\n",
    "        return actionable_output, entity_id_output, entity_state_output, time_pred_output"
   ]
  },
  {
   "cell_type": "code",
   "execution_count": 3,
   "id": "e0d21e7d-3f31-4bcf-9657-96c732f987b1",
   "metadata": {},
   "outputs": [],
   "source": [
    "import torch\n",
    "from torch.utils.data import Dataset, DataLoader, IterableDataset\n",
    "import os\n",
    "import random\n",
    "import io\n",
    "import numpy as np\n",
    "import pandas as pd\n",
    "\n",
    "# Helper function to convert bytes back to tensor\n",
    "def bytes_to_tensor(tensor_bytes):\n",
    "    buffer = io.BytesIO(tensor_bytes)\n",
    "    loaded_tensor = torch.load(buffer, weights_only=True)\n",
    "    return loaded_tensor\n",
    "\n",
    "from torch.utils.data import DataLoader\n",
    "\n",
    "class MultiPartParquetCASASDataset(IterableDataset):\n",
    "    def __init__(self, file_list, shuffle_files=True, shuffle_rows=True, transform=None):\n",
    "        self.file_list = file_list\n",
    "        self.shuffle_files = shuffle_files\n",
    "        self.shuffle_rows = shuffle_rows\n",
    "        self.transform = transform\n",
    "\n",
    "        if self.shuffle_files:\n",
    "            random.shuffle(self.file_list)  # Shuffle the order of files\n",
    "\n",
    "    def _read_parquet_file(self, file_path):\n",
    "        df = pd.read_parquet(file_path)\n",
    "\n",
    "        if self.shuffle_rows:\n",
    "            df = df.sample(frac=1).reset_index(drop=True)  # Shuffle rows within the dataframe\n",
    "\n",
    "        return df\n",
    "\n",
    "    def __len__(self):\n",
    "        total_len = 0\n",
    "        for file in self.file_list:\n",
    "            df = self._read_parquet_file(file)\n",
    "            total_len += len(df)\n",
    "        return total_len\n",
    "    \n",
    "    def __iter__(self):\n",
    "        for file in self.file_list:\n",
    "            df = self._read_parquet_file(file)\n",
    "            for _, row in df.iterrows():\n",
    "                # shape(batch_size, sequence_length(var))\n",
    "                input_tensor = bytes_to_tensor(row['sequence']) \n",
    "                time_prediction_tensor = torch.tensor(row['secs_from_last'], dtype=torch.float32)\n",
    "                actionable_tensor = torch.tensor(not row['sensor_change'], dtype=torch.long)\n",
    "                action_entity_id_tensor = torch.tensor(row['changed_entity_id'], dtype=torch.long)\n",
    "                action_entity_state_tensor = torch.tensor(float(row['changed_entity_value']), dtype=torch.long)\n",
    "\n",
    "                if self.transform:\n",
    "                    input_tensor, time_prediction_tensor, actionable_tensor, action_entity_id_tensor, action_entity_state_tensor = self.transform(input_tensor, time_prediction_tensor, actionable_tensor, action_entity_id_tensor, action_entity_state_tensor)\n",
    "                yield input_tensor, time_prediction_tensor, actionable_tensor, action_entity_id_tensor, action_entity_state_tensor\n",
    "\n",
    "\n",
    "def split_file_list(file_list, train_ratio=0.8, test_ratio=0.1, eval_ratio=0.1):\n",
    "    \"\"\"\n",
    "    Split the list of files into train/test/eval based on the given ratios.\n",
    "    \"\"\"\n",
    "    assert train_ratio + test_ratio + eval_ratio == 1.0, \"Ratios must sum to 1\"\n",
    "    \n",
    "    # Shuffle the file list to ensure randomness\n",
    "    random.shuffle(file_list)\n",
    "    \n",
    "    # Split based on the ratio\n",
    "    total_files = len(file_list)\n",
    "    train_end = int(train_ratio * total_files)\n",
    "    test_end = train_end + int(test_ratio * total_files)\n",
    "    \n",
    "    train_files = file_list[:train_end]\n",
    "    test_files = file_list[train_end:test_end]\n",
    "    eval_files = file_list[test_end:]\n",
    "    \n",
    "    return train_files, test_files, eval_files\n",
    "\n",
    "def _collate_fn(batch):\n",
    "    # Separate inputs and targets\n",
    "    input_tensors, time_prediction_tensors, actionable_tensors, action_entity_id_tensors, action_entity_state_tensors = zip(*batch)\n",
    "    \n",
    "    # Pad sequences for inputs (batch_first=True makes it [batch_size, seq_len, features])\n",
    "    input_tensors_padded = pad_sequence(input_tensors, batch_first=True)\n",
    "    \n",
    "    # Convert targets to tensors (they should all have the same length as they're scalar values)\n",
    "    time_prediction_tensors = torch.stack(time_prediction_tensors)\n",
    "    actionable_tensors = torch.stack(actionable_tensors)\n",
    "    action_entity_id_tensors = torch.stack(action_entity_id_tensors)\n",
    "    action_entity_state_tensors = torch.stack(action_entity_state_tensors)\n",
    "    \n",
    "    return input_tensors_padded, time_prediction_tensors, actionable_tensors, action_entity_id_tensors, action_entity_state_tensors\n"
   ]
  },
  {
   "cell_type": "code",
   "execution_count": 14,
   "id": "04ac3bdd-a512-429b-9f75-bc6066a99827",
   "metadata": {},
   "outputs": [],
   "source": [
    "import torch\n",
    "from tqdm import tqdm\n",
    "from torch.nn.utils.rnn import pad_sequence\n",
    "\n",
    "def train_act_model(model, dataloader, num_epochs, \n",
    "                actionable_classification_criterion, \n",
    "                entity_id_classification_criterion, \n",
    "                entity_state_classification_criterion, \n",
    "                time_pred_regression_criterion, \n",
    "                optimizer, device):\n",
    "    \n",
    "    model.to(device)\n",
    "    model.train()\n",
    "    \n",
    "    for epoch in range(num_epochs):\n",
    "        epoch_loss = 0.0\n",
    "        correct_entity_state = 0\n",
    "        total_entity_state = 0\n",
    "        correct_entity_id = 0\n",
    "        total_entity_id = 0\n",
    "        epoch_time_pred_loss = 0\n",
    "        \n",
    "        for batch_idx, (input_tensors_padded, time_prediction_tensors, actionable_tensors, action_entity_id_tensors, action_entity_state_tensors) in tqdm(enumerate(dataloader), desc=f\"Epoch {epoch+1}/{num_epochs}\"):\n",
    "            # Assuming the dataloader returns a dictionary-like batch with relevant keys\n",
    "            inputs = input_tensors_padded.to(device)  # shape: (batch_size, max_seq_length, input_dim)\n",
    "            actionable_labels = actionable_tensors.to(device)  # shape: (batch_size,)\n",
    "            entity_id_labels = action_entity_id_tensors.to(device)  # shape: (batch_size,)\n",
    "            entity_state_labels = action_entity_state_tensors.to(device)  # shape: (batch_size,)\n",
    "            time_pred_labels = time_prediction_tensors.to(device)  # shape: (batch_size,)\n",
    "\n",
    "            optimizer.zero_grad()\n",
    "\n",
    "            # Forward pass\n",
    "            actionable_output, entity_id_output, entity_state_output, time_pred_output = model(inputs)\n",
    "            \n",
    "            # Compute losses\n",
    "            entity_id_loss = entity_id_classification_criterion(entity_id_output, entity_id_labels)\n",
    "            entity_state_loss = entity_state_classification_criterion(entity_state_output, entity_state_labels)\n",
    "            time_pred_loss = time_pred_regression_criterion(time_pred_output.squeeze(), time_pred_labels)\n",
    "\n",
    "            # Total loss\n",
    "            total_loss = entity_id_loss * 5 + entity_state_loss * 4 + time_pred_loss * 1\n",
    "            \n",
    "            # Backward pass and optimization\n",
    "            total_loss.backward()\n",
    "            optimizer.step()\n",
    "            \n",
    "            epoch_loss += total_loss.item()\n",
    "            # accumulate epoch loss\n",
    "            epoch_time_pred_loss += time_pred_loss.item()\n",
    "            \n",
    "            # Calculate entity ID classification accuracy\n",
    "            _, predicted_entity_id = torch.max(entity_id_output, 1)\n",
    "            correct_entity_id += (predicted_entity_id == entity_id_labels).sum().item()\n",
    "            total_entity_id += entity_id_labels.size(0)\n",
    "\n",
    "            # Calculate entity state classification accuracy\n",
    "            _, predicted_entity_state = torch.max(entity_state_output, 1)\n",
    "            correct_entity_state += (predicted_entity_state == entity_state_labels).sum().item()\n",
    "            total_entity_state += entity_state_labels.size(0)\n",
    "            \n",
    "        # Print epoch stats\n",
    "        avg_loss = epoch_loss / len(dataloader)\n",
    "        avg_time_pred_loss = epoch_time_pred_loss / len(dataloader)\n",
    "        entity_id_accuracy = 100 * correct_entity_id / total_entity_id\n",
    "        entity_state_accuracy = 100 * correct_entity_state / total_entity_state\n",
    "        print(f\"Epoch [{epoch+1}/{num_epochs}], Loss: {avg_loss:.4f}, Entity ID Acc: {entity_id_accuracy:.4f}%, Entity state Acc: {entity_state_accuracy:.2f}%, Time Pred Loss: {avg_time_pred_loss:.4f}\")\n",
    "\n",
    "    print(\"Act Training Complete!\")"
   ]
  },
  {
   "cell_type": "code",
   "execution_count": 15,
   "id": "8df5b4dc-12fd-4d41-b6cc-511e20445c03",
   "metadata": {},
   "outputs": [],
   "source": [
    "from os import listdir\n",
    "from os.path import isfile, join\n",
    "import re\n",
    "data_root_path = './data/training_act'\n",
    "data_pattern = r\"^training_data_chunk_\\d+\\.parquet\"\n",
    "file_list = [join(data_root_path, f) for f in listdir(data_root_path) if isfile(join(data_root_path, f)) and re.match(data_pattern, f)][:100]\n",
    "# Split the file list\n",
    "train_files, test_files, eval_files = split_file_list(file_list, train_ratio=0.8, test_ratio=0.1, eval_ratio=0.1)\n",
    "\n",
    "# Create separate datasets\n",
    "train_dataset = MultiPartParquetCASASDataset(train_files, shuffle_files=True, shuffle_rows=True)\n",
    "test_dataset = MultiPartParquetCASASDataset(test_files, shuffle_files=False, shuffle_rows=False)\n",
    "eval_dataset = MultiPartParquetCASASDataset(eval_files, shuffle_files=False, shuffle_rows=False)\n",
    "\n",
    "# Wrap them in DataLoaders\n",
    "train_loader = DataLoader(train_dataset, batch_size=64, shuffle=False, collate_fn=_collate_fn)\n",
    "test_loader = DataLoader(test_dataset, batch_size=64, shuffle=False, collate_fn=_collate_fn)\n",
    "eval_loader = DataLoader(eval_dataset, batch_size=64, shuffle=False, collate_fn=_collate_fn)\n",
    "\n",
    "\n",
    "# Actionable Classification Criterion (binary classification)\n",
    "actionable_classification_criterion = nn.CrossEntropyLoss()\n",
    "\n",
    "# Entity ID Classification Criterion (multi-class classification)\n",
    "entity_id_classification_criterion = nn.CrossEntropyLoss()\n",
    "\n",
    "# Entity State Classification Criterion (multi-class classification)\n",
    "entity_state_classification_criterion = nn.CrossEntropyLoss()\n",
    "\n",
    "# Time Prediction Criterion (regression)\n",
    "time_pred_regression_criterion = nn.MSELoss()\n",
    "\n"
   ]
  },
  {
   "cell_type": "code",
   "execution_count": 16,
   "id": "64ce42e4-ec2b-4a28-822a-3728dcc6ede0",
   "metadata": {},
   "outputs": [
    {
     "name": "stderr",
     "output_type": "stream",
     "text": [
      "Epoch 1/100: 19it [00:35,  1.89s/it]\n"
     ]
    },
    {
     "name": "stdout",
     "output_type": "stream",
     "text": [
      "Epoch [1/100], Loss: 20.8717, Entity ID Acc: 15.0833%, Entity state Acc: 55.33%, Time Pred Loss: 0.3135\n"
     ]
    },
    {
     "name": "stderr",
     "output_type": "stream",
     "text": [
      "Epoch 2/100: 19it [00:30,  1.60s/it]\n"
     ]
    },
    {
     "name": "stdout",
     "output_type": "stream",
     "text": [
      "Epoch [2/100], Loss: 15.4035, Entity ID Acc: 19.0833%, Entity state Acc: 58.33%, Time Pred Loss: 0.0409\n"
     ]
    },
    {
     "name": "stderr",
     "output_type": "stream",
     "text": [
      "Epoch 3/100: 19it [00:28,  1.49s/it]\n"
     ]
    },
    {
     "name": "stdout",
     "output_type": "stream",
     "text": [
      "Epoch [3/100], Loss: 13.8631, Entity ID Acc: 22.4167%, Entity state Acc: 57.75%, Time Pred Loss: 0.0087\n"
     ]
    },
    {
     "name": "stderr",
     "output_type": "stream",
     "text": [
      "Epoch 4/100: 19it [00:24,  1.29s/it]\n"
     ]
    },
    {
     "name": "stdout",
     "output_type": "stream",
     "text": [
      "Epoch [4/100], Loss: 12.7702, Entity ID Acc: 27.3333%, Entity state Acc: 58.33%, Time Pred Loss: 0.0058\n"
     ]
    },
    {
     "name": "stderr",
     "output_type": "stream",
     "text": [
      "Epoch 5/100: 19it [00:33,  1.75s/it]\n"
     ]
    },
    {
     "name": "stdout",
     "output_type": "stream",
     "text": [
      "Epoch [5/100], Loss: 12.3510, Entity ID Acc: 27.6667%, Entity state Acc: 57.67%, Time Pred Loss: 0.0027\n"
     ]
    },
    {
     "name": "stderr",
     "output_type": "stream",
     "text": [
      "Epoch 6/100: 19it [00:35,  1.85s/it]\n"
     ]
    },
    {
     "name": "stdout",
     "output_type": "stream",
     "text": [
      "Epoch [6/100], Loss: 11.7399, Entity ID Acc: 29.5833%, Entity state Acc: 57.92%, Time Pred Loss: 0.0022\n"
     ]
    },
    {
     "name": "stderr",
     "output_type": "stream",
     "text": [
      "Epoch 7/100: 19it [00:35,  1.87s/it]\n"
     ]
    },
    {
     "name": "stdout",
     "output_type": "stream",
     "text": [
      "Epoch [7/100], Loss: 11.2276, Entity ID Acc: 33.3333%, Entity state Acc: 57.42%, Time Pred Loss: 0.0012\n"
     ]
    },
    {
     "name": "stderr",
     "output_type": "stream",
     "text": [
      "Epoch 8/100: 19it [00:34,  1.83s/it]\n"
     ]
    },
    {
     "name": "stdout",
     "output_type": "stream",
     "text": [
      "Epoch [8/100], Loss: 10.9263, Entity ID Acc: 37.3333%, Entity state Acc: 60.67%, Time Pred Loss: 0.0007\n"
     ]
    },
    {
     "name": "stderr",
     "output_type": "stream",
     "text": [
      "Epoch 9/100: 19it [00:32,  1.74s/it]\n"
     ]
    },
    {
     "name": "stdout",
     "output_type": "stream",
     "text": [
      "Epoch [9/100], Loss: 10.3826, Entity ID Acc: 39.0000%, Entity state Acc: 60.33%, Time Pred Loss: 0.0007\n"
     ]
    },
    {
     "name": "stderr",
     "output_type": "stream",
     "text": [
      "Epoch 10/100: 19it [00:29,  1.56s/it]\n"
     ]
    },
    {
     "name": "stdout",
     "output_type": "stream",
     "text": [
      "Epoch [10/100], Loss: 10.3861, Entity ID Acc: 38.7500%, Entity state Acc: 60.25%, Time Pred Loss: 0.0012\n"
     ]
    },
    {
     "name": "stderr",
     "output_type": "stream",
     "text": [
      "Epoch 11/100: 19it [00:28,  1.48s/it]\n"
     ]
    },
    {
     "name": "stdout",
     "output_type": "stream",
     "text": [
      "Epoch [11/100], Loss: 10.1044, Entity ID Acc: 41.0833%, Entity state Acc: 59.75%, Time Pred Loss: 0.0009\n"
     ]
    },
    {
     "name": "stderr",
     "output_type": "stream",
     "text": [
      "Epoch 12/100: 19it [00:32,  1.71s/it]\n"
     ]
    },
    {
     "name": "stdout",
     "output_type": "stream",
     "text": [
      "Epoch [12/100], Loss: 9.6746, Entity ID Acc: 42.8333%, Entity state Acc: 60.67%, Time Pred Loss: 0.0009\n"
     ]
    },
    {
     "name": "stderr",
     "output_type": "stream",
     "text": [
      "Epoch 13/100: 19it [00:33,  1.78s/it]\n"
     ]
    },
    {
     "name": "stdout",
     "output_type": "stream",
     "text": [
      "Epoch [13/100], Loss: 9.4800, Entity ID Acc: 43.4167%, Entity state Acc: 60.58%, Time Pred Loss: 0.0007\n"
     ]
    },
    {
     "name": "stderr",
     "output_type": "stream",
     "text": [
      "Epoch 14/100: 19it [00:27,  1.47s/it]\n"
     ]
    },
    {
     "name": "stdout",
     "output_type": "stream",
     "text": [
      "Epoch [14/100], Loss: 9.4298, Entity ID Acc: 46.8333%, Entity state Acc: 61.17%, Time Pred Loss: 0.0007\n"
     ]
    },
    {
     "name": "stderr",
     "output_type": "stream",
     "text": [
      "Epoch 15/100: 19it [00:33,  1.79s/it]\n"
     ]
    },
    {
     "name": "stdout",
     "output_type": "stream",
     "text": [
      "Epoch [15/100], Loss: 9.3392, Entity ID Acc: 45.4167%, Entity state Acc: 60.75%, Time Pred Loss: 0.0007\n"
     ]
    },
    {
     "name": "stderr",
     "output_type": "stream",
     "text": [
      "Epoch 16/100: 19it [00:32,  1.71s/it]\n"
     ]
    },
    {
     "name": "stdout",
     "output_type": "stream",
     "text": [
      "Epoch [16/100], Loss: 9.0331, Entity ID Acc: 47.7500%, Entity state Acc: 60.75%, Time Pred Loss: 0.0004\n"
     ]
    },
    {
     "name": "stderr",
     "output_type": "stream",
     "text": [
      "Epoch 17/100: 19it [00:29,  1.55s/it]\n"
     ]
    },
    {
     "name": "stdout",
     "output_type": "stream",
     "text": [
      "Epoch [17/100], Loss: 8.9741, Entity ID Acc: 48.1667%, Entity state Acc: 61.42%, Time Pred Loss: 0.0005\n"
     ]
    },
    {
     "name": "stderr",
     "output_type": "stream",
     "text": [
      "Epoch 18/100: 19it [00:36,  1.90s/it]\n"
     ]
    },
    {
     "name": "stdout",
     "output_type": "stream",
     "text": [
      "Epoch [18/100], Loss: 8.8941, Entity ID Acc: 47.5833%, Entity state Acc: 59.50%, Time Pred Loss: 0.0005\n"
     ]
    },
    {
     "name": "stderr",
     "output_type": "stream",
     "text": [
      "Epoch 19/100: 19it [00:33,  1.79s/it]\n"
     ]
    },
    {
     "name": "stdout",
     "output_type": "stream",
     "text": [
      "Epoch [19/100], Loss: 9.1716, Entity ID Acc: 46.0000%, Entity state Acc: 62.42%, Time Pred Loss: 0.0004\n"
     ]
    },
    {
     "name": "stderr",
     "output_type": "stream",
     "text": [
      "Epoch 20/100: 19it [00:25,  1.33s/it]\n"
     ]
    },
    {
     "name": "stdout",
     "output_type": "stream",
     "text": [
      "Epoch [20/100], Loss: 8.9017, Entity ID Acc: 48.7500%, Entity state Acc: 61.58%, Time Pred Loss: 0.0006\n"
     ]
    },
    {
     "name": "stderr",
     "output_type": "stream",
     "text": [
      "Epoch 21/100: 19it [00:27,  1.47s/it]\n"
     ]
    },
    {
     "name": "stdout",
     "output_type": "stream",
     "text": [
      "Epoch [21/100], Loss: 8.7201, Entity ID Acc: 50.2500%, Entity state Acc: 61.75%, Time Pred Loss: 0.0004\n"
     ]
    },
    {
     "name": "stderr",
     "output_type": "stream",
     "text": [
      "Epoch 22/100: 19it [00:33,  1.77s/it]\n"
     ]
    },
    {
     "name": "stdout",
     "output_type": "stream",
     "text": [
      "Epoch [22/100], Loss: 8.5707, Entity ID Acc: 50.3333%, Entity state Acc: 62.33%, Time Pred Loss: 0.0004\n"
     ]
    },
    {
     "name": "stderr",
     "output_type": "stream",
     "text": [
      "Epoch 23/100: 19it [00:33,  1.79s/it]\n"
     ]
    },
    {
     "name": "stdout",
     "output_type": "stream",
     "text": [
      "Epoch [23/100], Loss: 9.2194, Entity ID Acc: 46.2500%, Entity state Acc: 62.67%, Time Pred Loss: 0.0005\n"
     ]
    },
    {
     "name": "stderr",
     "output_type": "stream",
     "text": [
      "Epoch 24/100: 19it [00:32,  1.68s/it]\n"
     ]
    },
    {
     "name": "stdout",
     "output_type": "stream",
     "text": [
      "Epoch [24/100], Loss: 8.8638, Entity ID Acc: 48.1667%, Entity state Acc: 62.17%, Time Pred Loss: 0.0010\n"
     ]
    },
    {
     "name": "stderr",
     "output_type": "stream",
     "text": [
      "Epoch 25/100: 19it [00:33,  1.76s/it]\n"
     ]
    },
    {
     "name": "stdout",
     "output_type": "stream",
     "text": [
      "Epoch [25/100], Loss: 8.7401, Entity ID Acc: 49.3333%, Entity state Acc: 62.08%, Time Pred Loss: 0.0009\n"
     ]
    },
    {
     "name": "stderr",
     "output_type": "stream",
     "text": [
      "Epoch 26/100: 19it [00:30,  1.59s/it]\n"
     ]
    },
    {
     "name": "stdout",
     "output_type": "stream",
     "text": [
      "Epoch [26/100], Loss: 8.8160, Entity ID Acc: 48.5833%, Entity state Acc: 62.42%, Time Pred Loss: 0.0006\n"
     ]
    },
    {
     "name": "stderr",
     "output_type": "stream",
     "text": [
      "Epoch 27/100: 19it [00:34,  1.82s/it]\n"
     ]
    },
    {
     "name": "stdout",
     "output_type": "stream",
     "text": [
      "Epoch [27/100], Loss: 9.2374, Entity ID Acc: 45.4167%, Entity state Acc: 62.00%, Time Pred Loss: 0.0008\n"
     ]
    },
    {
     "name": "stderr",
     "output_type": "stream",
     "text": [
      "Epoch 28/100: 19it [00:26,  1.37s/it]\n"
     ]
    },
    {
     "name": "stdout",
     "output_type": "stream",
     "text": [
      "Epoch [28/100], Loss: 9.1628, Entity ID Acc: 47.0833%, Entity state Acc: 62.00%, Time Pred Loss: 0.0008\n"
     ]
    },
    {
     "name": "stderr",
     "output_type": "stream",
     "text": [
      "Epoch 29/100: 19it [00:32,  1.68s/it]\n"
     ]
    },
    {
     "name": "stdout",
     "output_type": "stream",
     "text": [
      "Epoch [29/100], Loss: 8.5740, Entity ID Acc: 49.2500%, Entity state Acc: 62.75%, Time Pred Loss: 0.0005\n"
     ]
    },
    {
     "name": "stderr",
     "output_type": "stream",
     "text": [
      "Epoch 30/100: 19it [00:34,  1.80s/it]\n"
     ]
    },
    {
     "name": "stdout",
     "output_type": "stream",
     "text": [
      "Epoch [30/100], Loss: 8.2312, Entity ID Acc: 54.0000%, Entity state Acc: 63.42%, Time Pred Loss: 0.0004\n"
     ]
    },
    {
     "name": "stderr",
     "output_type": "stream",
     "text": [
      "Epoch 31/100: 19it [00:27,  1.44s/it]\n"
     ]
    },
    {
     "name": "stdout",
     "output_type": "stream",
     "text": [
      "Epoch [31/100], Loss: 8.1717, Entity ID Acc: 53.7500%, Entity state Acc: 63.92%, Time Pred Loss: 0.0006\n"
     ]
    },
    {
     "name": "stderr",
     "output_type": "stream",
     "text": [
      "Epoch 32/100: 19it [00:28,  1.47s/it]\n"
     ]
    },
    {
     "name": "stdout",
     "output_type": "stream",
     "text": [
      "Epoch [32/100], Loss: 8.2730, Entity ID Acc: 52.5833%, Entity state Acc: 62.00%, Time Pred Loss: 0.0005\n"
     ]
    },
    {
     "name": "stderr",
     "output_type": "stream",
     "text": [
      "Epoch 33/100: 19it [00:29,  1.57s/it]\n"
     ]
    },
    {
     "name": "stdout",
     "output_type": "stream",
     "text": [
      "Epoch [33/100], Loss: 8.1619, Entity ID Acc: 52.8333%, Entity state Acc: 63.08%, Time Pred Loss: 0.0004\n"
     ]
    },
    {
     "name": "stderr",
     "output_type": "stream",
     "text": [
      "Epoch 34/100: 19it [00:33,  1.77s/it]\n"
     ]
    },
    {
     "name": "stdout",
     "output_type": "stream",
     "text": [
      "Epoch [34/100], Loss: 8.2287, Entity ID Acc: 52.2500%, Entity state Acc: 63.08%, Time Pred Loss: 0.0007\n"
     ]
    },
    {
     "name": "stderr",
     "output_type": "stream",
     "text": [
      "Epoch 35/100: 19it [00:30,  1.59s/it]\n"
     ]
    },
    {
     "name": "stdout",
     "output_type": "stream",
     "text": [
      "Epoch [35/100], Loss: 8.0361, Entity ID Acc: 53.5000%, Entity state Acc: 63.92%, Time Pred Loss: 0.0006\n"
     ]
    },
    {
     "name": "stderr",
     "output_type": "stream",
     "text": [
      "Epoch 36/100: 19it [00:27,  1.47s/it]\n"
     ]
    },
    {
     "name": "stdout",
     "output_type": "stream",
     "text": [
      "Epoch [36/100], Loss: 8.1483, Entity ID Acc: 52.6667%, Entity state Acc: 64.58%, Time Pred Loss: 0.0006\n"
     ]
    },
    {
     "name": "stderr",
     "output_type": "stream",
     "text": [
      "Epoch 37/100: 19it [00:28,  1.49s/it]\n"
     ]
    },
    {
     "name": "stdout",
     "output_type": "stream",
     "text": [
      "Epoch [37/100], Loss: 8.1023, Entity ID Acc: 53.4167%, Entity state Acc: 64.50%, Time Pred Loss: 0.0006\n"
     ]
    },
    {
     "name": "stderr",
     "output_type": "stream",
     "text": [
      "Epoch 38/100: 19it [00:29,  1.57s/it]\n"
     ]
    },
    {
     "name": "stdout",
     "output_type": "stream",
     "text": [
      "Epoch [38/100], Loss: 7.8925, Entity ID Acc: 55.0000%, Entity state Acc: 64.25%, Time Pred Loss: 0.0005\n"
     ]
    },
    {
     "name": "stderr",
     "output_type": "stream",
     "text": [
      "Epoch 39/100: 19it [00:29,  1.57s/it]\n"
     ]
    },
    {
     "name": "stdout",
     "output_type": "stream",
     "text": [
      "Epoch [39/100], Loss: 7.7806, Entity ID Acc: 56.8333%, Entity state Acc: 65.50%, Time Pred Loss: 0.0010\n"
     ]
    },
    {
     "name": "stderr",
     "output_type": "stream",
     "text": [
      "Epoch 40/100: 19it [00:30,  1.59s/it]\n"
     ]
    },
    {
     "name": "stdout",
     "output_type": "stream",
     "text": [
      "Epoch [40/100], Loss: 7.6084, Entity ID Acc: 59.1667%, Entity state Acc: 66.50%, Time Pred Loss: 0.0006\n"
     ]
    },
    {
     "name": "stderr",
     "output_type": "stream",
     "text": [
      "Epoch 41/100: 19it [00:27,  1.44s/it]\n"
     ]
    },
    {
     "name": "stdout",
     "output_type": "stream",
     "text": [
      "Epoch [41/100], Loss: 7.7151, Entity ID Acc: 55.7500%, Entity state Acc: 67.17%, Time Pred Loss: 0.0008\n"
     ]
    },
    {
     "name": "stderr",
     "output_type": "stream",
     "text": [
      "Epoch 42/100: 19it [00:29,  1.56s/it]\n"
     ]
    },
    {
     "name": "stdout",
     "output_type": "stream",
     "text": [
      "Epoch [42/100], Loss: 7.7627, Entity ID Acc: 56.1667%, Entity state Acc: 65.75%, Time Pred Loss: 0.0007\n"
     ]
    },
    {
     "name": "stderr",
     "output_type": "stream",
     "text": [
      "Epoch 43/100: 19it [00:34,  1.81s/it]\n"
     ]
    },
    {
     "name": "stdout",
     "output_type": "stream",
     "text": [
      "Epoch [43/100], Loss: 7.7868, Entity ID Acc: 56.0833%, Entity state Acc: 64.17%, Time Pred Loss: 0.0009\n"
     ]
    },
    {
     "name": "stderr",
     "output_type": "stream",
     "text": [
      "Epoch 44/100: 19it [00:29,  1.58s/it]\n"
     ]
    },
    {
     "name": "stdout",
     "output_type": "stream",
     "text": [
      "Epoch [44/100], Loss: 7.7062, Entity ID Acc: 55.1667%, Entity state Acc: 64.17%, Time Pred Loss: 0.0007\n"
     ]
    },
    {
     "name": "stderr",
     "output_type": "stream",
     "text": [
      "Epoch 45/100: 19it [00:29,  1.54s/it]\n"
     ]
    },
    {
     "name": "stdout",
     "output_type": "stream",
     "text": [
      "Epoch [45/100], Loss: 7.9718, Entity ID Acc: 54.0000%, Entity state Acc: 66.83%, Time Pred Loss: 0.0014\n"
     ]
    },
    {
     "name": "stderr",
     "output_type": "stream",
     "text": [
      "Epoch 46/100: 19it [00:31,  1.68s/it]\n"
     ]
    },
    {
     "name": "stdout",
     "output_type": "stream",
     "text": [
      "Epoch [46/100], Loss: 7.6049, Entity ID Acc: 57.2500%, Entity state Acc: 67.25%, Time Pred Loss: 0.0012\n"
     ]
    },
    {
     "name": "stderr",
     "output_type": "stream",
     "text": [
      "Epoch 47/100: 19it [00:27,  1.47s/it]\n"
     ]
    },
    {
     "name": "stdout",
     "output_type": "stream",
     "text": [
      "Epoch [47/100], Loss: 7.5590, Entity ID Acc: 57.7500%, Entity state Acc: 65.25%, Time Pred Loss: 0.0007\n"
     ]
    },
    {
     "name": "stderr",
     "output_type": "stream",
     "text": [
      "Epoch 48/100: 19it [00:29,  1.54s/it]\n"
     ]
    },
    {
     "name": "stdout",
     "output_type": "stream",
     "text": [
      "Epoch [48/100], Loss: 7.4781, Entity ID Acc: 59.0833%, Entity state Acc: 67.00%, Time Pred Loss: 0.0009\n"
     ]
    },
    {
     "name": "stderr",
     "output_type": "stream",
     "text": [
      "Epoch 49/100: 19it [00:32,  1.74s/it]\n"
     ]
    },
    {
     "name": "stdout",
     "output_type": "stream",
     "text": [
      "Epoch [49/100], Loss: 7.8667, Entity ID Acc: 54.8333%, Entity state Acc: 66.08%, Time Pred Loss: 0.0013\n"
     ]
    },
    {
     "name": "stderr",
     "output_type": "stream",
     "text": [
      "Epoch 50/100: 19it [00:31,  1.64s/it]\n"
     ]
    },
    {
     "name": "stdout",
     "output_type": "stream",
     "text": [
      "Epoch [50/100], Loss: 8.0600, Entity ID Acc: 52.7500%, Entity state Acc: 65.42%, Time Pred Loss: 0.0017\n"
     ]
    },
    {
     "name": "stderr",
     "output_type": "stream",
     "text": [
      "Epoch 51/100: 19it [00:31,  1.66s/it]\n"
     ]
    },
    {
     "name": "stdout",
     "output_type": "stream",
     "text": [
      "Epoch [51/100], Loss: 7.5476, Entity ID Acc: 58.5000%, Entity state Acc: 65.67%, Time Pred Loss: 0.0015\n"
     ]
    },
    {
     "name": "stderr",
     "output_type": "stream",
     "text": [
      "Epoch 52/100: 19it [00:33,  1.77s/it]\n"
     ]
    },
    {
     "name": "stdout",
     "output_type": "stream",
     "text": [
      "Epoch [52/100], Loss: 7.6639, Entity ID Acc: 57.0000%, Entity state Acc: 66.42%, Time Pred Loss: 0.0021\n"
     ]
    },
    {
     "name": "stderr",
     "output_type": "stream",
     "text": [
      "Epoch 53/100: 19it [00:33,  1.77s/it]\n"
     ]
    },
    {
     "name": "stdout",
     "output_type": "stream",
     "text": [
      "Epoch [53/100], Loss: 7.8492, Entity ID Acc: 55.2500%, Entity state Acc: 63.58%, Time Pred Loss: 0.0010\n"
     ]
    },
    {
     "name": "stderr",
     "output_type": "stream",
     "text": [
      "Epoch 54/100: 19it [00:28,  1.51s/it]\n"
     ]
    },
    {
     "name": "stdout",
     "output_type": "stream",
     "text": [
      "Epoch [54/100], Loss: 7.6768, Entity ID Acc: 54.9167%, Entity state Acc: 65.33%, Time Pred Loss: 0.0028\n"
     ]
    },
    {
     "name": "stderr",
     "output_type": "stream",
     "text": [
      "Epoch 55/100: 19it [00:30,  1.61s/it]\n"
     ]
    },
    {
     "name": "stdout",
     "output_type": "stream",
     "text": [
      "Epoch [55/100], Loss: 7.3808, Entity ID Acc: 59.8333%, Entity state Acc: 64.67%, Time Pred Loss: 0.0022\n"
     ]
    },
    {
     "name": "stderr",
     "output_type": "stream",
     "text": [
      "Epoch 56/100: 19it [00:25,  1.34s/it]\n"
     ]
    },
    {
     "name": "stdout",
     "output_type": "stream",
     "text": [
      "Epoch [56/100], Loss: 7.4319, Entity ID Acc: 58.1667%, Entity state Acc: 66.17%, Time Pred Loss: 0.0028\n"
     ]
    },
    {
     "name": "stderr",
     "output_type": "stream",
     "text": [
      "Epoch 57/100: 19it [00:25,  1.36s/it]\n"
     ]
    },
    {
     "name": "stdout",
     "output_type": "stream",
     "text": [
      "Epoch [57/100], Loss: 7.1971, Entity ID Acc: 59.3333%, Entity state Acc: 67.83%, Time Pred Loss: 0.0018\n"
     ]
    },
    {
     "name": "stderr",
     "output_type": "stream",
     "text": [
      "Epoch 58/100: 19it [00:31,  1.66s/it]\n"
     ]
    },
    {
     "name": "stdout",
     "output_type": "stream",
     "text": [
      "Epoch [58/100], Loss: 7.2039, Entity ID Acc: 60.1667%, Entity state Acc: 65.92%, Time Pred Loss: 0.0021\n"
     ]
    },
    {
     "name": "stderr",
     "output_type": "stream",
     "text": [
      "Epoch 59/100: 19it [00:33,  1.75s/it]\n"
     ]
    },
    {
     "name": "stdout",
     "output_type": "stream",
     "text": [
      "Epoch [59/100], Loss: 7.1111, Entity ID Acc: 61.1667%, Entity state Acc: 66.92%, Time Pred Loss: 0.0010\n"
     ]
    },
    {
     "name": "stderr",
     "output_type": "stream",
     "text": [
      "Epoch 60/100: 19it [00:32,  1.69s/it]\n"
     ]
    },
    {
     "name": "stdout",
     "output_type": "stream",
     "text": [
      "Epoch [60/100], Loss: 7.2154, Entity ID Acc: 60.1667%, Entity state Acc: 65.17%, Time Pred Loss: 0.0021\n"
     ]
    },
    {
     "name": "stderr",
     "output_type": "stream",
     "text": [
      "Epoch 61/100: 19it [00:29,  1.55s/it]\n"
     ]
    },
    {
     "name": "stdout",
     "output_type": "stream",
     "text": [
      "Epoch [61/100], Loss: 7.0469, Entity ID Acc: 60.8333%, Entity state Acc: 65.25%, Time Pred Loss: 0.0017\n"
     ]
    },
    {
     "name": "stderr",
     "output_type": "stream",
     "text": [
      "Epoch 62/100: 19it [00:31,  1.67s/it]\n"
     ]
    },
    {
     "name": "stdout",
     "output_type": "stream",
     "text": [
      "Epoch [62/100], Loss: 6.9976, Entity ID Acc: 62.8333%, Entity state Acc: 67.83%, Time Pred Loss: 0.0011\n"
     ]
    },
    {
     "name": "stderr",
     "output_type": "stream",
     "text": [
      "Epoch 63/100: 19it [00:30,  1.63s/it]\n"
     ]
    },
    {
     "name": "stdout",
     "output_type": "stream",
     "text": [
      "Epoch [63/100], Loss: 6.8860, Entity ID Acc: 61.5833%, Entity state Acc: 66.50%, Time Pred Loss: 0.0010\n"
     ]
    },
    {
     "name": "stderr",
     "output_type": "stream",
     "text": [
      "Epoch 64/100: 19it [00:27,  1.45s/it]\n"
     ]
    },
    {
     "name": "stdout",
     "output_type": "stream",
     "text": [
      "Epoch [64/100], Loss: 7.1457, Entity ID Acc: 58.9167%, Entity state Acc: 69.58%, Time Pred Loss: 0.0015\n"
     ]
    },
    {
     "name": "stderr",
     "output_type": "stream",
     "text": [
      "Epoch 65/100: 19it [00:28,  1.52s/it]\n"
     ]
    },
    {
     "name": "stdout",
     "output_type": "stream",
     "text": [
      "Epoch [65/100], Loss: 7.2405, Entity ID Acc: 56.7500%, Entity state Acc: 68.83%, Time Pred Loss: 0.0028\n"
     ]
    },
    {
     "name": "stderr",
     "output_type": "stream",
     "text": [
      "Epoch 66/100: 19it [00:29,  1.57s/it]\n"
     ]
    },
    {
     "name": "stdout",
     "output_type": "stream",
     "text": [
      "Epoch [66/100], Loss: 7.1131, Entity ID Acc: 59.5000%, Entity state Acc: 69.25%, Time Pred Loss: 0.0037\n"
     ]
    },
    {
     "name": "stderr",
     "output_type": "stream",
     "text": [
      "Epoch 67/100: 19it [00:29,  1.54s/it]\n"
     ]
    },
    {
     "name": "stdout",
     "output_type": "stream",
     "text": [
      "Epoch [67/100], Loss: 7.0900, Entity ID Acc: 59.8333%, Entity state Acc: 68.75%, Time Pred Loss: 0.0058\n"
     ]
    },
    {
     "name": "stderr",
     "output_type": "stream",
     "text": [
      "Epoch 68/100: 19it [00:31,  1.68s/it]\n"
     ]
    },
    {
     "name": "stdout",
     "output_type": "stream",
     "text": [
      "Epoch [68/100], Loss: 6.7890, Entity ID Acc: 61.8333%, Entity state Acc: 69.08%, Time Pred Loss: 0.0033\n"
     ]
    },
    {
     "name": "stderr",
     "output_type": "stream",
     "text": [
      "Epoch 69/100: 19it [00:32,  1.73s/it]\n"
     ]
    },
    {
     "name": "stdout",
     "output_type": "stream",
     "text": [
      "Epoch [69/100], Loss: 6.9038, Entity ID Acc: 61.4167%, Entity state Acc: 67.83%, Time Pred Loss: 0.0043\n"
     ]
    },
    {
     "name": "stderr",
     "output_type": "stream",
     "text": [
      "Epoch 70/100: 18it [00:33,  1.86s/it]\n"
     ]
    },
    {
     "ename": "KeyboardInterrupt",
     "evalue": "",
     "output_type": "error",
     "traceback": [
      "\u001b[0;31m---------------------------------------------------------------------------\u001b[0m",
      "\u001b[0;31mKeyboardInterrupt\u001b[0m                         Traceback (most recent call last)",
      "Cell \u001b[0;32mIn[16], line 12\u001b[0m\n\u001b[1;32m      9\u001b[0m device \u001b[38;5;241m=\u001b[39m torch\u001b[38;5;241m.\u001b[39mdevice(\u001b[38;5;124m\"\u001b[39m\u001b[38;5;124mcuda\u001b[39m\u001b[38;5;124m\"\u001b[39m \u001b[38;5;28;01mif\u001b[39;00m torch\u001b[38;5;241m.\u001b[39mcuda\u001b[38;5;241m.\u001b[39mis_available() \u001b[38;5;28;01melse\u001b[39;00m \u001b[38;5;124m\"\u001b[39m\u001b[38;5;124mcpu\u001b[39m\u001b[38;5;124m\"\u001b[39m)\n\u001b[1;32m     11\u001b[0m \u001b[38;5;66;03m# start the training\u001b[39;00m\n\u001b[0;32m---> 12\u001b[0m \u001b[43mtrain_act_model\u001b[49m\u001b[43m(\u001b[49m\u001b[43mmodel\u001b[49m\u001b[38;5;241;43m=\u001b[39;49m\u001b[43mmodel\u001b[49m\u001b[43m,\u001b[49m\u001b[43m \u001b[49m\u001b[43mdataloader\u001b[49m\u001b[38;5;241;43m=\u001b[39;49m\u001b[43mtrain_loader\u001b[49m\u001b[43m,\u001b[49m\u001b[43m \u001b[49m\u001b[43mnum_epochs\u001b[49m\u001b[38;5;241;43m=\u001b[39;49m\u001b[43mtraining_epoch\u001b[49m\u001b[43m,\u001b[49m\u001b[43m \u001b[49m\n\u001b[1;32m     13\u001b[0m \u001b[43m            \u001b[49m\u001b[43mactionable_classification_criterion\u001b[49m\u001b[38;5;241;43m=\u001b[39;49m\u001b[43mactionable_classification_criterion\u001b[49m\u001b[43m,\u001b[49m\u001b[43m \u001b[49m\n\u001b[1;32m     14\u001b[0m \u001b[43m            \u001b[49m\u001b[43mentity_id_classification_criterion\u001b[49m\u001b[38;5;241;43m=\u001b[39;49m\u001b[43mentity_id_classification_criterion\u001b[49m\u001b[43m,\u001b[49m\u001b[43m \u001b[49m\n\u001b[1;32m     15\u001b[0m \u001b[43m            \u001b[49m\u001b[43mentity_state_classification_criterion\u001b[49m\u001b[38;5;241;43m=\u001b[39;49m\u001b[43mentity_state_classification_criterion\u001b[49m\u001b[43m,\u001b[49m\u001b[43m \u001b[49m\n\u001b[1;32m     16\u001b[0m \u001b[43m            \u001b[49m\u001b[43mtime_pred_regression_criterion\u001b[49m\u001b[38;5;241;43m=\u001b[39;49m\u001b[43mtime_pred_regression_criterion\u001b[49m\u001b[43m,\u001b[49m\u001b[43m \u001b[49m\n\u001b[1;32m     17\u001b[0m \u001b[43m            \u001b[49m\u001b[43moptimizer\u001b[49m\u001b[38;5;241;43m=\u001b[39;49m\u001b[43moptimizer\u001b[49m\u001b[43m,\u001b[49m\u001b[43m \u001b[49m\u001b[43mdevice\u001b[49m\u001b[38;5;241;43m=\u001b[39;49m\u001b[43mdevice\u001b[49m\u001b[43m)\u001b[49m\n",
      "Cell \u001b[0;32mIn[14], line 48\u001b[0m, in \u001b[0;36mtrain_act_model\u001b[0;34m(model, dataloader, num_epochs, actionable_classification_criterion, entity_id_classification_criterion, entity_state_classification_criterion, time_pred_regression_criterion, optimizer, device)\u001b[0m\n\u001b[1;32m     45\u001b[0m total_loss\u001b[38;5;241m.\u001b[39mbackward()\n\u001b[1;32m     46\u001b[0m optimizer\u001b[38;5;241m.\u001b[39mstep()\n\u001b[0;32m---> 48\u001b[0m epoch_loss \u001b[38;5;241m+\u001b[39m\u001b[38;5;241m=\u001b[39m \u001b[43mtotal_loss\u001b[49m\u001b[38;5;241;43m.\u001b[39;49m\u001b[43mitem\u001b[49m\u001b[43m(\u001b[49m\u001b[43m)\u001b[49m\n\u001b[1;32m     49\u001b[0m \u001b[38;5;66;03m# accumulate epoch loss\u001b[39;00m\n\u001b[1;32m     50\u001b[0m epoch_time_pred_loss \u001b[38;5;241m+\u001b[39m\u001b[38;5;241m=\u001b[39m time_pred_loss\u001b[38;5;241m.\u001b[39mitem()\n",
      "\u001b[0;31mKeyboardInterrupt\u001b[0m: "
     ]
    }
   ],
   "source": [
    "# define the model\n",
    "model = TransformerMultiTask(input_dim=52, hidden_dim=1024, num_heads=2, num_layers=1, entity_id_cls=45, entity_state_cls=4)\n",
    "training_epoch = 100\n",
    "# Using Adam optimizer\n",
    "import torch.optim as optim\n",
    "learning_rate = 1e-4  # You can adjust the learning rate as needed\n",
    "optimizer = optim.Adam(model.parameters(), lr=learning_rate)\n",
    "# find the device for training\n",
    "device = torch.device(\"cuda\" if torch.cuda.is_available() else \"cpu\")\n",
    "\n",
    "# start the training\n",
    "train_act_model(model=model, dataloader=train_loader, num_epochs=training_epoch, \n",
    "            actionable_classification_criterion=actionable_classification_criterion, \n",
    "            entity_id_classification_criterion=entity_id_classification_criterion, \n",
    "            entity_state_classification_criterion=entity_state_classification_criterion, \n",
    "            time_pred_regression_criterion=time_pred_regression_criterion, \n",
    "            optimizer=optimizer, device=device)"
   ]
  },
  {
   "cell_type": "code",
   "execution_count": null,
   "id": "d6ad38b2-2a6b-410a-9d67-9d5bd3efa004",
   "metadata": {},
   "outputs": [],
   "source": []
  },
  {
   "cell_type": "code",
   "execution_count": null,
   "id": "280a5f86-5598-455d-b5c4-cf71afa469b7",
   "metadata": {},
   "outputs": [],
   "source": []
  }
 ],
 "metadata": {
  "kernelspec": {
   "display_name": "Python 3 (ipykernel)",
   "language": "python",
   "name": "python3"
  },
  "language_info": {
   "codemirror_mode": {
    "name": "ipython",
    "version": 3
   },
   "file_extension": ".py",
   "mimetype": "text/x-python",
   "name": "python",
   "nbconvert_exporter": "python",
   "pygments_lexer": "ipython3",
   "version": "3.11.9"
  }
 },
 "nbformat": 4,
 "nbformat_minor": 5
}
